{
 "cells": [
  {
   "cell_type": "markdown",
   "metadata": {},
   "source": [
    "# Chapter 5. Support Vector Machines\n",
    "\n",
    "SVM models are capable of performing linear and nonlinear classification, regression, and outlier detection.\n",
    "They are especially well-suited for classification of complex small- or medium-sized data sets."
   ]
  },
  {
   "cell_type": "code",
   "execution_count": 2,
   "metadata": {},
   "outputs": [],
   "source": [
    "import numpy as np\n",
    "import pandas as pd \n",
    "import matplotlib.pyplot as plt\n",
    "\n",
    "np.random.seed(0)\n",
    "\n",
    "plt.style.use('seaborn-whitegrid')"
   ]
  },
  {
   "cell_type": "code",
   "execution_count": 3,
   "metadata": {},
   "outputs": [],
   "source": [
    "%matplotlib inline"
   ]
  },
  {
   "cell_type": "markdown",
   "metadata": {},
   "source": [
    "## Linear SVM classification\n",
    "\n",
    "The SVM can be thought of as fitting the widest possible \"street\" between classes, thus separating the classes by staying as far away as possible from the training data.\n",
    "This method is called *large margin classification*.\n",
    "Further, adding more training instances outside of this margin does not affect the decision boundary.\n",
    "Instead, it is fully determined by the instances on the ends of the margin; these are the *support vectors*.\n",
    "\n",
    "### Soft margin classification\n",
    "\n",
    "Strictly imposing that all instances must be outside of the margin is called *hard margin classification*.\n",
    "This is only possible for linearly separable data and is sensitive to outliers (i.e. not robust).\n",
    "Instead, a *soft margin classification* model finds a good balance between keeping the margin wide (good separation of classes) and limiting the margin \"violations.\"\n",
    "Of the SVM hyperparameters exposed by Scikit-Learn, `C` controls this balance; a lower value for `C` results in a \"softer\" margin (more violations are allowed).\n",
    "\n",
    "The following is an example of using a linear SVM."
   ]
  },
  {
   "cell_type": "code",
   "execution_count": 5,
   "metadata": {},
   "outputs": [
    {
     "data": {
      "text/plain": [
       "Pipeline(memory=None,\n",
       "         steps=[('standard_scalar',\n",
       "                 StandardScaler(copy=True, with_mean=True, with_std=True)),\n",
       "                ('linear_svc',\n",
       "                 LinearSVC(C=1, class_weight=None, dual=True,\n",
       "                           fit_intercept=True, intercept_scaling=1,\n",
       "                           loss='hinge', max_iter=1000, multi_class='ovr',\n",
       "                           penalty='l2', random_state=None, tol=0.0001,\n",
       "                           verbose=0))],\n",
       "         verbose=False)"
      ]
     },
     "execution_count": 5,
     "metadata": {},
     "output_type": "execute_result"
    }
   ],
   "source": [
    "from sklearn import datasets\n",
    "from sklearn.pipeline import Pipeline\n",
    "from sklearn.preprocessing import StandardScaler\n",
    "from sklearn.svm import LinearSVC\n",
    "\n",
    "iris = datasets.load_iris()\n",
    "\n",
    "# Petal length and width.\n",
    "X = iris.data[:, (2, 3)]\n",
    "\n",
    "# Labels for if the flower is Virginica\n",
    "y = (iris.target == 2).astype(np.float64)\n",
    "\n",
    "# Make a pipeline for the SVM classifier.\n",
    "svm_clf = Pipeline([\n",
    "    ('standard_scalar', StandardScaler()),\n",
    "    ('linear_svc', LinearSVC(C=1, loss='hinge'))\n",
    "])\n",
    "\n",
    "# Train the model.\n",
    "svm_clf.fit(X, y)"
   ]
  },
  {
   "cell_type": "code",
   "execution_count": 8,
   "metadata": {
    "scrolled": true
   },
   "outputs": [
    {
     "data": {
      "text/plain": [
       "array([1.])"
      ]
     },
     "execution_count": 8,
     "metadata": {},
     "output_type": "execute_result"
    }
   ],
   "source": [
    "svm_clf.predict([[5.5, 1.7]])"
   ]
  },
  {
   "cell_type": "markdown",
   "metadata": {},
   "source": [
    "The following code finds the support vectors for the trained model."
   ]
  },
  {
   "cell_type": "code",
   "execution_count": 72,
   "metadata": {
    "scrolled": true
   },
   "outputs": [
    {
     "data": {
      "text/plain": [
       "array([7.83571397, 1.00004662, 0.87138052, 0.50003496])"
      ]
     },
     "execution_count": 72,
     "metadata": {},
     "output_type": "execute_result"
    }
   ],
   "source": [
    "svm_model = svm_clf.named_steps['linear_svc']\n",
    "scaler = svm_clf.named_steps['standard_scalar']\n",
    "\n",
    "# The offset of the data introduced by scaling.\n",
    "b = svm_model.decision_function([-scaler.mean_ / scaler.scale_])\n",
    "# The coefficients of the model with the scaling removed.\n",
    "w = svm_model.coef_[0] / scaler.scale_\n",
    "\n",
    "# An indicator variable:\n",
    "#    1 for Virginica,\n",
    "#   -1 for not Virginica\n",
    "t = y * 2 - 1\n",
    "\n",
    "# The support vecotrs are where the confidence is less than 1.\n",
    "scores = t  * (X.dot(w) + b)\n",
    "scores[49:53]"
   ]
  },
  {
   "cell_type": "code",
   "execution_count": 73,
   "metadata": {},
   "outputs": [],
   "source": [
    "support_vectors_idx = (scores < 1).ravel()\n",
    "support_vectors = X[support_vectors_idx]"
   ]
  },
  {
   "cell_type": "code",
   "execution_count": 74,
   "metadata": {},
   "outputs": [
    {
     "data": {
      "image/png": "[encoded data removed]",
      "text/plain": [
       "<Figure size 576x360 with 1 Axes>"
      ]
     },
     "metadata": {
      "needs_background": "light"
     },
     "output_type": "display_data"
    }
   ],
   "source": [
    "fig = plt.figure(figsize=(8, 5))\n",
    "\n",
    "pal = [\n",
    "    {'color':'blue', 'marker':'s', 'label': 'not Virginica'},\n",
    "    {'color':'green', 'marker':'^', 'label': 'Virginica'}\n",
    "]\n",
    "\n",
    "plt.scatter(support_vectors[:, 0], support_vectors[:, 1],\n",
    "        color='yellow', marker='o', s=100, alpha=0.5)\n",
    "\n",
    "for i in range(len(pal)):\n",
    "    plt.scatter(X[:, 0][y == i], X[:, 1][y == i],\n",
    "                color=pal[i]['color'], \n",
    "                marker=pal[i]['marker'], \n",
    "                label=pal[i]['label'])\n",
    "    \n",
    "\n",
    "    \n",
    "plt.xlabel('Petal length')\n",
    "plt.ylabel('Petal width')\n",
    "plt.legend(loc='best')\n",
    "plt.show()"
   ]
  },
  {
   "cell_type": "markdown",
   "metadata": {},
   "source": [
    "## Nonlinear SVM Classification"
   ]
  },
  {
   "cell_type": "code",
   "execution_count": null,
   "metadata": {},
   "outputs": [],
   "source": []
  }
 ],
 "metadata": {
  "kernelspec": {
   "display_name": "Python 3",
   "language": "python",
   "name": "python3"
  },
  "language_info": {
   "codemirror_mode": {
    "name": "ipython",
    "version": 3
   },
   "file_extension": ".py",
   "mimetype": "text/x-python",
   "name": "python",
   "nbconvert_exporter": "python",
   "pygments_lexer": "ipython3",
   "version": "3.7.4"
  },
  "toc": {
   "base_numbering": 1,
   "nav_menu": {},
   "number_sections": true,
   "sideBar": true,
   "skip_h1_title": false,
   "title_cell": "Table of Contents",
   "title_sidebar": "Contents",
   "toc_cell": false,
   "toc_position": {},
   "toc_section_display": true,
   "toc_window_display": false
  }
 },
 "nbformat": 4,
 "nbformat_minor": 2
}
