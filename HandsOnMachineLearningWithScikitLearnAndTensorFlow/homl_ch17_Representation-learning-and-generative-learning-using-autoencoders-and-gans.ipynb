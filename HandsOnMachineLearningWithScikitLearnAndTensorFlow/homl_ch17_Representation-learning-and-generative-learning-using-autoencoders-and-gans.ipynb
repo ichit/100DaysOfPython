{
 "cells": [
  {
   "cell_type": "markdown",
   "metadata": {},
   "source": [
    "# Chpater 17. Representation Learning and Generative Learning Using Autoencoders and GANs\n",
    "\n",
    "Autoencoders (AE) are ANN capable of dense representations of the input data (*latent variables*) without supervision.\n",
    "These codings are usually represented in lower dimensions, making AE powerful tools for dimensionality reduction for visualization and feature detectors for creating other models.\n",
    "\n",
    "Generative Adversarial Networks (GAN) consist of two ANN: a *generator* that tries to create data that looks simillar to the training data, and a *discriminator* that tries to tell the real data from the fake data.\n",
    "This architecture and training method are incredibly powerful and can create output that is incredibly realistic.\n",
    "\n",
    "This chapter will explore both AE and GAN."
   ]
  },
  {
   "cell_type": "code",
   "execution_count": 1,
   "metadata": {},
   "outputs": [],
   "source": [
    "import numpy as np\n",
    "import pandas as pd \n",
    "import matplotlib as mpl\n",
    "import matplotlib.pyplot as plt\n",
    "import seaborn as sns\n",
    "import tensorflow as tf \n",
    "import tensorflow.keras as keras\n",
    "\n",
    "%matplotlib inline\n",
    "np.random.seed(0)\n",
    "sns.set_style('whitegrid')"
   ]
  },
  {
   "cell_type": "markdown",
   "metadata": {},
   "source": [
    "## Efficient data representations"
   ]
  },
  {
   "cell_type": "code",
   "execution_count": null,
   "metadata": {},
   "outputs": [],
   "source": []
  }
 ],
 "metadata": {
  "kernelspec": {
   "display_name": "Python 3",
   "language": "python",
   "name": "python3"
  },
  "language_info": {
   "codemirror_mode": {
    "name": "ipython",
    "version": 3
   },
   "file_extension": ".py",
   "mimetype": "text/x-python",
   "name": "python",
   "nbconvert_exporter": "python",
   "pygments_lexer": "ipython3",
   "version": "3.7.6"
  },
  "toc": {
   "base_numbering": 1,
   "nav_menu": {},
   "number_sections": true,
   "sideBar": true,
   "skip_h1_title": false,
   "title_cell": "Table of Contents",
   "title_sidebar": "Contents",
   "toc_cell": false,
   "toc_position": {},
   "toc_section_display": true,
   "toc_window_display": false
  }
 },
 "nbformat": 4,
 "nbformat_minor": 4
}
