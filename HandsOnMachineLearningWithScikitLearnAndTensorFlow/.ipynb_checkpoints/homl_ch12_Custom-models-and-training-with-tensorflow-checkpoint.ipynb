{
 "cells": [
  {
   "cell_type": "markdown",
   "metadata": {},
   "source": [
    "# Chapter 12. Custom Models and Training with TensorFlow\n",
    "\n",
    "Most of the time, the Keras API will be as far as a user needs to go into TensorFlow.\n",
    "However, there will be times when we want to make custom pieces for our model and will be required to have additional control by using the rest of TensorFlow.\n",
    "This is what is covered below."
   ]
  },
  {
   "cell_type": "code",
   "execution_count": 1,
   "metadata": {},
   "outputs": [],
   "source": [
    "import numpy as np\n",
    "import pandas as pd\n",
    "import matplotlib.pyplot as plt\n",
    "import tensorflow as tf\n",
    "import tensorflow.keras as keras\n",
    "import pathlib\n",
    "\n",
    "# A path to the assets folder for this notebook.\n",
    "assets_path = pathlib.Path(\"assets\", \"ch12\")\n",
    "\n",
    "# Set NumPy seed.\n",
    "np.random.seed(0)"
   ]
  },
  {
   "cell_type": "code",
   "execution_count": 2,
   "metadata": {},
   "outputs": [],
   "source": [
    "%matplotlib inline"
   ]
  },
  {
   "cell_type": "code",
   "execution_count": 3,
   "metadata": {},
   "outputs": [
    {
     "name": "stderr",
     "output_type": "stream",
     "text": [
      "/opt/anaconda3/envs/daysOfCode-env/lib/python3.7/site-packages/IPython/config.py:13: ShimWarning: The `IPython.config` package has been deprecated since IPython 4.0. You should import from traitlets.config instead.\n",
      "  \"You should import from traitlets.config instead.\", ShimWarning)\n",
      "/opt/anaconda3/envs/daysOfCode-env/lib/python3.7/site-packages/ipycache.py:17: UserWarning: IPython.utils.traitlets has moved to a top-level traitlets package.\n",
      "  from IPython.utils.traitlets import Unicode\n"
     ]
    }
   ],
   "source": [
    "%load_ext ipycache"
   ]
  },
  {
   "cell_type": "markdown",
   "metadata": {},
   "source": [
    "## A quick tour of TensorFlow\n",
    "\n",
    "The author provided a brief description of TensorFlow, elucidating its overall structure, and also pointing out some useful resources beyond the API (e.g. TensorFlow Hub and Extended (TFX)).\n",
    "\n",
    "## Using TensorFlow like NumPy\n",
    "\n",
    "TF is built around the flow of tensors from one operation to another.\n",
    "Thus it is important to first understand how to use tensors before we can build custom pieces for TF.\n",
    "\n",
    "### Tensors and operations\n",
    "\n",
    "A tensor can be created using `tf.constant()`.\n",
    "Below, a scalar is made and a 2x3 matrix is created."
   ]
  },
  {
   "cell_type": "code",
   "execution_count": 4,
   "metadata": {},
   "outputs": [
    {
     "data": {
      "text/plain": [
       "<tf.Tensor: id=0, shape=(), dtype=int32, numpy=42>"
      ]
     },
     "execution_count": 4,
     "metadata": {},
     "output_type": "execute_result"
    }
   ],
   "source": [
    "# Scalar\n",
    "tf.constant(42)"
   ]
  },
  {
   "cell_type": "code",
   "execution_count": 5,
   "metadata": {},
   "outputs": [
    {
     "data": {
      "text/plain": [
       "<tf.Tensor: id=1, shape=(2, 3), dtype=float32, numpy=\n",
       "array([[1., 2., 3.],\n",
       "       [4., 5., 6.]], dtype=float32)>"
      ]
     },
     "execution_count": 5,
     "metadata": {},
     "output_type": "execute_result"
    }
   ],
   "source": [
    "# 2x3 matrix\n",
    "tf.constant([[1, 2, 3], [4, 5, 6]], dtype=tf.float32)"
   ]
  },
  {
   "cell_type": "code",
   "execution_count": 6,
   "metadata": {},
   "outputs": [
    {
     "data": {
      "text/plain": [
       "TensorShape([2, 3])"
      ]
     },
     "execution_count": 6,
     "metadata": {},
     "output_type": "execute_result"
    }
   ],
   "source": [
    "t = tf.constant([[1, 2, 3], [4, 5, 6]], dtype=tf.float32)\n",
    "t.shape"
   ]
  },
  {
   "cell_type": "code",
   "execution_count": 7,
   "metadata": {},
   "outputs": [
    {
     "data": {
      "text/plain": [
       "tf.float32"
      ]
     },
     "execution_count": 7,
     "metadata": {},
     "output_type": "execute_result"
    }
   ],
   "source": [
    "t.dtype"
   ]
  },
  {
   "cell_type": "markdown",
   "metadata": {},
   "source": [
    "Indexing in TF is similar to indexing in NumPy."
   ]
  },
  {
   "cell_type": "code",
   "execution_count": 8,
   "metadata": {},
   "outputs": [
    {
     "data": {
      "text/plain": [
       "<tf.Tensor: id=6, shape=(2, 1), dtype=float32, numpy=\n",
       "array([[1.],\n",
       "       [4.]], dtype=float32)>"
      ]
     },
     "execution_count": 8,
     "metadata": {},
     "output_type": "execute_result"
    }
   ],
   "source": [
    "t[:, :1]"
   ]
  },
  {
   "cell_type": "code",
   "execution_count": 9,
   "metadata": {},
   "outputs": [
    {
     "data": {
      "text/plain": [
       "<tf.Tensor: id=10, shape=(2, 1), dtype=float32, numpy=\n",
       "array([[1.],\n",
       "       [4.]], dtype=float32)>"
      ]
     },
     "execution_count": 9,
     "metadata": {},
     "output_type": "execute_result"
    }
   ],
   "source": [
    "t[..., 0:1]"
   ]
  },
  {
   "cell_type": "markdown",
   "metadata": {},
   "source": [
    "There are many tensor mathematical operations available."
   ]
  },
  {
   "cell_type": "code",
   "execution_count": 10,
   "metadata": {},
   "outputs": [
    {
     "data": {
      "text/plain": [
       "<tf.Tensor: id=12, shape=(2, 3), dtype=float32, numpy=\n",
       "array([[11., 12., 13.],\n",
       "       [14., 15., 16.]], dtype=float32)>"
      ]
     },
     "execution_count": 10,
     "metadata": {},
     "output_type": "execute_result"
    }
   ],
   "source": [
    "# Addition.\n",
    "t + 10"
   ]
  },
  {
   "cell_type": "code",
   "execution_count": 11,
   "metadata": {},
   "outputs": [
    {
     "data": {
      "text/plain": [
       "<tf.Tensor: id=13, shape=(2, 3), dtype=float32, numpy=\n",
       "array([[ 1.,  4.,  9.],\n",
       "       [16., 25., 36.]], dtype=float32)>"
      ]
     },
     "execution_count": 11,
     "metadata": {},
     "output_type": "execute_result"
    }
   ],
   "source": [
    "# Square each element.\n",
    "tf.square(t)"
   ]
  },
  {
   "cell_type": "code",
   "execution_count": 12,
   "metadata": {},
   "outputs": [
    {
     "data": {
      "text/plain": [
       "<tf.Tensor: id=16, shape=(2, 2), dtype=float32, numpy=\n",
       "array([[14., 32.],\n",
       "       [32., 77.]], dtype=float32)>"
      ]
     },
     "execution_count": 12,
     "metadata": {},
     "output_type": "execute_result"
    }
   ],
   "source": [
    "# Matrix multiplication (`@` was new in Python 3.5).\n",
    "t @ tf.transpose(t)"
   ]
  },
  {
   "cell_type": "markdown",
   "metadata": {},
   "source": [
    "Many of the function available from NumPy as available in TF, often with the same name.\n",
    "However, there are times where the names differ, though it is usually because the operations are slightly different.\n",
    "\n",
    "### Tensors and NumPy\n",
    "\n",
    "Tensors \"play nicely\" with NumPy.\n",
    "It is easy to convert between the two."
   ]
  },
  {
   "cell_type": "code",
   "execution_count": 13,
   "metadata": {},
   "outputs": [
    {
     "data": {
      "text/plain": [
       "<tf.Tensor: id=17, shape=(3,), dtype=float32, numpy=array([2., 4., 5.], dtype=float32)>"
      ]
     },
     "execution_count": 13,
     "metadata": {},
     "output_type": "execute_result"
    }
   ],
   "source": [
    "# From NumPy to TF.\n",
    "a = np.array([2, 4, 5], dtype=np.float32)\n",
    "tf.constant(a)"
   ]
  },
  {
   "cell_type": "code",
   "execution_count": 14,
   "metadata": {},
   "outputs": [
    {
     "data": {
      "text/plain": [
       "array([[1., 2., 3.],\n",
       "       [4., 5., 6.]], dtype=float32)"
      ]
     },
     "execution_count": 14,
     "metadata": {},
     "output_type": "execute_result"
    }
   ],
   "source": [
    "# From TF to NumPy.\n",
    "t = tf.constant([[1, 2, 3], [4, 5, 6]], dtype=tf.float32)\n",
    "t.numpy()"
   ]
  },
  {
   "cell_type": "code",
   "execution_count": 15,
   "metadata": {},
   "outputs": [
    {
     "data": {
      "text/plain": [
       "<tf.Tensor: id=20, shape=(2, 3), dtype=float32, numpy=\n",
       "array([[ 3.,  6.,  8.],\n",
       "       [ 6.,  9., 11.]], dtype=float32)>"
      ]
     },
     "execution_count": 15,
     "metadata": {},
     "output_type": "execute_result"
    }
   ],
   "source": [
    "# Addition of NumPy and TF.\n",
    "a + t"
   ]
  },
  {
   "cell_type": "markdown",
   "metadata": {},
   "source": [
    "### Type conversions\n",
    "\n",
    "TF does not perform automatic type casting!\n",
    "This is true even for different floating point precisions.\n",
    "Instead, it always raises an exception."
   ]
  },
  {
   "cell_type": "code",
   "execution_count": 16,
   "metadata": {},
   "outputs": [],
   "source": [
    "# Throws an error.\n",
    "# tf.constant(2.0, dtype=tf.float16) + tf.constant(2.0, dtype=tf.float32)\n",
    "\n",
    "#> InvalidArgumentError: cannot compute AddV2 as input #1(zero-based) was \n",
    "#> expected to be a half tensor but is a float tensor [Op:AddV2] name: add/"
   ]
  },
  {
   "cell_type": "markdown",
   "metadata": {},
   "source": [
    "The `tf.cast()` function can be used to change types."
   ]
  },
  {
   "cell_type": "code",
   "execution_count": 17,
   "metadata": {},
   "outputs": [
    {
     "data": {
      "text/plain": [
       "<tf.Tensor: id=24, shape=(), dtype=float16, numpy=4.0>"
      ]
     },
     "execution_count": 17,
     "metadata": {},
     "output_type": "execute_result"
    }
   ],
   "source": [
    "a = tf.constant(2.0, dtype=tf.float16)\n",
    "b = tf.constant(2.0, dtype=tf.float32)\n",
    "a + tf.cast(b, a.dtype)"
   ]
  },
  {
   "cell_type": "markdown",
   "metadata": {},
   "source": [
    "### Variables\n",
    "\n",
    "TF's `Tensor` values are immutable.\n",
    "The `Variable` type is mutable.\n",
    "It behaves simillarly to `Tensor` with regards to mathematic operations and wokring with NumPy, though values can be assigned in place."
   ]
  },
  {
   "cell_type": "code",
   "execution_count": 18,
   "metadata": {},
   "outputs": [
    {
     "data": {
      "text/plain": [
       "<tf.Variable 'Variable:0' shape=(2, 3) dtype=float32, numpy=\n",
       "array([[1., 2., 3.],\n",
       "       [4., 5., 6.]], dtype=float32)>"
      ]
     },
     "execution_count": 18,
     "metadata": {},
     "output_type": "execute_result"
    }
   ],
   "source": [
    "v = tf.Variable([[1, 2, 3], [4, 5, 6]], dtype=tf.float32)\n",
    "v"
   ]
  },
  {
   "cell_type": "code",
   "execution_count": 19,
   "metadata": {},
   "outputs": [
    {
     "data": {
      "text/plain": [
       "<tf.Variable 'UnreadVariable' shape=(2, 3) dtype=float32, numpy=\n",
       "array([[ 2.,  4.,  6.],\n",
       "       [ 8., 10., 12.]], dtype=float32)>"
      ]
     },
     "execution_count": 19,
     "metadata": {},
     "output_type": "execute_result"
    }
   ],
   "source": [
    "v.assign(v * 2)"
   ]
  },
  {
   "cell_type": "code",
   "execution_count": 20,
   "metadata": {},
   "outputs": [
    {
     "data": {
      "text/plain": [
       "<tf.Variable 'Variable:0' shape=(2, 3) dtype=float32, numpy=\n",
       "array([[ 2.,  4.,  6.],\n",
       "       [ 8., 10., 12.]], dtype=float32)>"
      ]
     },
     "execution_count": 20,
     "metadata": {},
     "output_type": "execute_result"
    }
   ],
   "source": [
    "v"
   ]
  },
  {
   "cell_type": "markdown",
   "metadata": {},
   "source": [
    "Cells or slices can be assigned by calling the `assign()` method in the index."
   ]
  },
  {
   "cell_type": "code",
   "execution_count": 21,
   "metadata": {},
   "outputs": [
    {
     "data": {
      "text/plain": [
       "<tf.Variable 'UnreadVariable' shape=(2, 3) dtype=float32, numpy=\n",
       "array([[ 2., 42.,  6.],\n",
       "       [ 8., 10., 12.]], dtype=float32)>"
      ]
     },
     "execution_count": 21,
     "metadata": {},
     "output_type": "execute_result"
    }
   ],
   "source": [
    "v[0, 1].assign(42)"
   ]
  },
  {
   "cell_type": "code",
   "execution_count": 22,
   "metadata": {},
   "outputs": [
    {
     "data": {
      "text/plain": [
       "<tf.Variable 'UnreadVariable' shape=(2, 3) dtype=float32, numpy=\n",
       "array([[  2.,  42., -10.],\n",
       "       [  8.,  10., -20.]], dtype=float32)>"
      ]
     },
     "execution_count": 22,
     "metadata": {},
     "output_type": "execute_result"
    }
   ],
   "source": [
    "v[:, 2].assign([-10.0, -20.0])"
   ]
  },
  {
   "cell_type": "markdown",
   "metadata": {},
   "source": [
    "### Other data structures\n",
    "\n",
    "Some other data types to be aware or are listed below with brief descriptions:\n",
    "\n",
    "* **sparse tensors**: Tensors with many zeros. The `tf.sparse` library has many specific operations.\n",
    "* **tensor arrays**: Lists of tensors of the same shape and data type.\n",
    "* **ragged tensors**: List of lists of tensors of the same shape and data type. The `tf.ragged` library has many specific operations.\n",
    "* **string tensors**: Regular tensors of type `tf.string`. The `tf.strings` library has many specific operations.\n",
    "* **sets**: Regular or sparse tensors.  The `tf.sets` library has many specific operations.\n",
    "* **queues**: A way of storing tensors across multiple steps. The `tf.queue` library has many specific operations.\n",
    "\n",
    "## Customizing models and training algorithm\n",
    "\n",
    "### Custom loss functions\n",
    "\n",
    "In the following example, we implement the [Huber loss function]() (though it is available in already in `tf.keras`).\n",
    "The first step is to define a function that takes the labels and predictions as arguments and use TF operations to compute every instance's loss.\n",
    "The function should return a tensor with the loss for each instance.\n",
    "It is important to use TF operations for two reasons: 1) they are vectorized, thus faster; 2) you still benefit from TF's graph optimization features."
   ]
  },
  {
   "cell_type": "code",
   "execution_count": 23,
   "metadata": {},
   "outputs": [],
   "source": [
    "def huber_loss_fxn(y_true, y_pred):\n",
    "    \"\"\"The Huber loss function for TF.\"\"\"\n",
    "    error = y_true - y_pred\n",
    "    is_small_error = tf.abs(error) < 1\n",
    "    squared_loss = tf.square(error) / 2\n",
    "    linear_loss = tf.abs(error) - 0.5\n",
    "    return tf.where(is_small_error, squared_loss, linear_loss)\n",
    "\n",
    "\n",
    "# Create a simple model.\n",
    "model = keras.models.Sequential([\n",
    "    keras.layers.InputLayer(5),\n",
    "    keras.layers.Dense(20, activation='relu'),\n",
    "    keras.layers.Dense(20, activation='relu'),\n",
    "    keras.layers.Dense(10, activation='relu'),\n",
    "    keras.layers.Dense(1)\n",
    "])\n",
    "\n",
    "# Compile the model for use with the custom loss function.\n",
    "model.compile(loss=huber_loss_fxn, optimizer='nadam')"
   ]
  },
  {
   "cell_type": "markdown",
   "metadata": {},
   "source": [
    "### Saving and loading models that constain custom components\n",
    "\n",
    "Keras does not save the function when a model is saved, just the *name* of the function.\n",
    "Thus a dictionary must be passed to map the name to the function."
   ]
  },
  {
   "cell_type": "code",
   "execution_count": 24,
   "metadata": {},
   "outputs": [],
   "source": [
    "model_path = assets_path.joinpath(\"model_with_custom_loss.h5\")\n",
    "model.save(model_path.as_posix())\n",
    "\n",
    "custom_objects = {'huber_loss_fxn': huber_loss_fxn}\n",
    "\n",
    "model = keras.models.load_model(model_path.as_posix(),\n",
    "                                custom_objects=custom_objects)"
   ]
  },
  {
   "cell_type": "markdown",
   "metadata": {},
   "source": [
    "Let's say, however, you wanted to include another parameter in the loss function.\n",
    "For example, the current Huber loss function has a range of -1 to 1 for \"small\", but we want to let this be adjusted.\n",
    "One way is to create a function factory to return a Huber loss function with a different threshold.\n",
    "This parameter, though, will not be saved with the model and, thus, must be supplied when loading the model."
   ]
  },
  {
   "cell_type": "code",
   "execution_count": 25,
   "metadata": {},
   "outputs": [],
   "source": [
    "def create_huber_loss_fxn(threshold=1.0):\n",
    "    def huber_loss_fxn(y_true, y_pred):\n",
    "        error = y_true - y_pred\n",
    "        is_small_error = tf.abs(error) < threshold\n",
    "        squared_loss = tf.square(error) / 2\n",
    "        linear_loss = threshold * tf.abs(error) - threshold**2 / 2\n",
    "        return tf.where(is_small_error, squared_loss, linear_loss)\n",
    "    return huber_loss_fxn\n",
    "\n",
    "\n",
    "model.compile(loss=create_huber_loss_fxn(2.0), optimizer='nadam')\n",
    "\n",
    "model.save(model_path.as_posix())"
   ]
  },
  {
   "cell_type": "markdown",
   "metadata": {},
   "source": [
    "When the model is loaded in, the Huber loss function must be re-created with the same threshold."
   ]
  },
  {
   "cell_type": "code",
   "execution_count": 26,
   "metadata": {},
   "outputs": [],
   "source": [
    "custom_objects = {'huber_loss_fxn': create_huber_loss_fxn(2.0)}\n",
    "\n",
    "model = keras.models.load_model(model_path.as_posix(),\n",
    "                                custom_objects=custom_objects)"
   ]
  },
  {
   "cell_type": "markdown",
   "metadata": {},
   "source": [
    "This implementation is non-ideal because it requires the user to remember and supply the threshold.\n",
    "Thus, a better method is to subclass the `keras.losses.Loss` class and implement the `get_config()` method.\n",
    "This method allows Keras to save and load the parameter to JSON with the rest of the model."
   ]
  },
  {
   "cell_type": "code",
   "execution_count": 27,
   "metadata": {},
   "outputs": [],
   "source": [
    "class HuberLoss(keras.losses.Loss):\n",
    "    def __init__(self, threshold=1.0, **kwargs):\n",
    "        self.threshold = threshold\n",
    "        super().__init__(**kwargs)\n",
    "\n",
    "    def call(self, y_true, y_pred):\n",
    "        error = y_true - y_pred\n",
    "        is_small_error = tf.abs(error) < self.threshold\n",
    "        squared_loss = tf.square(error) / 2\n",
    "        linear_loss = self.threshold * tf.abs(error) - self.threshold**2 / 2\n",
    "        return tf.where(is_small_error, squared_loss, linear_loss)\n",
    "\n",
    "    def get_config(self):\n",
    "        base_config = super().get_config()\n",
    "        return {**base_config, 'threshold': self.threshold}\n",
    "\n",
    "\n",
    "model.compile(loss=HuberLoss(2.0), optimizer='nadam')\n",
    "\n",
    "model.save(model_path.as_posix())"
   ]
  },
  {
   "cell_type": "markdown",
   "metadata": {},
   "source": [
    "However, there seems to currently be a bug in loading models with custom loss classes.\n",
    "Thus, loading the model does not work."
   ]
  },
  {
   "cell_type": "code",
   "execution_count": 28,
   "metadata": {
    "scrolled": true
   },
   "outputs": [],
   "source": [
    "# model = keras.models.load_model(model_path.as_posix(),\n",
    "#                                custom_objects={'HuberLoss': HuberLoss})"
   ]
  },
  {
   "cell_type": "markdown",
   "metadata": {},
   "source": [
    "### Custom activation functions, initializers, regularizers, and constraints\n",
    "\n",
    "A similar processes is required to create custom activation functions, initializers, regularizers, and constraints.\n",
    "Generally, you just need to create a function with the correct inputs and outputs.\n",
    "Here are some examples followed by a layer using them."
   ]
  },
  {
   "cell_type": "code",
   "execution_count": 29,
   "metadata": {},
   "outputs": [
    {
     "data": {
      "text/plain": [
       "<tensorflow.python.keras.layers.core.Dense at 0x6450e1990>"
      ]
     },
     "execution_count": 29,
     "metadata": {},
     "output_type": "execute_result"
    }
   ],
   "source": [
    "def my_softplus_activation_fxn(z):\n",
    "    return tf.math.log(tf.exp(z) + 1.0)\n",
    "\n",
    "\n",
    "def my_glorot_initializer(shape, dtype=tf.float32):\n",
    "    stddev = tf.sqrt(2.0 / (shape[0] + shape[1]))\n",
    "    return tf.random.normal(shape, stddev=stddev, dtype=dtype)\n",
    "\n",
    "\n",
    "def my_l1_regularizer(weights):\n",
    "    return tf.reduce_sum(tf.abs(0.01 * weights))\n",
    "\n",
    "\n",
    "def my_positive_weights_constraint(weights):\n",
    "    return tf.where(weights < 0.0, tf.zeros_like(weights), weights)\n",
    "\n",
    "\n",
    "keras.layers.Dense(units=30,\n",
    "                   activation=my_softplus_activation_fxn,\n",
    "                   kernel_initializer=my_glorot_initializer,\n",
    "                   kernel_regularizer=my_l1_regularizer,\n",
    "                   kernel_constraint=my_positive_weights_constraint)"
   ]
  },
  {
   "cell_type": "markdown",
   "metadata": {},
   "source": [
    "If additional hyperparameters must be retained by the saved model, then you will have to subclass the appropriate TF class like shown previously.\n",
    "*Remember to implement the `get_config()` method.*\n",
    "\n",
    "### Custom metrics\n",
    "\n",
    "The most basic custom metric is a function that takes two parameters, `y_true` and `y_pred`, and computes the metric given that information.\n",
    "This function is called at each training batch and TF keeps a running average of the results.\n",
    "\n",
    "Sometimes, however, we want to retain the previous values and accumulate the results, ourselves.\n",
    "This is coming for *streaming metrics* (or *stateful metrics*, those that are continuously updated over the training.\n",
    "One example is precision.\n",
    "To do this, we create a `keras.metrics.Precision` object and pass it the the real and predicted values."
   ]
  },
  {
   "cell_type": "code",
   "execution_count": 30,
   "metadata": {},
   "outputs": [
    {
     "data": {
      "text/plain": [
       "<tf.Tensor: id=737, shape=(), dtype=float32, numpy=0.5>"
      ]
     },
     "execution_count": 30,
     "metadata": {},
     "output_type": "execute_result"
    }
   ],
   "source": [
    "precision = keras.metrics.Precision()\n",
    "\n",
    "# Mock two training steps.\n",
    "precision([0, 1, 1, 1, 0, 1, 0, 1], [1, 1, 0, 1, 0, 1, 0, 1])\n",
    "precision([0, 1, 0, 0, 1, 0, 1, 1], [1, 0, 1, 1, 0, 0, 0, 0])\n",
    "\n",
    "precision.result()"
   ]
  },
  {
   "cell_type": "code",
   "execution_count": 31,
   "metadata": {},
   "outputs": [
    {
     "data": {
      "text/plain": [
       "[<tf.Variable 'true_positives:0' shape=(1,) dtype=float32, numpy=array([4.], dtype=float32)>,\n",
       " <tf.Variable 'false_positives:0' shape=(1,) dtype=float32, numpy=array([4.], dtype=float32)>]"
      ]
     },
     "execution_count": 31,
     "metadata": {},
     "output_type": "execute_result"
    }
   ],
   "source": [
    "precision.variables"
   ]
  },
  {
   "cell_type": "markdown",
   "metadata": {},
   "source": [
    "The values can be reset using the `reset_states()` method."
   ]
  },
  {
   "cell_type": "code",
   "execution_count": 32,
   "metadata": {},
   "outputs": [],
   "source": [
    "precision.reset_states()"
   ]
  },
  {
   "cell_type": "markdown",
   "metadata": {},
   "source": [
    "If you need to create a custom streaming method, subclass `keras.metrics.Metric`.\n",
    "Below is an example of implementing a custom streaming metric that tracks the Huber loss and number of instances seen so far.\n",
    "Further, when asked for a result, it returns the ratio."
   ]
  },
  {
   "cell_type": "code",
   "execution_count": 33,
   "metadata": {},
   "outputs": [],
   "source": [
    "class HuberMetric(keras.metrics.Metric):\n",
    "    def __init__(self, threshold=1.0, **kwargs):\n",
    "        super().__init__(**kwargs)\n",
    "        self.threshold = threshold\n",
    "        self.huber_fn = create_huber_loss_fxn(threshold)\n",
    "        self.total = self.add_weight('total', initializer='zeros')\n",
    "        self.count = self.add_weight('count', initializer='zeros')\n",
    "    \n",
    "    def update_state(self, y_true, y_pred, sample_weight=None):\n",
    "        metric = self.huber_fn(y_true, y_pred)\n",
    "        self.total.assign_add(tf.reduce_sum(metric))\n",
    "        self.count.assign_add(tf.cast(tf.size(y_true), tf.float32))\n",
    "    \n",
    "    def result(self):\n",
    "        return self.total / self.count\n",
    "    \n",
    "    def get_config(self):\n",
    "        base_config = super().get_config()\n",
    "        return {**base_config, 'threshold': self.threshold}"
   ]
  },
  {
   "cell_type": "markdown",
   "metadata": {},
   "source": [
    "Here are some notes on the above class:\n",
    "\n",
    "* The constructor uses the `add_weight()` method to create the variables to keep track of the desired information over the training batches. Alternatively, you could just create a `tf.Variable` for each and TF will automatically remember it.\n",
    "* The `update_state()` is called when the object of the class gets called as a function. It is provided the real and predicted labels and batch weights (ignored in the example).\n",
    "* The `result()` method returns the desired result.\n",
    "* The `get_config()` method helps to remember any hyperparameters, used here to remember the threshold for the Huber loss.\n",
    "* There is also a `reset_states()` method that, by default, resets all variables, though it can be overriden if desired.\n",
    "\n",
    "### Custom layers\n",
    "\n",
    "There are two common circumstances under which a custom layer is desireable. The first is if you want to implement a new layer architecture that isn't available in Keras. The second is if you have a identical blocks of layers that you don't want to repeat over and over. For instance, if you wanted to have a pattern a layers $\\text{ABCABCABC}$, then you could create a layer $\\text{D = ABC}$ and make a network $\\text{DDD}$, instead.\n",
    "The following are several ways to create a custom layer.\n",
    "\n",
    "Some layers do not have any weights such as `Flatten` or `ReLU`.\n",
    "If you want a layer without any weights, the easiest option is to create a `Lambda` layer and and provide it a function to use to transform its inputs.\n",
    "Here is an example of an exponential layer."
   ]
  },
  {
   "cell_type": "code",
   "execution_count": 34,
   "metadata": {},
   "outputs": [],
   "source": [
    "exponential_layer = keras.layers.Lambda(lambda x: tf.exp(x))"
   ]
  },
  {
   "cell_type": "markdown",
   "metadata": {},
   "source": [
    "To create a *stateful layer*, a layer with weights, create a subclass of the `Layer` class.\n",
    "Below is an example reimplementing a Dense layer."
   ]
  },
  {
   "cell_type": "code",
   "execution_count": 35,
   "metadata": {},
   "outputs": [],
   "source": [
    "class MyDense(keras.layers.Layer):\n",
    "    def __init__(self, units, activation=None, **kwargs):\n",
    "        super().__init__(**kwargs)\n",
    "        self.units = units\n",
    "        self.activation = keras.activations.get(activation)\n",
    "\n",
    "    def build(self, batch_input_shape):\n",
    "        self.kernel = self.add_weight(name='kernel',\n",
    "                                      shape=[batch_input_shape[-1], self.units],\n",
    "                                      initializer='glorot_normal')\n",
    "        self.bias = self.add_weight(name='bias',\n",
    "                                    shape=[self.units],\n",
    "                                    initializer='zeros')\n",
    "        super().build(batch_input_shape)\n",
    "\n",
    "    def call(self, X):\n",
    "        return self.activation(X @ self.kernel + self.bias)\n",
    "\n",
    "    def compute_output_shape(self, batch_input_shape):\n",
    "        return tf.TensorShape(batch_input_shape.as_list()[:-1] + [self.units])\n",
    "\n",
    "    def get_config(self):\n",
    "        base_config = super().get_config()\n",
    "        return {**base_config,\n",
    "                'units': self.units,\n",
    "                'activation': keras.activations.serialize(self.activation)}"
   ]
  },
  {
   "cell_type": "markdown",
   "metadata": {},
   "source": [
    "The following are notes on the above class:\n",
    "\n",
    "* The constructor method takes all of the hyperparameters as arguments and creates the necessary attributes. The parent constructor takes care of the standard information and the rest is customizable.\n",
    "* The `build()` method creates the layers variables by calling `add_weight()`. This will be called when the layer is first used because only then will it know the number of connections to make. *Remember to call the parent `build()` method at the end.*\n",
    "* The `call()` method performs the desired neuron function. In this case, it is a simple linear formula passed to the activation function.\n",
    "* The `compute_output_shape()` method returns a tensor of the shape of the outputs of the layer. This method can often be ignored in TF Keras because it is automatically inferred. This does not apply to dynamic layers.\n",
    "* The `get_config()` method is used to help Keras store and retrieve custom hyperparameters.\n",
    "\n",
    "If the layer takes multiple inputs, such as `Concatenate`, the arguments to `call()` and `compute_output_shape()` will be tuples of the inputs and input's batch shape, respectively.\n",
    "Below is a toy example of a layer that takes two inputs and returns three outputs."
   ]
  },
  {
   "cell_type": "code",
   "execution_count": 36,
   "metadata": {},
   "outputs": [],
   "source": [
    "class MyToyMultiLayer(keras.layers.Layer):\n",
    "    def call(self, X):\n",
    "        X1, X2 = X\n",
    "        return [X1 + X2, X1 * X2, X1 / X2]\n",
    "    \n",
    "    def compute_output_shape(self, batch_input_shape):\n",
    "        b1, b2 = batch_input_shape\n",
    "        return [b1, b1, b1]"
   ]
  },
  {
   "cell_type": "markdown",
   "metadata": {},
   "source": [
    "If the layer must behave differently between training and testing, then a `training` argument must be added to `call()`.\n",
    "It will be passed a boolean or `None` to indicate the if the model is in training or not."
   ]
  },
  {
   "cell_type": "code",
   "execution_count": 37,
   "metadata": {},
   "outputs": [],
   "source": [
    "class MyGaussianNoiseLayer(keras.layers.Layer):\n",
    "    def __init__(self, stddev=1, **kwargs):\n",
    "        super().__init__(**kwargs)\n",
    "        self.stddev = stddev\n",
    "    \n",
    "    def call(self, X, training=None):\n",
    "        if training:\n",
    "            noise = tf.random.normal(tf.shape(X), stddev=self.stddev)\n",
    "            return X + noise\n",
    "        else:\n",
    "            return X\n",
    "        \n",
    "    def compute_output_shape(self, batch_input_shape):\n",
    "        return batch_input_shape"
   ]
  },
  {
   "cell_type": "markdown",
   "metadata": {},
   "source": [
    "### Custom models\n",
    "\n",
    "As an example of the flexibility and power provided by TF, we will create the following custom model:\n",
    "\n",
    "1. A Dense input layer.\n",
    "2. A Residual Block composed of two Dense layers and an addition operator. The input data flows through the two Dense layers and the input data is again added to the output data which is then fed back through the residual block. This procedure is repeated three times.\n",
    "3. Another Residual Block.\n",
    "4. A Dense output layer.\n",
    "\n",
    "To begin, we will create a custom layer for the Residual Block."
   ]
  },
  {
   "cell_type": "code",
   "execution_count": 38,
   "metadata": {},
   "outputs": [],
   "source": [
    "class ResidualBlock(keras.layers.Layer):\n",
    "    def __init__(self, n_layers, n_neurons, **kwargs):\n",
    "        super().__init__(**kwargs)\n",
    "        self.hidden = [keras.layers.Dense(n_neurons,\n",
    "                                          activation='elu',\n",
    "                                          kernel_initializer='he_normal')\n",
    "                       for _ in range(n_layers)]\n",
    "\n",
    "    def call(self, X, training=None):\n",
    "        Z = X\n",
    "        for layer in self.hidden:\n",
    "            Z = layer(Z)\n",
    "        return X + Z\n",
    "\n",
    "    def get_config(self):\n",
    "        base_config = super().get_config()\n",
    "        return {**base_config,\n",
    "                'n_layers': n_layers,\n",
    "                'n_neurons': n_neurons}"
   ]
  },
  {
   "cell_type": "markdown",
   "metadata": {},
   "source": [
    "Now we can use the Subclassing API to create the model."
   ]
  },
  {
   "cell_type": "code",
   "execution_count": 39,
   "metadata": {},
   "outputs": [],
   "source": [
    "class ResidualRegressor(keras.Model):\n",
    "    def __init__(self, output_dim, **kwargs):\n",
    "        super().__init__(**kwargs)\n",
    "        self.hidden1 = keras.layers.Dense(30,\n",
    "                                          activation='elu',\n",
    "                                          kernel_initializer='he_normal')\n",
    "        self.block1 = ResidualBlock(2, 30)\n",
    "        self.block2 = ResidualBlock(2, 30)\n",
    "        self.out = keras.layers.Dense(output_dim)\n",
    "\n",
    "    def call(self, X):\n",
    "        Z = self.hidden1(X)\n",
    "        for _ in range(1 + 3):\n",
    "            Z = self.block1(Z)\n",
    "        Z = self.block2(Z)\n",
    "        return self.out(Z)\n",
    "\n",
    "    def get_config(self):\n",
    "        base_config = super().get_config()\n",
    "        return {**base_config,\n",
    "                'output_dim': output_dim}"
   ]
  },
  {
   "cell_type": "markdown",
   "metadata": {},
   "source": [
    "The model can now be trained and used like any other.\n",
    "The `get_config()` methods for `ResidualBlock` and `ResidualRegressor` were implemented, so the model could be saved and loaded.\n",
    "\n",
    "### Losses and metrics based on model internals\n",
    "\n",
    "Previously, we created custom loss functions that accept the predicted values, the known values, and a binary training argument.\n",
    "However, there are times we want to use additional information about the model to compute a specific loss function.\n",
    "For example, we can design a regression model with a *reconstruction loss* that computes the mean squared difference between the original inputs and the reconstructed outputs (we did a similar thing when studying decomposition and dimensionality reduction).\n",
    "To apply the custom loss, the reconstruction loss is computed and added to the normal MSE loss using the `add_loss()` method within the `call()` method."
   ]
  },
  {
   "cell_type": "code",
   "execution_count": 40,
   "metadata": {},
   "outputs": [],
   "source": [
    "class ReconstructionRegressor(keras.Model):\n",
    "    def __init__(self, output_dim, with_reconstruction_loss=True, **kwargs):\n",
    "        super().__init__(**kwargs)\n",
    "        self.hidden = [keras.layers.Dense(units=10, activation='relu')\n",
    "                      for _ in range(5)]\n",
    "        self.out = keras.layers.Dense(output_dim)\n",
    "        self.with_reconstruction_loss=with_reconstruction_loss\n",
    "    \n",
    "    def build(self, batch_input_shape):\n",
    "        n_inputs = batch_input_shape[-1]\n",
    "        # An additional output layer for the reconstruction.\n",
    "        self.reconstruct_layer = keras.layers.Dense(n_inputs)\n",
    "        super().build(batch_input_shape)\n",
    "    \n",
    "    def call(self, X):\n",
    "        Z = X\n",
    "        for layer in self.hidden:\n",
    "            Z = layer(Z)\n",
    "        \n",
    "        # Apply reconstruction loss.\n",
    "        if self.with_reconstruction_loss:\n",
    "            reconstruction = self.reconstruct_layer(Z)\n",
    "            recon_loss = tf.reduce_mean(tf.square(reconstruction - X))\n",
    "            self.add_loss(0.05 * recon_loss)\n",
    "        \n",
    "        return self.out(Z)"
   ]
  },
  {
   "cell_type": "markdown",
   "metadata": {},
   "source": [
    "A custom metric is created in a similar fashion.\n",
    "The result must be a `keras.metrics` object and added to the others using the `add_metric()` method.\n",
    "A new copy of `ReconstructionRegressor` is created below with this feature."
   ]
  },
  {
   "cell_type": "code",
   "execution_count": 41,
   "metadata": {},
   "outputs": [],
   "source": [
    "class ReconstructionRegressor(keras.Model):\n",
    "    def __init__(self, output_dim, with_reconstruction_loss=True, **kwargs):\n",
    "        super().__init__(**kwargs)\n",
    "        self.hidden = [keras.layers.Dense(units=10, activation='relu')\n",
    "                      for _ in range(5)]\n",
    "        self.out = keras.layers.Dense(output_dim)\n",
    "        self.with_reconstruction_loss=with_reconstruction_loss\n",
    "\n",
    "    def build(self, batch_input_shape):\n",
    "        self.reconstruct_layer = keras.layers.Dense(batch_input_shape[-1])\n",
    "        super().build(batch_input_shape)\n",
    "\n",
    "    def call(self, X):\n",
    "        Z = X\n",
    "        for layer in self.hidden:\n",
    "            Z = layer(Z)\n",
    "\n",
    "        # Apply reconstruction loss.\n",
    "        if self.with_reconstruction_loss:\n",
    "            reconstruction = self.reconstruct_layer(Z)\n",
    "            recon_loss = tf.reduce_mean(tf.square(reconstruction - X))\n",
    "            self.add_loss(0.05 * recon_loss)\n",
    "        \n",
    "        # Report reconstruction loss as a metric.\n",
    "        # m = keras.metrics.Mean(name='reconstruction_loss')\n",
    "        # m.update_state(recon_loss)\n",
    "        # self.add_metric(m, name='reconstruction_loss')\n",
    "\n",
    "        return self.out(Z)"
   ]
  },
  {
   "cell_type": "code",
   "execution_count": 42,
   "metadata": {},
   "outputs": [
    {
     "data": {
      "image/png": "[encoded data removed]",
      "text/plain": [
       "<Figure size 432x288 with 1 Axes>"
      ]
     },
     "metadata": {
      "needs_background": "light"
     },
     "output_type": "display_data"
    }
   ],
   "source": [
    "from sklearn.datasets import make_swiss_roll\n",
    "import mpl_toolkits.mplot3d.axes3d as p3\n",
    "\n",
    "X, y = make_swiss_roll(3000, noise=0.3, random_state=0)\n",
    "\n",
    "fig = plt.figure()\n",
    "ax = p3.Axes3D(fig)\n",
    "ax.view_init(7, -80)\n",
    "ax.scatter(X[:, 0], X[:, 1], X[:, 2], c=y)\n",
    "plt.title(\"Swiss Roll\", fontsize=14)\n",
    "plt.show()"
   ]
  },
  {
   "cell_type": "code",
   "execution_count": 43,
   "metadata": {
    "scrolled": false
   },
   "outputs": [],
   "source": [
    "# Without reconstruction.\n",
    "model = ReconstructionRegressor(1, with_reconstruction_loss=False)\n",
    "model.compile(loss='mse', optimizer='nadam')\n",
    "history_no_recon = model.fit(X, y, \n",
    "                             epochs=20, \n",
    "                             validation_split=0.2, \n",
    "                             verbose=0)\n",
    "\n",
    "\n",
    "# With reconstruction.\n",
    "model_recon = ReconstructionRegressor(1, with_reconstruction_loss=True)\n",
    "model_recon.compile(loss='mse', optimizer='nadam')\n",
    "history_recon = model_recon.fit(X, y, \n",
    "                                epochs=20, \n",
    "                                validation_split=0.2, \n",
    "                                verbose=0)"
   ]
  },
  {
   "cell_type": "markdown",
   "metadata": {},
   "source": [
    "To demonstrate that the reconstruction loss had an effect on training, the learning curves are shown below.\n",
    "The one with reconstruction loss (right) has a less steep descent than the one without this regularization (left)."
   ]
  },
  {
   "cell_type": "code",
   "execution_count": 44,
   "metadata": {},
   "outputs": [
    {
     "data": {
      "image/png": "[encoded data removed]",
      "text/plain": [
       "<Figure size 720x720 with 4 Axes>"
      ]
     },
     "metadata": {
      "needs_background": "light"
     },
     "output_type": "display_data"
    }
   ],
   "source": [
    "fig = plt.figure(figsize=(10, 10))\n",
    "\n",
    "for i, history in enumerate((history_no_recon, history_recon)):\n",
    "    plt.subplot(2, 2, i+1)\n",
    "    df = pd.DataFrame(history.history)\n",
    "    plt.plot('loss', 'b-', data=df, label='loss')\n",
    "    plt.plot('val_loss', 'r-', data=df, label='val loss')\n",
    "    plt.xlabel('epoch')\n",
    "    plt.title(['Without reconstruction loss', 'With reconstruction loss'][i],\n",
    "              fontsize=14)\n",
    "    plt.legend(loc='best')\n",
    "\n",
    "for i, m in enumerate([model, model_recon]):\n",
    "    ax = fig.add_subplot(2, 2, i+3, projection='3d')\n",
    "    y_pred = m.predict(X)\n",
    "    ax.view_init(7, -80)\n",
    "    ax.scatter(X[:, 0], X[:, 1], X[:, 2], c=y_pred.ravel())\n",
    "    plt.title(\"Prediction\", fontsize=14)\n",
    "\n",
    "plt.show()"
   ]
  },
  {
   "cell_type": "markdown",
   "metadata": {},
   "source": [
    "### Computing gradients using Autodiff\n",
    "\n",
    "For this section, the following tow function will be used.\n",
    "\n",
    "$\n",
    "y = 3 w_1^2 + 2 w_1 w_2\n",
    "$"
   ]
  },
  {
   "cell_type": "code",
   "execution_count": 45,
   "metadata": {},
   "outputs": [],
   "source": [
    "def  f(w1, w2):\n",
    "    return 3 * w1**2 + 2 * w1 * w2"
   ]
  },
  {
   "cell_type": "markdown",
   "metadata": {},
   "source": [
    "Using calculus, we can find  the partial derivatives w.r.t each variable, $w_1$ and $w_2$.\n",
    "\n",
    "$\n",
    "\\frac{\\delta w_1}{\\delta y} = 6 w_1 +2 w_2 \\qquad\n",
    "\\frac{\\delta w_2}{\\delta y} = 2 w_1\n",
    "$\n",
    "\n",
    "Thus, if ($w_1$, $w_2$) = (5, 3), then, using the partial derivatives, the gradient at that point would be (36, 10).\n",
    "For a large ANN, finding the partial derivatives by hand would be an immense challenge.\n",
    "One solution is to find the partial derivatives by slightly changing one parameter and measuring its effect on the output."
   ]
  },
  {
   "cell_type": "code",
   "execution_count": 46,
   "metadata": {},
   "outputs": [
    {
     "data": {
      "text/plain": [
       "36.000003007075065"
      ]
     },
     "execution_count": 46,
     "metadata": {},
     "output_type": "execute_result"
    }
   ],
   "source": [
    "w1, w2 = 5, 3\n",
    "eps = 1e-6\n",
    "\n",
    "# Estimated partial derivative of w1.\n",
    "(f(w1+eps, w2) - f(w1, w2)) / eps"
   ]
  },
  {
   "cell_type": "code",
   "execution_count": 47,
   "metadata": {},
   "outputs": [
    {
     "data": {
      "text/plain": [
       "10.000000003174137"
      ]
     },
     "execution_count": 47,
     "metadata": {},
     "output_type": "execute_result"
    }
   ],
   "source": [
    "# Estimated partial derivative of w2.\n",
    "(f(w1, w2+eps) - f(w1, w2)) / eps"
   ]
  },
  {
   "cell_type": "markdown",
   "metadata": {},
   "source": [
    "Though rather accurate, this would take too long for a large ANN.\n",
    "Thus, we instead use autodiff.\n",
    "\n",
    "First, two variables (`tf.Variable`) are defined\n",
    "Then, a `tf.GradientTape` context is created.\n",
    "It automatically records every operation that involves a variable.\n",
    "With the `GradientTape` available, `z` is defined as a function of the two variables.\n",
    "Finally, we ask the `GradientTape` object to find the derivatives."
   ]
  },
  {
   "cell_type": "code",
   "execution_count": 48,
   "metadata": {},
   "outputs": [
    {
     "data": {
      "text/plain": [
       "[<tf.Tensor: id=12552, shape=(), dtype=float32, numpy=36.0>,\n",
       " <tf.Tensor: id=12544, shape=(), dtype=float32, numpy=10.0>]"
      ]
     },
     "execution_count": 48,
     "metadata": {},
     "output_type": "execute_result"
    }
   ],
   "source": [
    "w1, w2 = tf.Variable(5.0), tf.Variable(3.0)\n",
    "\n",
    "with tf.GradientTape()  as tape:\n",
    "    z = f(w1, w2)\n",
    "\n",
    "gradients = tape.gradient(z, [w1, w2])\n",
    "gradients"
   ]
  },
  {
   "cell_type": "markdown",
   "metadata": {},
   "source": [
    "**To save memory, keep the bare minimum within the `tf.GradientTape()` block.**\n",
    "It is possible to pause recording with `tape.stop_recording()`.\n",
    "\n",
    "The tape is immediately erased after `gradient()` is called.\n",
    "However, setting `persistent=True` in `tf.Gradient()` can prevent this - just make sure to erase the tape manually using `del tape`."
   ]
  },
  {
   "cell_type": "code",
   "execution_count": 49,
   "metadata": {},
   "outputs": [
    {
     "name": "stdout",
     "output_type": "stream",
     "text": [
      "tf.Tensor(36.0, shape=(), dtype=float32)\n",
      "tf.Tensor(10.0, shape=(), dtype=float32)\n"
     ]
    }
   ],
   "source": [
    "w1, w2 = tf.Variable(5.0), tf.Variable(3.0)\n",
    "\n",
    "with tf.GradientTape(persistent=True)  as tape:\n",
    "    z = f(w1, w2)\n",
    "\n",
    "print(tape.gradient(z, w1))\n",
    "print(tape.gradient(z, w2))\n",
    "del tape"
   ]
  },
  {
   "cell_type": "markdown",
   "metadata": {},
   "source": [
    "It is possible to prevent backpropagation through a part of the function by \"marking\" it with `tf.stop_gradient()`."
   ]
  },
  {
   "cell_type": "code",
   "execution_count": 50,
   "metadata": {},
   "outputs": [
    {
     "data": {
      "text/plain": [
       "[<tf.Tensor: id=12622, shape=(), dtype=float32, numpy=30.0>, None]"
      ]
     },
     "execution_count": 50,
     "metadata": {},
     "output_type": "execute_result"
    }
   ],
   "source": [
    "def  f2(w1, w2):\n",
    "    return 3 * w1**2 + tf.stop_gradient(2 * w1 * w2)\n",
    "\n",
    "with tf.GradientTape() as tape:\n",
    "    z = f2(w1, w2)\n",
    "\n",
    "tape.gradient(z, [w1, w2])"
   ]
  },
  {
   "cell_type": "markdown",
   "metadata": {},
   "source": [
    "Sometimes there are numerical difficulties with autodiff.\n",
    "For example, it has trouble finding the derivative of the softplus function.\n",
    "Fortunately, we can calculate it analytically and provide the derivative function manually.\n",
    "The function `my_better_softplus()`, decorated with `tf.custom_gradient` now  returns its normal output and a function used to compute its gradient provided the gradients so far passed down by backpropagation."
   ]
  },
  {
   "cell_type": "code",
   "execution_count": 51,
   "metadata": {},
   "outputs": [],
   "source": [
    "@tf.custom_gradient\n",
    "def my_better_softplus(z):\n",
    "    exp = tf.exp(z)\n",
    "    def my_softplus_gradients(grad):\n",
    "        return grad / (1 + 1 / exp)\n",
    "    return tf.math.log(exp + 1), my_softplus_gradients"
   ]
  },
  {
   "cell_type": "markdown",
   "metadata": {},
   "source": [
    "### Custom training loops"
   ]
  },
  {
   "cell_type": "code",
   "execution_count": null,
   "metadata": {},
   "outputs": [],
   "source": []
  }
 ],
 "metadata": {
  "kernelspec": {
   "display_name": "Python 3",
   "language": "python",
   "name": "python3"
  },
  "language_info": {
   "codemirror_mode": {
    "name": "ipython",
    "version": 3
   },
   "file_extension": ".py",
   "mimetype": "text/x-python",
   "name": "python",
   "nbconvert_exporter": "python",
   "pygments_lexer": "ipython3",
   "version": "3.7.4"
  },
  "toc": {
   "base_numbering": 1,
   "nav_menu": {},
   "number_sections": true,
   "sideBar": true,
   "skip_h1_title": false,
   "title_cell": "Table of Contents",
   "title_sidebar": "Contents",
   "toc_cell": false,
   "toc_position": {},
   "toc_section_display": true,
   "toc_window_display": false
  }
 },
 "nbformat": 4,
 "nbformat_minor": 2
}
