{
 "cells": [
  {
   "cell_type": "markdown",
   "metadata": {},
   "source": [
    "# Chapter 18. Reinforcement Learning"
   ]
  },
  {
   "cell_type": "code",
   "execution_count": 1,
   "metadata": {},
   "outputs": [],
   "source": [
    "import numpy as np\n",
    "import pandas as pd\n",
    "import matplotlib as mpl\n",
    "import matplotlib.pyplot as plt\n",
    "import seaborn as sns\n",
    "import tensorflow as tf \n",
    "import tensorflow.keras as keras\n",
    "import gym\n",
    "\n",
    "%matplotlib inline\n",
    "np.random.seed(0)\n",
    "sns.set_style('whitegrid')"
   ]
  },
  {
   "cell_type": "markdown",
   "metadata": {},
   "source": [
    "## Learning to optimize rewards\n",
    "\n",
    "To set the stage: in reinforcement learning, a software *agent* makes *observations* and takes *actions* within an *environment*, and in return it receives *rewards*.\n",
    "Its objective is to learn to act in a way that will maximize its expected rewards over time.\n",
    "\n",
    "### Policy search\n",
    "\n",
    "The algorithm a software agent uses to determine its action is called its *policy*.\n",
    "It can be any algorithm, including a neural network, and needs not be deterministic.\n",
    "The parameters of the policy that can be learned or tweaked are the *policy parameters*.\n",
    "The *policy search* is the method (e.g. brute force) used to identify good values in the *policy space* for the policy parameters.\n",
    "\n",
    "*Genetic algorithms* are a popular method for exploring the policy space.\n",
    "This algorithm involves creating 100 policies and trying them all.\n",
    "The 80 worst policies are \"killed\" while the rest \"reproduce\" 4 offspring each, introducing some random variation in each offspring.\n",
    "This method continues until a sufficiently good model is created.\n",
    "\n",
    "Alternatively, an optimization technique can be used to tweak the parameters and follow the gradient of the results.\n",
    "This is called *policy search* and will be discussed more thoroughly later in the chapter."
   ]
  },
  {
   "cell_type": "markdown",
   "metadata": {},
   "source": [
    "## Introduction to OpenAI Gym\n",
    "\n",
    "[OpenAI Gym](https://gym.openai.com) is a toolkit providing a variety of simulated environments including board games, Atari games, 2D and 2D physical simulations, and more for training RL algorithms.\n",
    "\n",
    "Here is a breif example of the [\"cart-pole\" problem](https://gym.openai.com/envs/CartPole-v1/).\n",
    "An environment is made with `gym.make()` and initialized using `env.reset()`, which also returns the first data point.\n",
    "This returns a 1D vector with 4 values: the cart's horizontal position, velocity, the angle of the pole, and its angular velocity."
   ]
  },
  {
   "cell_type": "code",
   "execution_count": 2,
   "metadata": {},
   "outputs": [
    {
     "name": "stderr",
     "output_type": "stream",
     "text": [
      "/opt/anaconda3/envs/daysOfCode-env/lib/python3.7/site-packages/gym/logger.py:30: UserWarning: \u001b[33mWARN: Box bound precision lowered by casting to float32\u001b[0m\n",
      "  warnings.warn(colorize('%s: %s'%('WARN', msg % args), 'yellow'))\n"
     ]
    },
    {
     "data": {
      "text/plain": [
       "array([-0.03726314,  0.01048634, -0.01756487,  0.01227879])"
      ]
     },
     "execution_count": 2,
     "metadata": {},
     "output_type": "execute_result"
    }
   ],
   "source": [
    "env = gym.make(\"CartPole-v1\")\n",
    "obs = env.reset()\n",
    "obs"
   ]
  },
  {
   "cell_type": "markdown",
   "metadata": {},
   "source": [
    "The environment can be rendered using its `render()` method."
   ]
  },
  {
   "cell_type": "code",
   "execution_count": 3,
   "metadata": {},
   "outputs": [],
   "source": [
    "env.render()\n",
    "\n",
    "# close the window\n",
    "env.close()"
   ]
  },
  {
   "cell_type": "markdown",
   "metadata": {},
   "source": [
    "<img src=\"assets/ch18/images/cart-pole-firstposition.png\" width=500 >\n",
    "\n",
    "We can ask the environment what the possible actions are, too.\n",
    "For this problem, there are two options: 0 = left, 1 = right."
   ]
  },
  {
   "cell_type": "code",
   "execution_count": 4,
   "metadata": {},
   "outputs": [
    {
     "data": {
      "text/plain": [
       "Discrete(2)"
      ]
     },
     "execution_count": 4,
     "metadata": {},
     "output_type": "execute_result"
    }
   ],
   "source": [
    "env.action_space"
   ]
  },
  {
   "cell_type": "markdown",
   "metadata": {},
   "source": [
    "Since the pole is slightly learning to the left, we will move the cart to the left using the `step()` method of the environment.\n",
    "This method returns four values:\n",
    "\n",
    "* `obs`: The new observation to act on.\n",
    "* `reward`: In this game, the reward is always 1 because the point is to keep the pole up for as long as possible.\n",
    "* `done`: This value will be true when the episode is over; for this game that means the pole tilts too much, the cart goes off screen, or there have been 200 steps, where fulfilling the last condition means the algorithm has won. An environment must be reset when the episode has finished.\n",
    "* `info`: An environment-specific dictionary to provide extra information.\n",
    "\n",
    "Finally, it is good practice to call the `close()` method on an environment to free the resources it is taking."
   ]
  },
  {
   "cell_type": "code",
   "execution_count": 5,
   "metadata": {},
   "outputs": [
    {
     "data": {
      "text/plain": [
       "array([-0.03705342, -0.18437937, -0.0173193 ,  0.29936845])"
      ]
     },
     "execution_count": 5,
     "metadata": {},
     "output_type": "execute_result"
    }
   ],
   "source": [
    "action = 0\n",
    "obs, reward, done, info = env.step(action)\n",
    "obs"
   ]
  },
  {
   "cell_type": "code",
   "execution_count": 6,
   "metadata": {},
   "outputs": [
    {
     "data": {
      "text/plain": [
       "1.0"
      ]
     },
     "execution_count": 6,
     "metadata": {},
     "output_type": "execute_result"
    }
   ],
   "source": [
    "reward"
   ]
  },
  {
   "cell_type": "code",
   "execution_count": 7,
   "metadata": {},
   "outputs": [
    {
     "data": {
      "text/plain": [
       "False"
      ]
     },
     "execution_count": 7,
     "metadata": {},
     "output_type": "execute_result"
    }
   ],
   "source": [
    "done"
   ]
  },
  {
   "cell_type": "code",
   "execution_count": 8,
   "metadata": {},
   "outputs": [
    {
     "data": {
      "text/plain": [
       "{}"
      ]
     },
     "execution_count": 8,
     "metadata": {},
     "output_type": "execute_result"
    }
   ],
   "source": [
    "info"
   ]
  },
  {
   "cell_type": "code",
   "execution_count": 9,
   "metadata": {},
   "outputs": [],
   "source": [
    "env.close()"
   ]
  },
  {
   "cell_type": "markdown",
   "metadata": {},
   "source": [
    "The following code would generate a demonstration video of the cart-pole problem.\n",
    "\n",
    "```python\n",
    "import gym\n",
    "env = gym.make('CartPole-v0')\n",
    "env.reset()\n",
    "for _ in range(1000):\n",
    "    env.render()\n",
    "    env.step(env.action_space.sample()) # take a random action\n",
    "env.close()\n",
    "```\n",
    "\n",
    "As an example, we will hardcode a simple policy: accelerate left when the pole is leaning left and accelerate right when the pole is leaning right."
   ]
  },
  {
   "cell_type": "code",
   "execution_count": 10,
   "metadata": {},
   "outputs": [],
   "source": [
    "def basic_policy(obs):\n",
    "    angle = obs[2]\n",
    "    return 0 if angle < 0 else 1"
   ]
  },
  {
   "cell_type": "code",
   "execution_count": 11,
   "metadata": {},
   "outputs": [],
   "source": [
    "totals = []\n",
    "for episode in range(500):\n",
    "    episode_rewards = 0\n",
    "    obs = env.reset()\n",
    "    for step in range(200):\n",
    "        action = basic_policy(obs)\n",
    "        obs, reward, done, info = env.step(action)\n",
    "        episode_rewards += reward\n",
    "        if done:\n",
    "            break\n",
    "    totals.append(episode_rewards)"
   ]
  },
  {
   "cell_type": "code",
   "execution_count": 12,
   "metadata": {},
   "outputs": [
    {
     "data": {
      "image/png": "[encoded data removed]",
      "text/plain": [
       "<Figure size 720x360 with 1 Axes>"
      ]
     },
     "metadata": {},
     "output_type": "display_data"
    }
   ],
   "source": [
    "avg_score = np.mean(totals)\n",
    "\n",
    "fig = plt.figure(figsize=(10, 5))\n",
    "plt.plot(totals, 'k-')\n",
    "plt.plot([0, len(totals)], [avg_score, avg_score], 'r--', linewidth=5)\n",
    "plt.title(\"Basic policy on cart-pole game\", fontsize=20)\n",
    "plt.xlabel('episode number', fontsize=16)\n",
    "plt.ylabel('score', fontsize=16)\n",
    "plt.xlim(0, len(totals))\n",
    "plt.show()"
   ]
  },
  {
   "cell_type": "code",
   "execution_count": 13,
   "metadata": {},
   "outputs": [
    {
     "data": {
      "text/plain": [
       "(42.388, 40.0, 8.824367172777887, 24.0, 68.0)"
      ]
     },
     "execution_count": 13,
     "metadata": {},
     "output_type": "execute_result"
    }
   ],
   "source": [
    "np.mean(totals), np.median(totals), np.std(totals), np.min(totals), np.max(totals)"
   ]
  },
  {
   "cell_type": "markdown",
   "metadata": {},
   "source": [
    "## Neural network policies\n",
    "\n",
    "We will make a single nerual network to play the cart-pole problem.\n",
    "It will take the four observations as input and output a single probability for left vs. right.\n",
    "We will then take this probability as the weight for sampling left or right."
   ]
  },
  {
   "cell_type": "code",
   "execution_count": 14,
   "metadata": {},
   "outputs": [],
   "source": [
    "n_inputs = 4\n",
    "\n",
    "model = keras.models.Sequential([\n",
    "    keras.layers.Dense(5, activation='elu', input_shape=[n_inputs]),\n",
    "    keras.layers.Dense(1, activation='sigmoid')\n",
    "])"
   ]
  },
  {
   "cell_type": "markdown",
   "metadata": {},
   "source": [
    "One difficulty with training this model is telling it out each action affected the game, especially since the action won't necessarily have an immediate impact.\n",
    "Thus, it is common to evaluate an action's *return*, a weighted sum of all the rewards that follow.\n",
    "The *discount factor* $\\gamma$ is multiplied to the rewards following an action, leading to exponential decay of the effect of future rewards on the action's return.\n",
    "Further, to help the good actions stand out (called the *action advantage*), we can run the simulation multiple times and normalize the rewards."
   ]
  },
  {
   "cell_type": "markdown",
   "metadata": {},
   "source": [
    "## Policy gradients\n",
    "\n",
    "Here is one variant of a PG algorithm from *REINFORCE algorithms* used to optimize the parameters of a policy (the neural network, in this case):\n",
    "\n",
    "1. Let the NN play the game several times, computing the gradients that would make the chosen action even more likely (would \"reinforce\" action) for each round.\n",
    "2. Compute each action's advantage (as described above).\n",
    "3. Weight the computed gradients by the advantage to reinforce the good actions and reduce the likelihood of the bad actions.\n",
    "4. Compute the mean of the resulting gradient vectors and use it to perform a gradient descent step.\n",
    "\n",
    "We can now implement this algorithm to train the neural network to balance the pole.\n",
    "\n",
    "First, we make a function to play one step of the cart-pole problem.\n",
    "Here is how the function works:\n",
    "\n",
    "1. In the `GradientTape` block, the model is provided a single observation and outputs the probability of moving the car left.\n",
    "2. The actual decision to go left is made from a random distribution by sampling a uniform distribution and seeing if the output probability was smaller.\n",
    "3. Then, the action to take is decided as `1 - action` so that the value will be 0 if the model wants to go left, and 1 if the model wants to go right.\n",
    "4. The loss is calculated as the difference between the output probability of going left and the actual action, taking the chosen action as correct (for now).\n",
    "5. The tape is used to calculate the gradient of the loss with regard to the model's trainable variables.\n",
    "6. Finally, the selected action is played in the environment, and the output and the gradient are returned."
   ]
  },
  {
   "cell_type": "code",
   "execution_count": 15,
   "metadata": {},
   "outputs": [],
   "source": [
    "def play_one_step(env, obs, model, loss_fn):\n",
    "    with tf.GradientTape() as tape:\n",
    "        left_proba = model(obs[np.newaxis])\n",
    "        action = (tf.random.uniform([1, 1]) > left_proba)\n",
    "        y_target = tf.constant([[1.0]]) - tf.cast(action, tf.float32)\n",
    "        loss = tf.reduce_mean(loss_fn(y_target, left_proba))\n",
    "    grads = tape.gradient(loss, model.trainable_variables)\n",
    "    obs, reward, done, info = env.step(int(action[0, 0].numpy()))\n",
    "    return obs, reward, done, grads"
   ]
  },
  {
   "cell_type": "markdown",
   "metadata": {},
   "source": [
    "The next function will use the `play_one_step()` function to play multiple episodes, returning the rewards and gradients for each episode and step.\n",
    "It returns a list of reward lists: one reward list per episode containing one reward per step.\n",
    "It returns a list of gradient lists: one gradient list per episode, each containing one tuple of gradients per step, the tuples containing one gradient tensor per trainable variable.\n",
    "\n",
    "At the end of this section, the author recommended using prior knowledge to help the model.\n",
    "Thus, I used the angle of the pole to reduce the reward as the angle increases in either direction."
   ]
  },
  {
   "cell_type": "code",
   "execution_count": 16,
   "metadata": {},
   "outputs": [],
   "source": [
    "def adjust_reward(reward, obs, max_subtraction=0.7):\n",
    "    return reward - tf.minimum(tf.abs(obs[2]), max_subtraction)"
   ]
  },
  {
   "cell_type": "code",
   "execution_count": 17,
   "metadata": {},
   "outputs": [],
   "source": [
    "def play_multiple_episodes(env, n_episodes, n_max_steps, model, loss_fn):\n",
    "    all_rewards = []\n",
    "    all_grads = []\n",
    "    for episode in range(n_episodes):\n",
    "        current_rewards = []\n",
    "        current_grads = []\n",
    "        obs = env.reset()\n",
    "        for step in range(n_max_steps):\n",
    "            obs, reward, done, grads = play_one_step(env, obs, model, loss_fn)\n",
    "            reward = adjust_reward(reward, obs)\n",
    "            current_rewards.append(reward)\n",
    "            current_grads.append(grads)\n",
    "            if done:\n",
    "                break\n",
    "        all_rewards.append(current_rewards)\n",
    "        all_grads.append(current_grads)\n",
    "    return all_rewards, all_grads"
   ]
  },
  {
   "cell_type": "markdown",
   "metadata": {},
   "source": [
    "The algorithm will use the `play_multiple_episodes()` function to play the game several time, then discount and normalize the rewards to be used for the reinforcement weights.\n",
    "\n",
    "We can create a `discount_rewards()` function to compute the sum of future discount rewards at each step."
   ]
  },
  {
   "cell_type": "code",
   "execution_count": 18,
   "metadata": {},
   "outputs": [],
   "source": [
    "def discount_rewards(rewards, discount_factor):\n",
    "    discounted = np.array(rewards)\n",
    "    for step in range(len(rewards) - 2, -1, -1):\n",
    "        discounted[step] += discounted[step + 1] * discount_factor\n",
    "    return discounted"
   ]
  },
  {
   "cell_type": "markdown",
   "metadata": {},
   "source": [
    "We can also create a function to normalize the discounted rewards across many episodes."
   ]
  },
  {
   "cell_type": "code",
   "execution_count": 19,
   "metadata": {},
   "outputs": [],
   "source": [
    "def discount_and_normalize_rewards(all_rewards, discount_factor):\n",
    "    all_discounted_rewards = [discount_rewards(rewards, discount_factor)\n",
    "                              for rewards in all_rewards]\n",
    "    flat_rewards = np.concatenate(all_discounted_rewards)\n",
    "    reward_mean = flat_rewards.mean()\n",
    "    reward_std = flat_rewards.std()\n",
    "\n",
    "    normalized_rewards = [(discounted_rewards - reward_mean) / reward_std\n",
    "                          for discounted_rewards in all_discounted_rewards]\n",
    "    return normalized_rewards"
   ]
  },
  {
   "cell_type": "markdown",
   "metadata": {},
   "source": [
    "Here is a quick test to make sure it works."
   ]
  },
  {
   "cell_type": "code",
   "execution_count": 20,
   "metadata": {},
   "outputs": [
    {
     "data": {
      "text/plain": [
       "array([-22, -40, -50])"
      ]
     },
     "execution_count": 20,
     "metadata": {},
     "output_type": "execute_result"
    }
   ],
   "source": [
    "discount_rewards([10, 0, -50], discount_factor=0.8)"
   ]
  },
  {
   "cell_type": "code",
   "execution_count": 21,
   "metadata": {},
   "outputs": [
    {
     "data": {
      "text/plain": [
       "[array([-0.28435071, -0.86597718, -1.18910299]),\n",
       " array([1.26665318, 1.0727777 ])]"
      ]
     },
     "execution_count": 21,
     "metadata": {},
     "output_type": "execute_result"
    }
   ],
   "source": [
    "discount_and_normalize_rewards(\n",
    "    [[10, 0, -50], [10, 20]],\n",
    "    discount_factor=0.8\n",
    ")"
   ]
  },
  {
   "cell_type": "markdown",
   "metadata": {},
   "source": [
    "Finally, we can define some hyperparameters for the model."
   ]
  },
  {
   "cell_type": "code",
   "execution_count": 22,
   "metadata": {},
   "outputs": [],
   "source": [
    "n_iterations = 3 # 150\n",
    "n_episodes_per_update = 10\n",
    "n_max_steps = 200\n",
    "discount_factor = 0.95"
   ]
  },
  {
   "cell_type": "markdown",
   "metadata": {},
   "source": [
    "And we need an optimizer and loss function."
   ]
  },
  {
   "cell_type": "code",
   "execution_count": 23,
   "metadata": {},
   "outputs": [],
   "source": [
    "optimizer = keras.optimizers.Adam(learning_rate=0.01)\n",
    "loss_fn = keras.losses.binary_crossentropy"
   ]
  },
  {
   "cell_type": "markdown",
   "metadata": {},
   "source": [
    "Finally, we can create the environment."
   ]
  },
  {
   "cell_type": "code",
   "execution_count": 24,
   "metadata": {},
   "outputs": [],
   "source": [
    "env = gym.make(\"CartPole-v1\")"
   ]
  },
  {
   "cell_type": "markdown",
   "metadata": {},
   "source": [
    "Now we can build the training loop.\n",
    "Here is how it works:\n",
    "\n",
    "1. For each training iteration, the loop calls `play_multiple_episodes()` to play the game 10 times and return all of the rewards and gradients for each episode and step.\n",
    "2. The `discount_and_normalize_rewards()` compute each actions normalized advantage.\n",
    "3. For each trainable variable, the weighted mean of the gradients over all episodes and steps was calculated and weighted by `final_reward`.\n",
    "4. Finally, the mean gradients were applied using the optimizer."
   ]
  },
  {
   "cell_type": "code",
   "execution_count": 25,
   "metadata": {
    "scrolled": true
   },
   "outputs": [
    {
     "name": "stdout",
     "output_type": "stream",
     "text": [
      "iteration 0\n",
      "WARNING:tensorflow:Layer dense is casting an input tensor from dtype float64 to the layer's dtype of float32, which is new behavior in TensorFlow 2.  The layer has dtype float32 because it's dtype defaults to floatx.\n",
      "\n",
      "If you intended to run this layer in float32, you can safely ignore this warning. If in doubt, this warning is likely only an issue if you are porting a TensorFlow 1.X model to TensorFlow 2.\n",
      "\n",
      "To change all layers to have dtype float64 by default, call `tf.keras.backend.set_floatx('float64')`. To change just this layer, pass dtype='float64' to the layer constructor. If you are the author of this layer, you can disable autocasting by passing autocast=False to the base Layer constructor.\n",
      "\n",
      "iteration 1\n",
      "iteration 2\n"
     ]
    }
   ],
   "source": [
    "avg_episode_lengths = []\n",
    "\n",
    "for iteration in range(n_iterations):\n",
    "    print(f\"iteration {iteration}\")\n",
    "    all_rewards, all_grads = play_multiple_episodes(env,\n",
    "                                                    n_episodes_per_update,\n",
    "                                                    n_max_steps,\n",
    "                                                    model,\n",
    "                                                    loss_fn)\n",
    "    all_final_rewards = discount_and_normalize_rewards(all_rewards,\n",
    "                                                       discount_factor)\n",
    "\n",
    "    all_mean_grads = []\n",
    "    for var_idx in range(len(model.trainable_variables)):\n",
    "        mean_grads = tf.reduce_mean(\n",
    "            [final_reward * all_grads[episode_idx][step][var_idx]\n",
    "             for episode_idx, final_rewards in enumerate(all_final_rewards)\n",
    "             for step, final_reward in enumerate(final_rewards)],\n",
    "            axis=0\n",
    "        )\n",
    "        all_mean_grads.append(mean_grads)\n",
    "    optimizer.apply_gradients(zip(all_mean_grads, model.trainable_variables))\n",
    "    \n",
    "    avg_episode_lengths.append(np.mean([len(x) for x in all_rewards]))"
   ]
  },
  {
   "cell_type": "code",
   "execution_count": 26,
   "metadata": {},
   "outputs": [
    {
     "data": {
      "image/png": "[encoded data removed]",
      "text/plain": [
       "<Figure size 432x288 with 1 Axes>"
      ]
     },
     "metadata": {},
     "output_type": "display_data"
    }
   ],
   "source": [
    "plt.plot(avg_episode_lengths, 'b-')\n",
    "plt.xlabel('iteration', fontsize=15)\n",
    "plt.ylabel('average reward', fontsize=15)\n",
    "plt.show()"
   ]
  },
  {
   "cell_type": "code",
   "execution_count": 27,
   "metadata": {},
   "outputs": [],
   "source": [
    "if False:\n",
    "    obs = env.reset()\n",
    "    for _ in range(300):\n",
    "        env.render()\n",
    "\n",
    "        left_proba = model(obs[np.newaxis])\n",
    "        action = (tf.random.uniform([1, 1]) > left_proba)\n",
    "        obs, reward, done, info = env.step(int(action[0, 0].numpy()))\n",
    "        \n",
    "    env.close()"
   ]
  },
  {
   "cell_type": "markdown",
   "metadata": {},
   "source": [
    "I trained the model on 200 iteration on the HMS computing cluster.\n",
    "The results of that model are shown below."
   ]
  },
  {
   "cell_type": "code",
   "execution_count": 28,
   "metadata": {},
   "outputs": [],
   "source": [
    "o2model = tf.keras.models.load_model(\n",
    "    \"assets/ch18/o2-trained-models/trained-cart-pole.tfmodel\"\n",
    ")"
   ]
  },
  {
   "cell_type": "code",
   "execution_count": 29,
   "metadata": {},
   "outputs": [],
   "source": [
    "if False:\n",
    "    obs = env.reset()\n",
    "    for _ in range(500):\n",
    "        env.render()\n",
    "\n",
    "        left_proba = o2model(obs[np.newaxis])\n",
    "        action = (tf.random.uniform([1, 1]) > left_proba)\n",
    "        obs, reward, done, info = env.step(int(action[0, 0].numpy()))\n",
    "\n",
    "        if done:\n",
    "            break\n",
    "\n",
    "    env.close()"
   ]
  },
  {
   "cell_type": "markdown",
   "metadata": {},
   "source": [
    "<img src=\"assets/ch18/images/cart-pole-neural-network.gif\" width=500 >"
   ]
  },
  {
   "cell_type": "markdown",
   "metadata": {},
   "source": [
    "Unfortunately, the approach we used here does not scale well to larger and more complex tasks.\n",
    "It is highly *sample inefficient* meaning that it requires more time to start making meaningful improvement.\n",
    "This is primarily due to the fact that it must run multiple episodes to estimate the advantage of each action.\n",
    "\n",
    "To help alleviate these issues we will learn about other optimization algorithms.\n",
    "This time where the agent learns to estimate the expected return for each state or action in a state, then use that knowledge to make decisions.\n",
    "To understand these algorithms, we must first understand *Markov decision processes*."
   ]
  },
  {
   "cell_type": "markdown",
   "metadata": {},
   "source": [
    "## Markov decision processes\n",
    "\n",
    "A *Markov chain* is a process with a fixed number of states and randomly evolves from one to another at each step.\n",
    "The probability for it to evolve from a state $s$ to $s'$ is fixed and depends only on the pair, not the past states (this is why we say it has no memory).\n",
    "A *Markov decision process* (MDP) is similar, except that at each step, an agent can choose one of several possible actions, and the actions have transition probabilities to other steps.\n",
    "In addition, some transitions return a reward (positive or negative).\n",
    "The agent's goal is to find a policy that maximizes the reward over time.\n",
    "\n",
    "The *optimal state value* of any state $s$, $V^*(s)$, is the sum of all discounted future rewards the agent can expect on average when it reaches a state $s$, assuming it acts optimally.\n",
    "The *Bellman Optimality Equation* can calculate this value.\n",
    "\n",
    "$V^*(s) = \\max_a \\sum_s T(s, a, s') [R(s, a, s') + \\gamma \\cdot V^*(s')] \\quad$ for all $s$\n",
    "\n",
    "where:\n",
    "\n",
    "* $T(s, a, s')$ is the transition probability from state $s$ to $s'$ given the agent chose action $a$\n",
    "* $R(s, a, s')$ is the reward that the agent receives when it goes from state $s$ to $s'$ given the agent chose action $a$\n",
    "* $\\gamma$ is the discount factor\n",
    "\n",
    "The *Value Iteration algorithm* can be used to estimate the optimal state value for every possible state (initializing the values at 0).\n",
    "\n",
    "$V_{k+1}(s) \\leftarrow \\max_{a} \\sum_{s'} T(s, a, s') [R(s, a, s') + \\gamma \\cdot V_k(s')] \\quad$ for all $s$\n",
    "\n",
    "where $V_k(s)$ is the estimate value of state $s$ at the $k^{th}$ iteration of the algorithm.\n",
    "This recursive algorithm produces the optimal state values to help evaluate a policy, but it does not provide the optimal policy for an agent.\n",
    "instead, the optimal *state-action values*, generally called *Quality Values* (Q-Values), can be estimated.\n",
    "The Q-Value of a state-action pair $(s, a)$, $Q^*(s, a)$ is the sum of discounted future rewards the agent can expect on average after it reaches state $s$ and chooses action $a$, but before it sees the outcome of the action.\n",
    "The *Q-Value Iteration* algorithm can be used to estimate the Q-Values.\n",
    "\n",
    "$Q_{k+1}(s,a) \\leftarrow \\sum_{s'} T(s,a,s') [R(s,a,s') + \\gamma \\cdot \\max_{a'} Q_k(s'a')] \\quad$ for all $(s',a)$\n",
    "\n",
    "Once the optimal Q-Values have been found, defining the optimal policy, denoted $\\pi^*(s)$, is trival: when the agent is in state $s$, it should choose the action with the highest Q-Value\n",
    "\n",
    "$\n",
    "\\DeclareMathOperator*{\\argmax}{argmax}\n",
    "\\pi^*(s) = \\argmax_a Q^*(s, a)\n",
    "$\n",
    "\n",
    "(The author demonstrates how to implement this algorithm in Python based on an example in the book.)"
   ]
  },
  {
   "cell_type": "markdown",
   "metadata": {},
   "source": [
    "## Temporal Difference (TD) Learning\n",
    "\n",
    "When training a model, however, the states, transition probabilities, and rewards are not known.\n",
    "Therefore, the model must explore the environment to learn about the possible states.\n",
    "The *Temporal Difference Learning* (TD Learning) algorithm, is similar to the Value Iteration algorithm, but beginning under the assumption that the model only knows the possible states and actions, but nothing more.\n",
    "Thus, the agent uses an *exploration policy* (e.g. randomly making decisions) to explore the MDP.\n",
    "As it learns, it updates the estimates of the state values based on the transitions and rewards that are actually observed.\n",
    "\n",
    "$\n",
    "V_{k+1}(s) \\leftarrow (1-\\alpha)V_{k}(s) + \\alpha (r + \\gamma \\cdot V_k(s')) \\\\\n",
    "V_{k+1}(s) \\leftarrow V_{k}(s) + \\alpha \\cdot \\delta_k(s, r, s') \\\\\n",
    "\\quad \\text{where} \\quad \\delta_k(s,r,s') = r + \\gamma \\cdot V_k(s') - V_k(s)\n",
    "$\n",
    "\n",
    "where:\n",
    "\n",
    "* $\\alpha$ is the learning rate\n",
    "* $r + \\gamma \\cdot V_k(s')$ is called the *TD target*\n",
    "* $delta_k(s,r,s')$ is called the *TD error*\n",
    "\n",
    "For each state $s$, the algorithm keeps a running average of the immediate rewards the agent gets upon choosing an action plus the rewards it expects to get later."
   ]
  },
  {
   "cell_type": "markdown",
   "metadata": {},
   "source": [
    "## Q-Learning\n",
    "\n",
    "The Q-Learning algorithm is an adaptation of the Q-Value Iteration algorithm to the situation where the MDP system values are unknown.\n",
    "Q-Learns watches an agent play (e.g. randomly) and gradually improves its estimates of the unknown system parameters.\n",
    "Once the estimates are good enough, the optimal policy is the choose the action with the highest Q-Value (i.e. a greedy policy).\n",
    "\n",
    "$\n",
    "Q(s, a) \\xleftarrow[\\alpha]{} r + \\gamma \\cdot \\max_{a'} Q(s', a')\n",
    "$\n",
    "\n",
    "where $a \\xleftarrow[\\alpha]{} b \\,$ means $\\, a_{k+1} \\leftarrow (1-\\alpha) \\cdot a_k + \\alpha \\cdot b_k$.\n",
    "\n",
    "For each state-action pair $(s,a)$, the algorithms records a running average of the rewards $r$ the agent receives upon leaving state $s$ with action $a$, plus the sum of discounted expected future rewards.\n",
    "The maximum Q-Value of the next state is taken as this value because it is assumed the agent will act optimally from then on.\n",
    "\n",
    "Now we can implement the Q-Learning algorithm."
   ]
  },
  {
   "cell_type": "code",
   "execution_count": null,
   "metadata": {},
   "outputs": [],
   "source": []
  }
 ],
 "metadata": {
  "kernelspec": {
   "display_name": "Python 3",
   "language": "python",
   "name": "python3"
  },
  "language_info": {
   "codemirror_mode": {
    "name": "ipython",
    "version": 3
   },
   "file_extension": ".py",
   "mimetype": "text/x-python",
   "name": "python",
   "nbconvert_exporter": "python",
   "pygments_lexer": "ipython3",
   "version": "3.7.6"
  },
  "toc": {
   "base_numbering": 1,
   "nav_menu": {},
   "number_sections": true,
   "sideBar": true,
   "skip_h1_title": false,
   "title_cell": "Table of Contents",
   "title_sidebar": "Contents",
   "toc_cell": false,
   "toc_position": {},
   "toc_section_display": true,
   "toc_window_display": false
  }
 },
 "nbformat": 4,
 "nbformat_minor": 4
}
