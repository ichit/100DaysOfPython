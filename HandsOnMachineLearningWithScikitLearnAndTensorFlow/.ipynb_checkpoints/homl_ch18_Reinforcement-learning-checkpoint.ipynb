{
 "cells": [
  {
   "cell_type": "markdown",
   "metadata": {},
   "source": [
    "# Chapter 18. Reinforcement Learning"
   ]
  },
  {
   "cell_type": "code",
   "execution_count": 1,
   "metadata": {},
   "outputs": [],
   "source": [
    "import numpy as np\n",
    "import pandas as pd\n",
    "import matplotlib as mpl\n",
    "import matplotlib.pyplot as plt\n",
    "import seaborn as sns\n",
    "import tensorflow as tf \n",
    "import tensorflow.keras as keras\n",
    "import gym\n",
    "\n",
    "%matplotlib inline\n",
    "np.random.seed(0)\n",
    "sns.set_style('whitegrid')"
   ]
  },
  {
   "cell_type": "markdown",
   "metadata": {},
   "source": [
    "## Learning to optimize rewards\n",
    "\n",
    "To set the stage: in reinforcement learning, a software *agent* makes *observations* and takes *actions* within an *environment*, and in return it receives *rewards*.\n",
    "Its objective is to learn to act in a way that will maximize its expected rewards over time.\n",
    "\n",
    "### Policy search\n",
    "\n",
    "The algorithm a software agent uses to determine its action is called its *policy*.\n",
    "It can be any algorithm, including a neural network, and needs not be deterministic.\n",
    "The parameters of the policy that can be learned or tweaked are the *policy parameters*.\n",
    "The *policy search* is the method (e.g. brute force) used to identify good values in the *policy space* for the policy parameters.\n",
    "\n",
    "*Genetic algorithms* are a popular method for exploring the policy space.\n",
    "This algorithm involves creating 100 policies and trying them all.\n",
    "The 80 worst policies are \"killed\" while the rest \"reproduce\" 4 offspring each, introducing some random variation in each offspring.\n",
    "This method continues until a sufficiently good model is created.\n",
    "\n",
    "Alternatively, an optimization technique can be used to tweak the parameters and follow the gradient of the results.\n",
    "This is called *policy search* and will be discussed more thoroughly later in the chapter."
   ]
  },
  {
   "cell_type": "markdown",
   "metadata": {},
   "source": [
    "## Introduction to OpenAI Gym\n",
    "\n",
    "[OpenAI Gym](https://gym.openai.com) is a toolkit providing a variety of simulated environments including board games, Atari games, 2D and 2D physical simulations, and more for training RL algorithms.\n",
    "\n",
    "Here is a breif example of the [\"cart-pole\" problem](https://gym.openai.com/envs/CartPole-v1/).\n",
    "An environment is made with `gym.make()` and initialized using `env.reset()`, which also returns the first data point.\n",
    "This returns a 1D vector with 4 values: the cart's horizontal position, velocity, the angle of the pole, and its angular velocity."
   ]
  },
  {
   "cell_type": "code",
   "execution_count": 2,
   "metadata": {},
   "outputs": [
    {
     "data": {
      "text/plain": [
       "array([-0.01092148,  0.00695632, -0.01364597, -0.02109238])"
      ]
     },
     "execution_count": 2,
     "metadata": {},
     "output_type": "execute_result"
    }
   ],
   "source": [
    "env = gym.make(\"CartPole-v1\")\n",
    "obs = env.reset()\n",
    "obs"
   ]
  },
  {
   "cell_type": "markdown",
   "metadata": {},
   "source": [
    "The environment can be rendered using its `render()` method."
   ]
  },
  {
   "cell_type": "code",
   "execution_count": 3,
   "metadata": {},
   "outputs": [],
   "source": [
    "env.render()\n",
    "\n",
    "# close the window\n",
    "env.close()"
   ]
  },
  {
   "cell_type": "markdown",
   "metadata": {},
   "source": [
    "<img src=\"assets/ch18/images/cart-pole-firstposition.png\" width=500 >\n",
    "\n",
    "We can ask the environment what the possible actions are, too.\n",
    "For this problem, there are two options: 0 = left, 1 = right."
   ]
  },
  {
   "cell_type": "code",
   "execution_count": 4,
   "metadata": {},
   "outputs": [
    {
     "data": {
      "text/plain": [
       "Discrete(2)"
      ]
     },
     "execution_count": 4,
     "metadata": {},
     "output_type": "execute_result"
    }
   ],
   "source": [
    "env.action_space"
   ]
  },
  {
   "cell_type": "markdown",
   "metadata": {},
   "source": [
    "Since the pole is slightly learning to the left, we will move the cart to the left using the `step()` method of the environment.\n",
    "This method returns four values:\n",
    "\n",
    "* `obs`: The new observation to act on.\n",
    "* `reward`: In this game, the reward is always 1 because the point is to keep the pole up for as long as possible.\n",
    "* `done`: This value will be true when the episode is over; for this game that means the pole tilts too much, the cart goes off screen, or there have been 200 steps, where fulfilling the last condition means the algorithm has won. An environment must be reset when the episode has finished.\n",
    "* `info`: An environment-specific dictionary to provide extra information.\n",
    "\n",
    "Finally, it is good practice to call the `close()` method on an environment to free the resources it is taking."
   ]
  },
  {
   "cell_type": "code",
   "execution_count": 5,
   "metadata": {},
   "outputs": [
    {
     "data": {
      "text/plain": [
       "array([-0.01078236, -0.1879673 , -0.01406781,  0.26725404])"
      ]
     },
     "execution_count": 5,
     "metadata": {},
     "output_type": "execute_result"
    }
   ],
   "source": [
    "action = 0\n",
    "obs, reward, done, info = env.step(action)\n",
    "obs"
   ]
  },
  {
   "cell_type": "code",
   "execution_count": 6,
   "metadata": {},
   "outputs": [
    {
     "data": {
      "text/plain": [
       "1.0"
      ]
     },
     "execution_count": 6,
     "metadata": {},
     "output_type": "execute_result"
    }
   ],
   "source": [
    "reward"
   ]
  },
  {
   "cell_type": "code",
   "execution_count": 7,
   "metadata": {},
   "outputs": [
    {
     "data": {
      "text/plain": [
       "False"
      ]
     },
     "execution_count": 7,
     "metadata": {},
     "output_type": "execute_result"
    }
   ],
   "source": [
    "done"
   ]
  },
  {
   "cell_type": "code",
   "execution_count": 8,
   "metadata": {},
   "outputs": [
    {
     "data": {
      "text/plain": [
       "{}"
      ]
     },
     "execution_count": 8,
     "metadata": {},
     "output_type": "execute_result"
    }
   ],
   "source": [
    "info"
   ]
  },
  {
   "cell_type": "code",
   "execution_count": 9,
   "metadata": {},
   "outputs": [],
   "source": [
    "env.close()"
   ]
  },
  {
   "cell_type": "markdown",
   "metadata": {},
   "source": [
    "The following code would generate a demonstration video of the cart-pole problem.\n",
    "\n",
    "```python\n",
    "import gym\n",
    "env = gym.make('CartPole-v0')\n",
    "env.reset()\n",
    "for _ in range(1000):\n",
    "    env.render()\n",
    "    env.step(env.action_space.sample()) # take a random action\n",
    "env.close()\n",
    "```\n",
    "\n",
    "As an example, we will hardcode a simple policy: accelerate left when the pole is leaning left and accelerate right when the pole is leaning right."
   ]
  },
  {
   "cell_type": "code",
   "execution_count": 10,
   "metadata": {},
   "outputs": [],
   "source": [
    "def basic_policy(obs):\n",
    "    angle = obs[2]\n",
    "    return 0 if angle < 0 else 1"
   ]
  },
  {
   "cell_type": "code",
   "execution_count": 11,
   "metadata": {},
   "outputs": [],
   "source": [
    "totals = []\n",
    "for episode in range(500):\n",
    "    episode_rewards = 0\n",
    "    obs = env.reset()\n",
    "    for step in range(200):\n",
    "        action = basic_policy(obs)\n",
    "        obs, reward, done, info = env.step(action)\n",
    "        episode_rewards += reward\n",
    "        if done:\n",
    "            break\n",
    "    totals.append(episode_rewards)"
   ]
  },
  {
   "cell_type": "code",
   "execution_count": 12,
   "metadata": {},
   "outputs": [
    {
     "data": {
      "image/png": "[encoded data removed]",
      "text/plain": [
       "<Figure size 720x360 with 1 Axes>"
      ]
     },
     "metadata": {},
     "output_type": "display_data"
    }
   ],
   "source": [
    "avg_score = np.mean(totals)\n",
    "\n",
    "fig = plt.figure(figsize=(10, 5))\n",
    "plt.plot(totals, 'k-')\n",
    "plt.plot([0, len(totals)], [avg_score, avg_score], 'r--', linewidth=5)\n",
    "plt.title(\"Basic policy on cart-pole game\", fontsize=20)\n",
    "plt.xlabel('episode number', fontsize=16)\n",
    "plt.ylabel('score', fontsize=16)\n",
    "plt.xlim(0, len(totals))\n",
    "plt.show()"
   ]
  },
  {
   "cell_type": "code",
   "execution_count": 13,
   "metadata": {},
   "outputs": [
    {
     "data": {
      "text/plain": [
       "(42.37, 41.0, 9.138987908953595, 24.0, 72.0)"
      ]
     },
     "execution_count": 13,
     "metadata": {},
     "output_type": "execute_result"
    }
   ],
   "source": [
    "np.mean(totals), np.median(totals), np.std(totals), np.min(totals), np.max(totals)"
   ]
  },
  {
   "cell_type": "markdown",
   "metadata": {},
   "source": [
    "## Neural network policies\n",
    "\n",
    "We will make a single nerual network to play the cart-pole problem.\n",
    "It will take the four observations as input and output a single probability for left vs. right.\n",
    "We will then take this probability as the weight for sampling left or right."
   ]
  },
  {
   "cell_type": "code",
   "execution_count": 14,
   "metadata": {},
   "outputs": [],
   "source": [
    "n_inputs = 4\n",
    "\n",
    "model = keras.models.Sequential([\n",
    "    keras.layers.Dense(5, activation='elu', input_shape=[n_inputs]),\n",
    "    keras.layers.Dense(1, activation='sigmoid')\n",
    "])"
   ]
  },
  {
   "cell_type": "markdown",
   "metadata": {},
   "source": [
    "One difficulty with training this model is telling it out each action affected the game, especially since the action won't necessarily have an immediate impact.\n",
    "Thus, it is common to evaluate an action's *return*, a weighted sum of all the rewards that follow.\n",
    "The *discount factor* $\\gamma$ is multiplied to the rewards following an action, leading to exponential decay of the effect of future rewards on the action's return.\n",
    "Further, to help the good actions stand out (called the *action advantage*), we can run the simulation multiple times and normalize the rewards."
   ]
  },
  {
   "cell_type": "markdown",
   "metadata": {},
   "source": [
    "## Policy gradients\n",
    "\n",
    "Here is one variant of a PG algorithm from *REINFORCE algorithms* used to optimize the parameters of a policy (the neural network, in this case):\n",
    "\n",
    "1. Let the NN play the game several times, computing the gradients that would make the chosen action even more likely (would \"reinforce\" action) for each round.\n",
    "2. Compute each action's advantage (as described above).\n",
    "3. Weight the computed gradients by the advantage to reinforce the good actions and reduce the likelihood of the bad actions.\n",
    "4. Compute the mean of the resulting gradient vectors and use it to perform a gradient descent step.\n",
    "\n",
    "We can now implement this algorithm to train the neural network to balance the pole.\n",
    "\n",
    "First, we make a function to play one step of the cart-pole problem.\n",
    "Here is how the function works:\n",
    "\n",
    "1. In the `GradientTape` block, the model is provided a single observation and outputs the probability of moving the car left.\n",
    "2. The actual decision to go left is made from a random distribution by sampling a uniform distribution and seeing if the output probability was smaller.\n",
    "3. Then, the action to take is decided as `1 - action` so that the value will be 0 if the model wants to go left, and 1 if the model wants to go right.\n",
    "4. The loss is calculated as the difference between the output probability of going left and the actual action, taking the chosen action as correct (for now).\n",
    "5. The tape is used to calculate the gradient of the loss with regard to the model's trainable variables.\n",
    "6. Finally, the selected action is played in the environment, and the output and the gradient are returned."
   ]
  },
  {
   "cell_type": "code",
   "execution_count": 15,
   "metadata": {},
   "outputs": [],
   "source": [
    "def play_one_step(env, obs, model, loss_fn):\n",
    "    with tf.GradientTape() as tape:\n",
    "        left_proba = model(obs[np.newaxis])\n",
    "        action = (tf.random.uniform([1, 1]) > left_proba)\n",
    "        y_target = tf.constant([[1.0]]) - tf.cast(action, tf.float32)\n",
    "        loss = tf.reduce_mean(loss_fn(y_target, left_proba))\n",
    "    grads = tape.gradient(loss, model.trainable_variables)\n",
    "    obs, reward, done, info = env.step(int(action[0, 0].numpy()))\n",
    "    return obs, reward, done, grads"
   ]
  },
  {
   "cell_type": "markdown",
   "metadata": {},
   "source": [
    "The next function will use the `play_one_step()` function to play multiple episodes, returning the rewards and gradients for each episode and step.\n",
    "It returns a list of reward lists: one reward list per episode containing one reward per step.\n",
    "It returns a list of gradient lists: one gradient list per episode, each containing one tuple of gradients per step, the tuples containing one gradient tensor per trainable variable.\n",
    "\n",
    "At the end of this section, the author recommended using prior knowledge to help the model.\n",
    "Thus, I used the angle of the pole to reduce the reward as the angle increases in either direction."
   ]
  },
  {
   "cell_type": "code",
   "execution_count": 16,
   "metadata": {},
   "outputs": [],
   "source": [
    "def adjust_reward(reward, obs, max_subtraction=0.7):\n",
    "    return reward - tf.minimum(tf.abs(obs[2]), max_subtraction)"
   ]
  },
  {
   "cell_type": "code",
   "execution_count": 17,
   "metadata": {},
   "outputs": [],
   "source": [
    "def play_multiple_episodes(env, n_episodes, n_max_steps, model, loss_fn):\n",
    "    all_rewards = []\n",
    "    all_grads = []\n",
    "    for episode in range(n_episodes):\n",
    "        current_rewards = []\n",
    "        current_grads = []\n",
    "        obs = env.reset()\n",
    "        for step in range(n_max_steps):\n",
    "            obs, reward, done, grads = play_one_step(env, obs, model, loss_fn)\n",
    "            reward = adjust_reward(reward, obs)\n",
    "            current_rewards.append(reward)\n",
    "            current_grads.append(grads)\n",
    "            if done:\n",
    "                break\n",
    "        all_rewards.append(current_rewards)\n",
    "        all_grads.append(current_grads)\n",
    "    return all_rewards, all_grads"
   ]
  },
  {
   "cell_type": "markdown",
   "metadata": {},
   "source": [
    "The algorithm will use the `play_multiple_episodes()` function to play the game several time, then discount and normalize the rewards to be used for the reinforcement weights.\n",
    "\n",
    "We can create a `discount_rewards()` function to compute the sum of future discount rewards at each step."
   ]
  },
  {
   "cell_type": "code",
   "execution_count": 18,
   "metadata": {},
   "outputs": [],
   "source": [
    "def discount_rewards(rewards, discount_factor):\n",
    "    discounted = np.array(rewards)\n",
    "    for step in range(len(rewards) - 2, -1, -1):\n",
    "        discounted[step] += discounted[step + 1] * discount_factor\n",
    "    return discounted"
   ]
  },
  {
   "cell_type": "markdown",
   "metadata": {},
   "source": [
    "We can also create a function to normalize the discounted rewards across many episodes."
   ]
  },
  {
   "cell_type": "code",
   "execution_count": 19,
   "metadata": {},
   "outputs": [],
   "source": [
    "def discount_and_normalize_rewards(all_rewards, discount_factor):\n",
    "    all_discounted_rewards = [discount_rewards(rewards, discount_factor)\n",
    "                              for rewards in all_rewards]\n",
    "    flat_rewards = np.concatenate(all_discounted_rewards)\n",
    "    reward_mean = flat_rewards.mean()\n",
    "    reward_std = flat_rewards.std()\n",
    "\n",
    "    normalized_rewards = [(discounted_rewards - reward_mean) / reward_std\n",
    "                          for discounted_rewards in all_discounted_rewards]\n",
    "    return normalized_rewards"
   ]
  },
  {
   "cell_type": "markdown",
   "metadata": {},
   "source": [
    "Here is a quick test to make sure it works."
   ]
  },
  {
   "cell_type": "code",
   "execution_count": 20,
   "metadata": {},
   "outputs": [
    {
     "data": {
      "text/plain": [
       "array([-22, -40, -50])"
      ]
     },
     "execution_count": 20,
     "metadata": {},
     "output_type": "execute_result"
    }
   ],
   "source": [
    "discount_rewards([10, 0, -50], discount_factor=0.8)"
   ]
  },
  {
   "cell_type": "code",
   "execution_count": 21,
   "metadata": {},
   "outputs": [
    {
     "data": {
      "text/plain": [
       "[array([-0.28435071, -0.86597718, -1.18910299]),\n",
       " array([1.26665318, 1.0727777 ])]"
      ]
     },
     "execution_count": 21,
     "metadata": {},
     "output_type": "execute_result"
    }
   ],
   "source": [
    "discount_and_normalize_rewards(\n",
    "    [[10, 0, -50], [10, 20]],\n",
    "    discount_factor=0.8\n",
    ")"
   ]
  },
  {
   "cell_type": "markdown",
   "metadata": {},
   "source": [
    "Finally, we can define some hyperparameters for the model."
   ]
  },
  {
   "cell_type": "code",
   "execution_count": 22,
   "metadata": {},
   "outputs": [],
   "source": [
    "n_iterations = 3 # 150\n",
    "n_episodes_per_update = 10\n",
    "n_max_steps = 200\n",
    "discount_factor = 0.95"
   ]
  },
  {
   "cell_type": "markdown",
   "metadata": {},
   "source": [
    "And we need an optimizer and loss function."
   ]
  },
  {
   "cell_type": "code",
   "execution_count": 23,
   "metadata": {},
   "outputs": [],
   "source": [
    "optimizer = keras.optimizers.Adam(learning_rate=0.01)\n",
    "loss_fn = keras.losses.binary_crossentropy"
   ]
  },
  {
   "cell_type": "markdown",
   "metadata": {},
   "source": [
    "Finally, we can create the environment."
   ]
  },
  {
   "cell_type": "code",
   "execution_count": 24,
   "metadata": {},
   "outputs": [],
   "source": [
    "env = gym.make(\"CartPole-v1\")"
   ]
  },
  {
   "cell_type": "markdown",
   "metadata": {},
   "source": [
    "Now we can build the training loop.\n",
    "Here is how it works:\n",
    "\n",
    "1. For each training iteration, the loop calls `play_multiple_episodes()` to play the game 10 times and return all of the rewards and gradients for each episode and step.\n",
    "2. The `discount_and_normalize_rewards()` compute each actions normalized advantage.\n",
    "3. For each trainable variable, the weighted mean of the gradients over all episodes and steps was calculated and weighted by `final_reward`.\n",
    "4. Finally, the mean gradients were applied using the optimizer."
   ]
  },
  {
   "cell_type": "code",
   "execution_count": 25,
   "metadata": {
    "scrolled": true
   },
   "outputs": [
    {
     "name": "stdout",
     "output_type": "stream",
     "text": [
      "iteration 0\n",
      "WARNING:tensorflow:Layer dense is casting an input tensor from dtype float64 to the layer's dtype of float32, which is new behavior in TensorFlow 2.  The layer has dtype float32 because it's dtype defaults to floatx.\n",
      "\n",
      "If you intended to run this layer in float32, you can safely ignore this warning. If in doubt, this warning is likely only an issue if you are porting a TensorFlow 1.X model to TensorFlow 2.\n",
      "\n",
      "To change all layers to have dtype float64 by default, call `tf.keras.backend.set_floatx('float64')`. To change just this layer, pass dtype='float64' to the layer constructor. If you are the author of this layer, you can disable autocasting by passing autocast=False to the base Layer constructor.\n",
      "\n",
      "iteration 1\n",
      "iteration 2\n"
     ]
    }
   ],
   "source": [
    "avg_episode_lengths = []\n",
    "\n",
    "for iteration in range(n_iterations):\n",
    "    print(f\"iteration {iteration}\")\n",
    "    all_rewards, all_grads = play_multiple_episodes(env,\n",
    "                                                    n_episodes_per_update,\n",
    "                                                    n_max_steps,\n",
    "                                                    model,\n",
    "                                                    loss_fn)\n",
    "    all_final_rewards = discount_and_normalize_rewards(all_rewards,\n",
    "                                                       discount_factor)\n",
    "\n",
    "    all_mean_grads = []\n",
    "    for var_idx in range(len(model.trainable_variables)):\n",
    "        mean_grads = tf.reduce_mean(\n",
    "            [final_reward * all_grads[episode_idx][step][var_idx]\n",
    "             for episode_idx, final_rewards in enumerate(all_final_rewards)\n",
    "             for step, final_reward in enumerate(final_rewards)],\n",
    "            axis=0\n",
    "        )\n",
    "        all_mean_grads.append(mean_grads)\n",
    "    optimizer.apply_gradients(zip(all_mean_grads, model.trainable_variables))\n",
    "    \n",
    "    avg_episode_lengths.append(np.mean([len(x) for x in all_rewards]))"
   ]
  },
  {
   "cell_type": "code",
   "execution_count": 26,
   "metadata": {},
   "outputs": [
    {
     "data": {
      "image/png": "[encoded data removed]",
      "text/plain": [
       "<Figure size 432x288 with 1 Axes>"
      ]
     },
     "metadata": {},
     "output_type": "display_data"
    }
   ],
   "source": [
    "plt.plot(avg_episode_lengths, 'b-')\n",
    "plt.xlabel('iteration', fontsize=15)\n",
    "plt.ylabel('average reward', fontsize=15)\n",
    "plt.show()"
   ]
  },
  {
   "cell_type": "code",
   "execution_count": 27,
   "metadata": {},
   "outputs": [],
   "source": [
    "if False:\n",
    "    obs = env.reset()\n",
    "    for _ in range(300):\n",
    "        env.render()\n",
    "\n",
    "        left_proba = model(obs[np.newaxis])\n",
    "        action = (tf.random.uniform([1, 1]) > left_proba)\n",
    "        obs, reward, done, info = env.step(int(action[0, 0].numpy()))\n",
    "        \n",
    "    env.close()"
   ]
  },
  {
   "cell_type": "markdown",
   "metadata": {},
   "source": [
    "I trained the model on 200 iteration on the HMS computing cluster.\n",
    "The results of that model are shown below."
   ]
  },
  {
   "cell_type": "code",
   "execution_count": 28,
   "metadata": {},
   "outputs": [],
   "source": [
    "o2model = tf.keras.models.load_model(\n",
    "    'assets/ch18/o2-trained-models/trained-cart-pole.tfmodel'\n",
    ")"
   ]
  },
  {
   "cell_type": "code",
   "execution_count": 29,
   "metadata": {},
   "outputs": [],
   "source": [
    "if False:\n",
    "    obs = env.reset()\n",
    "    while True:\n",
    "        env.render()\n",
    "\n",
    "        left_proba = o2model(obs[np.newaxis])\n",
    "        action = (tf.random.uniform([1, 1]) > left_proba)\n",
    "        obs, reward, done, info = env.step(int(action[0, 0].numpy()))\n",
    "\n",
    "        if done:\n",
    "            break\n",
    "\n",
    "    env.close()\n",
    "env.close()"
   ]
  },
  {
   "cell_type": "markdown",
   "metadata": {},
   "source": [
    "The first video below is the model trained only using the normal reward returned by the gym.\n",
    "\n",
    "<img src=\"assets/ch18/images/cart-pole-neural-network.gif\" width=500 >\n",
    "\n",
    "I then implemented an adjustment for the reward based on the angle of the pole.\n",
    "This worked much better!\n",
    "\n",
    "<img src=\"assets/ch18/images/cart-pole-neural-network-2.gif\" width=500 >\n",
    "\n",
    "If I implement an early stopping mechanism to stop training if the model is performing very well for a few iterations, it become much better, still.\n",
    "It usually finishes the game still holding the pole up-right, meaning it won!\n",
    "\n",
    "<img src=\"assets/ch18/images/cart-pole-neural-network-3.gif\" width=500 >\n",
    "\n",
    "Below is the curve of the length of the episodes during the training of the model.\n",
    "In previous versions, this was how I realized early stopping would be effective.\n",
    "There are strange periods of poor performance followed by quick advancements."
   ]
  },
  {
   "cell_type": "code",
   "execution_count": 30,
   "metadata": {
    "scrolled": false
   },
   "outputs": [
    {
     "data": {
      "image/png": "[encoded data removed]",
      "text/plain": [
       "<Figure size 576x360 with 1 Axes>"
      ]
     },
     "metadata": {},
     "output_type": "display_data"
    }
   ],
   "source": [
    "o2_rewards = pd.read_csv(\n",
    "    'assets/ch18/o2-trained-models/average_episode_lengths.csv'\n",
    ")\n",
    "\n",
    "fig = plt.figure(figsize=(8, 5))\n",
    "plt.plot(o2_rewards.avg_episode_lengths, 'b-')\n",
    "plt.xlabel('iteration', fontsize=15)\n",
    "plt.ylabel('average length of episodes', fontsize=15)\n",
    "plt.title('Improvement of model over training iterations', fontsize=20)\n",
    "plt.show()"
   ]
  },
  {
   "cell_type": "markdown",
   "metadata": {},
   "source": [
    "Unfortunately, the approach we used here does not scale well to larger and more complex tasks.\n",
    "It is highly *sample inefficient* meaning that it requires more time to start making meaningful improvement.\n",
    "This is primarily due to the fact that it must run multiple episodes to estimate the advantage of each action.\n",
    "\n",
    "To help alleviate these issues we will learn about other optimization algorithms.\n",
    "This time where the agent learns to estimate the expected return for each state or action in a state, then use that knowledge to make decisions.\n",
    "To understand these algorithms, we must first understand *Markov decision processes*."
   ]
  },
  {
   "cell_type": "markdown",
   "metadata": {},
   "source": [
    "## Markov decision processes\n",
    "\n",
    "A *Markov chain* is a process with a fixed number of states and randomly evolves from one to another at each step.\n",
    "The probability for it to evolve from a state $s$ to $s'$ is fixed and depends only on the pair, not the past states (this is why we say it has no memory).\n",
    "A *Markov decision process* (MDP) is similar, except that at each step, an agent can choose one of several possible actions, and the actions have transition probabilities to other steps.\n",
    "In addition, some transitions return a reward (positive or negative).\n",
    "The agent's goal is to find a policy that maximizes the reward over time.\n",
    "\n",
    "The *optimal state value* of any state $s$, $V^*(s)$, is the sum of all discounted future rewards the agent can expect on average when it reaches a state $s$, assuming it acts optimally.\n",
    "The *Bellman Optimality Equation* can calculate this value.\n",
    "\n",
    "$V^*(s) = \\max_a \\sum_s T(s, a, s') [R(s, a, s') + \\gamma \\cdot V^*(s')] \\quad$ for all $s$\n",
    "\n",
    "where:\n",
    "\n",
    "* $T(s, a, s')$ is the transition probability from state $s$ to $s'$ given the agent chose action $a$\n",
    "* $R(s, a, s')$ is the reward that the agent receives when it goes from state $s$ to $s'$ given the agent chose action $a$\n",
    "* $\\gamma$ is the discount factor\n",
    "\n",
    "The *Value Iteration algorithm* can be used to estimate the optimal state value for every possible state (initializing the values at 0).\n",
    "\n",
    "$V_{k+1}(s) \\leftarrow \\max_{a} \\sum_{s'} T(s, a, s') [R(s, a, s') + \\gamma \\cdot V_k(s')] \\quad$ for all $s$\n",
    "\n",
    "where $V_k(s)$ is the estimate value of state $s$ at the $k^{th}$ iteration of the algorithm.\n",
    "This recursive algorithm produces the optimal state values to help evaluate a policy, but it does not provide the optimal policy for an agent.\n",
    "instead, the optimal *state-action values*, generally called *Quality Values* (Q-Values), can be estimated.\n",
    "The Q-Value of a state-action pair $(s, a)$, $Q^*(s, a)$ is the sum of discounted future rewards the agent can expect on average after it reaches state $s$ and chooses action $a$, but before it sees the outcome of the action.\n",
    "The *Q-Value Iteration* algorithm can be used to estimate the Q-Values.\n",
    "\n",
    "$Q_{k+1}(s,a) \\leftarrow \\sum_{s'} T(s,a,s') [R(s,a,s') + \\gamma \\cdot \\max_{a'} Q_k(s'a')] \\quad$ for all $(s',a)$\n",
    "\n",
    "Once the optimal Q-Values have been found, defining the optimal policy, denoted $\\pi^*(s)$, is trival: when the agent is in state $s$, it should choose the action with the highest Q-Value\n",
    "\n",
    "$\n",
    "\\DeclareMathOperator*{\\argmax}{argmax}\n",
    "\\pi^*(s) = \\argmax_a Q^*(s, a)\n",
    "$\n",
    "\n",
    "(The author demonstrates how to implement this algorithm in Python based on an example in the book.)"
   ]
  },
  {
   "cell_type": "markdown",
   "metadata": {},
   "source": [
    "## Temporal Difference (TD) Learning\n",
    "\n",
    "When training a model, however, the states, transition probabilities, and rewards are not known.\n",
    "Therefore, the model must explore the environment to learn about the possible states.\n",
    "The *Temporal Difference Learning* (TD Learning) algorithm, is similar to the Value Iteration algorithm, but beginning under the assumption that the model only knows the possible states and actions, but nothing more.\n",
    "Thus, the agent uses an *exploration policy* (e.g. randomly making decisions) to explore the MDP.\n",
    "As it learns, it updates the estimates of the state values based on the transitions and rewards that are actually observed.\n",
    "\n",
    "$\n",
    "V_{k+1}(s) \\leftarrow (1-\\alpha)V_{k}(s) + \\alpha (r + \\gamma \\cdot V_k(s')) \\\\\n",
    "V_{k+1}(s) \\leftarrow V_{k}(s) + \\alpha \\cdot \\delta_k(s, r, s') \\\\\n",
    "\\quad \\text{where} \\quad \\delta_k(s,r,s') = r + \\gamma \\cdot V_k(s') - V_k(s)\n",
    "$\n",
    "\n",
    "where:\n",
    "\n",
    "* $\\alpha$ is the learning rate\n",
    "* $r + \\gamma \\cdot V_k(s')$ is called the *TD target*\n",
    "* $delta_k(s,r,s')$ is called the *TD error*\n",
    "\n",
    "For each state $s$, the algorithm keeps a running average of the immediate rewards the agent gets upon choosing an action plus the rewards it expects to get later."
   ]
  },
  {
   "cell_type": "markdown",
   "metadata": {},
   "source": [
    "## Q-Learning\n",
    "\n",
    "The Q-Learning algorithm is an adaptation of the Q-Value Iteration algorithm to the situation where the MDP system values are unknown.\n",
    "Q-Learns watches an agent play (e.g. randomly) and gradually improves its estimates of the unknown system parameters.\n",
    "Once the estimates are good enough, the optimal policy is the choose the action with the highest Q-Value (i.e. a greedy policy).\n",
    "\n",
    "$\n",
    "Q(s, a) \\xleftarrow[\\alpha]{} r + \\gamma \\cdot \\max_{a'} Q(s', a')\n",
    "$\n",
    "\n",
    "where $a \\xleftarrow[\\alpha]{} b \\,$ means $\\, a_{k+1} \\leftarrow (1-\\alpha) \\cdot a_k + \\alpha \\cdot b_k$.\n",
    "\n",
    "For each state-action pair $(s,a)$, the algorithms records a running average of the rewards $r$ the agent receives upon leaving state $s$ with action $a$, plus the sum of discounted expected future rewards.\n",
    "The maximum Q-Value of the next state is taken as this value because it is assumed the agent will act optimally from then on.\n",
    "\n",
    "Now we can implement the Q-Learning algorithm for the example system used in the book.\n",
    "First, I must encode the system in a series of lists of lists."
   ]
  },
  {
   "cell_type": "code",
   "execution_count": 31,
   "metadata": {},
   "outputs": [],
   "source": [
    "# Code the transition probabilities as: [s, a, s']\n",
    "transition_probabilities = [\n",
    "    [[0.7, 0.3, 0.0], [1.0, 0.0, 0.0], [0.8, 0.2, 0.0]],\n",
    "    [[0.0, 1.0, 0.0], None, [0.0, 0.0, 1.0]],\n",
    "    [None, [0.8, 0.1, 0.1], None]\n",
    "]\n",
    "\n",
    "# Code the rewards as: [s, a, s']\n",
    "rewards = [\n",
    "    [[10, 0, 0], [0, 0, 0], [0, 0, 0]],\n",
    "    [[0, 0, 0], [0, 0, 0], [0, 0, -50]],\n",
    "    [[0, 0, 0], [40, 0, 0], [0, 0, 0]]\n",
    "]\n",
    "\n",
    "# Code the possible actions an agent can take in each state:\n",
    "possible_actions = [\n",
    "    [0, 1, 2],\n",
    "    [0, 2],\n",
    "    [1]\n",
    "]"
   ]
  },
  {
   "cell_type": "markdown",
   "metadata": {},
   "source": [
    "We can now create an agent to \"explore\" the environment.\n",
    "To do this, we must create a `step()` function so the agent can execute one action and get the resulting state and reward."
   ]
  },
  {
   "cell_type": "code",
   "execution_count": 32,
   "metadata": {},
   "outputs": [],
   "source": [
    "def step(state, action):\n",
    "    probas = transition_probabilities[state][action]\n",
    "    next_state = np.random.choice([0, 1, 2], p=probas)\n",
    "    reward = rewards[state][action][next_state]\n",
    "    return next_state, reward"
   ]
  },
  {
   "cell_type": "markdown",
   "metadata": {},
   "source": [
    "Since the system is small, we can use a random policy for exploration."
   ]
  },
  {
   "cell_type": "code",
   "execution_count": 33,
   "metadata": {},
   "outputs": [],
   "source": [
    "def exploration_policy(state):\n",
    "    return np.random.choice(possible_actions[state])"
   ]
  },
  {
   "cell_type": "markdown",
   "metadata": {},
   "source": [
    "The Q-Values are initialized to negative infinity for impossible actions and as 0 for possible actions."
   ]
  },
  {
   "cell_type": "code",
   "execution_count": 34,
   "metadata": {},
   "outputs": [
    {
     "data": {
      "text/plain": [
       "array([[  0.,   0.,   0.],\n",
       "       [  0., -inf,   0.],\n",
       "       [-inf,   0., -inf]])"
      ]
     },
     "execution_count": 34,
     "metadata": {},
     "output_type": "execute_result"
    }
   ],
   "source": [
    "Q_values = np.full((3, 3), -np.inf)\n",
    "for state, actions in enumerate(possible_actions):\n",
    "    Q_values[state, actions] = 0.0\n",
    "    \n",
    "Q_values"
   ]
  },
  {
   "cell_type": "markdown",
   "metadata": {},
   "source": [
    "Finally, we can run the Q-Learning algorithm, using a decaying learning rate."
   ]
  },
  {
   "cell_type": "code",
   "execution_count": 35,
   "metadata": {},
   "outputs": [
    {
     "data": {
      "text/plain": [
       "array([[17.42396333, 15.63029327, 12.53790579],\n",
       "       [ 0.        ,        -inf, -8.92572028],\n",
       "       [       -inf, 48.37290605,        -inf]])"
      ]
     },
     "execution_count": 35,
     "metadata": {},
     "output_type": "execute_result"
    }
   ],
   "source": [
    "alpha0 = 0.05   # Initial learning rate.\n",
    "decay = 0.005  # Learning rate decay.\n",
    "gamma = 0.90    # Discount factor.\n",
    "\n",
    "# Initial state.\n",
    "state = 0\n",
    "\n",
    "Q_values_history = []\n",
    "\n",
    "for iteration in range(10000):\n",
    "    # Use the exploration policy to take a step.\n",
    "    action = exploration_policy(state)\n",
    "    next_state, reward = step(state, action)\n",
    "    \n",
    "    # Get the next expected Q-Value.\n",
    "    next_value = np.max(Q_values[next_state])\n",
    "    \n",
    "    # Adjust the alpha depending on the iteration.\n",
    "    alpha = alpha0 / (1 + iteration * decay)\n",
    "    \n",
    "    # Update the expected Q-Values.\n",
    "    new_q_value = (1 - alpha) * Q_values[state, action]\n",
    "    new_q_value = new_q_value + (alpha * (reward + gamma * next_value))\n",
    "    Q_values[state, action] = new_q_value \n",
    "    state = next_state\n",
    "    \n",
    "    Q_values_history.append(Q_values.copy())\n",
    "    \n",
    "Q_values"
   ]
  },
  {
   "cell_type": "markdown",
   "metadata": {},
   "source": [
    "As the algorithm ran, I copied each state of the Q-Values list so I could plot the learning processes.\n",
    "This plot is shown below."
   ]
  },
  {
   "cell_type": "code",
   "execution_count": 36,
   "metadata": {},
   "outputs": [
    {
     "data": {
      "image/png": "[encoded data removed]",
      "text/plain": [
       "<Figure size 720x576 with 1 Axes>"
      ]
     },
     "metadata": {},
     "output_type": "display_data"
    }
   ],
   "source": [
    "fig = plt.figure(figsize=(10, 8))\n",
    "\n",
    "\n",
    "for state in range(3):\n",
    "    for action in range(3):\n",
    "        x = [qv[state][action] for qv in Q_values_history]\n",
    "        plt.plot(x, label=f'$s_{state}, a_{action}$')\n",
    "\n",
    "plt.legend(loc='center left', bbox_to_anchor=(1, 0.5), fontsize=15)\n",
    "plt.title('Training of the Q-Value algorithm', fontsize=20)\n",
    "plt.xlabel('steps', fontsize=15)\n",
    "plt.ylabel('Q-Value ($s_0, a_0$)', fontsize=15)\n",
    "plt.xlim((0, 10000))\n",
    "plt.show()"
   ]
  },
  {
   "cell_type": "markdown",
   "metadata": {},
   "source": [
    "### Exploration policies\n",
    "\n",
    "Of course, we can do better than a random search to explore the unknown MDP.\n",
    "A better algorithm is the *$\\epsilon$-greedy policy*: at each step, the agent acts randomly with a probability $\\epsilon$ or greedily by choosing the option with the highest Q-Value at a probability $1-\\epsilon$.\n",
    "It is common to also adjust $\\epsilon$ from 1.0 down to 0.05 as training progresses.\n",
    "\n",
    "An alternative method is to encourage the agent to try actions it hasn't tried before.\n",
    "This can be implemented by adding a bonus to the Q-Value estimates as shown in the following equation:\n",
    "\n",
    "$Q(s, a) \\xleftarrow[\\alpha]{} r + \\gamma \\cdot \\max_{a'} f(Q(s', a', N(s', a'))$\n",
    "\n",
    "where:\n",
    "\n",
    "* $N(s', a')$ counts the number of times the action $a'$ has been chosen in state $s'$\n",
    "* $f(Q, N)$ is an *exploration function* such as $f(Q, N) = Q + \\kappa / (1 + N)$ where $\\kappa$ is a hyperparamter controlling the influence of the count."
   ]
  },
  {
   "cell_type": "markdown",
   "metadata": {},
   "source": [
    "### Approximate Q-Learning and Deep Q-Learning\n",
    "\n",
    "Q-Learning, however, does not scale well to larger systems because the search space grows exponentially with the number of states.\n",
    "\n",
    "Instead, the Q-Values can be approximated by finding a function $Q_\\theta(s,a)$ to approximate the Q-Value for any state-action pair $(s,a)$.\n",
    "This is called *Approximate Q-Learning*, and for years it was accomplished by manually specifying the features to use.\n",
    "However, in 2013, DeepMind demonstrated that a DNN, called a *Deep Q-Network* (DQN), could be taught to estimate the Q-Values through *Deep Q-Learning*.\n",
    "\n",
    "The training of a DQN is similar to the methods we have seen before.\n",
    "The Q-Value should be close to the reward observed after playing an action plus the discounted value of playing optimally from then on.\n",
    "Thus, to estimate the sum of future discounted rewards, the DQN can be executed on the next state $s'$ and for all possible actions $a'$.\n",
    "The highest value from this selection is then added to the rewards for the action to estimate the Q-Value.\n",
    "\n",
    "$Q_\\text{target}(s,a) = r + \\gamma \\cdot max_{a'} Q_\\theta (s', a')$\n",
    "\n",
    "This target Q-Value can be compared to the estimated Q-Value using MSE for the loss in a standard gradient descent algorithm."
   ]
  },
  {
   "cell_type": "markdown",
   "metadata": {},
   "source": [
    "## Implementing Deep Q-Learning\n",
    "\n",
    "We first need a DQN that takes a state-action pair and outputs an approximate Q-Value.\n",
    "In practice, though, it is more efficient to create a NN that takes a state and returns an approximate Q-Value for every possible action."
   ]
  },
  {
   "cell_type": "code",
   "execution_count": 37,
   "metadata": {
    "scrolled": false
   },
   "outputs": [],
   "source": [
    "env = gym.make(\"CartPole-v0\")\n",
    "input_shape = env.observation_space.shape\n",
    "n_outputs = env.action_space.n"
   ]
  },
  {
   "cell_type": "code",
   "execution_count": 38,
   "metadata": {},
   "outputs": [],
   "source": [
    "dqn_model = keras.models.Sequential([\n",
    "    keras.layers.Dense(32, activation='elu', input_shape=input_shape),\n",
    "    keras.layers.Dense(32, activation='elu'),\n",
    "    keras.layers.Dense(n_outputs)\n",
    "])"
   ]
  },
  {
   "cell_type": "markdown",
   "metadata": {},
   "source": [
    "The larget predicted Q-Value from the DQN will be used to select the next action.\n",
    "However, for the exploration of the system, we will employ the $\\epsilon$-greedy policy."
   ]
  },
  {
   "cell_type": "code",
   "execution_count": 39,
   "metadata": {},
   "outputs": [],
   "source": [
    "def epsilon_greedy_policy(mdl, state, epsilon=0):\n",
    "    if np.random.rand() < epsilon:\n",
    "        return np.random.randint(2)\n",
    "    else:\n",
    "        Q_values = mdl.predict(state[np.newaxis])\n",
    "        return np.argmax(Q_values[0])"
   ]
  },
  {
   "cell_type": "markdown",
   "metadata": {},
   "source": [
    "Instead of training the QDN on the latest experiences, all of the experiences will be stored in a *replay buffer* and small training batches will be randomly selected from it at each training iteration.\n",
    "This helps reduce the correlations between the experiences in a training batch.\n",
    "For this, we will use a deque list (a linked list)."
   ]
  },
  {
   "cell_type": "code",
   "execution_count": 40,
   "metadata": {},
   "outputs": [],
   "source": [
    "from collections import deque\n",
    "\n",
    "replay_buffer = deque(maxlen=2000)"
   ]
  },
  {
   "cell_type": "markdown",
   "metadata": {},
   "source": [
    "Each experience will be composed of five elements: a state, the action the agent took, the resulting reward, the next state reached, and a boolean indicating whether the episode ended at that point (`done`).\n",
    "\n",
    "We must make a function that randomly samples a batch of experiences from the replay buffer.\n",
    "It should return five NumPy arrays corresponding to the five experience elements"
   ]
  },
  {
   "cell_type": "code",
   "execution_count": 41,
   "metadata": {},
   "outputs": [],
   "source": [
    "def sample_experiences(replay_buffer, batch_size):\n",
    "    indices = np.random.randint(len(replay_buffer), size=batch_size)\n",
    "    batch = [replay_buffer[index] for index in indices]\n",
    "    states, actions, rewards, next_states, dones = [\n",
    "        np.array([experience[field_index] for experience in batch])\n",
    "        for field_index in range(5)\n",
    "    ]\n",
    "    return states, actions, rewards, next_states, dones"
   ]
  },
  {
   "cell_type": "markdown",
   "metadata": {},
   "source": [
    "Now we can create a function that plays a single step of the $\\epsilon$-greedy policy and stores the resulting experience in the replay buffer."
   ]
  },
  {
   "cell_type": "code",
   "execution_count": 42,
   "metadata": {},
   "outputs": [],
   "source": [
    "def play_one_step(env, mdl, replay_buffer, state, epsilon):\n",
    "    action = epsilon_greedy_policy(mdl, state, epsilon)\n",
    "    next_state, reward, done, info = env.step(action)\n",
    "    replay_buffer.append((state, action, reward, next_state, done))\n",
    "    return next_state, reward, done, info"
   ]
  },
  {
   "cell_type": "markdown",
   "metadata": {},
   "source": [
    "We can create another function that samples a batch of experiences from the replay buffer and trains the DQN using a single gradient descent step."
   ]
  },
  {
   "cell_type": "code",
   "execution_count": 43,
   "metadata": {},
   "outputs": [],
   "source": [
    "batch_size = 32\n",
    "discount_factor = 0.95\n",
    "optimizer = keras.optimizers.Adam(learning_rate=0.001)\n",
    "loss_fn = keras.losses.mean_squared_error"
   ]
  },
  {
   "cell_type": "code",
   "execution_count": 44,
   "metadata": {},
   "outputs": [],
   "source": [
    "def training_step(mdl, replay_buffer, optimizer, loss_fxn, batch_size, gamma):\n",
    "    experiences = sample_experiences(replay_buffer, batch_size)\n",
    "    states, actions, rewards, next_states, dones = experiences\n",
    "    next_Q_values = mdl.predict(next_states)\n",
    "    max_next_Q_values = np.max(next_Q_values, axis = 1)\n",
    "    target_Q_values = rewards + (1 - dones) * gamma * max_next_Q_values\n",
    "    mask = tf.one_hot(actions, n_outputs)\n",
    "    \n",
    "    with tf.GradientTape() as tape:\n",
    "        all_Q_values = mdl(states)\n",
    "        Q_values = tf.reduce_sum(all_Q_values * mask, axis=1, keepdims=True)\n",
    "        loss = tf.reduce_mean(loss_fxn(target_Q_values, Q_values))\n",
    "\n",
    "    grads = tape.gradient(loss, mdl.trainable_variables)\n",
    "    optimizer.apply_gradients(zip(grads, mdl.trainable_variables))"
   ]
  },
  {
   "cell_type": "markdown",
   "metadata": {},
   "source": [
    "Finally, we can write the training loop."
   ]
  },
  {
   "cell_type": "code",
   "execution_count": 45,
   "metadata": {},
   "outputs": [
    {
     "name": "stdout",
     "output_type": "stream",
     "text": [
      "WARNING:tensorflow:Layer dense_2 is casting an input tensor from dtype float64 to the layer's dtype of float32, which is new behavior in TensorFlow 2.  The layer has dtype float32 because it's dtype defaults to floatx.\n",
      "\n",
      "If you intended to run this layer in float32, you can safely ignore this warning. If in doubt, this warning is likely only an issue if you are porting a TensorFlow 1.X model to TensorFlow 2.\n",
      "\n",
      "To change all layers to have dtype float64 by default, call `tf.keras.backend.set_floatx('float64')`. To change just this layer, pass dtype='float64' to the layer constructor. If you are the author of this layer, you can disable autocasting by passing autocast=False to the base Layer constructor.\n",
      "\n"
     ]
    }
   ],
   "source": [
    "rewards_history = []\n",
    "\n",
    "env.seed(42)\n",
    "np.random.seed(42)\n",
    "tf.random.set_seed(42)\n",
    "\n",
    "for episode in range(600):\n",
    "    obs = env.reset()\n",
    "    for step in range(200):\n",
    "        epsilon = max(1 - episode / 500, 0.01)\n",
    "        obs, reward, done, info = play_one_step(env, dqn_model, replay_buffer,\n",
    "                                                obs, epsilon)\n",
    "        if done:\n",
    "            break\n",
    "    rewards_history.append(step)\n",
    "    \n",
    "    # early stopping\n",
    "    if np.all([x > 190 for x in rewards_history[-3:]]):\n",
    "        print(f'Stopping early at episode {episode}')\n",
    "        break\n",
    "    \n",
    "    if episode > 50:\n",
    "        training_step(dqn_model, replay_buffer, optimizer, loss_fn,\n",
    "                      batch_size, discount_factor)"
   ]
  },
  {
   "cell_type": "code",
   "execution_count": 46,
   "metadata": {
    "scrolled": true
   },
   "outputs": [
    {
     "data": {
      "image/png": "[encoded data removed]",
      "text/plain": [
       "<Figure size 576x360 with 1 Axes>"
      ]
     },
     "metadata": {},
     "output_type": "display_data"
    }
   ],
   "source": [
    "fig = plt.figure(figsize=(8, 5))\n",
    "plt.plot(rewards_history, 'b-')\n",
    "plt.xlabel('training episodes', fontsize=15)\n",
    "plt.ylabel('length of cart-pole episode', fontsize=15)\n",
    "plt.title('Training of a DQN on the cart-pole game', fontsize=20)\n",
    "plt.show()"
   ]
  },
  {
   "cell_type": "code",
   "execution_count": 47,
   "metadata": {},
   "outputs": [],
   "source": [
    "if False:\n",
    "    obs = env.reset()\n",
    "    while True:\n",
    "        env.render()\n",
    "\n",
    "        predicted_q_values = dqn_model(obs[np.newaxis]).numpy()[0]\n",
    "        action = int(predicted_q_values[0] < predicted_q_values[1])\n",
    "        obs, reward, done, info = env.step(action)\n",
    "\n",
    "        if done:\n",
    "            break\n",
    "\n",
    "    env.close()\n",
    "env.close()"
   ]
  },
  {
   "cell_type": "markdown",
   "metadata": {},
   "source": [
    "Here is one of the stellar examples of this model defeating the cart-pole problem.\n",
    "\n",
    "<img src=\"assets/ch18/images/DQN-model_1.gif\" width=500 >\n",
    "\n",
    "The training of the DQN is highly variable.\n",
    "It takes awhile for noticeable improvement, and when there is finally a spike, it quickly drops back down to poor performance.\n",
    "This is a noted issue with RL algorithms and is called *catastrophic forgetting*.\n",
    "It often occurs when what the policy learns for one part of the environment breaks what it had learned for another part.\n",
    "It demonstrates that RL is difficult and takes a lot of tuning of hyperparameters."
   ]
  },
  {
   "cell_type": "markdown",
   "metadata": {},
   "source": [
    "## Deep Q-Learning Variants\n",
    "\n",
    "Below we will look at a few variants of the Deep Q-Learning algorithm that can stabilize and speed-up training.\n",
    "\n",
    "### Fixed Q-Value targets\n",
    "\n",
    "In the training regime used above, the model created both the predictions are the target values.\n",
    "Instead, DeepMind used two DQN models: the *online model* learns at each step and moves the agent around, while the *target model* defined the targets.\n",
    "The target model is just a clone of the online model, and is updated with the online model's weights at fixed intervals.\n",
    "\n",
    "This is implemented below using two new DQN models, an updated `training_step()` function, and the weights are copied to the target model every 50 episodes.\n",
    "(The hyperparameters likely need to be adjusted, but the structure is there.)\n",
    "\n",
    "This method works because the target Q-Values become more stable, reducing the feedback loop that can happen if the DQN being trained is also producing the Q-Value targets.\n",
    "The method does not work here, likely because I have not tuned the hyperparameters.\n",
    "Also, since the target DQN is updated infrequently, usually more episodes are required for the training.\n",
    "\n",
    "### Double DQN\n",
    "\n",
    "In 2015, DeepMind realized a problem with the target DQN: it was prone to overestimating Q-Values.\n",
    "Since the target Q-Values were only approximations, even if the true Q-Values were the same, there would be some differences in the target DQN's estimates.\n",
    "Even if the error is only a small amount, it can still cause one action to consistently have a higher Q-Value than the others due to random chance.\n",
    "\n",
    "To fix this, they proposed using the online model instead of the target model when selecting the best actions for the next states, using the target model only to estimate Q-Values for the best actions.\n",
    "This has also been implemented below."
   ]
  },
  {
   "cell_type": "code",
   "execution_count": 48,
   "metadata": {},
   "outputs": [],
   "source": [
    "online_dqn = keras.models.Sequential([\n",
    "    keras.layers.Dense(32, activation='elu', input_shape=input_shape),\n",
    "    keras.layers.Dense(32, activation='elu'),\n",
    "    keras.layers.Dense(n_outputs)\n",
    "])\n",
    "\n",
    "target_dqn = keras.models.clone_model(online_dqn)\n",
    "target_dqn.set_weights(online_dqn.get_weights())"
   ]
  },
  {
   "cell_type": "code",
   "execution_count": 49,
   "metadata": {},
   "outputs": [],
   "source": [
    "def training_step2(online_mdl,\n",
    "                   target_mdl,\n",
    "                   replay_buffer,\n",
    "                   optimizer,\n",
    "                   loss_fxn,\n",
    "                   batch_size,\n",
    "                   gamma,\n",
    "                   n_outputs):\n",
    "    experiences = sample_experiences(replay_buffer, batch_size)\n",
    "    states, actions, rewards, next_states, dones = experiences\n",
    "    next_Q_values = online_mdl.predict(next_states)\n",
    "    best_next_actions = np.argmax(next_Q_values, axis=1)\n",
    "    next_mask = tf.one_hot(best_next_actions, n_outputs).numpy()\n",
    "    next_best_Q_values = (target_mdl.predict(next_states) * next_mask).sum(axis=1)\n",
    "    \n",
    "    target_Q_values = rewards + (1 - dones) * gamma * next_best_Q_values\n",
    "    mask = tf.one_hot(actions, n_outputs)\n",
    "\n",
    "    with tf.GradientTape() as tape:\n",
    "        all_Q_values = online_mdl(states)\n",
    "        Q_values = tf.reduce_sum(all_Q_values * mask, axis=1, keepdims=True)\n",
    "        loss = tf.reduce_mean(loss_fxn(target_Q_values, Q_values))\n",
    "\n",
    "    grads = tape.gradient(loss, online_mdl.trainable_variables)\n",
    "    optimizer.apply_gradients(zip(grads, online_mdl.trainable_variables))"
   ]
  },
  {
   "cell_type": "code",
   "execution_count": 50,
   "metadata": {
    "scrolled": true
   },
   "outputs": [
    {
     "name": "stdout",
     "output_type": "stream",
     "text": [
      "WARNING:tensorflow:Layer dense_5 is casting an input tensor from dtype float64 to the layer's dtype of float32, which is new behavior in TensorFlow 2.  The layer has dtype float32 because it's dtype defaults to floatx.\n",
      "\n",
      "If you intended to run this layer in float32, you can safely ignore this warning. If in doubt, this warning is likely only an issue if you are porting a TensorFlow 1.X model to TensorFlow 2.\n",
      "\n",
      "To change all layers to have dtype float64 by default, call `tf.keras.backend.set_floatx('float64')`. To change just this layer, pass dtype='float64' to the layer constructor. If you are the author of this layer, you can disable autocasting by passing autocast=False to the base Layer constructor.\n",
      "\n"
     ]
    }
   ],
   "source": [
    "batch_size = 32\n",
    "discount_factor = 0.95\n",
    "optimizer = keras.optimizers.Adam(learning_rate=0.001)\n",
    "loss_fn = keras.losses.mean_squared_error\n",
    "\n",
    "replay_buffer = deque(maxlen=2000)\n",
    "\n",
    "rewards_history = []\n",
    "\n",
    "env.seed(42)\n",
    "np.random.seed(42)\n",
    "tf.random.set_seed(42)\n",
    "\n",
    "for episode in range(400):\n",
    "    obs = env.reset()\n",
    "    for step in range(200):\n",
    "        epsilon = max(1 - episode / 600, 0.01)\n",
    "        obs, reward, done, info = play_one_step(env, online_dqn, replay_buffer,\n",
    "                                                obs, epsilon)\n",
    "        if done:\n",
    "            break\n",
    "    rewards_history.append(step)\n",
    "    \n",
    "    # early stopping\n",
    "    if np.all([x > 190 for x in rewards_history[-3:]]):\n",
    "        print(f'Stopping early at episode {episode}')\n",
    "        break\n",
    "    \n",
    "    if episode > 50:\n",
    "        training_step2(online_dqn, target_dqn, \n",
    "                       replay_buffer, optimizer, loss_fn,\n",
    "                       batch_size, discount_factor, n_outputs)\n",
    "    \n",
    "    if episode % 50 == 0:\n",
    "        target_dqn.set_weights(online_dqn.get_weights())"
   ]
  },
  {
   "cell_type": "code",
   "execution_count": 51,
   "metadata": {},
   "outputs": [
    {
     "data": {
      "image/png": "[encoded data removed]",
      "text/plain": [
       "<Figure size 576x360 with 1 Axes>"
      ]
     },
     "metadata": {},
     "output_type": "display_data"
    }
   ],
   "source": [
    "fig = plt.figure(figsize=(8, 5))\n",
    "plt.plot(rewards_history, 'b-')\n",
    "plt.xlabel('training episodes', fontsize=15)\n",
    "plt.ylabel('length of cart-pole episode', fontsize=15)\n",
    "plt.title('Training of a DQN on the cart-pole game', fontsize=20)\n",
    "plt.show()"
   ]
  },
  {
   "cell_type": "markdown",
   "metadata": {},
   "source": [
    "### Prioritized Experience Replay (PER)\n",
    "\n",
    "Up to now, the experiences used for training have been randomly sampled from the replay buffer.\n",
    "PER is a method for sampling the most important experiences more frequently.\n",
    "The importance of an experience can be estimated using the TD (Temporal Difference) error, $\\delta = r + \\gamma \\cdot V(s') - V(s)$, because a large TD error indicates a transition $(s, r, s')$ was suprizing and probably worth learning from.\n",
    "\n",
    "To implement this, when an experience is recorded in the replay buffer, its priority is set very high to ensure it gets sampled at least once.\n",
    "Once it is sampled, the TD error $\\delta$ is calculated and its priority is set as $p = |\\delta| + \\epsilon$ (where $\\epsilon$ is just a small non-zero value).\n",
    "The probability $P$ os sampling an experience with priority $p$ is proportional to $p^\\zeta$, where $\\zeta$ is a hyperparameter controlling how much the priority should matter; when $\\zeta = 0$ the sampling is uniform, and when $\\zeta = 1$, the sampling is determined by priority.\n",
    "The optimal value for $\\zeta$ will depend on the task.\n",
    "\n",
    "To prevent overfitting to the more important experiences, the impact of the training should be downweighted according the the importance of the experiences.\n",
    "Thus, because the more important experiences will get used more often, they must be given a lower weight during training.\n",
    "The training weight can be calculated as $w = (nP)^{-\\beta}$, where $n$ is the number of experiences in the replay buffer and $\\beta$ is a hyperparameter to control the level of compensation to apply.\n",
    "When this method was introduced, the authors started with $\\beta = 0.4$ and increased it to $\\beta = 1$ over the training processes.\n",
    "\n",
    "### Dueling DQN (DDQN)\n",
    "\n",
    "The Q-Value of a state-action pair $(s,a)$ can be described as $Q(s,a) = V(s) + A(s,a)$ where $V(s)$ is the value of state $s$ and $A(s,a)$ is the *advantage* of taking action $a$ in state $s$ compared to all other possible actions in the state.\n",
    "If the Q-Value of a state is equal to the Q-Value of the best action $a^*$ for that state, then $V(s) = Q(s,a^*)$ and $A(s,a^*) = 0$.\n",
    "In a Dueling DQN (DDQN), the model estimates both the value of the state and the advantage of each possible action.\n",
    "Since the best action should have a value of 0, the model subtracts the maximum predicted advantage from all predicted advantages.\n",
    "Below is a DDQN model built using the functional API."
   ]
  },
  {
   "cell_type": "code",
   "execution_count": 52,
   "metadata": {},
   "outputs": [],
   "source": [
    "K = keras.backend\n",
    "\n",
    "input_states = keras.layers.Input(shape=[4])\n",
    "hidden1 = keras.layers.Dense(32, activation='elu')(input_states)\n",
    "hidden2 = keras.layers.Dense(32, activation='elu')(hidden1)\n",
    "state_values = keras.layers.Dense(1)(hidden2)\n",
    "raw_advantages = keras.layers.Dense(n_outputs)(hidden2)\n",
    "advantages = raw_advantages - K.max(raw_advantages, axis=1, keepdims=True)\n",
    "Q_values = state_values + advantages\n",
    "model = keras.Model(inputs=[input_states], outputs=[Q_values])"
   ]
  },
  {
   "cell_type": "markdown",
   "metadata": {},
   "source": [
    "## The TF-Agents library\n",
    "\n",
    "The TF-Agents library is a Reinforcement Learning library based on TF.\n",
    "It provides many environments, including wrapping around OpenAI Gym, physics engines, and models.\n",
    "We will use it to train a DQN to play the Atari game *Breakout*.\n",
    "\n",
    "### TG-Agents environment\n",
    "\n",
    "We can create Breakout environment which is a wrapper around an OpenAI Gym environment."
   ]
  },
  {
   "cell_type": "code",
   "execution_count": 53,
   "metadata": {},
   "outputs": [
    {
     "data": {
      "text/plain": [
       "<tf_agents.environments.wrappers.TimeLimit at 0x140e65250>"
      ]
     },
     "execution_count": 53,
     "metadata": {},
     "output_type": "execute_result"
    }
   ],
   "source": [
    "from tf_agents.environments import suite_gym\n",
    "\n",
    "breakout_env = suite_gym.load('Breakout-v4')\n",
    "breakout_env"
   ]
  },
  {
   "cell_type": "markdown",
   "metadata": {},
   "source": [
    "There are some differences between the APIs of OpenAI Gym and TF-Agents.\n",
    "For instance, calling the `reset()` method of an environment does not return just the observations, but a `TimeStep` object with a bunch of information."
   ]
  },
  {
   "cell_type": "code",
   "execution_count": 54,
   "metadata": {},
   "outputs": [
    {
     "data": {
      "text/plain": [
       "TimeStep(step_type=array(0, dtype=int32), reward=array(0., dtype=float32), discount=array(1., dtype=float32), observation=array([[[0, 0, 0],\n",
       "        [0, 0, 0],\n",
       "        [0, 0, 0],\n",
       "        ...,\n",
       "        [0, 0, 0],\n",
       "        [0, 0, 0],\n",
       "        [0, 0, 0]],\n",
       "\n",
       "       [[0, 0, 0],\n",
       "        [0, 0, 0],\n",
       "        [0, 0, 0],\n",
       "        ...,\n",
       "        [0, 0, 0],\n",
       "        [0, 0, 0],\n",
       "        [0, 0, 0]],\n",
       "\n",
       "       [[0, 0, 0],\n",
       "        [0, 0, 0],\n",
       "        [0, 0, 0],\n",
       "        ...,\n",
       "        [0, 0, 0],\n",
       "        [0, 0, 0],\n",
       "        [0, 0, 0]],\n",
       "\n",
       "       ...,\n",
       "\n",
       "       [[0, 0, 0],\n",
       "        [0, 0, 0],\n",
       "        [0, 0, 0],\n",
       "        ...,\n",
       "        [0, 0, 0],\n",
       "        [0, 0, 0],\n",
       "        [0, 0, 0]],\n",
       "\n",
       "       [[0, 0, 0],\n",
       "        [0, 0, 0],\n",
       "        [0, 0, 0],\n",
       "        ...,\n",
       "        [0, 0, 0],\n",
       "        [0, 0, 0],\n",
       "        [0, 0, 0]],\n",
       "\n",
       "       [[0, 0, 0],\n",
       "        [0, 0, 0],\n",
       "        [0, 0, 0],\n",
       "        ...,\n",
       "        [0, 0, 0],\n",
       "        [0, 0, 0],\n",
       "        [0, 0, 0]]], dtype=uint8))"
      ]
     },
     "execution_count": 54,
     "metadata": {},
     "output_type": "execute_result"
    }
   ],
   "source": [
    "breakout_env.reset()"
   ]
  },
  {
   "cell_type": "code",
   "execution_count": 55,
   "metadata": {},
   "outputs": [
    {
     "data": {
      "text/plain": [
       "TimeStep(step_type=array(1, dtype=int32), reward=array(0., dtype=float32), discount=array(1., dtype=float32), observation=array([[[0, 0, 0],\n",
       "        [0, 0, 0],\n",
       "        [0, 0, 0],\n",
       "        ...,\n",
       "        [0, 0, 0],\n",
       "        [0, 0, 0],\n",
       "        [0, 0, 0]],\n",
       "\n",
       "       [[0, 0, 0],\n",
       "        [0, 0, 0],\n",
       "        [0, 0, 0],\n",
       "        ...,\n",
       "        [0, 0, 0],\n",
       "        [0, 0, 0],\n",
       "        [0, 0, 0]],\n",
       "\n",
       "       [[0, 0, 0],\n",
       "        [0, 0, 0],\n",
       "        [0, 0, 0],\n",
       "        ...,\n",
       "        [0, 0, 0],\n",
       "        [0, 0, 0],\n",
       "        [0, 0, 0]],\n",
       "\n",
       "       ...,\n",
       "\n",
       "       [[0, 0, 0],\n",
       "        [0, 0, 0],\n",
       "        [0, 0, 0],\n",
       "        ...,\n",
       "        [0, 0, 0],\n",
       "        [0, 0, 0],\n",
       "        [0, 0, 0]],\n",
       "\n",
       "       [[0, 0, 0],\n",
       "        [0, 0, 0],\n",
       "        [0, 0, 0],\n",
       "        ...,\n",
       "        [0, 0, 0],\n",
       "        [0, 0, 0],\n",
       "        [0, 0, 0]],\n",
       "\n",
       "       [[0, 0, 0],\n",
       "        [0, 0, 0],\n",
       "        [0, 0, 0],\n",
       "        ...,\n",
       "        [0, 0, 0],\n",
       "        [0, 0, 0],\n",
       "        [0, 0, 0]]], dtype=uint8))"
      ]
     },
     "execution_count": 55,
     "metadata": {},
     "output_type": "execute_result"
    }
   ],
   "source": [
    "breakout_env.step(1)"
   ]
  },
  {
   "cell_type": "markdown",
   "metadata": {},
   "source": [
    "We can also get the parameters of an environment through specific methods."
   ]
  },
  {
   "cell_type": "code",
   "execution_count": 56,
   "metadata": {},
   "outputs": [
    {
     "data": {
      "text/plain": [
       "BoundedArraySpec(shape=(210, 160, 3), dtype=dtype('uint8'), name='observation', minimum=0, maximum=255)"
      ]
     },
     "execution_count": 56,
     "metadata": {},
     "output_type": "execute_result"
    }
   ],
   "source": [
    "breakout_env.observation_spec()"
   ]
  },
  {
   "cell_type": "code",
   "execution_count": 57,
   "metadata": {},
   "outputs": [
    {
     "data": {
      "text/plain": [
       "BoundedArraySpec(shape=(), dtype=dtype('int64'), name='action', minimum=0, maximum=3)"
      ]
     },
     "execution_count": 57,
     "metadata": {},
     "output_type": "execute_result"
    }
   ],
   "source": [
    "breakout_env.action_spec()"
   ]
  },
  {
   "cell_type": "code",
   "execution_count": 58,
   "metadata": {},
   "outputs": [
    {
     "data": {
      "text/plain": [
       "TimeStep(step_type=ArraySpec(shape=(), dtype=dtype('int32'), name='step_type'), reward=ArraySpec(shape=(), dtype=dtype('float32'), name='reward'), discount=BoundedArraySpec(shape=(), dtype=dtype('float32'), name='discount', minimum=0.0, maximum=1.0), observation=BoundedArraySpec(shape=(210, 160, 3), dtype=dtype('uint8'), name='observation', minimum=0, maximum=255))"
      ]
     },
     "execution_count": 58,
     "metadata": {},
     "output_type": "execute_result"
    }
   ],
   "source": [
    "breakout_env.time_step_spec()"
   ]
  },
  {
   "cell_type": "code",
   "execution_count": 59,
   "metadata": {},
   "outputs": [
    {
     "data": {
      "text/plain": [
       "['NOOP', 'FIRE', 'RIGHT', 'LEFT']"
      ]
     },
     "execution_count": 59,
     "metadata": {},
     "output_type": "execute_result"
    }
   ],
   "source": [
    "breakout_env.gym.get_action_meanings()"
   ]
  },
  {
   "cell_type": "markdown",
   "metadata": {},
   "source": [
    "### Environment wrappers and Atari preprocessing\n",
    "\n",
    "TF-Agents includes *environment wrappers*: wrappers for environments that are automatically involved in very step of the environment and add some extra functionality.\n",
    "Here are some that seem quite useful:\n",
    "\n",
    "* `ActionClipWrapper`: Clips the actions to the action specification.\n",
    "* `ActionDiscretizeWrapper`: If an environment has actions on a continuous scale, this can turn them into a specified number of discrete steps.\n",
    "* `ActionRepeat`: Repeats each action for multiple steps, accumulating the rewards - this can be useful to speed up the training in some environments.\n",
    "* `RunStats`: Records environment statistics.\n",
    "* `TimeLimit`: Interrupts the environment if it runs for longer than a maximum number of steps.\n",
    "* `VideoWrapper`: Records a video of the environment.\n",
    "\n",
    "The wrappers for Atari environments are fairly standardized - greyscale and downsampling the observations, max pooling of the last two frames of the game using a 1x1 filter, frame skipping (the default is to skip every 4 frames), end-of-life loss (whether or not to end the game after the player loses a life).\n",
    "\n",
    "We will not use the frame skipping in this case, but will apply a wrapper that merges 4 frames into one (it helps the agent learn about the direction the ball is moving in)."
   ]
  },
  {
   "cell_type": "code",
   "execution_count": 60,
   "metadata": {},
   "outputs": [],
   "source": [
    "from tf_agents.environments import suite_atari\n",
    "from tf_agents.environments.atari_preprocessing import AtariPreprocessing\n",
    "from tf_agents.environments.atari_wrappers import FrameStack4\n",
    "\n",
    "max_episode_steps = 27000\n",
    "environment_name = 'BreakoutNoFrameskip-v4'\n",
    "\n",
    "breakout_env = suite_atari.load(\n",
    "    environment_name,\n",
    "    max_episode_steps=max_episode_steps,\n",
    "    gym_env_wrappers=[AtariPreprocessing, FrameStack4]\n",
    ")"
   ]
  },
  {
   "cell_type": "markdown",
   "metadata": {},
   "source": [
    "Lastly, we can wrap this environment in `TFPyEnvironment` so it is usable from within a TF graph."
   ]
  },
  {
   "cell_type": "code",
   "execution_count": 61,
   "metadata": {},
   "outputs": [],
   "source": [
    "from tf_agents.environments.tf_py_environment import TFPyEnvironment\n",
    "\n",
    "tf_env = TFPyEnvironment(breakout_env)"
   ]
  },
  {
   "cell_type": "markdown",
   "metadata": {},
   "source": [
    "### Training architecture\n",
    "\n",
    "The TF-Agents training program is usually split into two components, *Collection* and *Training*, and are run in parallel.\n",
    "These two pieces are shown in the diagram below.\n",
    "\n",
    "![](assets/ch18/images/tf-agents_training_architecture.jpg)\n",
    "\n",
    "On the left, the driver explores the environments using a collect policy to choose actions.\n",
    "The driver collections *trajectories* (i.e. experiences) and sends them to an observer to be saved to the replay buffer.\n",
    "On the right, an agent selects batches of trajectories from the replay buffer and trains some networks which the collect policy can use, too.\n",
    "Overall, the pieces on the left explore the environment and collect trajectories, while the pieces on the right learn and update the collect policy.\n",
    "\n",
    "Now we can create the components one at a time.\n",
    "\n",
    "### Creating the Deep Q-Network\n",
    "\n",
    "The TF-Agents library offers many networks in the `tf_agents.networks` module and submodules."
   ]
  },
  {
   "cell_type": "code",
   "execution_count": 62,
   "metadata": {},
   "outputs": [],
   "source": [
    "from tf_agents.networks.q_network import QNetwork\n",
    "\n",
    "preprocessing_layer = keras.layers.Lambda(\n",
    "    lambda obs: tf.cast(obs, np.float32) / 255.0\n",
    ")\n",
    "\n",
    "conv_layer_params = [(32, (8, 8), 4), (64, (4, 4), 2), (64, (3, 3), 1)]\n",
    "fc_layer_params = [512]\n",
    "\n",
    "q_net = QNetwork(\n",
    "    tf_env.observation_spec(),\n",
    "    tf_env.action_spec(),\n",
    "    preprocessing_layers=preprocessing_layer,\n",
    "    conv_layer_params=conv_layer_params,\n",
    "    fc_layer_params=fc_layer_params\n",
    ")"
   ]
  },
  {
   "cell_type": "markdown",
   "metadata": {},
   "source": [
    "We used the `tf_agents.networks.q_network.QNetwork`.\n",
    "The first two arguments are the `input_tensor_spec` and `action_spec` for the environment.\n",
    "This is followed by a preprocessing layer that casts the data to 32-bit floats and normalizes the data to fall between 0 and 1.\n",
    "There are 3 convolutional layers: 32 8x8 filters with stride 4, 64 4x4 filters with a stride of 2, and 64  3x3 filters with a stride of 1.\n",
    "The last layer is a dense layer with 512 units.\n",
    "The output is automatically a dense network with the number of units as there are actions (4 in this case).\n",
    "All layers except for the output layer use a ReLU action funtion, though this can be adjusted using the `activation_fc` argument.\n",
    "The outputs do not have an activation function and represent the Q-Values for each action given the input state.\n",
    "\n",
    "### Creating the DQN agent\n",
    "\n",
    "The TF-Agents library has many types of agents implemented in the `tf_agents.agents` module and its submodules.\n",
    "We will the use `tf_agents.agents.dqn.dqn_agent.DqnAgent` class and notes on the following code are below."
   ]
  },
  {
   "cell_type": "code",
   "execution_count": 63,
   "metadata": {},
   "outputs": [],
   "source": [
    "from tf_agents.agents.dqn.dqn_agent import DqnAgent\n",
    "\n",
    "train_step = tf.Variable(0)\n",
    "update_period = 4\n",
    "optimizer = keras.optimizers.RMSprop(learning_rate=1.5e-4,\n",
    "                                     rho=0.95,\n",
    "                                     momentum=0.0,\n",
    "                                     epsilon=0.00001,\n",
    "                                     centered=True)\n",
    "\n",
    "epsilon_fn = keras.optimizers.schedules.PolynomialDecay(\n",
    "    initial_learning_rate=1.0,\n",
    "    decay_steps=250000 // update_period,\n",
    "    end_learning_rate=0.01\n",
    ")\n",
    "\n",
    "agent = DqnAgent(\n",
    "    tf_env.time_step_spec(),\n",
    "    tf_env.action_spec(),\n",
    "    q_network=q_net,\n",
    "    optimizer=optimizer,\n",
    "    target_update_period=2000,\n",
    "    td_errors_loss_fn=keras.losses.Huber(reduction='none'),\n",
    "    gamma=0.99,\n",
    "    train_step_counter=train_step,\n",
    "    epsilon_greedy=lambda: epsilon_fn(train_step)\n",
    ")\n",
    "\n",
    "agent.initialize()"
   ]
  },
  {
   "cell_type": "markdown",
   "metadata": {},
   "source": [
    "1. The `train_step` variable will track the training step number and the model will be trained every `update_period` steps.\n",
    "2. The optimizer is created and the hyperparameters were taken from one of the original DQN papers from 2015.\n",
    "3. The `epsilon_fn` variable is a `PolynomialDecay` object that will compute the $\\epsilon$ value for the $\\epsilon$-greedy collect policy, given the current training step. It will scale down from 1.0 to 0.01 over 1 million ALE frames, or 250,000 steps (since we skip with a period of 4). Further, we will training the agent every 4 steps (16 ALE frames), so $\\epsilon$ will actually decay over 62,500 training steps.\n",
    "4. The `DQNAgent` is then built, passing it the time step and action specifications for the environment. It is also given the `QNetwork` we built previously, the optimizer, the number of training steps between target model updates, the loss function to use, the discount factor $\\gamma$, the `train_step` variable, and a function with no arguments that returns the $\\epsilon$. For the loss function, `reduction = none` prevents the function from taking the mean loss over all instances, and instead returns an error for each instance.\n",
    "5. The agent is initialized at the end.\n",
    "\n",
    "### Creating the replay buffer and corresponding observer\n",
    "\n",
    "The TF-Agents library provides replay buffers implemented in pure Python (submodules beginning with `py_`) or in TF (submodules beginning with `tf_`).\n",
    "We will use the `TFUniformReplayBuffer` because it provides a high-performance implementation of a replay buffer with uniform sampling.\n",
    "Some discussion of the parameters are discussed below the code."
   ]
  },
  {
   "cell_type": "code",
   "execution_count": 64,
   "metadata": {},
   "outputs": [],
   "source": [
    "from tf_agents.replay_buffers import tf_uniform_replay_buffer\n",
    "\n",
    "replay_buffer = tf_uniform_replay_buffer.TFUniformReplayBuffer(\n",
    "    data_spec=agent.collect_data_spec,\n",
    "    batch_size=tf_env.batch_size,\n",
    "    max_length=1000000\n",
    ")"
   ]
  },
  {
   "cell_type": "markdown",
   "metadata": {},
   "source": [
    "* `data_spec`: A `Trajectory` with a description of the various data types reported by the agent.\n",
    "* `batch_size`: The number of trajectories that will be added at each step. For our purposes this will be 1, but a *batched environment* can group a series of steps into one batch.\n",
    "* `max_length`: The maximum size of the buffer. This number was taken from the 2015 DQN paper again and is quite large.\n",
    "\n",
    "Now we can create the observer that will write the trajectories to the replay buffer.\n",
    "An observer is just a function (or callable object) that takes a trajectory argument.\n",
    "Thus, we will use the `add_batch()` method from the replay buffer to be the observer."
   ]
  },
  {
   "cell_type": "code",
   "execution_count": 65,
   "metadata": {},
   "outputs": [],
   "source": [
    "replay_buffer_observer = replay_buffer.add_batch"
   ]
  },
  {
   "cell_type": "markdown",
   "metadata": {},
   "source": [
    "### Creating training metrics\n",
    "\n",
    "The TF-Agents library provides several RL metrics in the `tf_agents.metrics` module, again, some implemented in pure Python and others using TF.\n",
    "We will use a few to count the number of episodes, number of steps taken, the average return per episode, and average episode length."
   ]
  },
  {
   "cell_type": "code",
   "execution_count": 66,
   "metadata": {},
   "outputs": [],
   "source": [
    "from tf_agents.metrics import tf_metrics\n",
    "\n",
    "train_metrics = [\n",
    "    tf_metrics.NumberOfEpisodes(),\n",
    "    tf_metrics.EnvironmentSteps(),\n",
    "    tf_metrics.AverageReturnMetric(),\n",
    "    tf_metrics.AverageEpisodeLengthMetric()\n",
    "]"
   ]
  },
  {
   "cell_type": "markdown",
   "metadata": {},
   "source": [
    "We can the values of each of these metrics using their `result()` methods.\n",
    "Alternatively, we can log all of the metrics by calling `log_metrics(train_metrics)`."
   ]
  },
  {
   "cell_type": "code",
   "execution_count": 67,
   "metadata": {},
   "outputs": [
    {
     "name": "stderr",
     "output_type": "stream",
     "text": [
      "INFO:absl: \n",
      "\t\t NumberOfEpisodes = 0\n",
      "\t\t EnvironmentSteps = 0\n",
      "\t\t AverageReturn = 0.0\n",
      "\t\t AverageEpisodeLength = 0.0\n"
     ]
    }
   ],
   "source": [
    "from tf_agents.eval.metric_utils import log_metrics\n",
    "import logging\n",
    "\n",
    "logging.basicConfig(level=logging.INFO)\n",
    "log_metrics(train_metrics)"
   ]
  },
  {
   "cell_type": "markdown",
   "metadata": {},
   "source": [
    "### Creating the collect driver\n",
    "\n",
    "The driver is the object the explores an environment using a policy, collects experiences, and broadcasts them to some observers.\n",
    "At each step, the following can happen:\n",
    "\n",
    "1. The driver passes the current time step to the collect policy, which uses the time step to choose an action and return and *action step* object containing the action to take.\n",
    "2. The driver passes the action to the environment which returns the next time step.\n",
    "3. The drivers creates a trajectory object to represent the this transition and broadcasts it to all the observers.\n",
    "\n",
    "There are two main driver classes available through TF-Agents: `DynamicStepDriver` and `DynamicEpisodeDriver`.\n",
    "The former collections experiences for a given number of steps and the latter collects experiences for a given number of episodes.\n",
    "We will use the `DynamicStepDriver` to collect experiences for 4 steps for each training iteration (as was done in the 2015 paper)."
   ]
  },
  {
   "cell_type": "code",
   "execution_count": 68,
   "metadata": {},
   "outputs": [],
   "source": [
    "from tf_agents.drivers.dynamic_step_driver import DynamicStepDriver\n",
    "\n",
    "collect_driver = DynamicStepDriver(\n",
    "    tf_env,\n",
    "    agent.collect_policy,\n",
    "    observers=[replay_buffer_observer] + train_metrics,\n",
    "    num_steps=update_period\n",
    ")"
   ]
  },
  {
   "cell_type": "markdown",
   "metadata": {},
   "source": [
    "We could not train it by calling its `run()` method, but its best to \"warm-up\" the replay buffer using a random policy, first.\n",
    "For this, we will use the `RandomTFPolicy` and create a second driver to run 20,000 steps."
   ]
  },
  {
   "cell_type": "code",
   "execution_count": 69,
   "metadata": {},
   "outputs": [],
   "source": [
    "from tf_agents.policies.random_tf_policy import RandomTFPolicy\n",
    "\n",
    "initial_collect_policy = RandomTFPolicy(\n",
    "    tf_env.time_step_spec(),\n",
    "    tf_env.action_spec()\n",
    ")\n",
    "\n",
    "init_driver = DynamicStepDriver(\n",
    "    tf_env,\n",
    "    initial_collect_policy,\n",
    "    observers=[replay_buffer.add_batch],\n",
    "    num_steps=20000\n",
    ")\n",
    "\n",
    "final_time_step, final_policy_state = init_driver.run()"
   ]
  },
  {
   "cell_type": "code",
   "execution_count": 70,
   "metadata": {},
   "outputs": [
    {
     "data": {
      "text/plain": [
       "TimeStep(step_type=<tf.Tensor: shape=(1,), dtype=int32, numpy=array([1], dtype=int32)>, reward=<tf.Tensor: shape=(1,), dtype=float32, numpy=array([0.], dtype=float32)>, discount=<tf.Tensor: shape=(1,), dtype=float32, numpy=array([1.], dtype=float32)>, observation=<tf.Tensor: shape=(1, 84, 84, 4), dtype=uint8, numpy=\n",
       "array([[[[0, 0, 0, 0],\n",
       "         [0, 0, 0, 0],\n",
       "         [0, 0, 0, 0],\n",
       "         ...,\n",
       "         [0, 0, 0, 0],\n",
       "         [0, 0, 0, 0],\n",
       "         [0, 0, 0, 0]],\n",
       "\n",
       "        [[0, 0, 0, 0],\n",
       "         [0, 0, 0, 0],\n",
       "         [0, 0, 0, 0],\n",
       "         ...,\n",
       "         [0, 0, 0, 0],\n",
       "         [0, 0, 0, 0],\n",
       "         [0, 0, 0, 0]],\n",
       "\n",
       "        [[0, 0, 0, 0],\n",
       "         [0, 0, 0, 0],\n",
       "         [0, 0, 0, 0],\n",
       "         ...,\n",
       "         [0, 0, 0, 0],\n",
       "         [0, 0, 0, 0],\n",
       "         [0, 0, 0, 0]],\n",
       "\n",
       "        ...,\n",
       "\n",
       "        [[0, 0, 0, 0],\n",
       "         [0, 0, 0, 0],\n",
       "         [0, 0, 0, 0],\n",
       "         ...,\n",
       "         [0, 0, 0, 0],\n",
       "         [0, 0, 0, 0],\n",
       "         [0, 0, 0, 0]],\n",
       "\n",
       "        [[0, 0, 0, 0],\n",
       "         [0, 0, 0, 0],\n",
       "         [0, 0, 0, 0],\n",
       "         ...,\n",
       "         [0, 0, 0, 0],\n",
       "         [0, 0, 0, 0],\n",
       "         [0, 0, 0, 0]],\n",
       "\n",
       "        [[0, 0, 0, 0],\n",
       "         [0, 0, 0, 0],\n",
       "         [0, 0, 0, 0],\n",
       "         ...,\n",
       "         [0, 0, 0, 0],\n",
       "         [0, 0, 0, 0],\n",
       "         [0, 0, 0, 0]]]], dtype=uint8)>)"
      ]
     },
     "execution_count": 70,
     "metadata": {},
     "output_type": "execute_result"
    }
   ],
   "source": [
    "final_time_step"
   ]
  },
  {
   "cell_type": "code",
   "execution_count": 71,
   "metadata": {},
   "outputs": [
    {
     "data": {
      "text/plain": [
       "()"
      ]
     },
     "execution_count": 71,
     "metadata": {},
     "output_type": "execute_result"
    }
   ],
   "source": [
    "final_policy_state"
   ]
  },
  {
   "cell_type": "markdown",
   "metadata": {},
   "source": [
    "### Creating the dataset\n",
    "\n",
    "To sample a batch of trajectories from the replay buffer, call its `get_next()` method.\n",
    "This returns the batch of trajectories and a `BufferInfo` object that contains the sample identifiers and their sampling probabilities.\n",
    "For example, the following code samples a small batch of two trajectories (\"subepisodes\") each containing three consecutive steps.\n",
    "\n",
    "The `trajectories` object is a named tuple with 7 fields."
   ]
  },
  {
   "cell_type": "code",
   "execution_count": 72,
   "metadata": {},
   "outputs": [
    {
     "data": {
      "text/plain": [
       "('step_type',\n",
       " 'observation',\n",
       " 'action',\n",
       " 'policy_info',\n",
       " 'next_step_type',\n",
       " 'reward',\n",
       " 'discount')"
      ]
     },
     "execution_count": 72,
     "metadata": {},
     "output_type": "execute_result"
    }
   ],
   "source": [
    "trajectories, buffer_info = replay_buffer.get_next(sample_batch_size=2,\n",
    "                                                   num_steps=3)\n",
    "trajectories._fields"
   ]
  },
  {
   "cell_type": "markdown",
   "metadata": {},
   "source": [
    "There are 2 trajaectories each of size 3.\n",
    "Each trajectory is of size 84x84x4."
   ]
  },
  {
   "cell_type": "code",
   "execution_count": 73,
   "metadata": {},
   "outputs": [
    {
     "data": {
      "text/plain": [
       "TensorShape([2, 3, 84, 84, 4])"
      ]
     },
     "execution_count": 73,
     "metadata": {},
     "output_type": "execute_result"
    }
   ],
   "source": [
    "trajectories.observation.shape"
   ]
  },
  {
   "cell_type": "code",
   "execution_count": 74,
   "metadata": {},
   "outputs": [
    {
     "data": {
      "text/plain": [
       "array([[1, 1, 1],\n",
       "       [1, 1, 1]], dtype=int32)"
      ]
     },
     "execution_count": 74,
     "metadata": {},
     "output_type": "execute_result"
    }
   ],
   "source": [
    "trajectories.step_type.numpy()"
   ]
  },
  {
   "cell_type": "code",
   "execution_count": 75,
   "metadata": {},
   "outputs": [],
   "source": [
    "def plot_observation(obs):\n",
    "    # Since there are only 3 color channels, you cannot display 4 frames\n",
    "    # with one primary color per frame. So this code computes the delta between\n",
    "    # the current frame and the mean of the other frames, and it adds this delta\n",
    "    # to the red and blue channels to get a pink color for the current frame.\n",
    "    obs = obs.astype(np.float32)\n",
    "    img = obs[..., :3]\n",
    "    current_frame_delta = np.maximum(obs[..., 3] - obs[..., :3].mean(axis=-1), 0.)\n",
    "    img[..., 0] += current_frame_delta\n",
    "    img[..., 2] += current_frame_delta\n",
    "    img = np.clip(img / 150, 0, 1)\n",
    "    plt.imshow(img)\n",
    "    plt.axis(\"off\")"
   ]
  },
  {
   "cell_type": "code",
   "execution_count": 76,
   "metadata": {},
   "outputs": [
    {
     "data": {
      "image/png": "[encoded data removed]",
      "text/plain": [
       "<Figure size 720x489.6 with 6 Axes>"
      ]
     },
     "metadata": {},
     "output_type": "display_data"
    }
   ],
   "source": [
    "plt.figure(figsize=(10, 6.8))\n",
    "for row in range(2):\n",
    "    for col in range(3):\n",
    "        plt.subplot(2, 3, row * 3 + col + 1)\n",
    "        plot_observation(trajectories.observation[row, col].numpy())\n",
    "plt.subplots_adjust(left=0, right=1, bottom=0, top=1, hspace=0, wspace=0.02)\n",
    "plt.show()"
   ]
  },
  {
   "cell_type": "markdown",
   "metadata": {},
   "source": [
    "For the main training loop, we will use a `tf.data.Dataset` so we can benefit from the power of the Data API.\n",
    "This can be accessed via the replay buffer's `as_dataset()` function."
   ]
  },
  {
   "cell_type": "code",
   "execution_count": 77,
   "metadata": {},
   "outputs": [],
   "source": [
    "dataset = replay_buffer.as_dataset(sample_batch_size=64,\n",
    "                                   num_steps=2,\n",
    "                                   num_parallel_calls=3).prefetch(3)"
   ]
  },
  {
   "cell_type": "markdown",
   "metadata": {},
   "source": [
    "### Creating the training loop\n",
    "\n",
    "Converting the main functions to F functions will speed up training."
   ]
  },
  {
   "cell_type": "code",
   "execution_count": 78,
   "metadata": {},
   "outputs": [],
   "source": [
    "from tf_agents.utils.common import function\n",
    "\n",
    "collect_driver.run = function(collect_driver.run)\n",
    "agent.train = function(agent.train)"
   ]
  },
  {
   "cell_type": "markdown",
   "metadata": {},
   "source": [
    "Now we can create a small function to train the agent over `n_iterations`."
   ]
  },
  {
   "cell_type": "code",
   "execution_count": 79,
   "metadata": {},
   "outputs": [],
   "source": [
    "def train_agent(agent, n_iterations, env, collect_driver):\n",
    "    time_step = None\n",
    "    policy_state = agent.collect_policy.get_initial_state(env.batch_size)\n",
    "    \n",
    "    iterator = iter(dataset)\n",
    "    for iteration in range(n_iterations):\n",
    "        time_step, policy_state = collect_driver.run(time_step, policy_state)\n",
    "        trajectories, buffer_info = next(iterator)\n",
    "        train_loss = agent.train(trajectories)\n",
    "        print(f\"\\r{iteration} loss: {train_loss.loss.numpy():.5f}\", end=\"\")\n",
    "        if iteration % 1000 == 0:\n",
    "            log_metrics(train_metrics)"
   ]
  },
  {
   "cell_type": "code",
   "execution_count": 80,
   "metadata": {},
   "outputs": [
    {
     "name": "stderr",
     "output_type": "stream",
     "text": [
      "INFO:absl: \n",
      "\t\t NumberOfEpisodes = 0\n",
      "\t\t EnvironmentSteps = 4\n",
      "\t\t AverageReturn = 0.0\n",
      "\t\t AverageEpisodeLength = 0.0\n"
     ]
    },
    {
     "name": "stdout",
     "output_type": "stream",
     "text": [
      "9 loss: 0.00010"
     ]
    }
   ],
   "source": [
    "train_agent(agent, 10, tf_env, collect_driver)"
   ]
  },
  {
   "cell_type": "markdown",
   "metadata": {},
   "source": [
    "### Recording the game\n",
    "\n",
    "I followed the example in this TF [tutorial](https://github.com/tensorflow/agents/blob/master/docs/tutorials/1_dqn_tutorial.ipynb) to record a game."
   ]
  },
  {
   "cell_type": "code",
   "execution_count": 81,
   "metadata": {},
   "outputs": [],
   "source": [
    "def embed_mp4(filename):\n",
    "    \"\"\"Embeds an mp4 file in the notebook.\"\"\"\n",
    "    video = open(filename,'rb').read()\n",
    "    b64 = base64.b64encode(video)\n",
    "    tag = '''\n",
    "    <video width=\"640\" height=\"480\" controls>\n",
    "    <source src=\"data:video/mp4;base64,{0}\" type=\"video/mp4\">\n",
    "    Your browser does not support the video tag.\n",
    "    </video>'''.format(b64.decode())\n",
    "\n",
    "    return IPython.display.HTML(tag)"
   ]
  },
  {
   "cell_type": "code",
   "execution_count": 82,
   "metadata": {
    "scrolled": false
   },
   "outputs": [],
   "source": [
    "import imageio\n",
    "import base64\n",
    "\n",
    "def create_policy_eval_video(policy, filename, num_episodes=5, fps=30):\n",
    "    filename = filename + \".mp4\"\n",
    "    with imageio.get_writer(filename, fps=fps) as video:\n",
    "        for _ in range(num_episodes):\n",
    "            time_step = tf_env.reset()\n",
    "            video.append_data(breakout_env.render())\n",
    "            while not time_step.is_last():\n",
    "                action_step = policy.action(time_step)\n",
    "                time_step = tf_env.step(action_step.action)\n",
    "                video.append_data(breakout_env.render())\n",
    "    return embed_mp4(filename)"
   ]
  },
  {
   "cell_type": "code",
   "execution_count": 83,
   "metadata": {},
   "outputs": [],
   "source": [
    "# create_policy_eval_video(agent.policy, \"trained-agent\", num_episodes=2, fps=5)"
   ]
  },
  {
   "cell_type": "code",
   "execution_count": null,
   "metadata": {},
   "outputs": [],
   "source": []
  },
  {
   "cell_type": "code",
   "execution_count": null,
   "metadata": {},
   "outputs": [],
   "source": []
  }
 ],
 "metadata": {
  "kernelspec": {
   "display_name": "Python 3",
   "language": "python",
   "name": "python3"
  },
  "language_info": {
   "codemirror_mode": {
    "name": "ipython",
    "version": 3
   },
   "file_extension": ".py",
   "mimetype": "text/x-python",
   "name": "python",
   "nbconvert_exporter": "python",
   "pygments_lexer": "ipython3",
   "version": "3.7.6"
  },
  "toc": {
   "base_numbering": 1,
   "nav_menu": {},
   "number_sections": true,
   "sideBar": true,
   "skip_h1_title": false,
   "title_cell": "Table of Contents",
   "title_sidebar": "Contents",
   "toc_cell": false,
   "toc_position": {},
   "toc_section_display": true,
   "toc_window_display": false
  }
 },
 "nbformat": 4,
 "nbformat_minor": 4
}
