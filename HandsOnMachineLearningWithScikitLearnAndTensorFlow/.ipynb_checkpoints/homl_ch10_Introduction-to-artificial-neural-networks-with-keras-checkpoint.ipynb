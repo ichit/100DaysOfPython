{
 "cells": [
  {
   "cell_type": "markdown",
   "metadata": {},
   "source": [
    "# Chapter 10. Introduction to Artificial Neural Networks with Keras"
   ]
  },
  {
   "cell_type": "code",
   "execution_count": 27,
   "metadata": {},
   "outputs": [],
   "source": [
    "import numpy as np\n",
    "import pandas as pd \n",
    "import matplotlib.pyplot as plt\n",
    "\n",
    "np.random.seed(0)\n",
    "\n",
    "plt.style.use('seaborn-whitegrid')"
   ]
  },
  {
   "cell_type": "code",
   "execution_count": 28,
   "metadata": {},
   "outputs": [],
   "source": [
    "%matplotlib inline"
   ]
  },
  {
   "cell_type": "code",
   "execution_count": 29,
   "metadata": {},
   "outputs": [
    {
     "name": "stdout",
     "output_type": "stream",
     "text": [
      "The ipycache extension is already loaded. To reload it, use:\n",
      "  %reload_ext ipycache\n"
     ]
    }
   ],
   "source": [
    "%load_ext ipycache"
   ]
  },
  {
   "cell_type": "markdown",
   "metadata": {},
   "source": [
    "## From biological to artificial neurons\n",
    "\n",
    "The author briefly described the origins of the field of artificial neural networks (ANN) and how real neurons work; I will skip recounting that section here.\n",
    "\n",
    "### Logical computations with neurons\n",
    "\n",
    "The first artificial neuron was proposed as a function with one or more binary inputs and one binary output.\n",
    "The output is activated when a certain number of inputs are activated.\n",
    "Several of these neurons working together can reproduce standard logic gates.\n",
    "\n",
    "### The Perceptron\n",
    "\n",
    "The *perceptron* was invented in 1957 by Frank Rosenblatt.\n",
    "It is *threshold logic unit* (TLU) (or a *linear threshold unit*, LTU).\n",
    "Each input and the  output are numeric values (not binary) and each input has an associated weight.\n",
    "The TLU computes the weighted sum of the inputs ($z = w_1 x_1 + w_2 x_2 + ... + w_n x_n = \\textbf{x}^T \\textbf{w}$) and applies a step function to the result to decide the output ($h_w(\\textbf{x}) = \\text{step}(z)$).\n",
    "The most common step functions were the *Heaviside step function* and the *sign function*:\n",
    "\n",
    "$$\n",
    "\\text{heaviside} (z) =\n",
    "\\begin{cases}\n",
    "    0 \\text{ if } z  <  0 \\\\ \n",
    "    1 \\text{ if } z \\ge 0 \\\\\n",
    "\\end{cases}\n",
    "$$\n",
    "\n",
    "$$\n",
    "\\text{sgn}(z) =\n",
    "\\begin{cases}\n",
    "    -1 \\text{if } z < 0 \\\\ \n",
    "    0  \\text{if } z = 0 \\\\\n",
    "    1  \\text{if } z > 0 \\\\\n",
    "\\end{cases}\n",
    "$$\n",
    "\n",
    "A single TLU can be used for linear classification.\n",
    "Training the TLU means finding the values for the weights ($w_1, w_2, ..., w_n = \\textbf{w}$)\n",
    "\n",
    "A perceptron is a single layer of TLUs with each TLU connected to all of the input neurons (creating a *fully connected layer*).\n",
    "The input neurons are just simple passthrough functions where the output equals the input.\n",
    "An extra *bias neuron* is usually added that always has the value 1 and is connected to each neuron; this helps with the linear algebra for calculating the output of the perceptron:\n",
    "\n",
    "$$\n",
    "h_{\\textbf{W}, \\textbf{b}} = \\phi(\\textbf{XW} + \\textbf{b}) \\\\\n",
    "$$\n",
    "\n",
    "$$\n",
    "\\text{where }\n",
    "\\begin{cases}\n",
    "    \\textbf{X}: \\text{represents the matrix of input features; one row per instance, one column per feature} \\\\\n",
    "    \\textbf{W}: \\text{represents the weight matrix from the input neurons to the TLU neurons} \\\\\n",
    "    \\textbf{b}: \\text{represents the weight vector from the bias neurons to the TLU neurons} \\\\\n",
    "    \\phi: \\text{represents the activation function; the step function for TLUs} \\\\\n",
    "\\end{cases}\n",
    "$$\n",
    "\n",
    "The perceptron is trained using *Hebb's Rule*: the connection weight between two neurons tends to increase when they fire simultaneously.\n",
    "The algorithm also accounts for the accuracy of the prediction; for each training instance, the weights are updated with the following *Perceptron learning rule*:\n",
    "\n",
    "$$\n",
    "w_{i,j}^{\\text{next step}} = w_{i,j} + \\eta (y_j - \\hat{y_j}) x_i\n",
    "$$\n",
    "\n",
    "$$\n",
    "\\text{where }\n",
    "\\begin{cases}\n",
    "    w_{i,j}: \\text{the connection weight between the } i^{th} \\text{ input neuron and } j^{th} \\text{output neuron} \\\\\n",
    "    x_i: \\text{the } i^{th} \\text{ input value of the training instance} \\\\\n",
    "    \\hat{y_j}: \\text{the output of the } j^{th} \\text{ output neuron for the training instance} \\\\\n",
    "    y_j: \\text{the target output of the } j^{th} \\text{ output neuron for the training instance} \\\\\n",
    "    \\eta: \\text{the learning rate} \\\\\n",
    "\\end{cases}\n",
    "$$\n",
    "\n",
    "The decision boundary for each output neuron is linear, so perceptrons are only capable of linear separation.\n",
    "Though, when this is possible for the data, the perceptron will converge.\n",
    "\n",
    "There are some critical limitations to a perceptron, notably that it cannot learn XOR logic, but many of these can be overcome by using multiple layers to create a *Multilayer Perceptron* (MLP)."
   ]
  },
  {
   "cell_type": "code",
   "execution_count": 30,
   "metadata": {},
   "outputs": [
    {
     "data": {
      "image/png": "[encoded data removed]",
      "text/plain": [
       "<Figure size 432x288 with 1 Axes>"
      ]
     },
     "metadata": {
      "needs_background": "light"
     },
     "output_type": "display_data"
    }
   ],
   "source": [
    "from sklearn.datasets import load_iris\n",
    "from sklearn.linear_model import Perceptron\n",
    "\n",
    "# Load the iris data and only use petal length and width (cm.).\n",
    "iris = load_iris()\n",
    "X = iris.data[:, (2, 3)]\n",
    "y = iris.target\n",
    "\n",
    "# Train a perceptron.\n",
    "per_clf = Perceptron()\n",
    "per_clf.fit(X, y)\n",
    "\n",
    "# Plot the prediction results.\n",
    "plt.scatter(X[:, 0], X[:, 1], c=per_clf.predict(X), cmap='Set1')\n",
    "plt.title('Perceptron classifying the iris data', fontsize=14)\n",
    "plt.xlabel(iris.feature_names[2], fontsize=12)\n",
    "plt.ylabel(iris.feature_names[3], fontsize=12)\n",
    "plt.show()"
   ]
  },
  {
   "cell_type": "markdown",
   "metadata": {},
   "source": [
    "## The multilayer perceptron and backpropagation"
   ]
  },
  {
   "cell_type": "code",
   "execution_count": null,
   "metadata": {},
   "outputs": [],
   "source": []
  }
 ],
 "metadata": {
  "kernelspec": {
   "display_name": "Python 3",
   "language": "python",
   "name": "python3"
  },
  "language_info": {
   "codemirror_mode": {
    "name": "ipython",
    "version": 3
   },
   "file_extension": ".py",
   "mimetype": "text/x-python",
   "name": "python",
   "nbconvert_exporter": "python",
   "pygments_lexer": "ipython3",
   "version": "3.7.4"
  },
  "toc": {
   "base_numbering": 1,
   "nav_menu": {},
   "number_sections": true,
   "sideBar": true,
   "skip_h1_title": false,
   "title_cell": "Table of Contents",
   "title_sidebar": "Contents",
   "toc_cell": false,
   "toc_position": {},
   "toc_section_display": true,
   "toc_window_display": false
  }
 },
 "nbformat": 4,
 "nbformat_minor": 2
}
