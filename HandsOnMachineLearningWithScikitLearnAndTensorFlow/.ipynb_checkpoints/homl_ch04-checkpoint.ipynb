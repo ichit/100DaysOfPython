{
 "cells": [
  {
   "cell_type": "markdown",
   "metadata": {},
   "source": [
    "# Chapter 4. Training Models\n",
    "\n",
    "In this chapter, we will work with a linear model and train it using the closed-form solution and several types of gradient descent.\n",
    "Then, we will graduate to a polynomial and look for overfitting."
   ]
  },
  {
   "cell_type": "code",
   "execution_count": 71,
   "metadata": {},
   "outputs": [],
   "source": [
    "import numpy as np\n",
    "import pandas as pd\n",
    "import matplotlib.pyplot as plt\n",
    "\n",
    "np.random.seed(0)\n",
    "\n",
    "plt.style.use('seaborn-whitegrid')\n",
    "plt.rc('figure', figsize=(8, 5), facecolor='white')"
   ]
  },
  {
   "cell_type": "code",
   "execution_count": 72,
   "metadata": {},
   "outputs": [],
   "source": [
    "%matplotlib inline"
   ]
  },
  {
   "cell_type": "markdown",
   "metadata": {},
   "source": [
    "## Linear regression\n",
    "\n",
    "### The normal equation\n",
    "\n",
    "There is a closed form solution for finding the line that minimizes the RMSE of data to a single response variable."
   ]
  },
  {
   "cell_type": "code",
   "execution_count": 73,
   "metadata": {},
   "outputs": [
    {
     "data": {
      "text/plain": [
       "array([[1.43037873],\n",
       "       [1.20552675],\n",
       "       [1.08976637],\n",
       "       [0.8473096 ]])"
      ]
     },
     "execution_count": 73,
     "metadata": {},
     "output_type": "execute_result"
    }
   ],
   "source": [
    "X = 2 * np.random.rand(100, 1)\n",
    "X[1:5]"
   ]
  },
  {
   "cell_type": "code",
   "execution_count": 74,
   "metadata": {},
   "outputs": [
    {
     "data": {
      "text/plain": [
       "array([[9.19196269],\n",
       "       [8.0822427 ],\n",
       "       [5.73305541],\n",
       "       [8.03018099]])"
      ]
     },
     "execution_count": 74,
     "metadata": {},
     "output_type": "execute_result"
    }
   ],
   "source": [
    "y = 4 + 3 * X + np.random.randn(100, 1)\n",
    "y[1:5]"
   ]
  },
  {
   "cell_type": "code",
   "execution_count": 75,
   "metadata": {},
   "outputs": [
    {
     "data": {
      "image/png": "[encoded data removed]",
      "text/plain": [
       "<Figure size 432x288 with 1 Axes>"
      ]
     },
     "metadata": {
      "needs_background": "light"
     },
     "output_type": "display_data"
    }
   ],
   "source": [
    "plt.scatter(X, y, color='black')\n",
    "plt.xlabel('X')\n",
    "plt.ylabel('y')\n",
    "plt.show()"
   ]
  },
  {
   "cell_type": "markdown",
   "metadata": {},
   "source": [
    "We will first compute the exact minimization of RMSE (really, MSE) by solving the *Normal Equation*, below.\n",
    "\n",
    "$$\n",
    "\\hat{\\theta} = (\\boldsymbol{\\text{X}}^T \\cdot \\text{X})^{-1} \\cdot \\text{X}^T \\cdot \\text{y}\n",
    "$$"
   ]
  },
  {
   "cell_type": "code",
   "execution_count": 76,
   "metadata": {},
   "outputs": [
    {
     "data": {
      "text/plain": [
       "array([[4.22215108],\n",
       "       [2.96846751]])"
      ]
     },
     "execution_count": 76,
     "metadata": {},
     "output_type": "execute_result"
    }
   ],
   "source": [
    "X_b = np.c_[np.ones((100, 1)), X]\n",
    "theta_best = np.linalg.inv(X_b.T.dot(X_b)).dot(X_b.T).dot(y)\n",
    "theta_best"
   ]
  },
  {
   "cell_type": "markdown",
   "metadata": {},
   "source": [
    "These values can be used for making predictions given new data points."
   ]
  },
  {
   "cell_type": "code",
   "execution_count": 77,
   "metadata": {},
   "outputs": [
    {
     "data": {
      "text/plain": [
       "array([[ 4.22215108],\n",
       "       [10.1590861 ]])"
      ]
     },
     "execution_count": 77,
     "metadata": {},
     "output_type": "execute_result"
    }
   ],
   "source": [
    "X_new = np.array([[0], [2]])\n",
    "X_new_b = np.c_[np.ones((2, 1)), X_new]\n",
    "y_predict = X_new_b.dot(theta_best)\n",
    "y_predict"
   ]
  },
  {
   "cell_type": "code",
   "execution_count": 78,
   "metadata": {},
   "outputs": [
    {
     "data": {
      "image/png": "[encoded data removed]",
      "text/plain": [
       "<Figure size 432x288 with 1 Axes>"
      ]
     },
     "metadata": {
      "needs_background": "light"
     },
     "output_type": "display_data"
    }
   ],
   "source": [
    "plt.plot(X_new, y_predict, 'r-')\n",
    "plt.plot(X, y, 'b.', alpha=0.7)\n",
    "plt.show()"
   ]
  },
  {
   "cell_type": "markdown",
   "metadata": {},
   "source": [
    "This, of course, can be more easily (and safely) done with Scikit-Learn."
   ]
  },
  {
   "cell_type": "code",
   "execution_count": 79,
   "metadata": {},
   "outputs": [
    {
     "data": {
      "text/plain": [
       "array([4.22215108])"
      ]
     },
     "execution_count": 79,
     "metadata": {},
     "output_type": "execute_result"
    }
   ],
   "source": [
    "from sklearn.linear_model import LinearRegression\n",
    "\n",
    "# Fit an Scikit-Learn linear regression model.\n",
    "lin_reg = LinearRegression()\n",
    "lin_reg.fit(X, y)\n",
    "\n",
    "# The intercept of the fit model.\n",
    "lin_reg.intercept_"
   ]
  },
  {
   "cell_type": "code",
   "execution_count": 80,
   "metadata": {},
   "outputs": [
    {
     "data": {
      "text/plain": [
       "array([[2.96846751]])"
      ]
     },
     "execution_count": 80,
     "metadata": {},
     "output_type": "execute_result"
    }
   ],
   "source": [
    "lin_reg.coef_"
   ]
  },
  {
   "cell_type": "code",
   "execution_count": 81,
   "metadata": {},
   "outputs": [
    {
     "data": {
      "text/plain": [
       "array([[ 4.22215108],\n",
       "       [10.1590861 ]])"
      ]
     },
     "execution_count": 81,
     "metadata": {},
     "output_type": "execute_result"
    }
   ],
   "source": [
    "# Make predictions for new data.\n",
    "lin_reg.predict(X_new)"
   ]
  },
  {
   "cell_type": "markdown",
   "metadata": {},
   "source": [
    "### Gradient Descent\n",
    "\n",
    "There are other ways to fit a linear model that are better suited for many features.\n",
    "\n",
    "The main idea behind *gradient descent* is to tweak parameters towards minimizing some objective function.\n",
    "An important parameter is the *learning rate* which determines the step size of the optimization.\n",
    "Also, there may be local minima that trap the optimization.\n",
    "\n",
    "It is generally good advice to have scaled features for gradient descent such that all dimensions are related in scale.\n",
    "\n",
    "#### Batch gradient descent\n",
    "\n",
    "The find the best direction to move, the partial derivative must be found for each dimension.\n",
    "This is done manually below, but of course it can be done quickly using the appropriate Scikit-Learn solver.\n",
    "The equation for the partial derivative is below:\n",
    "\n",
    "$$\n",
    "\\nabla_{\\theta}\\text{MSE}(\\theta) =\n",
    "\\begin{pmatrix}\n",
    "    {\\frac{\\partial}{\\partial \\theta_0}\\text{MSE}(\\theta)} \\\\\n",
    "    {\\frac{\\partial}{\\partial \\theta_1}\\text{MSE}(\\theta)} \\\\\n",
    "    {...} \\\\\n",
    "    {\\frac{\\partial}{\\partial \\theta_n}\\text{MSE}(\\theta)} \\\\\n",
    "    \\end{pmatrix} =\n",
    "\\frac{2}{m}\\text{X}^T \\cdot (\\text{X} \\cdot \\theta -\\text{y})\n",
    "$$"
   ]
  },
  {
   "cell_type": "code",
   "execution_count": 82,
   "metadata": {},
   "outputs": [
    {
     "data": {
      "text/plain": [
       "array([[4.22215108],\n",
       "       [2.96846751]])"
      ]
     },
     "execution_count": 82,
     "metadata": {},
     "output_type": "execute_result"
    }
   ],
   "source": [
    "eta = 0.1  # learning rate\n",
    "n_iterations = 1000  # number of iterations of gradient descent\n",
    "m=X.shape[0]  # number of data points\n",
    "\n",
    "theta = np.random.randn(2, 1) # randomly initialize theta\n",
    "\n",
    "for iteration in range(n_iterations):\n",
    "    gradients = 2/m * X_b.T.dot(X_b.dot(theta) - y)\n",
    "    theta = theta - eta * gradients\n",
    "    \n",
    "theta"
   ]
  },
  {
   "cell_type": "markdown",
   "metadata": {},
   "source": [
    "The see the effect of the learning rate, I built a function that plots the line generated at each step."
   ]
  },
  {
   "cell_type": "code",
   "execution_count": 83,
   "metadata": {},
   "outputs": [],
   "source": [
    "\n",
    "def get_styling_details(current_iteration, max_iterations):\n",
    "    \"\"\"Get the styling details for the line plot depending on the iteration.\"\"\"\n",
    "    if current_iteration == 0:\n",
    "        return ('r--', 1)\n",
    "    elif current_iteration == max_iterations:\n",
    "        return ('b-', 1.0)\n",
    "    elif current_iteration < 10:\n",
    "        return ('b--', 0.3)\n",
    "    else:\n",
    "        return ('k-', 0.0)\n",
    "\n",
    "\n",
    "def plot_current_line(theta, current_iteration, max_iterations):\n",
    "    \"\"\"Plot the current line.\"\"\"\n",
    "    style, alpha = get_styling_details(current_iteration, max_iterations)\n",
    "    y_predict = X_new_b.dot(theta)\n",
    "    plt.plot(X_new, y_predict, style, alpha=alpha)\n",
    "\n",
    "\n",
    "def plot_gradient_descent(theta, eta):\n",
    "    \"\"\"Perform gradient descent and plot the intermediates.\"\"\"\n",
    "    \n",
    "    m = len(X_b)\n",
    "    plt.plot(X, y, \"b.\")\n",
    "    n_iterations = 1000\n",
    "    \n",
    "    for iteration in range(n_iterations):\n",
    "        if iteration < 10 or iteration == n_iterations-1 :\n",
    "            plot_current_line(theta, iteration, n_iterations-1)\n",
    "        \n",
    "        gradients = 2/m * X_b.T.dot(X_b.dot(theta) - y)\n",
    "        theta = theta - eta * gradients\n",
    "    \n",
    "    plt.xlabel('$X$', fontsize=18)\n",
    "    plt.axis([0, 2, 0, 15])\n",
    "    plt.title(f'$\\eta = {eta}$', fontsize=16)"
   ]
  },
  {
   "cell_type": "code",
   "execution_count": 84,
   "metadata": {},
   "outputs": [
    {
     "data": {
      "image/png": "[encoded data removed]",
      "text/plain": [
       "<Figure size 432x288 with 3 Axes>"
      ]
     },
     "metadata": {
      "needs_background": "light"
     },
     "output_type": "display_data"
    }
   ],
   "source": [
    "random_initial_theta = np.random.randn(2, 1)\n",
    "fig = plt.figure()\n",
    "plt.subplot(1, 3, 1)\n",
    "plot_gradient_descent(random_initial_theta, 0.01)\n",
    "plt.subplot(1, 3, 2)\n",
    "plot_gradient_descent(random_initial_theta, 0.1)\n",
    "plt.subplot(1, 3, 3)\n",
    "plot_gradient_descent(random_initial_theta, 0.5)"
   ]
  },
  {
   "cell_type": "code",
   "execution_count": null,
   "metadata": {},
   "outputs": [],
   "source": []
  }
 ],
 "metadata": {
  "kernelspec": {
   "display_name": "Python 3",
   "language": "python",
   "name": "python3"
  },
  "language_info": {
   "codemirror_mode": {
    "name": "ipython",
    "version": 3
   },
   "file_extension": ".py",
   "mimetype": "text/x-python",
   "name": "python",
   "nbconvert_exporter": "python",
   "pygments_lexer": "ipython3",
   "version": "3.7.4"
  },
  "toc": {
   "base_numbering": 1,
   "nav_menu": {},
   "number_sections": true,
   "sideBar": true,
   "skip_h1_title": false,
   "title_cell": "Table of Contents",
   "title_sidebar": "Contents",
   "toc_cell": false,
   "toc_position": {},
   "toc_section_display": true,
   "toc_window_display": false
  }
 },
 "nbformat": 4,
 "nbformat_minor": 2
}
