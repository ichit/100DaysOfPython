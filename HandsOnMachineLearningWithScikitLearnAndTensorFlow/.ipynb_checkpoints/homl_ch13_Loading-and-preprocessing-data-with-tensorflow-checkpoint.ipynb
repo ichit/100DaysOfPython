{
 "cells": [
  {
   "cell_type": "markdown",
   "metadata": {},
   "source": [
    "# Loading and Preprocessing Data with TensorFlow\n",
    "\n",
    "The *Data API* availabe from TensorFlow makes handling large data sets that don't fit into RAM much easier. In general, a dataset object is created and told where to find files. It then manages the rest of the implementation details including multithreading, queueing, batching, and prefetching."
   ]
  },
  {
   "cell_type": "code",
   "execution_count": 1,
   "metadata": {},
   "outputs": [],
   "source": [
    "import numpy as np\n",
    "import pandas as pd \n",
    "import matplotlib as mpl\n",
    "import matplotlib.pyplot as plt\n",
    "import seaborn as sns\n",
    "import tensorflow as tf \n",
    "from tensorflow import keras\n",
    "from pathlib import Path\n",
    "\n",
    "%matplotlib inline\n",
    "np.random.seed(0)\n",
    "plt.style.use('seaborn-whitegrid')\n",
    "assets_dir = Path('assets', 'ch13')"
   ]
  },
  {
   "cell_type": "markdown",
   "metadata": {},
   "source": [
    "## The Data API\n",
    "\n",
    "The Data API is centered around the concept of a *dataset*, a sequence of data items.\n",
    "For simplicity, the first example below shows a dataset held in memory created using `from_tensor_slices()`.\n",
    "It is an iterable."
   ]
  },
  {
   "cell_type": "code",
   "execution_count": 2,
   "metadata": {},
   "outputs": [
    {
     "data": {
      "text/plain": [
       "<TensorSliceDataset shapes: (), types: tf.int32>"
      ]
     },
     "execution_count": 2,
     "metadata": {},
     "output_type": "execute_result"
    }
   ],
   "source": [
    "X = tf.range(10)\n",
    "dataset = tf.data.Dataset.from_tensor_slices(X)\n",
    "dataset"
   ]
  },
  {
   "cell_type": "code",
   "execution_count": 3,
   "metadata": {},
   "outputs": [
    {
     "name": "stdout",
     "output_type": "stream",
     "text": [
      "tf.Tensor(0, shape=(), dtype=int32)\n",
      "tf.Tensor(1, shape=(), dtype=int32)\n",
      "tf.Tensor(2, shape=(), dtype=int32)\n",
      "tf.Tensor(3, shape=(), dtype=int32)\n",
      "tf.Tensor(4, shape=(), dtype=int32)\n",
      "tf.Tensor(5, shape=(), dtype=int32)\n",
      "tf.Tensor(6, shape=(), dtype=int32)\n",
      "tf.Tensor(7, shape=(), dtype=int32)\n",
      "tf.Tensor(8, shape=(), dtype=int32)\n",
      "tf.Tensor(9, shape=(), dtype=int32)\n"
     ]
    }
   ],
   "source": [
    "for t in dataset:\n",
    "    print(t)"
   ]
  },
  {
   "cell_type": "markdown",
   "metadata": {},
   "source": [
    "### Chaining transformations\n",
    "\n",
    "The dataset object has many transformation methods that return new datasets, making it easy to chain the methods."
   ]
  },
  {
   "cell_type": "code",
   "execution_count": 4,
   "metadata": {},
   "outputs": [
    {
     "name": "stdout",
     "output_type": "stream",
     "text": [
      "tf.Tensor([0 1 2 3 4 5 6], shape=(7,), dtype=int32)\n",
      "tf.Tensor([7 8 9 0 1 2 3], shape=(7,), dtype=int32)\n",
      "tf.Tensor([4 5 6 7 8 9 0], shape=(7,), dtype=int32)\n",
      "tf.Tensor([1 2 3 4 5 6 7], shape=(7,), dtype=int32)\n",
      "tf.Tensor([8 9], shape=(2,), dtype=int32)\n"
     ]
    }
   ],
   "source": [
    "dataset = dataset.repeat(3).batch(7)\n",
    "for t in dataset:\n",
    "    print(t)"
   ]
  },
  {
   "cell_type": "markdown",
   "metadata": {},
   "source": [
    "Alternatively, `map()` can be used to apply custom transformations."
   ]
  },
  {
   "cell_type": "code",
   "execution_count": 5,
   "metadata": {},
   "outputs": [],
   "source": [
    "dataset = dataset.map(lambda x: x * 2)"
   ]
  },
  {
   "cell_type": "markdown",
   "metadata": {},
   "source": [
    "The `apply()` method applies a function to the dataset as a whole, not each item individually.\n",
    "The following example removes the batches created above."
   ]
  },
  {
   "cell_type": "code",
   "execution_count": 6,
   "metadata": {},
   "outputs": [
    {
     "name": "stdout",
     "output_type": "stream",
     "text": [
      "WARNING:tensorflow:From <ipython-input-6-15e8a30c9761>:1: unbatch (from tensorflow.python.data.experimental.ops.batching) is deprecated and will be removed in a future version.\n",
      "Instructions for updating:\n",
      "Use `tf.data.Dataset.unbatch()`.\n"
     ]
    }
   ],
   "source": [
    "dataset = dataset.apply(tf.data.experimental.unbatch())"
   ]
  },
  {
   "cell_type": "markdown",
   "metadata": {},
   "source": [
    "The `filter()` method makes it each to apply a filter to each data point."
   ]
  },
  {
   "cell_type": "code",
   "execution_count": 7,
   "metadata": {},
   "outputs": [],
   "source": [
    "dataset = dataset.filter(lambda x: x < 10)"
   ]
  },
  {
   "cell_type": "markdown",
   "metadata": {},
   "source": [
    "The `take()` method can be used to look at just a few data points."
   ]
  },
  {
   "cell_type": "code",
   "execution_count": 8,
   "metadata": {},
   "outputs": [
    {
     "name": "stdout",
     "output_type": "stream",
     "text": [
      "tf.Tensor(0, shape=(), dtype=int32)\n",
      "tf.Tensor(2, shape=(), dtype=int32)\n",
      "tf.Tensor(4, shape=(), dtype=int32)\n"
     ]
    }
   ],
   "source": [
    "for t in dataset.take(3):\n",
    "    print(t)"
   ]
  },
  {
   "cell_type": "markdown",
   "metadata": {},
   "source": [
    "### Shuffling the data\n",
    "\n",
    "The shuffling method uses a buffer in memory to prepare data points before they are used and then randomly pulls one to be used when requested.\n",
    "The size of the buffer must be declared so that all of the RAM is not consumed, but it also a bottleneck on how well the data will be shuffled."
   ]
  },
  {
   "cell_type": "code",
   "execution_count": 9,
   "metadata": {},
   "outputs": [
    {
     "name": "stdout",
     "output_type": "stream",
     "text": [
      "tf.Tensor([2 1 5 0 7 6 0], shape=(7,), dtype=int64)\n",
      "tf.Tensor([4 3 9 8 2 3 4], shape=(7,), dtype=int64)\n",
      "tf.Tensor([8 6 0 7 2 3 9], shape=(7,), dtype=int64)\n",
      "tf.Tensor([5 1 4 1 5 9 6], shape=(7,), dtype=int64)\n",
      "tf.Tensor([7 8], shape=(2,), dtype=int64)\n"
     ]
    }
   ],
   "source": [
    "dataset = tf.data.Dataset.range(10).repeat(3)\n",
    "dataset = dataset.shuffle(buffer_size=5, seed=0).batch(7)\n",
    "for t in dataset:\n",
    "    print(t)"
   ]
  },
  {
   "cell_type": "markdown",
   "metadata": {},
   "source": [
    "One solution to the limits of `shuffle()` is to pre-shuffle the data.\n",
    "For example, the `shuf` command in Linux shuffles the lines of a file.\n",
    "Still, we will want to shuffle the file on each epoch.\n",
    "To shuffle the data further, it is common the split the data into multiple files and then read in data from them randomly simultaneously, interleaving their records.\n",
    "This method, paired with `shuffle()`, is usually a great way to shuffle the data and is easily accomplished with the Data API.\n",
    "\n",
    "For this example, I split the housing data into 10 files."
   ]
  },
  {
   "cell_type": "code",
   "execution_count": 10,
   "metadata": {},
   "outputs": [
    {
     "data": {
      "text/html": [
       "<div>\n",
       "<style scoped>\n",
       "    .dataframe tbody tr th:only-of-type {\n",
       "        vertical-align: middle;\n",
       "    }\n",
       "\n",
       "    .dataframe tbody tr th {\n",
       "        vertical-align: top;\n",
       "    }\n",
       "\n",
       "    .dataframe thead th {\n",
       "        text-align: right;\n",
       "    }\n",
       "</style>\n",
       "<table border=\"1\" class=\"dataframe\">\n",
       "  <thead>\n",
       "    <tr style=\"text-align: right;\">\n",
       "      <th></th>\n",
       "      <th>MedInc</th>\n",
       "      <th>HouseAge</th>\n",
       "      <th>AveRooms</th>\n",
       "      <th>AveBedrms</th>\n",
       "      <th>Population</th>\n",
       "      <th>AveOccup</th>\n",
       "      <th>Latitude</th>\n",
       "      <th>Longitude</th>\n",
       "      <th>MedianHousingValue</th>\n",
       "    </tr>\n",
       "  </thead>\n",
       "  <tbody>\n",
       "    <tr>\n",
       "      <th>14740</th>\n",
       "      <td>4.1518</td>\n",
       "      <td>22.0</td>\n",
       "      <td>5.663073</td>\n",
       "      <td>1.075472</td>\n",
       "      <td>1551.0</td>\n",
       "      <td>4.180593</td>\n",
       "      <td>32.58</td>\n",
       "      <td>-117.05</td>\n",
       "      <td>1.369</td>\n",
       "    </tr>\n",
       "    <tr>\n",
       "      <th>10101</th>\n",
       "      <td>5.7796</td>\n",
       "      <td>32.0</td>\n",
       "      <td>6.107226</td>\n",
       "      <td>0.927739</td>\n",
       "      <td>1296.0</td>\n",
       "      <td>3.020979</td>\n",
       "      <td>33.92</td>\n",
       "      <td>-117.97</td>\n",
       "      <td>2.413</td>\n",
       "    </tr>\n",
       "    <tr>\n",
       "      <th>20566</th>\n",
       "      <td>4.3487</td>\n",
       "      <td>29.0</td>\n",
       "      <td>5.930712</td>\n",
       "      <td>1.026217</td>\n",
       "      <td>1554.0</td>\n",
       "      <td>2.910112</td>\n",
       "      <td>38.65</td>\n",
       "      <td>-121.84</td>\n",
       "      <td>2.007</td>\n",
       "    </tr>\n",
       "    <tr>\n",
       "      <th>2670</th>\n",
       "      <td>2.4511</td>\n",
       "      <td>37.0</td>\n",
       "      <td>4.992958</td>\n",
       "      <td>1.316901</td>\n",
       "      <td>390.0</td>\n",
       "      <td>2.746479</td>\n",
       "      <td>33.20</td>\n",
       "      <td>-115.60</td>\n",
       "      <td>0.725</td>\n",
       "    </tr>\n",
       "    <tr>\n",
       "      <th>15709</th>\n",
       "      <td>5.0049</td>\n",
       "      <td>25.0</td>\n",
       "      <td>4.319261</td>\n",
       "      <td>1.039578</td>\n",
       "      <td>649.0</td>\n",
       "      <td>1.712401</td>\n",
       "      <td>37.79</td>\n",
       "      <td>-122.43</td>\n",
       "      <td>4.600</td>\n",
       "    </tr>\n",
       "    <tr>\n",
       "      <th>...</th>\n",
       "      <td>...</td>\n",
       "      <td>...</td>\n",
       "      <td>...</td>\n",
       "      <td>...</td>\n",
       "      <td>...</td>\n",
       "      <td>...</td>\n",
       "      <td>...</td>\n",
       "      <td>...</td>\n",
       "      <td>...</td>\n",
       "    </tr>\n",
       "    <tr>\n",
       "      <th>13123</th>\n",
       "      <td>4.4125</td>\n",
       "      <td>20.0</td>\n",
       "      <td>6.000000</td>\n",
       "      <td>1.045662</td>\n",
       "      <td>712.0</td>\n",
       "      <td>3.251142</td>\n",
       "      <td>38.27</td>\n",
       "      <td>-121.26</td>\n",
       "      <td>1.446</td>\n",
       "    </tr>\n",
       "    <tr>\n",
       "      <th>19648</th>\n",
       "      <td>2.9135</td>\n",
       "      <td>27.0</td>\n",
       "      <td>5.349282</td>\n",
       "      <td>0.933014</td>\n",
       "      <td>647.0</td>\n",
       "      <td>3.095694</td>\n",
       "      <td>37.48</td>\n",
       "      <td>-120.89</td>\n",
       "      <td>1.594</td>\n",
       "    </tr>\n",
       "    <tr>\n",
       "      <th>9845</th>\n",
       "      <td>3.1977</td>\n",
       "      <td>31.0</td>\n",
       "      <td>3.641221</td>\n",
       "      <td>0.941476</td>\n",
       "      <td>704.0</td>\n",
       "      <td>1.791349</td>\n",
       "      <td>36.58</td>\n",
       "      <td>-121.90</td>\n",
       "      <td>2.893</td>\n",
       "    </tr>\n",
       "    <tr>\n",
       "      <th>10799</th>\n",
       "      <td>5.6315</td>\n",
       "      <td>34.0</td>\n",
       "      <td>4.540598</td>\n",
       "      <td>1.064103</td>\n",
       "      <td>1052.0</td>\n",
       "      <td>2.247863</td>\n",
       "      <td>33.62</td>\n",
       "      <td>-117.93</td>\n",
       "      <td>4.846</td>\n",
       "    </tr>\n",
       "    <tr>\n",
       "      <th>2732</th>\n",
       "      <td>1.3882</td>\n",
       "      <td>15.0</td>\n",
       "      <td>3.929530</td>\n",
       "      <td>1.100671</td>\n",
       "      <td>1024.0</td>\n",
       "      <td>3.436242</td>\n",
       "      <td>32.80</td>\n",
       "      <td>-115.56</td>\n",
       "      <td>0.694</td>\n",
       "    </tr>\n",
       "  </tbody>\n",
       "</table>\n",
       "<p>20640 rows × 9 columns</p>\n",
       "</div>"
      ],
      "text/plain": [
       "       MedInc  HouseAge  AveRooms  AveBedrms  Population  AveOccup  Latitude  \\\n",
       "14740  4.1518      22.0  5.663073   1.075472      1551.0  4.180593     32.58   \n",
       "10101  5.7796      32.0  6.107226   0.927739      1296.0  3.020979     33.92   \n",
       "20566  4.3487      29.0  5.930712   1.026217      1554.0  2.910112     38.65   \n",
       "2670   2.4511      37.0  4.992958   1.316901       390.0  2.746479     33.20   \n",
       "15709  5.0049      25.0  4.319261   1.039578       649.0  1.712401     37.79   \n",
       "...       ...       ...       ...        ...         ...       ...       ...   \n",
       "13123  4.4125      20.0  6.000000   1.045662       712.0  3.251142     38.27   \n",
       "19648  2.9135      27.0  5.349282   0.933014       647.0  3.095694     37.48   \n",
       "9845   3.1977      31.0  3.641221   0.941476       704.0  1.791349     36.58   \n",
       "10799  5.6315      34.0  4.540598   1.064103      1052.0  2.247863     33.62   \n",
       "2732   1.3882      15.0  3.929530   1.100671      1024.0  3.436242     32.80   \n",
       "\n",
       "       Longitude  MedianHousingValue  \n",
       "14740    -117.05               1.369  \n",
       "10101    -117.97               2.413  \n",
       "20566    -121.84               2.007  \n",
       "2670     -115.60               0.725  \n",
       "15709    -122.43               4.600  \n",
       "...          ...                 ...  \n",
       "13123    -121.26               1.446  \n",
       "19648    -120.89               1.594  \n",
       "9845     -121.90               2.893  \n",
       "10799    -117.93               4.846  \n",
       "2732     -115.56               0.694  \n",
       "\n",
       "[20640 rows x 9 columns]"
      ]
     },
     "execution_count": 10,
     "metadata": {},
     "output_type": "execute_result"
    }
   ],
   "source": [
    "from sklearn.datasets import fetch_california_housing\n",
    "\n",
    "cal_housing = fetch_california_housing()\n",
    "df = pd.DataFrame(cal_housing.data)\n",
    "df.columns = cal_housing.feature_names\n",
    "df['MedianHousingValue'] = cal_housing.target\n",
    "df = df.sample(frac=1)\n",
    "df"
   ]
  },
  {
   "cell_type": "code",
   "execution_count": 11,
   "metadata": {},
   "outputs": [],
   "source": [
    "cal_housing_files = []\n",
    "for i, split_df in enumerate(np.split(df, 10)):\n",
    "    file_path = assets_dir.joinpath('ca_housing_' + str(i) + '.csv')\n",
    "    cal_housing_files.append(file_path)\n",
    "    split_df.to_csv(file_path, index=False)"
   ]
  },
  {
   "cell_type": "code",
   "execution_count": 12,
   "metadata": {},
   "outputs": [
    {
     "data": {
      "text/plain": [
       "[PosixPath('assets/ch13/ca_housing_0.csv'),\n",
       " PosixPath('assets/ch13/ca_housing_1.csv'),\n",
       " PosixPath('assets/ch13/ca_housing_2.csv'),\n",
       " PosixPath('assets/ch13/ca_housing_3.csv'),\n",
       " PosixPath('assets/ch13/ca_housing_4.csv'),\n",
       " PosixPath('assets/ch13/ca_housing_5.csv'),\n",
       " PosixPath('assets/ch13/ca_housing_6.csv'),\n",
       " PosixPath('assets/ch13/ca_housing_7.csv'),\n",
       " PosixPath('assets/ch13/ca_housing_8.csv'),\n",
       " PosixPath('assets/ch13/ca_housing_9.csv')]"
      ]
     },
     "execution_count": 12,
     "metadata": {},
     "output_type": "execute_result"
    }
   ],
   "source": [
    "cal_housing_files"
   ]
  },
  {
   "cell_type": "markdown",
   "metadata": {},
   "source": [
    "Now we can create a dataset object and point to all three of the files.\n",
    "Alternatively, we could pass a pattern such as `'assets/ch13/ca_housing_*.csv'`."
   ]
  },
  {
   "cell_type": "code",
   "execution_count": 13,
   "metadata": {},
   "outputs": [],
   "source": [
    "cal_housing_strs = [x.as_posix() for x in cal_housing_files]\n",
    "filepath_dataset = tf.data.Dataset.list_files(cal_housing_strs, seed=0)"
   ]
  },
  {
   "cell_type": "markdown",
   "metadata": {},
   "source": [
    "Then the `interleave()` function can pull randomly from the files.\n",
    "Make sure to skip the first row since it contains the headers."
   ]
  },
  {
   "cell_type": "code",
   "execution_count": 14,
   "metadata": {},
   "outputs": [],
   "source": [
    "dataset = filepath_dataset.interleave(\n",
    "    lambda fp: tf.data.TextLineDataset(fp).skip(1)\n",
    ")"
   ]
  },
  {
   "cell_type": "code",
   "execution_count": 15,
   "metadata": {},
   "outputs": [
    {
     "name": "stdout",
     "output_type": "stream",
     "text": [
      "b'4.2386,6.0,7.723076923076923,1.1692307692307693,228.0,3.5076923076923077,33.83,-117.55,5.00001'\n",
      "b'4.1518,22.0,5.663072776280323,1.0754716981132075,1551.0,4.180592991913747,32.58,-117.05,1.369'\n",
      "b'3.125,16.0,5.380070546737214,1.0582010582010581,3407.0,3.004409171075838,36.8,-119.83,0.808'\n",
      "b'3.2875,52.0,5.990936555891238,1.039274924471299,887.0,2.6797583081570995,34.07,-118.15,2.344'\n",
      "b'4.3898,52.0,5.32662192393736,1.1006711409395973,1485.0,3.3221476510067114,37.73,-122.44,2.7'\n"
     ]
    }
   ],
   "source": [
    "for line in dataset.take(5):\n",
    "    print(line.numpy())"
   ]
  },
  {
   "cell_type": "markdown",
   "metadata": {},
   "source": [
    "Note that the data are still byte strings that need to be processed further, still.\n",
    "\n",
    "### Preprocessing the data\n",
    "\n",
    "We can write a function to preprocess this input data.\n",
    "This implementation assumes we have precomputed the mean and standard deviation for each column.\n",
    "\n",
    "The first step is to define defaults and use those to help decode the byte string using `tf.io.decode_csv()`.\n",
    "Then `x` and `y` are made as as stacks of the list of 1D tensors, one per column, returned from the previous step.\n",
    "Finally,  the z-scaled data points and the target values are returned."
   ]
  },
  {
   "cell_type": "code",
   "execution_count": 16,
   "metadata": {},
   "outputs": [],
   "source": [
    "n_inputs = 8\n",
    "X_mean = df.mean().tolist()[:n_inputs]\n",
    "X_std = df.std().tolist()[:n_inputs]\n",
    "\n",
    "def preprocess(line):\n",
    "    defs = [0.0] * n_inputs + [tf.constant([], dtype=tf.float32)]\n",
    "    fields = tf.io.decode_csv(line, record_defaults=defs)\n",
    "    x = tf.stack(fields[:-1])\n",
    "    y = tf.stack(fields[-1:])\n",
    "    return (x - X_mean) / X_std, y"
   ]
  },
  {
   "cell_type": "code",
   "execution_count": 17,
   "metadata": {},
   "outputs": [
    {
     "data": {
      "text/plain": [
       "(<tf.Tensor: id=187, shape=(8,), dtype=float32, numpy=\n",
       " array([ 2.344709  ,  0.98211884,  0.6285442 , -0.15375382, -0.97440493,\n",
       "        -0.04959533,  1.0525227 , -1.3278059 ], dtype=float32)>,\n",
       " <tf.Tensor: id=183, shape=(1,), dtype=float32, numpy=array([4.526], dtype=float32)>)"
      ]
     },
     "execution_count": 17,
     "metadata": {},
     "output_type": "execute_result"
    }
   ],
   "source": [
    "preprocess(b'8.3252,41.0,6.984126984126984,1.0238095238095237,322.0,2.5555555555555554,37.88,-122.23,4.526')"
   ]
  },
  {
   "cell_type": "markdown",
   "metadata": {},
   "source": [
    "Finally, we can create one function to wrap all of these steps into one."
   ]
  },
  {
   "cell_type": "code",
   "execution_count": 18,
   "metadata": {},
   "outputs": [],
   "source": [
    "def csv_reader_dataset(filepaths, repeat=1, n_readers=5,\n",
    "                       n_read_threads=None, shuffle_buffer_size=10000,\n",
    "                       n_parse_threads=5, batch_size=32):\n",
    "    dataset = tf.data.Dataset.list_files(filepaths)\n",
    "    dataset = dataset.interleave(\n",
    "        lambda fp: tf.data.TextLineDataset(fp).skip(1),\n",
    "        cycle_length=n_readers, num_parallel_calls=n_read_threads\n",
    "    )\n",
    "    dataset = dataset.map(preprocess, num_parallel_calls=n_parse_threads)\n",
    "    dataset = dataset.shuffle(shuffle_buffer_size).repeat(repeat)\n",
    "    return dataset.batch(batch_size).prefetch(1)"
   ]
  },
  {
   "cell_type": "markdown",
   "metadata": {},
   "source": [
    "### Prefetching\n",
    "\n",
    "The `prefecth(1)` included at the end of `csv_reader_dataset()` ensures that the next batch is ready to be used when the current training step is completed.\n",
    "\n",
    "### Using the dataset with tf.keras\n",
    "\n",
    "The dataset we have built can be used directly by Keras."
   ]
  },
  {
   "cell_type": "code",
   "execution_count": 19,
   "metadata": {},
   "outputs": [],
   "source": [
    "train_set = csv_reader_dataset(cal_housing_strs[:5])\n",
    "valid_set = csv_reader_dataset(cal_housing_strs[5:8])\n",
    "test_set = csv_reader_dataset(cal_housing_strs[8:])"
   ]
  },
  {
   "cell_type": "code",
   "execution_count": 20,
   "metadata": {},
   "outputs": [
    {
     "name": "stdout",
     "output_type": "stream",
     "text": [
      "Epoch 1/10\n",
      "323/323 [==============================] - 17s 52ms/step - loss: 3.0097 - val_loss: 0.0000e+00\n",
      "Epoch 2/10\n",
      "323/323 [==============================] - 5s 15ms/step - loss: 2.3176 - val_loss: 1.3552\n",
      "Epoch 3/10\n",
      "323/323 [==============================] - 5s 15ms/step - loss: 1.3191 - val_loss: 1.1061\n",
      "Epoch 4/10\n",
      "323/323 [==============================] - 6s 17ms/step - loss: 1.2183 - val_loss: 0.9694\n",
      "Epoch 5/10\n",
      "323/323 [==============================] - 5s 17ms/step - loss: 1.0083 - val_loss: 0.8889\n",
      "Epoch 6/10\n",
      "323/323 [==============================] - 5s 15ms/step - loss: 0.8951 - val_loss: 0.8343\n",
      "Epoch 7/10\n",
      "323/323 [==============================] - 5s 17ms/step - loss: 0.8229 - val_loss: 0.7974\n",
      "Epoch 8/10\n",
      "323/323 [==============================] - 5s 16ms/step - loss: 0.7925 - val_loss: 0.7686\n",
      "Epoch 9/10\n",
      "323/323 [==============================] - 8s 24ms/step - loss: 0.7603 - val_loss: 0.7381\n",
      "Epoch 10/10\n",
      "323/323 [==============================] - 6s 17ms/step - loss: 0.7400 - val_loss: 0.7115\n"
     ]
    }
   ],
   "source": [
    "model = keras.models.Sequential([\n",
    "    keras.layers.InputLayer(n_inputs),\n",
    "    keras.layers.Dense(20, activation='relu', kernel_initializer='he_normal',\n",
    "                       kernel_regularizer=keras.regularizers.l2(0.01)),\n",
    "    keras.layers.Dense(10, activation='relu', kernel_initializer='he_normal',\n",
    "                       kernel_regularizer=keras.regularizers.l2(0.01)),\n",
    "    keras.layers.Dense(5, activation='relu', kernel_initializer='he_normal',\n",
    "                       kernel_regularizer=keras.regularizers.l2(0.01)),\n",
    "    keras.layers.Dense(1),\n",
    "])\n",
    "\n",
    "model.compile(optimizer=keras.optimizers.Nadam(),\n",
    "              loss='mse')\n",
    "\n",
    "history = model.fit(train_set, epochs=10, validation_data=valid_set)"
   ]
  },
  {
   "cell_type": "code",
   "execution_count": 21,
   "metadata": {},
   "outputs": [
    {
     "data": {
      "image/png": "[encoded data removed]",
      "text/plain": [
       "<Figure size 576x360 with 1 Axes>"
      ]
     },
     "metadata": {},
     "output_type": "display_data"
    }
   ],
   "source": [
    "pd.DataFrame(history.history).plot(figsize=(8, 5))\n",
    "plt.show()"
   ]
  },
  {
   "cell_type": "code",
   "execution_count": 22,
   "metadata": {},
   "outputs": [
    {
     "name": "stdout",
     "output_type": "stream",
     "text": [
      "129/129 [==============================] - 2s 14ms/step - loss: 0.6878\n"
     ]
    },
    {
     "data": {
      "text/plain": [
       "0.6877937892148661"
      ]
     },
     "execution_count": 22,
     "metadata": {},
     "output_type": "execute_result"
    }
   ],
   "source": [
    "model.evaluate(test_set)"
   ]
  },
  {
   "cell_type": "code",
   "execution_count": 23,
   "metadata": {},
   "outputs": [
    {
     "data": {
      "image/png": "[encoded data removed]",
      "text/plain": [
       "<Figure size 432x288 with 1 Axes>"
      ]
     },
     "metadata": {},
     "output_type": "display_data"
    }
   ],
   "source": [
    "new_data = test_set.take(100)\n",
    "y_new = []\n",
    "for __, y in new_data:\n",
    "    y_new.append(y.numpy())\n",
    "\n",
    "y_new = np.concatenate(y_new).flatten()\n",
    "\n",
    "y_pred = model.predict(new_data.map(lambda X, y: X)).flatten()\n",
    "\n",
    "fig, ax = plt.subplots()\n",
    "ax.scatter(y_new, y_pred, color='k', alpha=0.1)\n",
    "ax.plot(y_new, y_new, 'k--', color='blue')\n",
    "ax.set_title('CA housing ANN', fontsize=20)\n",
    "ax.set_xlabel('real', fontsize=16)\n",
    "ax.set_ylabel('predicted', fontsize=16)\n",
    "plt.show()"
   ]
  },
  {
   "cell_type": "code",
   "execution_count": 24,
   "metadata": {},
   "outputs": [
    {
     "data": {
      "text/plain": [
       "0.0001563837878735278"
      ]
     },
     "execution_count": 24,
     "metadata": {},
     "output_type": "execute_result"
    }
   ],
   "source": [
    "np.corrcoef(y_new, y_pred)[0, 1]"
   ]
  },
  {
   "cell_type": "code",
   "execution_count": 25,
   "metadata": {},
   "outputs": [
    {
     "data": {
      "text/plain": [
       "0.008024826220675903"
      ]
     },
     "execution_count": 25,
     "metadata": {},
     "output_type": "execute_result"
    }
   ],
   "source": [
    "idx = y_new < 5\n",
    "np.corrcoef(y_new[idx], y_pred[idx])[0, 1]"
   ]
  },
  {
   "cell_type": "markdown",
   "metadata": {},
   "source": [
    "## Preprocessing the input features\n",
    "\n",
    "There are 3 general methods for preprocessing data: 1) preparing ahead of time using NumPy, Pandas, Scikit-Learn, etc., 2) on the fly using the Data API and mapping over the instances (see above), or 3) including a preprocessing layer in the model.\n",
    "We will experiment with the third option below.\n",
    "\n",
    "The simplest implementation would be to use s `Lambda` layer.\n",
    "The following example applies scaling to the input data."
   ]
  },
  {
   "cell_type": "code",
   "execution_count": 26,
   "metadata": {
    "scrolled": true
   },
   "outputs": [],
   "source": [
    "from sklearn.datasets import load_iris\n",
    "from sklearn.model_selection import train_test_split\n",
    "\n",
    "X, y = load_iris(return_X_y=True)\n",
    "X_train, X_test, y_train, y_test = train_test_split(X, y,\n",
    "                                                    shuffle=True,\n",
    "                                                    random_state=0)\n",
    "\n",
    "means = np.mean(X_train, axis=0, keepdims=True)\n",
    "stds = np.std(X_train, axis=0, keepdims=True)\n",
    "eps = 0.001\n",
    "\n",
    "model = keras.models.Sequential([\n",
    "    keras.layers.Lambda(lambda x: (x - means) / (stds + eps)),\n",
    "    keras.layers.Dense(10, activation='elu', kernel_initializer='he_normal'),\n",
    "    keras.layers.Dense(5, activation='elu', kernel_initializer='he_normal'),\n",
    "    keras.layers.Dense(3, activation='softmax')\n",
    "])\n",
    "\n",
    "model.compile(optmizer=keras.optimizers.Nadam(0.01),\n",
    "              loss='sparse_categorical_crossentropy',\n",
    "              metrics=['accuracy'])\n",
    "\n",
    "history = model.fit(X_train, y_train, \n",
    "                    epochs=200, \n",
    "                    validation_split=0.2,\n",
    "                    callbacks=[\n",
    "                        keras.callbacks.EarlyStopping(min_delta=0.0, patience=5)\n",
    "                    ],\n",
    "                    verbose=0)"
   ]
  },
  {
   "cell_type": "code",
   "execution_count": 27,
   "metadata": {},
   "outputs": [
    {
     "data": {
      "image/png": "[encoded data removed]",
      "text/plain": [
       "<Figure size 576x360 with 1 Axes>"
      ]
     },
     "metadata": {},
     "output_type": "display_data"
    }
   ],
   "source": [
    "pd.DataFrame(history.history).plot(figsize=(8, 5))\n",
    "plt.show()"
   ]
  },
  {
   "cell_type": "code",
   "execution_count": 28,
   "metadata": {},
   "outputs": [
    {
     "name": "stdout",
     "output_type": "stream",
     "text": [
      "loss: 0.11; accuracy: 0.97\n"
     ]
    }
   ],
   "source": [
    "loss, accuracy = model.evaluate(X_train, y_train, verbose=0)\n",
    "print(f'loss: {loss:.2f}; accuracy: {accuracy:.2f}')"
   ]
  },
  {
   "cell_type": "code",
   "execution_count": 29,
   "metadata": {},
   "outputs": [
    {
     "name": "stdout",
     "output_type": "stream",
     "text": [
      "loss: 0.23; accuracy: 0.89\n"
     ]
    }
   ],
   "source": [
    "loss, accuracy = model.evaluate(X_test, y_test, verbose=0)\n",
    "print(f'loss: {loss:.2f}; accuracy: {accuracy:.2f}')"
   ]
  },
  {
   "cell_type": "markdown",
   "metadata": {},
   "source": [
    "Alternatively, you can create a separate layer class that can retain other data.\n",
    "This is preferable to using global variables like above with `means` and `stds`."
   ]
  },
  {
   "cell_type": "code",
   "execution_count": 30,
   "metadata": {},
   "outputs": [],
   "source": [
    "class StandardizationLayer(keras.layers.Layer):\n",
    "    def adapt(self, data_sample):\n",
    "        self.means_ = np.mean(data_sample, axis=0, keepdims=True)\n",
    "        self.stds_ = np.std(data_sample, axis=0, keepdims=True)\n",
    "        return\n",
    "    \n",
    "    def call(self, inputs):\n",
    "        return (inputs - self.means_) / (self.stds_ + keras.backend.epsilon())"
   ]
  },
  {
   "cell_type": "markdown",
   "metadata": {},
   "source": [
    "Before this layer can be used, it must be \"adapted\" by passing in the training data.\n",
    "Now the feature means and standard deviations are contained within the layer."
   ]
  },
  {
   "cell_type": "code",
   "execution_count": 31,
   "metadata": {},
   "outputs": [],
   "source": [
    "std_layer = StandardizationLayer(X_train)"
   ]
  },
  {
   "cell_type": "markdown",
   "metadata": {},
   "source": [
    "### Encoding categorical features using one-hot vectors\n",
    "\n"
   ]
  },
  {
   "cell_type": "code",
   "execution_count": null,
   "metadata": {},
   "outputs": [],
   "source": []
  }
 ],
 "metadata": {
  "kernelspec": {
   "display_name": "Python 3",
   "language": "python",
   "name": "python3"
  },
  "language_info": {
   "codemirror_mode": {
    "name": "ipython",
    "version": 3
   },
   "file_extension": ".py",
   "mimetype": "text/x-python",
   "name": "python",
   "nbconvert_exporter": "python",
   "pygments_lexer": "ipython3",
   "version": "3.7.6"
  },
  "toc": {
   "base_numbering": 1,
   "nav_menu": {},
   "number_sections": true,
   "sideBar": true,
   "skip_h1_title": false,
   "title_cell": "Table of Contents",
   "title_sidebar": "Contents",
   "toc_cell": false,
   "toc_position": {},
   "toc_section_display": true,
   "toc_window_display": false
  }
 },
 "nbformat": 4,
 "nbformat_minor": 2
}
