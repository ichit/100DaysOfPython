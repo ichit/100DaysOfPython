{
 "cells": [
  {
   "cell_type": "markdown",
   "metadata": {},
   "source": [
    "# Loading and Preprocessing Data with TensorFlow\n",
    "\n",
    "The *Data API* availabe from TensorFlow makes handling large data sets that don't fit into RAM much easier. In general, a dataset object is created and told where to find files. It then manages the rest of the implementation details including multithreading, queueing, batching, and prefetching."
   ]
  },
  {
   "cell_type": "code",
   "execution_count": 1,
   "metadata": {},
   "outputs": [],
   "source": [
    "import numpy as np\n",
    "import pandas as pd \n",
    "import matplotlib as mpl\n",
    "import matplotlib.pyplot as plt\n",
    "import seaborn as sns\n",
    "import tensorflow as tf \n",
    "from tensorflow import keras\n",
    "from pathlib import Path\n",
    "\n",
    "%matplotlib inline\n",
    "np.random.seed(0)\n",
    "plt.style.use('seaborn-whitegrid')\n",
    "assets_dir = Path('assets', 'ch13')"
   ]
  },
  {
   "cell_type": "markdown",
   "metadata": {},
   "source": [
    "## The Data API\n",
    "\n",
    "The Data API is centered around the concept of a *dataset*, a sequence of data items.\n",
    "For simplicity, the first example below shows a dataset held in memory created using `from_tensor_slices()`.\n",
    "It is an iterable."
   ]
  },
  {
   "cell_type": "code",
   "execution_count": 2,
   "metadata": {},
   "outputs": [
    {
     "data": {
      "text/plain": [
       "<TensorSliceDataset shapes: (), types: tf.int32>"
      ]
     },
     "execution_count": 2,
     "metadata": {},
     "output_type": "execute_result"
    }
   ],
   "source": [
    "X = tf.range(10)\n",
    "dataset = tf.data.Dataset.from_tensor_slices(X)\n",
    "dataset"
   ]
  },
  {
   "cell_type": "code",
   "execution_count": 3,
   "metadata": {},
   "outputs": [
    {
     "name": "stdout",
     "output_type": "stream",
     "text": [
      "tf.Tensor(0, shape=(), dtype=int32)\n",
      "tf.Tensor(1, shape=(), dtype=int32)\n",
      "tf.Tensor(2, shape=(), dtype=int32)\n",
      "tf.Tensor(3, shape=(), dtype=int32)\n",
      "tf.Tensor(4, shape=(), dtype=int32)\n",
      "tf.Tensor(5, shape=(), dtype=int32)\n",
      "tf.Tensor(6, shape=(), dtype=int32)\n",
      "tf.Tensor(7, shape=(), dtype=int32)\n",
      "tf.Tensor(8, shape=(), dtype=int32)\n",
      "tf.Tensor(9, shape=(), dtype=int32)\n"
     ]
    }
   ],
   "source": [
    "for t in dataset:\n",
    "    print(t)"
   ]
  },
  {
   "cell_type": "markdown",
   "metadata": {},
   "source": [
    "### Chaining transformations\n",
    "\n",
    "The dataset object has many transformation methods that return new datasets, making it easy to chain the methods."
   ]
  },
  {
   "cell_type": "code",
   "execution_count": 4,
   "metadata": {},
   "outputs": [
    {
     "name": "stdout",
     "output_type": "stream",
     "text": [
      "tf.Tensor([0 1 2 3 4 5 6], shape=(7,), dtype=int32)\n",
      "tf.Tensor([7 8 9 0 1 2 3], shape=(7,), dtype=int32)\n",
      "tf.Tensor([4 5 6 7 8 9 0], shape=(7,), dtype=int32)\n",
      "tf.Tensor([1 2 3 4 5 6 7], shape=(7,), dtype=int32)\n",
      "tf.Tensor([8 9], shape=(2,), dtype=int32)\n"
     ]
    }
   ],
   "source": [
    "dataset = dataset.repeat(3).batch(7)\n",
    "for t in dataset:\n",
    "    print(t)"
   ]
  },
  {
   "cell_type": "markdown",
   "metadata": {},
   "source": [
    "Alternatively, `map()` can be used to apply custom transformations."
   ]
  },
  {
   "cell_type": "code",
   "execution_count": 5,
   "metadata": {},
   "outputs": [],
   "source": [
    "dataset = dataset.map(lambda x: x * 2)"
   ]
  },
  {
   "cell_type": "markdown",
   "metadata": {},
   "source": [
    "The `apply()` method applies a function to the dataset as a whole, not each item individually.\n",
    "The following example removes the batches created above."
   ]
  },
  {
   "cell_type": "code",
   "execution_count": 6,
   "metadata": {},
   "outputs": [
    {
     "name": "stdout",
     "output_type": "stream",
     "text": [
      "WARNING:tensorflow:From <ipython-input-6-15e8a30c9761>:1: unbatch (from tensorflow.python.data.experimental.ops.batching) is deprecated and will be removed in a future version.\n",
      "Instructions for updating:\n",
      "Use `tf.data.Dataset.unbatch()`.\n"
     ]
    }
   ],
   "source": [
    "dataset = dataset.apply(tf.data.experimental.unbatch())"
   ]
  },
  {
   "cell_type": "markdown",
   "metadata": {},
   "source": [
    "The `filter()` method makes it each to apply a filter to each data point."
   ]
  },
  {
   "cell_type": "code",
   "execution_count": 7,
   "metadata": {},
   "outputs": [],
   "source": [
    "dataset = dataset.filter(lambda x: x < 10)"
   ]
  },
  {
   "cell_type": "markdown",
   "metadata": {},
   "source": [
    "The `take()` method can be used to look at just a few data points."
   ]
  },
  {
   "cell_type": "code",
   "execution_count": 8,
   "metadata": {},
   "outputs": [
    {
     "name": "stdout",
     "output_type": "stream",
     "text": [
      "tf.Tensor(0, shape=(), dtype=int32)\n",
      "tf.Tensor(2, shape=(), dtype=int32)\n",
      "tf.Tensor(4, shape=(), dtype=int32)\n"
     ]
    }
   ],
   "source": [
    "for t in dataset.take(3):\n",
    "    print(t)"
   ]
  },
  {
   "cell_type": "markdown",
   "metadata": {},
   "source": [
    "### Shuffling the data\n",
    "\n",
    "The shuffling method uses a buffer in memory to prepare data points before they are used and then randomly pulls one to be used when requested.\n",
    "The size of the buffer must be declared so that all of the RAM is not consumed, but it also a bottleneck on how well the data will be shuffled."
   ]
  },
  {
   "cell_type": "code",
   "execution_count": 9,
   "metadata": {},
   "outputs": [
    {
     "name": "stdout",
     "output_type": "stream",
     "text": [
      "tf.Tensor([2 1 5 0 7 6 0], shape=(7,), dtype=int64)\n",
      "tf.Tensor([4 3 9 8 2 3 4], shape=(7,), dtype=int64)\n",
      "tf.Tensor([8 6 0 7 2 3 9], shape=(7,), dtype=int64)\n",
      "tf.Tensor([5 1 4 1 5 9 6], shape=(7,), dtype=int64)\n",
      "tf.Tensor([7 8], shape=(2,), dtype=int64)\n"
     ]
    }
   ],
   "source": [
    "dataset = tf.data.Dataset.range(10).repeat(3)\n",
    "dataset = dataset.shuffle(buffer_size=5, seed=0).batch(7)\n",
    "for t in dataset:\n",
    "    print(t)"
   ]
  },
  {
   "cell_type": "markdown",
   "metadata": {},
   "source": [
    "One solution to the limits of `shuffle()` is to pre-shuffle the data.\n",
    "For example, the `shuf` command in Linux shuffles the lines of a file.\n",
    "Still, we will want to shuffle the file on each epoch.\n",
    "To shuffle the data further, it is common the split the data into multiple files and then read in data from them randomly simultaneously, interleaving their records.\n",
    "This method, paired with `shuffle()`, is usually a great way to shuffle the data and is easily accomplished with the Data API.\n",
    "\n",
    "For this example, I split the housing data into 10 files."
   ]
  },
  {
   "cell_type": "code",
   "execution_count": 10,
   "metadata": {},
   "outputs": [
    {
     "data": {
      "text/html": [
       "<div>\n",
       "<style scoped>\n",
       "    .dataframe tbody tr th:only-of-type {\n",
       "        vertical-align: middle;\n",
       "    }\n",
       "\n",
       "    .dataframe tbody tr th {\n",
       "        vertical-align: top;\n",
       "    }\n",
       "\n",
       "    .dataframe thead th {\n",
       "        text-align: right;\n",
       "    }\n",
       "</style>\n",
       "<table border=\"1\" class=\"dataframe\">\n",
       "  <thead>\n",
       "    <tr style=\"text-align: right;\">\n",
       "      <th></th>\n",
       "      <th>MedInc</th>\n",
       "      <th>HouseAge</th>\n",
       "      <th>AveRooms</th>\n",
       "      <th>AveBedrms</th>\n",
       "      <th>Population</th>\n",
       "      <th>AveOccup</th>\n",
       "      <th>Latitude</th>\n",
       "      <th>Longitude</th>\n",
       "      <th>MedianHousingValue</th>\n",
       "    </tr>\n",
       "  </thead>\n",
       "  <tbody>\n",
       "    <tr>\n",
       "      <th>14740</th>\n",
       "      <td>4.1518</td>\n",
       "      <td>22.0</td>\n",
       "      <td>5.663073</td>\n",
       "      <td>1.075472</td>\n",
       "      <td>1551.0</td>\n",
       "      <td>4.180593</td>\n",
       "      <td>32.58</td>\n",
       "      <td>-117.05</td>\n",
       "      <td>1.369</td>\n",
       "    </tr>\n",
       "    <tr>\n",
       "      <th>10101</th>\n",
       "      <td>5.7796</td>\n",
       "      <td>32.0</td>\n",
       "      <td>6.107226</td>\n",
       "      <td>0.927739</td>\n",
       "      <td>1296.0</td>\n",
       "      <td>3.020979</td>\n",
       "      <td>33.92</td>\n",
       "      <td>-117.97</td>\n",
       "      <td>2.413</td>\n",
       "    </tr>\n",
       "    <tr>\n",
       "      <th>20566</th>\n",
       "      <td>4.3487</td>\n",
       "      <td>29.0</td>\n",
       "      <td>5.930712</td>\n",
       "      <td>1.026217</td>\n",
       "      <td>1554.0</td>\n",
       "      <td>2.910112</td>\n",
       "      <td>38.65</td>\n",
       "      <td>-121.84</td>\n",
       "      <td>2.007</td>\n",
       "    </tr>\n",
       "    <tr>\n",
       "      <th>2670</th>\n",
       "      <td>2.4511</td>\n",
       "      <td>37.0</td>\n",
       "      <td>4.992958</td>\n",
       "      <td>1.316901</td>\n",
       "      <td>390.0</td>\n",
       "      <td>2.746479</td>\n",
       "      <td>33.20</td>\n",
       "      <td>-115.60</td>\n",
       "      <td>0.725</td>\n",
       "    </tr>\n",
       "    <tr>\n",
       "      <th>15709</th>\n",
       "      <td>5.0049</td>\n",
       "      <td>25.0</td>\n",
       "      <td>4.319261</td>\n",
       "      <td>1.039578</td>\n",
       "      <td>649.0</td>\n",
       "      <td>1.712401</td>\n",
       "      <td>37.79</td>\n",
       "      <td>-122.43</td>\n",
       "      <td>4.600</td>\n",
       "    </tr>\n",
       "    <tr>\n",
       "      <th>...</th>\n",
       "      <td>...</td>\n",
       "      <td>...</td>\n",
       "      <td>...</td>\n",
       "      <td>...</td>\n",
       "      <td>...</td>\n",
       "      <td>...</td>\n",
       "      <td>...</td>\n",
       "      <td>...</td>\n",
       "      <td>...</td>\n",
       "    </tr>\n",
       "    <tr>\n",
       "      <th>13123</th>\n",
       "      <td>4.4125</td>\n",
       "      <td>20.0</td>\n",
       "      <td>6.000000</td>\n",
       "      <td>1.045662</td>\n",
       "      <td>712.0</td>\n",
       "      <td>3.251142</td>\n",
       "      <td>38.27</td>\n",
       "      <td>-121.26</td>\n",
       "      <td>1.446</td>\n",
       "    </tr>\n",
       "    <tr>\n",
       "      <th>19648</th>\n",
       "      <td>2.9135</td>\n",
       "      <td>27.0</td>\n",
       "      <td>5.349282</td>\n",
       "      <td>0.933014</td>\n",
       "      <td>647.0</td>\n",
       "      <td>3.095694</td>\n",
       "      <td>37.48</td>\n",
       "      <td>-120.89</td>\n",
       "      <td>1.594</td>\n",
       "    </tr>\n",
       "    <tr>\n",
       "      <th>9845</th>\n",
       "      <td>3.1977</td>\n",
       "      <td>31.0</td>\n",
       "      <td>3.641221</td>\n",
       "      <td>0.941476</td>\n",
       "      <td>704.0</td>\n",
       "      <td>1.791349</td>\n",
       "      <td>36.58</td>\n",
       "      <td>-121.90</td>\n",
       "      <td>2.893</td>\n",
       "    </tr>\n",
       "    <tr>\n",
       "      <th>10799</th>\n",
       "      <td>5.6315</td>\n",
       "      <td>34.0</td>\n",
       "      <td>4.540598</td>\n",
       "      <td>1.064103</td>\n",
       "      <td>1052.0</td>\n",
       "      <td>2.247863</td>\n",
       "      <td>33.62</td>\n",
       "      <td>-117.93</td>\n",
       "      <td>4.846</td>\n",
       "    </tr>\n",
       "    <tr>\n",
       "      <th>2732</th>\n",
       "      <td>1.3882</td>\n",
       "      <td>15.0</td>\n",
       "      <td>3.929530</td>\n",
       "      <td>1.100671</td>\n",
       "      <td>1024.0</td>\n",
       "      <td>3.436242</td>\n",
       "      <td>32.80</td>\n",
       "      <td>-115.56</td>\n",
       "      <td>0.694</td>\n",
       "    </tr>\n",
       "  </tbody>\n",
       "</table>\n",
       "<p>20640 rows × 9 columns</p>\n",
       "</div>"
      ],
      "text/plain": [
       "       MedInc  HouseAge  AveRooms  AveBedrms  Population  AveOccup  Latitude  \\\n",
       "14740  4.1518      22.0  5.663073   1.075472      1551.0  4.180593     32.58   \n",
       "10101  5.7796      32.0  6.107226   0.927739      1296.0  3.020979     33.92   \n",
       "20566  4.3487      29.0  5.930712   1.026217      1554.0  2.910112     38.65   \n",
       "2670   2.4511      37.0  4.992958   1.316901       390.0  2.746479     33.20   \n",
       "15709  5.0049      25.0  4.319261   1.039578       649.0  1.712401     37.79   \n",
       "...       ...       ...       ...        ...         ...       ...       ...   \n",
       "13123  4.4125      20.0  6.000000   1.045662       712.0  3.251142     38.27   \n",
       "19648  2.9135      27.0  5.349282   0.933014       647.0  3.095694     37.48   \n",
       "9845   3.1977      31.0  3.641221   0.941476       704.0  1.791349     36.58   \n",
       "10799  5.6315      34.0  4.540598   1.064103      1052.0  2.247863     33.62   \n",
       "2732   1.3882      15.0  3.929530   1.100671      1024.0  3.436242     32.80   \n",
       "\n",
       "       Longitude  MedianHousingValue  \n",
       "14740    -117.05               1.369  \n",
       "10101    -117.97               2.413  \n",
       "20566    -121.84               2.007  \n",
       "2670     -115.60               0.725  \n",
       "15709    -122.43               4.600  \n",
       "...          ...                 ...  \n",
       "13123    -121.26               1.446  \n",
       "19648    -120.89               1.594  \n",
       "9845     -121.90               2.893  \n",
       "10799    -117.93               4.846  \n",
       "2732     -115.56               0.694  \n",
       "\n",
       "[20640 rows x 9 columns]"
      ]
     },
     "execution_count": 10,
     "metadata": {},
     "output_type": "execute_result"
    }
   ],
   "source": [
    "from sklearn.datasets import fetch_california_housing\n",
    "\n",
    "cal_housing = fetch_california_housing()\n",
    "df = pd.DataFrame(cal_housing.data)\n",
    "df.columns = cal_housing.feature_names\n",
    "df['MedianHousingValue'] = cal_housing.target\n",
    "df = df.sample(frac=1)\n",
    "df"
   ]
  },
  {
   "cell_type": "code",
   "execution_count": 11,
   "metadata": {},
   "outputs": [],
   "source": [
    "cal_housing_files = []\n",
    "for i, split_df in enumerate(np.split(df, 10)):\n",
    "    file_path = assets_dir.joinpath('ca_housing_' + str(i) + '.csv')\n",
    "    cal_housing_files.append(file_path)\n",
    "    split_df.to_csv(file_path, index=False)"
   ]
  },
  {
   "cell_type": "code",
   "execution_count": 12,
   "metadata": {},
   "outputs": [
    {
     "data": {
      "text/plain": [
       "[PosixPath('assets/ch13/ca_housing_0.csv'),\n",
       " PosixPath('assets/ch13/ca_housing_1.csv'),\n",
       " PosixPath('assets/ch13/ca_housing_2.csv'),\n",
       " PosixPath('assets/ch13/ca_housing_3.csv'),\n",
       " PosixPath('assets/ch13/ca_housing_4.csv'),\n",
       " PosixPath('assets/ch13/ca_housing_5.csv'),\n",
       " PosixPath('assets/ch13/ca_housing_6.csv'),\n",
       " PosixPath('assets/ch13/ca_housing_7.csv'),\n",
       " PosixPath('assets/ch13/ca_housing_8.csv'),\n",
       " PosixPath('assets/ch13/ca_housing_9.csv')]"
      ]
     },
     "execution_count": 12,
     "metadata": {},
     "output_type": "execute_result"
    }
   ],
   "source": [
    "cal_housing_files"
   ]
  },
  {
   "cell_type": "markdown",
   "metadata": {},
   "source": [
    "Now we can create a dataset object and point to all three of the files.\n",
    "Alternatively, we could pass a pattern such as `'assets/ch13/ca_housing_*.csv'`."
   ]
  },
  {
   "cell_type": "code",
   "execution_count": 13,
   "metadata": {},
   "outputs": [],
   "source": [
    "cal_housing_strs = [x.as_posix() for x in cal_housing_files]\n",
    "filepath_dataset = tf.data.Dataset.list_files(cal_housing_strs, seed=0)"
   ]
  },
  {
   "cell_type": "markdown",
   "metadata": {},
   "source": [
    "Then the `interleave()` function can pull randomly from the files.\n",
    "Make sure to skip the first row since it contains the headers."
   ]
  },
  {
   "cell_type": "code",
   "execution_count": 14,
   "metadata": {},
   "outputs": [],
   "source": [
    "dataset = filepath_dataset.interleave(\n",
    "    lambda fp: tf.data.TextLineDataset(fp).skip(1)\n",
    ")"
   ]
  },
  {
   "cell_type": "code",
   "execution_count": 15,
   "metadata": {},
   "outputs": [
    {
     "name": "stdout",
     "output_type": "stream",
     "text": [
      "b'4.2386,6.0,7.723076923076923,1.1692307692307693,228.0,3.5076923076923077,33.83,-117.55,5.00001'\n",
      "b'4.1518,22.0,5.663072776280323,1.0754716981132075,1551.0,4.180592991913747,32.58,-117.05,1.369'\n",
      "b'3.125,16.0,5.380070546737214,1.0582010582010581,3407.0,3.004409171075838,36.8,-119.83,0.808'\n",
      "b'3.2875,52.0,5.990936555891238,1.039274924471299,887.0,2.6797583081570995,34.07,-118.15,2.344'\n",
      "b'4.3898,52.0,5.32662192393736,1.1006711409395973,1485.0,3.3221476510067114,37.73,-122.44,2.7'\n"
     ]
    }
   ],
   "source": [
    "for line in dataset.take(5):\n",
    "    print(line.numpy())"
   ]
  },
  {
   "cell_type": "markdown",
   "metadata": {},
   "source": [
    "Note that the data are still byte strings that need to be processed further, still.\n",
    "\n",
    "### Preprocessing the data\n",
    "\n",
    "We can write a function to preprocess this input data.\n",
    "This implementation assumes we have precomputed the mean and standard deviation for each column.\n",
    "\n",
    "The first step is to define defaults and use those to help decode the byte string using `tf.io.decode_csv()`.\n",
    "Then `x` and `y` are made as as stacks of the list of 1D tensors, one per column, returned from the previous step.\n",
    "Finally,  the z-scaled data points and the target values are returned."
   ]
  },
  {
   "cell_type": "code",
   "execution_count": 16,
   "metadata": {},
   "outputs": [],
   "source": [
    "n_inputs = 8\n",
    "X_mean = df.mean().tolist()[:n_inputs]\n",
    "X_std = df.std().tolist()[:n_inputs]\n",
    "\n",
    "def preprocess(line):\n",
    "    defs = [0.0] * n_inputs + [tf.constant([], dtype=tf.float32)]\n",
    "    fields = tf.io.decode_csv(line, record_defaults=defs)\n",
    "    x = tf.stack(fields[:-1])\n",
    "    y = tf.stack(fields[-1:])\n",
    "    return (x - X_mean) / X_std, y"
   ]
  },
  {
   "cell_type": "code",
   "execution_count": 17,
   "metadata": {},
   "outputs": [
    {
     "data": {
      "text/plain": [
       "(<tf.Tensor: id=187, shape=(8,), dtype=float32, numpy=\n",
       " array([ 2.344709  ,  0.98211884,  0.6285442 , -0.15375382, -0.97440493,\n",
       "        -0.04959533,  1.0525227 , -1.3278059 ], dtype=float32)>,\n",
       " <tf.Tensor: id=183, shape=(1,), dtype=float32, numpy=array([4.526], dtype=float32)>)"
      ]
     },
     "execution_count": 17,
     "metadata": {},
     "output_type": "execute_result"
    }
   ],
   "source": [
    "preprocess(b'8.3252,41.0,6.984126984126984,1.0238095238095237,322.0,2.5555555555555554,37.88,-122.23,4.526')"
   ]
  },
  {
   "cell_type": "markdown",
   "metadata": {},
   "source": [
    "Finally, we can create one function to wrap all of these steps into one."
   ]
  },
  {
   "cell_type": "code",
   "execution_count": 18,
   "metadata": {},
   "outputs": [],
   "source": [
    "def csv_reader_dataset(filepaths, repeat=1, n_readers=5,\n",
    "                       n_read_threads=None, shuffle_buffer_size=10000,\n",
    "                       n_parse_threads=5, batch_size=32):\n",
    "    dataset = tf.data.Dataset.list_files(filepaths)\n",
    "    dataset = dataset.interleave(\n",
    "        lambda fp: tf.data.TextLineDataset(fp).skip(1),\n",
    "        cycle_length=n_readers, num_parallel_calls=n_read_threads\n",
    "    )\n",
    "    dataset = dataset.map(preprocess, num_parallel_calls=n_parse_threads)\n",
    "    dataset = dataset.shuffle(shuffle_buffer_size).repeat(repeat)\n",
    "    return dataset.batch(batch_size).prefetch(1)"
   ]
  },
  {
   "cell_type": "markdown",
   "metadata": {},
   "source": [
    "### Prefetching\n",
    "\n",
    "The `prefecth(1)` included at the end of `csv_reader_dataset()` ensures that the next batch is ready to be used when the current training step is completed.\n",
    "\n",
    "### Using the dataset with tf.keras\n",
    "\n",
    "The dataset we have built can be used directly by Keras."
   ]
  },
  {
   "cell_type": "code",
   "execution_count": 19,
   "metadata": {},
   "outputs": [],
   "source": [
    "train_set = csv_reader_dataset(cal_housing_strs[:5])\n",
    "valid_set = csv_reader_dataset(cal_housing_strs[5:8])\n",
    "test_set = csv_reader_dataset(cal_housing_strs[8:])"
   ]
  },
  {
   "cell_type": "code",
   "execution_count": 20,
   "metadata": {},
   "outputs": [
    {
     "name": "stdout",
     "output_type": "stream",
     "text": [
      "Epoch 1/10\n",
      "323/323 [==============================] - 7s 22ms/step - loss: 2.8890 - val_loss: 0.0000e+00\n",
      "Epoch 2/10\n",
      "323/323 [==============================] - 3s 10ms/step - loss: 1.2663 - val_loss: 1.1156\n",
      "Epoch 3/10\n",
      "323/323 [==============================] - 3s 10ms/step - loss: 1.0433 - val_loss: 0.9665\n",
      "Epoch 4/10\n",
      "323/323 [==============================] - 3s 10ms/step - loss: 0.9393 - val_loss: 0.8775\n",
      "Epoch 5/10\n",
      "323/323 [==============================] - 3s 10ms/step - loss: 0.8578 - val_loss: 0.8130\n",
      "Epoch 6/10\n",
      "323/323 [==============================] - 3s 10ms/step - loss: 0.7942 - val_loss: 0.7690\n",
      "Epoch 7/10\n",
      "323/323 [==============================] - 3s 10ms/step - loss: 0.7404 - val_loss: 0.7253\n",
      "Epoch 8/10\n",
      "323/323 [==============================] - 3s 10ms/step - loss: 0.7017 - val_loss: 0.6849\n",
      "Epoch 9/10\n",
      "323/323 [==============================] - 3s 10ms/step - loss: 0.6801 - val_loss: 0.6575\n",
      "Epoch 10/10\n",
      "323/323 [==============================] - 3s 10ms/step - loss: 0.6394 - val_loss: 0.6270\n"
     ]
    }
   ],
   "source": [
    "model = keras.models.Sequential([\n",
    "    keras.layers.InputLayer(n_inputs),\n",
    "    keras.layers.Dense(20, activation='relu', kernel_initializer='he_normal',\n",
    "                       kernel_regularizer=keras.regularizers.l2(0.01)),\n",
    "    keras.layers.Dense(10, activation='relu', kernel_initializer='he_normal',\n",
    "                       kernel_regularizer=keras.regularizers.l2(0.01)),\n",
    "    keras.layers.Dense(5, activation='relu', kernel_initializer='he_normal',\n",
    "                       kernel_regularizer=keras.regularizers.l2(0.01)),\n",
    "    keras.layers.Dense(1),\n",
    "])\n",
    "\n",
    "model.compile(optimizer=keras.optimizers.Nadam(),\n",
    "              loss='mse')\n",
    "\n",
    "history = model.fit(train_set, epochs=10, validation_data=valid_set)"
   ]
  },
  {
   "cell_type": "code",
   "execution_count": 21,
   "metadata": {},
   "outputs": [
    {
     "data": {
      "image/png": "[encoded data removed]",
      "text/plain": [
       "<Figure size 576x360 with 1 Axes>"
      ]
     },
     "metadata": {},
     "output_type": "display_data"
    }
   ],
   "source": [
    "pd.DataFrame(history.history).plot(figsize=(8, 5))\n",
    "plt.show()"
   ]
  },
  {
   "cell_type": "code",
   "execution_count": 22,
   "metadata": {},
   "outputs": [
    {
     "name": "stdout",
     "output_type": "stream",
     "text": [
      "129/129 [==============================] - 1s 10ms/step - loss: 0.6023\n"
     ]
    },
    {
     "data": {
      "text/plain": [
       "0.6023314907107242"
      ]
     },
     "execution_count": 22,
     "metadata": {},
     "output_type": "execute_result"
    }
   ],
   "source": [
    "model.evaluate(test_set)"
   ]
  },
  {
   "cell_type": "code",
   "execution_count": 23,
   "metadata": {},
   "outputs": [
    {
     "data": {
      "image/png": "[encoded data removed]",
      "text/plain": [
       "<Figure size 432x288 with 1 Axes>"
      ]
     },
     "metadata": {},
     "output_type": "display_data"
    }
   ],
   "source": [
    "new_data = test_set.take(100)\n",
    "y_new = []\n",
    "for __, y in new_data:\n",
    "    y_new.append(y.numpy())\n",
    "\n",
    "y_new = np.concatenate(y_new).flatten()\n",
    "\n",
    "y_pred = model.predict(new_data.map(lambda X, y: X)).flatten()\n",
    "\n",
    "fig, ax = plt.subplots()\n",
    "ax.scatter(y_new, y_pred, color='k', alpha=0.1)\n",
    "ax.plot(y_new, y_new, 'k--', color='blue')\n",
    "ax.set_title('CA housing ANN', fontsize=20)\n",
    "ax.set_xlabel('real', fontsize=16)\n",
    "ax.set_ylabel('predicted', fontsize=16)\n",
    "plt.show()"
   ]
  },
  {
   "cell_type": "code",
   "execution_count": 24,
   "metadata": {},
   "outputs": [
    {
     "data": {
      "text/plain": [
       "0.012913442387781068"
      ]
     },
     "execution_count": 24,
     "metadata": {},
     "output_type": "execute_result"
    }
   ],
   "source": [
    "np.corrcoef(y_new, y_pred)[0, 1]"
   ]
  },
  {
   "cell_type": "code",
   "execution_count": 25,
   "metadata": {},
   "outputs": [
    {
     "data": {
      "text/plain": [
       "0.010949339267940212"
      ]
     },
     "execution_count": 25,
     "metadata": {},
     "output_type": "execute_result"
    }
   ],
   "source": [
    "idx = y_new < 5\n",
    "np.corrcoef(y_new[idx], y_pred[idx])[0, 1]"
   ]
  },
  {
   "cell_type": "markdown",
   "metadata": {},
   "source": [
    "## Preprocessing the input features\n",
    "\n",
    "There are 3 general methods for preprocessing data: 1) preparing ahead of time using NumPy, Pandas, Scikit-Learn, etc., 2) on the fly using the Data API and mapping over the instances (see above), or 3) including a preprocessing layer in the model.\n",
    "We will experiment with the third option below.\n",
    "\n",
    "The simplest implementation would be to use s `Lambda` layer.\n",
    "The following example applies scaling to the input data."
   ]
  },
  {
   "cell_type": "code",
   "execution_count": 26,
   "metadata": {
    "scrolled": true
   },
   "outputs": [],
   "source": [
    "from sklearn.datasets import load_iris\n",
    "from sklearn.model_selection import train_test_split\n",
    "\n",
    "X, y = load_iris(return_X_y=True)\n",
    "X_train, X_test, y_train, y_test = train_test_split(X, y,\n",
    "                                                    shuffle=True,\n",
    "                                                    random_state=0)\n",
    "\n",
    "means = np.mean(X_train, axis=0, keepdims=True)\n",
    "stds = np.std(X_train, axis=0, keepdims=True)\n",
    "eps = 0.001\n",
    "\n",
    "model = keras.models.Sequential([\n",
    "    keras.layers.Lambda(lambda x: (x - means) / (stds + eps)),\n",
    "    keras.layers.Dense(10, activation='elu', kernel_initializer='he_normal'),\n",
    "    keras.layers.Dense(5, activation='elu', kernel_initializer='he_normal'),\n",
    "    keras.layers.Dense(3, activation='softmax')\n",
    "])\n",
    "\n",
    "model.compile(optmizer=keras.optimizers.Nadam(0.01),\n",
    "              loss='sparse_categorical_crossentropy',\n",
    "              metrics=['accuracy'])\n",
    "\n",
    "history = model.fit(X_train, y_train, \n",
    "                    epochs=200, \n",
    "                    validation_split=0.2,\n",
    "                    callbacks=[\n",
    "                        keras.callbacks.EarlyStopping(min_delta=0.0, patience=5)\n",
    "                    ],\n",
    "                    verbose=0)"
   ]
  },
  {
   "cell_type": "code",
   "execution_count": 27,
   "metadata": {},
   "outputs": [
    {
     "data": {
      "image/png": "[encoded data removed]",
      "text/plain": [
       "<Figure size 576x360 with 1 Axes>"
      ]
     },
     "metadata": {},
     "output_type": "display_data"
    }
   ],
   "source": [
    "pd.DataFrame(history.history).plot(figsize=(8, 5))\n",
    "plt.show()"
   ]
  },
  {
   "cell_type": "code",
   "execution_count": 28,
   "metadata": {},
   "outputs": [
    {
     "name": "stdout",
     "output_type": "stream",
     "text": [
      "loss: 0.10; accuracy: 0.97\n"
     ]
    }
   ],
   "source": [
    "loss, accuracy = model.evaluate(X_train, y_train, verbose=0)\n",
    "print(f'loss: {loss:.2f}; accuracy: {accuracy:.2f}')"
   ]
  },
  {
   "cell_type": "code",
   "execution_count": 29,
   "metadata": {},
   "outputs": [
    {
     "name": "stdout",
     "output_type": "stream",
     "text": [
      "loss: 0.18; accuracy: 0.95\n"
     ]
    }
   ],
   "source": [
    "loss, accuracy = model.evaluate(X_test, y_test, verbose=0)\n",
    "print(f'loss: {loss:.2f}; accuracy: {accuracy:.2f}')"
   ]
  },
  {
   "cell_type": "markdown",
   "metadata": {},
   "source": [
    "Alternatively, you can create a separate layer class that can retain other data.\n",
    "This is preferable to using global variables like above with `means` and `stds`."
   ]
  },
  {
   "cell_type": "code",
   "execution_count": 30,
   "metadata": {},
   "outputs": [],
   "source": [
    "class StandardizationLayer(keras.layers.Layer):\n",
    "    def adapt(self, data_sample):\n",
    "        self.means_ = np.mean(data_sample, axis=0, keepdims=True)\n",
    "        self.stds_ = np.std(data_sample, axis=0, keepdims=True)\n",
    "        return\n",
    "    \n",
    "    def call(self, inputs):\n",
    "        return (inputs - self.means_) / (self.stds_ + keras.backend.epsilon())"
   ]
  },
  {
   "cell_type": "markdown",
   "metadata": {},
   "source": [
    "Before this layer can be used, it must be \"adapted\" by passing in the training data.\n",
    "Now the feature means and standard deviations are contained within the layer."
   ]
  },
  {
   "cell_type": "code",
   "execution_count": 31,
   "metadata": {},
   "outputs": [],
   "source": [
    "std_layer = StandardizationLayer(X_train)"
   ]
  },
  {
   "cell_type": "markdown",
   "metadata": {},
   "source": [
    "### Encoding categorical features using one-hot vectors\n",
    "\n",
    "NN's can only take numeric inputs.\n",
    "Thus, categorical inputs must be encoded and one common method is *one-hot-vectors*.\n",
    "\n",
    "For example, we can encode the ocean proximity feature from the CA housing data.\n",
    "We need a list of the possible categories and their indices.\n",
    "Then, a `KeyValueTensorInitializer` is created from these two lists.\n",
    "Finally, a `StaticVocabularyTable` is created from the initializer.\n",
    "\n",
    "The `num_oov_buckets` is the number of *out-of-vocabulary* that could be in the data, but not reported during initialization.\n",
    "If a category comes in that wasn't in the original \"vocabulary\" of the table, it will be hashed and assigned to one of the oov buckets.\n",
    "The more unknown categoires you expect to find, the move oov buckets you must add.\n",
    "If there are not enough oov buckets, then multiple categories could be mushed into one bucket."
   ]
  },
  {
   "cell_type": "code",
   "execution_count": 32,
   "metadata": {},
   "outputs": [],
   "source": [
    "vocab = ['1<H OCEAN', 'INLAND', 'NEAR OCEAN', 'NEAR BAY', 'ISLAND']\n",
    "indices = tf.range(len(vocab), dtype=tf.int64)\n",
    "table_init = tf.lookup.KeyValueTensorInitializer(vocab, indices)\n",
    "num_oov_buckets = 2\n",
    "table = tf.lookup.StaticVocabularyTable(table_init, num_oov_buckets)"
   ]
  },
  {
   "cell_type": "markdown",
   "metadata": {},
   "source": [
    "Now we can use the lookup table to encode an example batch of categorical features to one-hot vectors.\n",
    "\"DESERT\" was not included in the original vocab, so it should be assigned to one of the oov buckets."
   ]
  },
  {
   "cell_type": "code",
   "execution_count": 33,
   "metadata": {},
   "outputs": [
    {
     "data": {
      "text/plain": [
       "<tf.Tensor: id=17348, shape=(4,), dtype=int64, numpy=array([3, 5, 1, 2])>"
      ]
     },
     "execution_count": 33,
     "metadata": {},
     "output_type": "execute_result"
    }
   ],
   "source": [
    "eg_categories = tf.constant(['NEAR BAY', 'DESERT', 'INLAND', 'NEAR OCEAN'])\n",
    "cat_indices = table.lookup(eg_categories)\n",
    "cat_indices"
   ]
  },
  {
   "cell_type": "code",
   "execution_count": 34,
   "metadata": {},
   "outputs": [
    {
     "data": {
      "text/plain": [
       "<tf.Tensor: id=17352, shape=(4, 7), dtype=float32, numpy=\n",
       "array([[0., 0., 0., 1., 0., 0., 0.],\n",
       "       [0., 0., 0., 0., 0., 1., 0.],\n",
       "       [0., 1., 0., 0., 0., 0., 0.],\n",
       "       [0., 0., 1., 0., 0., 0., 0.]], dtype=float32)>"
      ]
     },
     "execution_count": 34,
     "metadata": {},
     "output_type": "execute_result"
    }
   ],
   "source": [
    "cat_one_hot = tf.one_hot(cat_indices, depth=len(vocab) + num_oov_buckets)\n",
    "cat_one_hot"
   ]
  },
  {
   "cell_type": "markdown",
   "metadata": {},
   "source": [
    "It would be possible to wrap up this process into a custom layer, though Keras may add a layer called `TextVectorization` in the future to do the same thing.\n",
    "\n",
    "One-hot vectorization is fine for a few categories, but if the vocabulary is too large, a more efficient method is to use *embeddings* instead.\n",
    "\n",
    "### Encoding categorical features using embedding\n",
    "\n",
    "\"An embedding is a trainable dense vector that represents a category.\"\n",
    "Basically, an N-dimensional space is created and each word is assigned a vector.\n",
    "This vector is adjusted during training such that like words become closer and unlike words get further apart.\n",
    "In more sophisticated models, such as *word2vec*, the space can become even more sophisticated and actually embed the meanings of the words.\n",
    "This is called *representation learning*.\n",
    "\n",
    "First, below, we will manually create an embedding matrix as a demonstration.\n",
    "Then we will create an `Embedding` layer available from Keras to show how this would be used in practice."
   ]
  },
  {
   "cell_type": "code",
   "execution_count": 35,
   "metadata": {},
   "outputs": [
    {
     "data": {
      "text/plain": [
       "<tf.Variable 'Variable:0' shape=(7, 2) dtype=float32, numpy=\n",
       "array([[0.8620689 , 0.42660105],\n",
       "       [0.6114336 , 0.02744067],\n",
       "       [0.19828093, 0.973667  ],\n",
       "       [0.6924714 , 0.18765879],\n",
       "       [0.98749256, 0.43081176],\n",
       "       [0.25966418, 0.02023518],\n",
       "       [0.08034861, 0.6603186 ]], dtype=float32)>"
      ]
     },
     "execution_count": 35,
     "metadata": {},
     "output_type": "execute_result"
    }
   ],
   "source": [
    "# Create a 2D embedding of the features.\n",
    "embedding_dims = 2\n",
    "\n",
    "# Initialize the vectors for each vocabulary term randomly.\n",
    "embed_init = tf.random.uniform([len(vocab) + num_oov_buckets, embedding_dims])\n",
    "embedding_matrix = tf.Variable(embed_init)\n",
    "embedding_matrix"
   ]
  },
  {
   "cell_type": "code",
   "execution_count": 36,
   "metadata": {},
   "outputs": [
    {
     "data": {
      "image/png": "[encoded data removed]",
      "text/plain": [
       "<Figure size 576x360 with 1 Axes>"
      ]
     },
     "metadata": {},
     "output_type": "display_data"
    }
   ],
   "source": [
    "names = vocab + ['oov 1', 'oov 2']\n",
    "fig, ax = plt.subplots(figsize=(8, 5))\n",
    "ax.scatter(embedding_matrix[:, 0], embedding_matrix[:, 1], color='k')\n",
    "ax.set_xlabel('$x_1$', fontsize=14)\n",
    "ax.set_ylabel('$x_2$', fontsize=14)\n",
    "ax.set_title('Embedding of Ocean Proximity', fontsize=18)\n",
    "\n",
    "for i, name in enumerate(names):\n",
    "    x, y = embedding_matrix[i, 0].numpy() + 0.01, embedding_matrix[i, 1].numpy()\n",
    "    ax.annotate(name, (x, y), fontsize=12)\n",
    "\n",
    "plt.show()"
   ]
  },
  {
   "cell_type": "code",
   "execution_count": 37,
   "metadata": {},
   "outputs": [
    {
     "data": {
      "text/plain": [
       "<tf.Tensor: id=17478, shape=(4, 2), dtype=float32, numpy=\n",
       "array([[0.6924714 , 0.18765879],\n",
       "       [0.25966418, 0.02023518],\n",
       "       [0.6114336 , 0.02744067],\n",
       "       [0.19828093, 0.973667  ]], dtype=float32)>"
      ]
     },
     "execution_count": 37,
     "metadata": {},
     "output_type": "execute_result"
    }
   ],
   "source": [
    "# Encode an example batch.\n",
    "eg_categories = tf.constant(['NEAR BAY', 'DESERT', 'INLAND', 'NEAR OCEAN'])\n",
    "cat_indices = table.lookup(eg_categories)\n",
    "cat_indices\n",
    "tf.nn.embedding_lookup(embedding_matrix, cat_indices)"
   ]
  },
  {
   "cell_type": "markdown",
   "metadata": {},
   "source": [
    "Below is a model (built using the functional API) that can process categorical features and learn an embedding for each category."
   ]
  },
  {
   "cell_type": "code",
   "execution_count": 38,
   "metadata": {},
   "outputs": [
    {
     "name": "stdout",
     "output_type": "stream",
     "text": [
      "Model: \"model\"\n",
      "__________________________________________________________________________________________________\n",
      "Layer (type)                    Output Shape         Param #     Connected to                     \n",
      "==================================================================================================\n",
      "input_3 (InputLayer)            [(None,)]            0                                            \n",
      "__________________________________________________________________________________________________\n",
      "lambda_1 (Lambda)               (None,)              0           input_3[0][0]                    \n",
      "__________________________________________________________________________________________________\n",
      "input_2 (InputLayer)            [(None, 8)]          0                                            \n",
      "__________________________________________________________________________________________________\n",
      "embedding (Embedding)           (None, 2)            12          lambda_1[0][0]                   \n",
      "__________________________________________________________________________________________________\n",
      "concatenate (Concatenate)       (None, 10)           0           input_2[0][0]                    \n",
      "                                                                 embedding[0][0]                  \n",
      "__________________________________________________________________________________________________\n",
      "dense_7 (Dense)                 (None, 15)           165         concatenate[0][0]                \n",
      "__________________________________________________________________________________________________\n",
      "dense_8 (Dense)                 (None, 10)           160         dense_7[0][0]                    \n",
      "__________________________________________________________________________________________________\n",
      "dense_9 (Dense)                 (None, 5)            55          dense_8[0][0]                    \n",
      "__________________________________________________________________________________________________\n",
      "dense_10 (Dense)                (None, 1)            6           dense_9[0][0]                    \n",
      "==================================================================================================\n",
      "Total params: 398\n",
      "Trainable params: 398\n",
      "Non-trainable params: 0\n",
      "__________________________________________________________________________________________________\n"
     ]
    }
   ],
   "source": [
    "# Standard numerical inputs.\n",
    "regular_inputs = keras.layers.Input(shape=[8])\n",
    "\n",
    "# Categorical inputs.\n",
    "categories = keras.layers.Input(shape=[], dtype=tf.string)\n",
    "cat_indices = keras.layers.Lambda(lambda cats: table.lookup(cats))(categories)\n",
    "cat_embed = keras.layers.Embedding(input_dim=6, output_dim=2)(cat_indices)\n",
    "\n",
    "# Combine the inputs.\n",
    "encoded_inputs = keras.layers.concatenate([regular_inputs, cat_embed])\n",
    "\n",
    "# Hidden layers.\n",
    "hidden_layer1 = keras.layers.Dense(\n",
    "    15, \n",
    "    activation='elu', \n",
    "    kernel_initializer='he_normal'\n",
    ")(encoded_inputs)\n",
    "\n",
    "hidden_layer2 = keras.layers.Dense(\n",
    "    10, \n",
    "    activation='elu', \n",
    "    kernel_initializer='he_normal'\n",
    ")(hidden_layer1)\n",
    "\n",
    "hidden_layer3 = keras.layers.Dense(\n",
    "    5, \n",
    "    activation='elu', \n",
    "    kernel_initializer='he_normal'\n",
    ")(hidden_layer2)\n",
    "\n",
    "# Output layer.\n",
    "outputs = keras.layers.Dense(1)(hidden_layer3)\n",
    "\n",
    "# Model.\n",
    "model = keras.models.Model(inputs=[regular_inputs, categories],\n",
    "                           outputs=[outputs])\n",
    "\n",
    "model.summary()"
   ]
  },
  {
   "cell_type": "markdown",
   "metadata": {},
   "source": [
    "### Keras preprocessing layers\n",
    "\n",
    "These are currently under development by the TF team and should be available soon.\n",
    "They generally follow the process used above where a layer is created, its adapt method is called with a data sample, and then it is inserted into the model.\n",
    "\n",
    "Preprocessing for a deployed model is difficult and can require the duplication of code in multiple locations (ie. into TensorFlow.js for use in the browser).\n",
    "This break with DRY can be avoided by using the TF Transform library from TF Extended (TFX).\n",
    "\n",
    "## The TensorFlow Datasets (TFDS) project\n",
    "\n",
    "TFDS is an easy way to download common image, text, audio, and video datasets."
   ]
  },
  {
   "cell_type": "code",
   "execution_count": 39,
   "metadata": {
    "scrolled": false
   },
   "outputs": [
    {
     "name": "stderr",
     "output_type": "stream",
     "text": [
      "WARNING:absl:Warning: Setting shuffle_files=True because split=TRAIN and shuffle_files=None. This behavior will be deprecated on 2019-08-06, at which point shuffle_files=False will be the default for all splits.\n"
     ]
    }
   ],
   "source": [
    "import tensorflow_datasets as tfds\n",
    "\n",
    "dataset = tfds.load(name='mnist')\n",
    "mnist_train, mnist_test = dataset['train'], dataset['test']\n",
    "\n",
    "mnist_train = mnist_train.shuffle(10000).batch(32).prefetch(1)"
   ]
  },
  {
   "cell_type": "markdown",
   "metadata": {},
   "source": [
    "Each training instance contains the image and label."
   ]
  },
  {
   "cell_type": "code",
   "execution_count": 40,
   "metadata": {},
   "outputs": [
    {
     "data": {
      "image/png": "[encoded data removed]",
      "text/plain": [
       "<Figure size 720x1008 with 32 Axes>"
      ]
     },
     "metadata": {},
     "output_type": "display_data"
    }
   ],
   "source": [
    "from math import ceil\n",
    "\n",
    "\n",
    "def plot_image(img, ax):\n",
    "    ax.imshow(img.numpy().reshape(28, -1))\n",
    "    ax.grid(False)\n",
    "    ax.set_xticks([])\n",
    "    ax.set_yticks([])\n",
    "    return None\n",
    "\n",
    "\n",
    "def plot_images(imgs, lbls):\n",
    "    \n",
    "    n_col = 5\n",
    "    n_row = ceil(len(lbls) / n_col)\n",
    "    fig = plt.figure(figsize=(2 * n_col, 2 * n_row))\n",
    "    \n",
    "    for i, (img, lbl) in enumerate(zip(imgs, lbls)):\n",
    "        ax = plt.subplot(n_row, n_col, i+1)\n",
    "        plot_image(img, ax)\n",
    "        ax.set_title(lbl.numpy())\n",
    "    \n",
    "\n",
    "# Plot a sample of the MNIST data.\n",
    "for item in mnist_train.take(1):\n",
    "    images = item['image']\n",
    "    labels = item['label']\n",
    "\n",
    "plot_images(images, labels)\n",
    "    \n",
    "plt.show()"
   ]
  },
  {
   "cell_type": "markdown",
   "metadata": {},
   "source": [
    "However, the neural network model's `fit()` method requires a tuple of images and a tuple of labels.\n",
    "It would be possible to extract these data into separate tuples using the `map()` function from Numpy, though it is simpler to ask the `load()` function from TFDS to do this by setting `as_supervised=True`."
   ]
  },
  {
   "cell_type": "code",
   "execution_count": 41,
   "metadata": {},
   "outputs": [
    {
     "name": "stderr",
     "output_type": "stream",
     "text": [
      "WARNING:absl:Warning: Setting shuffle_files=True because split=TRAIN and shuffle_files=None. This behavior will be deprecated on 2019-08-06, at which point shuffle_files=False will be the default for all splits.\n"
     ]
    },
    {
     "name": "stdout",
     "output_type": "stream",
     "text": [
      "Epoch 1/5\n",
      "1875/1875 [==============================] - 67s 36ms/step - loss: 5.8763 - accuracy: 0.4832\n",
      "Epoch 2/5\n",
      "1875/1875 [==============================] - 60s 32ms/step - loss: 1.9556 - accuracy: 0.8483\n",
      "Epoch 3/5\n",
      "1875/1875 [==============================] - 61s 32ms/step - loss: 0.7055 - accuracy: 0.9380\n",
      "Epoch 4/5\n",
      "1875/1875 [==============================] - 68s 36ms/step - loss: 0.4136 - accuracy: 0.9462\n",
      "Epoch 5/5\n",
      "1875/1875 [==============================] - 69s 37ms/step - loss: 0.3450 - accuracy: 0.9506\n"
     ]
    },
    {
     "data": {
      "text/plain": [
       "<tensorflow.python.keras.callbacks.History at 0x13b9c1f10>"
      ]
     },
     "execution_count": 41,
     "metadata": {},
     "output_type": "execute_result"
    }
   ],
   "source": [
    "dataset = tfds.load(name='mnist', batch_size=32, as_supervised=True)\n",
    "mnist_train = dataset['train'].prefetch(1)\n",
    "\n",
    "def make_hidden_layer(n_neurons):\n",
    "    return keras.layers.Dense(n_neurons, \n",
    "                              activation='elu', \n",
    "                              kernel_initializer='he_normal', \n",
    "                              kernel_regularizer=keras.regularizers.l2(0.01))\n",
    "\n",
    "mnist_ann = keras.models.Sequential([\n",
    "    keras.layers.Flatten(input_shape = [28, 28, 1]),\n",
    "    make_hidden_layer(300),\n",
    "    make_hidden_layer(100),\n",
    "    make_hidden_layer(20),\n",
    "    keras.layers.Dense(10, activation='softmax')\n",
    "])\n",
    "\n",
    "mnist_ann.compile(\n",
    "    loss='sparse_categorical_crossentropy',\n",
    "    optimizer=keras.optimizers.Nadam(),\n",
    "    metrics=['accuracy']\n",
    ")\n",
    "\n",
    "mnist_ann.fit(mnist_train, epochs=5)"
   ]
  },
  {
   "cell_type": "code",
   "execution_count": 42,
   "metadata": {},
   "outputs": [
    {
     "name": "stdout",
     "output_type": "stream",
     "text": [
      "313/313 [==============================] - 17s 54ms/step - loss: 0.3656 - accuracy: 0.9410\n"
     ]
    },
    {
     "data": {
      "text/plain": [
       "[0.36563336477873803, 0.941]"
      ]
     },
     "execution_count": 42,
     "metadata": {},
     "output_type": "execute_result"
    }
   ],
   "source": [
    "mnist_ann.evaluate(dataset['test'])"
   ]
  },
  {
   "cell_type": "code",
   "execution_count": null,
   "metadata": {},
   "outputs": [],
   "source": []
  }
 ],
 "metadata": {
  "kernelspec": {
   "display_name": "Python 3",
   "language": "python",
   "name": "python3"
  },
  "language_info": {
   "codemirror_mode": {
    "name": "ipython",
    "version": 3
   },
   "file_extension": ".py",
   "mimetype": "text/x-python",
   "name": "python",
   "nbconvert_exporter": "python",
   "pygments_lexer": "ipython3",
   "version": "3.7.6"
  },
  "toc": {
   "base_numbering": 1,
   "nav_menu": {},
   "number_sections": true,
   "sideBar": true,
   "skip_h1_title": false,
   "title_cell": "Table of Contents",
   "title_sidebar": "Contents",
   "toc_cell": false,
   "toc_position": {},
   "toc_section_display": true,
   "toc_window_display": false
  }
 },
 "nbformat": 4,
 "nbformat_minor": 2
}
