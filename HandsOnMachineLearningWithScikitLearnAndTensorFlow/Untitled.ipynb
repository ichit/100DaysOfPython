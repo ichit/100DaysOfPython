{
 "cells": [
  {
   "cell_type": "markdown",
   "metadata": {},
   "source": [
    "# Chapter 15. Processing Sequences Using RNNs and CNNs\n",
    "\n",
    "Recurrent neural networks can work on sequences of arbitrary length, making them very useful for time series data or text processing."
   ]
  },
  {
   "cell_type": "code",
   "execution_count": 2,
   "metadata": {},
   "outputs": [],
   "source": [
    "import numpy as np\n",
    "import pandas as pd \n",
    "import matplotlib as mpl\n",
    "import matplotlib.pyplot as plt\n",
    "import seaborn as sns\n",
    "import tensorflow as tf \n",
    "import tensorflow.keras as keras\n",
    "\n",
    "%matplotlib inline\n",
    "np.random.seed(0)\n",
    "sns.set_style('whitegrid')"
   ]
  },
  {
   "cell_type": "markdown",
   "metadata": {},
   "source": [
    "## Recurrent neurons and layers\n",
    "\n",
    "A recurrent neuron looks just like a normal feedforward neuron except it also has connections pointing backwards.\n",
    "At each *time step t* (or *frame*), a recurrent neuron receives the inputs $\\textbf{x}_{(t)}$ as well as its own output from a previous time step, $\\textbf{y}_{(t-1)}$.\n",
    "Thus, each neuron has two sets of weights, $\\textbf{w}_x$ and $\\textbf{w}_y$.\n",
    "These inputs and weights get multiplied together and passed to an activation function just like for a feedforward network.\n",
    "The following function is for a layer of recurrent neurons at a time frame $t$ where $\\phi$ is the activation function and $b$ is the bias.\n",
    "\n",
    "$$\n",
    "\\textbf{y}_{(t)} = \\phi(\\textbf{W}_x^T \\textbf{x}_{(t)} + \\textbf{W}_y^T \\textbf{y}_{(t-1)} + b)\n",
    "$$\n",
    "\n",
    "Generally, the initial value of $\\textbf{y}$ at $t=0$ is set to 0.\n",
    "It is common to see a recurrent neuron displayed across the time axis - this is called *unrolling the network through time*.\n"
   ]
  },
  {
   "cell_type": "code",
   "execution_count": null,
   "metadata": {},
   "outputs": [],
   "source": []
  }
 ],
 "metadata": {
  "kernelspec": {
   "display_name": "Python 3",
   "language": "python",
   "name": "python3"
  },
  "language_info": {
   "codemirror_mode": {
    "name": "ipython",
    "version": 3
   },
   "file_extension": ".py",
   "mimetype": "text/x-python",
   "name": "python",
   "nbconvert_exporter": "python",
   "pygments_lexer": "ipython3",
   "version": "3.7.6"
  },
  "toc": {
   "base_numbering": 1,
   "nav_menu": {},
   "number_sections": true,
   "sideBar": true,
   "skip_h1_title": false,
   "title_cell": "Table of Contents",
   "title_sidebar": "Contents",
   "toc_cell": false,
   "toc_position": {},
   "toc_section_display": true,
   "toc_window_display": false
  }
 },
 "nbformat": 4,
 "nbformat_minor": 4
}
