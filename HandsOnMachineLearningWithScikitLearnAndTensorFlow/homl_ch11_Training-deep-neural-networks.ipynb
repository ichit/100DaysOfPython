{
 "cells": [
  {
   "cell_type": "markdown",
   "metadata": {},
   "source": [
    "# Chapter 11. Training Deep Neural Networks\n",
    "\n",
    "Below are a list of the common challenges faced when training a Deep Neural Network (DNN):\n",
    "\n",
    "* *Vanishing gradients* and *exploding gradients* are when a gradient grow smaller and smaller, or larger and larger, when flowing back through the DNN. This makes training the lower levels difficult.\n",
    "* More training data is required.\n",
    "* Each iteration takes longer.\n",
    "* With more parameters to train, overfitting becomes an even bigger problem.\n",
    "\n",
    "The following sections will address (more or less) in order."
   ]
  },
  {
   "cell_type": "code",
   "execution_count": 1,
   "metadata": {},
   "outputs": [],
   "source": [
    "import numpy as np\n",
    "import pandas as pd\n",
    "import matplotlib.pyplot as plt\n",
    "import tensorflow as tf\n",
    "from tensorflow import keras\n",
    "from IPython.core.interactiveshell import InteractiveShell\n",
    "\n",
    "np.random.seed(0)\n",
    "\n",
    "plt.style.use('seaborn-whitegrid')"
   ]
  },
  {
   "cell_type": "code",
   "execution_count": 2,
   "metadata": {},
   "outputs": [],
   "source": [
    "%matplotlib inline"
   ]
  },
  {
   "cell_type": "code",
   "execution_count": 3,
   "metadata": {},
   "outputs": [
    {
     "name": "stderr",
     "output_type": "stream",
     "text": [
      "/opt/anaconda3/envs/daysOfCode-env/lib/python3.7/site-packages/IPython/config.py:13: ShimWarning: The `IPython.config` package has been deprecated since IPython 4.0. You should import from traitlets.config instead.\n",
      "  \"You should import from traitlets.config instead.\", ShimWarning)\n",
      "/opt/anaconda3/envs/daysOfCode-env/lib/python3.7/site-packages/ipycache.py:17: UserWarning: IPython.utils.traitlets has moved to a top-level traitlets package.\n",
      "  from IPython.utils.traitlets import Unicode\n"
     ]
    }
   ],
   "source": [
    "%load_ext ipycache"
   ]
  },
  {
   "cell_type": "markdown",
   "metadata": {},
   "source": [
    "## The vanishing/exploding gradients problems\n",
    "\n",
    "A *vanishing gradient* is when the gradients get smaller and smaller as the training algorithm progresses to to the lower layers.\n",
    "This results in the parameter weights in the lower layers unchanged from initialization.\n",
    "An *exploding gradient* is the opposite and the parameter weights get larger and larger and the training diverges.\n",
    "This is primary a problem in Recurrent NN, discussed in a later chapter.\n",
    "\n",
    "In 2010, Glorot and Bengio proposed that this was caused by the random initialization procedure commonly used: samples from a normal distribution.\n",
    "This caused the variance in the initial weight parameters to be greater than that of the input, thus obfuscating the important information.\n",
    "They proposed an initialization strategy, *Glorot initialization*, such that the variance of the input to the layer is the same as the variance of the output of the layer.\n",
    "There are other variants of the process that have proven to work better with various activation functions; Table 11-1 on pg. 334 shows the best initialization methods for the activation function of the neuron, and it is replecated below.\n",
    "\n",
    "| Initialization method | Activation function           | $\\sigma^2$           |\n",
    "|:----------------------|:------------------------------|:---------------------|\n",
    "| Glorot                | None, tanh, logistic, softmax | $1/fan_{\\text{avg}}$ |\n",
    "| He                    | ReLU and variants             | $2/fan_{\\text{in}}$  |\n",
    "| LeCun                 | SELU                          | $1/fan_{\\text{in}}$  |\n",
    "\n",
    "By default, Keras uses the Glorot initialization with a uniform distribution.\n",
    "The initialization can also be changed to He initialization by setting the `kernel_initializer` argument to `he_uniform` or `he_normal`:"
   ]
  },
  {
   "cell_type": "code",
   "execution_count": 4,
   "metadata": {},
   "outputs": [
    {
     "data": {
      "text/plain": [
       "<tensorflow.python.keras.layers.core.Dense at 0x644f50550>"
      ]
     },
     "execution_count": 4,
     "metadata": {},
     "output_type": "execute_result"
    }
   ],
   "source": [
    "keras.layers.Dense(10, activation='relu', kernel_initializer='he_normal')"
   ]
  },
  {
   "cell_type": "markdown",
   "metadata": {},
   "source": [
    "Also, the details of an initializer can be specified by using the `VarianceScaling` class.\n",
    "The following example uses He initialization with a uniform distribution based on $fan_{\\text{avg}}$."
   ]
  },
  {
   "cell_type": "code",
   "execution_count": 5,
   "metadata": {},
   "outputs": [
    {
     "data": {
      "text/plain": [
       "<tensorflow.python.keras.layers.core.Dense at 0x6450ecc90>"
      ]
     },
     "execution_count": 5,
     "metadata": {},
     "output_type": "execute_result"
    }
   ],
   "source": [
    "he_avg_init = keras.initializers.VarianceScaling(scale=2.0, \n",
    "                                                 mode='fan_avg', \n",
    "                                                 distribution='uniform')\n",
    "keras.layers.Dense(10, activation='sigmoid', kernel_initializer=he_avg_init)"
   ]
  },
  {
   "cell_type": "markdown",
   "metadata": {},
   "source": [
    "### Nonsaturating activation functions\n",
    "\n",
    "In the same paper, Glorot and Bengio indicated that the activation function of choice, the logistic, was also a problem.\n",
    "Thus they proposed the *Rectified Linear Unit* (ReLU) for faster and nonsaturating training.\n",
    "The ReLU wasn't perfect, mainly because, during training, some neurons can \"die,\" meaning that they only output 0 (called a *dying ReLU*).\n",
    "Therefore, variants emerged such as the *leaky ReLU* (LeakyReLU), *Randomized leaky ReLU* (RRELU), and the *parametric leaky ReLU* (PReLU).\n",
    "The LeakyReLU includes another hyperparameter $\\alpha$ that lets the ReLU have a slightly positive slope when inputs are negative: $\\text{LeakyReLU}_\\alpha (z) = \\max(\\alpha z, z)$ (shown below).\n",
    "The RReLU is the same as the LeakyReLU, but $\\alpha$ is picked randomly within a range during training and fixed to an average during testing.\n",
    "The PReLU is where $\\alpha$ is turning into an additional parameter to be learned (this can lead to further overfitting, though)."
   ]
  },
  {
   "cell_type": "code",
   "execution_count": 6,
   "metadata": {},
   "outputs": [
    {
     "data": {
      "image/png": "[encoded data removed]",
      "text/plain": [
       "<Figure size 432x288 with 1 Axes>"
      ]
     },
     "metadata": {
      "needs_background": "light"
     },
     "output_type": "display_data"
    }
   ],
   "source": [
    "def leakyReLU(x, alpha=0.01):\n",
    "    return [i if i>=0 else i*alpha for i in x]\n",
    "\n",
    "x = np.arange(-4, 5, 1, dtype=np.float64)\n",
    "\n",
    "plt.plot(x, np.repeat(0, len(x)), 'k-')\n",
    "plt.plot([0, 0], [-1, 5], 'k-')\n",
    "plt.plot(x, leakyReLU(x, 0.1), 'b-')\n",
    "plt.axis([-4, 4, -0.5, 4])\n",
    "plt.xlabel('$z$', fontsize=12)\n",
    "plt.ylabel('ouput', fontsize=12)\n",
    "plt.title('LeakyReLU', fontsize=14)\n",
    "plt.show()"
   ]
  },
  {
   "cell_type": "markdown",
   "metadata": {},
   "source": [
    "Another useful activation function is the *exponential linear unit* (ELU) that is a linear funciton when the input is greater than 0 and an exponential when it is less than 0:\n",
    "\n",
    "$$\n",
    "\\begin{aligned}\n",
    "\\text{ELU}_\\alpha (z) = \\begin{cases}\n",
    "\\alpha (\\exp(z) - 1) &\\text{ if } z < 0 \\\\\n",
    "z                    &\\text{ if } z \\ge 0\n",
    "\\end{cases}\n",
    "\\end{aligned}\n",
    "$$\n",
    "\n",
    "In addition, there is the *scaled ELU* (SELU) that will produce a network that *self-normalizes*, each layer will naturally preserve the output with a mean of 0 and standard deviation of 1.\n",
    "This is only guaranteed under the following circumstances:\n",
    "\n",
    "* The ANN must be a stack of dense, sequentially connected layers.\n",
    "* The input must be standardized to mean 0 and standard deviation 1.\n",
    "* The layer weights must be initialized with LeCun normal initialization (`kernel_initializer='lecun_normal'`).\n",
    "\n",
    "Obviously the first bullet is quite a limitation, though researchers have indicated that the SELU can be used in some cases where the layers aren't dense, such as a convolutional neuron network (Chapter 14).\n",
    "\n",
    "To use a LeakyReLU in keras, it gets added as a separate layer after the layer you want it to apply to."
   ]
  },
  {
   "cell_type": "code",
   "execution_count": 7,
   "metadata": {},
   "outputs": [],
   "source": [
    "# An example ANN with a LeakyReLU layer.\n",
    "model = keras.models.Sequential([\n",
    "    keras.layers.InputLayer(input_shape=5),\n",
    "    keras.layers.Dense(10, kernel_initializer='he_normal'),\n",
    "    keras.layers.LeakyReLU(alpha=0.2),\n",
    "    keras.layers.Dense(1)\n",
    "])"
   ]
  },
  {
   "cell_type": "markdown",
   "metadata": {},
   "source": [
    "Below is an example of using the SELU activation function."
   ]
  },
  {
   "cell_type": "code",
   "execution_count": 8,
   "metadata": {
    "scrolled": true
   },
   "outputs": [
    {
     "data": {
      "text/plain": [
       "<tensorflow.python.keras.layers.core.Dense at 0x6450fea50>"
      ]
     },
     "execution_count": 8,
     "metadata": {},
     "output_type": "execute_result"
    }
   ],
   "source": [
    "keras.layers.Dense(10, activation='selu', kernel_initializer='lecun_normal')"
   ]
  },
  {
   "cell_type": "markdown",
   "metadata": {},
   "source": [
    "The author proposes the following order of preference for the activation functions covered above:\n",
    "\n",
    "> SELU > ELU > LeakyReLU (and its variants) > ReLU > tanh > logistic\n",
    "\n",
    "though he does provide practical reasons why you would choose one over another.\n",
    "\n",
    "### Batch normalization\n",
    "\n",
    "*Batch Normalization* (BN) is another safeguard against the vanishing and exploding gradients problems.\n",
    "BN zero-centers and normalizes each input, then scales and shifts the result using two new parameter vectors per layer: one for scaling and the other for shifting.\n",
    "The goal is to learn the optimal scale and mean for the inputs to each layer.\n",
    "To get final values for the model, a running average is maintained of each layer's mean and standard deviation.\n",
    "\n",
    "In practice, BN has shown great success in reducing the problem of vanishing and exploding gradients, even when using saturating activation functions.\n",
    "\n",
    "Though there are performance issues during training because there are now additional layers and parameters to learn, training is often slower because fewer rounds of training are required.\n",
    "Further, once the model is trained, the new layers from BN can be incorporated into the previous layer.\n",
    "This is does by updating the previous layer's weights and biases to output the correct scale and offset learned by the BN layer.\n",
    "\n",
    "Here is an example of using BN with Keras for an image classifier.\n",
    "It is added just before or after each hidden layer's activation function and as the first layer in the model (after flattening the image, though)."
   ]
  },
  {
   "cell_type": "code",
   "execution_count": 9,
   "metadata": {},
   "outputs": [
    {
     "name": "stdout",
     "output_type": "stream",
     "text": [
      "Model: \"sequential_1\"\n",
      "_________________________________________________________________\n",
      "Layer (type)                 Output Shape              Param #   \n",
      "=================================================================\n",
      "flatten (Flatten)            (None, 784)               0         \n",
      "_________________________________________________________________\n",
      "batch_normalization (BatchNo (None, 784)               3136      \n",
      "_________________________________________________________________\n",
      "dense_5 (Dense)              (None, 300)               235500    \n",
      "_________________________________________________________________\n",
      "batch_normalization_1 (Batch (None, 300)               1200      \n",
      "_________________________________________________________________\n",
      "dense_6 (Dense)              (None, 100)               30100     \n",
      "_________________________________________________________________\n",
      "batch_normalization_2 (Batch (None, 100)               400       \n",
      "_________________________________________________________________\n",
      "dense_7 (Dense)              (None, 10)                1010      \n",
      "=================================================================\n",
      "Total params: 271,346\n",
      "Trainable params: 268,978\n",
      "Non-trainable params: 2,368\n",
      "_________________________________________________________________\n"
     ]
    }
   ],
   "source": [
    "model_1 = keras.models.Sequential([\n",
    "    keras.layers.Flatten(input_shape = [28, 28]),\n",
    "    keras.layers.BatchNormalization(),\n",
    "    keras.layers.Dense(300, activation='elu', kernel_initializer='he_normal'),\n",
    "    keras.layers.BatchNormalization(),\n",
    "    keras.layers.Dense(100, activation='elu', kernel_initializer='he_normal'),\n",
    "    keras.layers.BatchNormalization(),\n",
    "    keras.layers.Dense(10, activation='softmax'),\n",
    "])\n",
    "\n",
    "model_1.summary()"
   ]
  },
  {
   "cell_type": "markdown",
   "metadata": {},
   "source": [
    "There is some disagreement over whether the BN layer should be added before or after the activation functions.\n",
    "Below is an example of creating a model with the BN layer *before* the activation function.\n",
    "The activation functions must be separated from the hidden layers and added separately after the BN layers."
   ]
  },
  {
   "cell_type": "code",
   "execution_count": 10,
   "metadata": {},
   "outputs": [
    {
     "name": "stdout",
     "output_type": "stream",
     "text": [
      "Model: \"sequential_2\"\n",
      "_________________________________________________________________\n",
      "Layer (type)                 Output Shape              Param #   \n",
      "=================================================================\n",
      "flatten_1 (Flatten)          (None, 784)               0         \n",
      "_________________________________________________________________\n",
      "batch_normalization_3 (Batch (None, 784)               3136      \n",
      "_________________________________________________________________\n",
      "dense_8 (Dense)              (None, 300)               235200    \n",
      "_________________________________________________________________\n",
      "batch_normalization_4 (Batch (None, 300)               1200      \n",
      "_________________________________________________________________\n",
      "activation (Activation)      (None, 300)               0         \n",
      "_________________________________________________________________\n",
      "dense_9 (Dense)              (None, 100)               30000     \n",
      "_________________________________________________________________\n",
      "batch_normalization_5 (Batch (None, 100)               400       \n",
      "_________________________________________________________________\n",
      "activation_1 (Activation)    (None, 100)               0         \n",
      "_________________________________________________________________\n",
      "dense_10 (Dense)             (None, 10)                1010      \n",
      "=================================================================\n",
      "Total params: 270,946\n",
      "Trainable params: 268,578\n",
      "Non-trainable params: 2,368\n",
      "_________________________________________________________________\n"
     ]
    }
   ],
   "source": [
    "model_2 = keras.models.Sequential([\n",
    "    keras.layers.Flatten(input_shape=[28, 28]),\n",
    "    keras.layers.BatchNormalization(),\n",
    "    keras.layers.Dense(300, kernel_initializer='he_normal', use_bias=False),\n",
    "    keras.layers.BatchNormalization(),\n",
    "    keras.layers.Activation('elu'),\n",
    "    keras.layers.Dense(100, kernel_initializer='he_normal', use_bias=False),\n",
    "    keras.layers.BatchNormalization(),\n",
    "    keras.layers.Activation('elu'),\n",
    "    keras.layers.Dense(10, activation='softmax')\n",
    "])\n",
    "\n",
    "model_2.summary()"
   ]
  },
  {
   "cell_type": "markdown",
   "metadata": {},
   "source": [
    "The \"non-trainable\" parameters the running averages for the means and standard deviations of each BN layer because they are not trained by the back-propagation.\n",
    "Below are the parameters for the first BN layer."
   ]
  },
  {
   "cell_type": "code",
   "execution_count": 11,
   "metadata": {},
   "outputs": [
    {
     "data": {
      "text/plain": [
       "[('batch_normalization/gamma:0', True),\n",
       " ('batch_normalization/beta:0', True),\n",
       " ('batch_normalization/moving_mean:0', False),\n",
       " ('batch_normalization/moving_variance:0', False)]"
      ]
     },
     "execution_count": 11,
     "metadata": {},
     "output_type": "execute_result"
    }
   ],
   "source": [
    "[(var.name, var.trainable) for var in model_1.layers[1].variables]"
   ]
  },
  {
   "cell_type": "markdown",
   "metadata": {},
   "source": [
    "Generally, the default hyperparamters for BN are good enough.\n",
    "The two that may be worth changing are `momentum` and `axis`.\n",
    "The momentum determines how much the newly computed batch means and standard deviations ($\\textbf{v}$) should contribute to the running parameter averages weights ($\\hat{\\textbf{v}}$):\n",
    "\n",
    "$\\hat{\\textbf{v}} \\leftarrow \\hat{\\textbf{v}} \\times \\text{momentum} + \\textbf{v} \\times (1 - \\text{momentum})$\n",
    "\n",
    "The axis argument determines on which axis or axes the normalization occurs.\n",
    "The default is the last axis, which for flat input data is good, but is not likely applicable for input data matrices with greater than two dimensions.\n",
    "\n",
    "### Gradient clipping\n",
    "\n",
    "The maximum and minimum gradient can be set to prevent exploding gradients.\n",
    "Two parameters in `keras.optimizers.SGD()` can be set to do this.\n",
    "The first, `clipvalue`, sets the minimum and maximum values and then just reduces any gradient over/under the values to the maximum/minimum value.\n",
    "Thus, if `clipvalue=1.0` then the maximum and minimum gradients are [-1.0, 1.0] and a gradient of [0.7, 1.1] is clipped to [0.7, 1.0].\n",
    "The main problem with setting the `clipvalue` is that is changes the *direction* of the gradient.\n",
    "This is resolved by setting `clipnorm` which scales the gradient such that all the individual values fit within the limit, thus not changing the direction, just the magnitude of the gradient.\n",
    "For example if `clipnorm=1.0` then the vector [0.9, 100.0] becomes [0.00899964, 0.9999595] instead of [0.9, 1.0] with `clipvalue=1.0`.\n",
    "\n",
    "### Using pretrained layers\n",
    "\n",
    "The author advises that, \"It is generally not a good idea to train a very large DNN from scratch,\" (HOML, pp. 345).\n",
    "Instead, a pretrained DNN can be downloaded and most of the layers reused.\n",
    "This is called *transfer learning*.\n",
    "The upsides are that is will speed up training considerably and requires less training data.\n",
    "\n",
    "In general, it is best to begin by retraining the upper layers while \"freezing\" the lower layers because they are more likely to have learned generalizable patterns.\n",
    "The more similar the new task is to the one for the original model, the more layers can be reused.\n",
    "Here is a process that will be generally advisable for *transfer learning*:\n",
    "\n",
    "1. Freeze all of the reused layers, train, and validate. This would only be training the output layer that is custom for the problem at hand.\n",
    "2. Unfreeze the top one or two layers, train, and validate. This lets back propagation train the last one or two layers in the network, leaving most of them untouched. \n",
    "3. If you have a lot of training data, you can unfreeze more layers. It is advisable to reduce the learning rate, though.\n",
    "4. Finally, try experimenting with adding additional layers or replacing the last few layers of the original model.\n",
    "\n",
    "### Transfer learning with Keras\n",
    "\n",
    "Below is an example of training `model_B` on top of `model_A`.\n",
    "First, `model_A` is created, trained, and saved to file."
   ]
  },
  {
   "cell_type": "code",
   "execution_count": 12,
   "metadata": {
    "scrolled": true
   },
   "outputs": [
    {
     "name": "stdout",
     "output_type": "stream",
     "text": [
      "Train on 38400 samples, validate on 9600 samples\n",
      "Epoch 1/3\n",
      "38400/38400 [==============================] - 11s 290us/sample - loss: 3.1552 - accuracy: 0.6259 - val_loss: 1.2860 - val_accuracy: 0.6743\n",
      "Epoch 2/3\n",
      "38400/38400 [==============================] - 12s 309us/sample - loss: 1.0561 - accuracy: 0.7038 - val_loss: 0.9858 - val_accuracy: 0.7094\n",
      "Epoch 3/3\n",
      "38400/38400 [==============================] - 11s 298us/sample - loss: 0.8433 - accuracy: 0.7348 - val_loss: 0.8872 - val_accuracy: 0.7329\n"
     ]
    }
   ],
   "source": [
    "from sklearn.model_selection import train_test_split\n",
    "import pathlib\n",
    "\n",
    "# Pepare data.\n",
    "fashion_mnist = keras.datasets.fashion_mnist\n",
    "(X_train_full, y_train_full), (X_test, y_test) = fashion_mnist.load_data()\n",
    "\n",
    "class_names = [\"T-shirt/top\", \"Trouser\", \"Pullover\", \"Dress\", \"Coat\", \"Sandal\", \n",
    "               \"Shirt\", \"Sneaker\", \"Bag\", \"Ankle boot\"]\n",
    "\n",
    "# Split into training and validation data.\n",
    "X_train, X_valid, y_train, y_valid = train_test_split(X_train_full,\n",
    "                                                      y_train_full,\n",
    "                                                      test_size=0.2,\n",
    "                                                      random_state=0)\n",
    "\n",
    "# Construct model A\n",
    "model_A = keras.models.Sequential([\n",
    "    keras.layers.Flatten(input_shape = X_train.shape[1:]),\n",
    "    keras.layers.Dense(300, activation='elu', kernel_initializer='he_normal'),\n",
    "    keras.layers.Dense(200, activation='elu', kernel_initializer='he_normal'),\n",
    "    keras.layers.Dense(100, activation='elu', kernel_initializer='he_normal'),\n",
    "    keras.layers.Dense(50, activation='elu', kernel_initializer='he_normal'),\n",
    "    keras.layers.Dense(50, activation='elu', kernel_initializer='he_normal'),\n",
    "    keras.layers.Dense(50, activation='elu', kernel_initializer='he_normal'),\n",
    "    keras.layers.Dense(10, activation='softmax'),\n",
    "])\n",
    "\n",
    "# Compile model A\n",
    "model_A.compile(\n",
    "    loss='sparse_categorical_crossentropy',\n",
    "    optimizer=keras.optimizers.SGD(learning_rate=1e-4),\n",
    "    metrics=['accuracy']\n",
    ")\n",
    "\n",
    "# Train model A (only a few epochs)\n",
    "history_A = model_A.fit(\n",
    "    X_train, y_train,\n",
    "    epochs=3,\n",
    "    validation_split=0.2,\n",
    "    verbose=1\n",
    ")\n",
    "\n",
    "# Save model to file.\n",
    "model_A_path = pathlib.Path(\"assets/ch06/ch11/model_A.h5\")\n",
    "model_A.save(model_A_path.as_posix())"
   ]
  },
  {
   "cell_type": "markdown",
   "metadata": {},
   "source": [
    "Now the transfer learning can begin.\n",
    "First, model A is read in from file.\n",
    "Then `model_B_on_A` consists of all but the last layer of model A and a new layer is added for model B.\n",
    "The goal of model B is to classify the fashion image as shirt (positive) or sandal (negative). "
   ]
  },
  {
   "cell_type": "code",
   "execution_count": 13,
   "metadata": {},
   "outputs": [],
   "source": [
    "# Get training data for just Shirts and Sandals.\n",
    "train_idx = [(y==0 or y==5) for y in y_train]\n",
    "X_train_B = X_train[train_idx, :, :]\n",
    "y_train_B = y_train[train_idx]\n",
    "y_train_B = (np.array(y_train_B) == 5)\n",
    "\n",
    "model_A = keras.models.load_model(model_A_path.as_posix())\n",
    "model_B_on_A = keras.models.Sequential(model_A.layers[:-1])\n",
    "model_B_on_A.add(keras.layers.Dense(1, activation='sigmoid'))"
   ]
  },
  {
   "cell_type": "markdown",
   "metadata": {},
   "source": [
    "However, the training of `model_B_on_A` will change the layers in `model_A`.\n",
    "If this is not wanted, then model A must be cloned and the weights copied.\n",
    "An example of this is shown below."
   ]
  },
  {
   "cell_type": "code",
   "execution_count": 14,
   "metadata": {},
   "outputs": [],
   "source": [
    "# Clone the model.\n",
    "model_A_clone = keras.models.clone_model(model_A)\n",
    "\n",
    "# Copy the weights (not does by `clone_model()` method.)\n",
    "model_A_clone.set_weights(model_A.get_weights())"
   ]
  },
  {
   "cell_type": "markdown",
   "metadata": {},
   "source": [
    "Now we can train `model_B_on_A`.\n",
    "However, we want to freeze the layers from model A for the first few epochs.\n",
    "It is important to remember to recompile the model after layers are (un)frozen."
   ]
  },
  {
   "cell_type": "code",
   "execution_count": 15,
   "metadata": {},
   "outputs": [
    {
     "name": "stdout",
     "output_type": "stream",
     "text": [
      "Train on 7676 samples, validate on 1920 samples\n",
      "Epoch 1/4\n",
      "7676/7676 [==============================] - 3s 345us/sample - loss: 0.1703 - accuracy: 0.9586 - val_loss: 0.0930 - val_accuracy: 0.9781\n",
      "Epoch 2/4\n",
      "7676/7676 [==============================] - 2s 200us/sample - loss: 0.0939 - accuracy: 0.9795 - val_loss: 0.0646 - val_accuracy: 0.9812\n",
      "Epoch 3/4\n",
      "7676/7676 [==============================] - 2s 204us/sample - loss: 0.0795 - accuracy: 0.9822 - val_loss: 0.0575 - val_accuracy: 0.9823\n",
      "Epoch 4/4\n",
      "7676/7676 [==============================] - 2s 203us/sample - loss: 0.0729 - accuracy: 0.9827 - val_loss: 0.0607 - val_accuracy: 0.9859\n"
     ]
    }
   ],
   "source": [
    "# Freeze original layers for first training rounds.\n",
    "for layer in model_B_on_A.layers[:-1]:\n",
    "    layer.trainable = False\n",
    "\n",
    "# Recompile the model with only the top layer to be trained.\n",
    "model_B_on_A.compile(loss='binary_crossentropy',\n",
    "                     optimizer=keras.optimizers.SGD(learning_rate=1e-3),\n",
    "                     metrics=['accuracy'])\n",
    "\n",
    "# Train the top layer.\n",
    "history = model_B_on_A.fit(X_train_B, y_train_B, epochs=4, validation_split=0.2)"
   ]
  },
  {
   "cell_type": "markdown",
   "metadata": {},
   "source": [
    "Then the lower layers can be unfrozen, the model recompiled, and additional rounds of training run.\n",
    "Note that the learning rate is reduced by an order of magnitude."
   ]
  },
  {
   "cell_type": "code",
   "execution_count": 16,
   "metadata": {},
   "outputs": [
    {
     "name": "stdout",
     "output_type": "stream",
     "text": [
      "Train on 7676 samples, validate on 1920 samples\n",
      "Epoch 1/4\n",
      "7676/7676 [==============================] - 3s 443us/sample - loss: 0.0583 - accuracy: 0.9876 - val_loss: 0.0315 - val_accuracy: 0.9911\n",
      "Epoch 2/4\n",
      "7676/7676 [==============================] - 2s 271us/sample - loss: 0.0376 - accuracy: 0.9914 - val_loss: 0.0247 - val_accuracy: 0.9927\n",
      "Epoch 3/4\n",
      "7676/7676 [==============================] - 2s 276us/sample - loss: 0.0282 - accuracy: 0.9935 - val_loss: 0.0252 - val_accuracy: 0.9922\n",
      "Epoch 4/4\n",
      "7676/7676 [==============================] - 2s 273us/sample - loss: 0.0228 - accuracy: 0.9950 - val_loss: 0.0193 - val_accuracy: 0.9937\n"
     ]
    }
   ],
   "source": [
    "for layer in model_B_on_A.layers:\n",
    "    layer.trainable = True\n",
    "\n",
    "model_B_on_A.compile(loss='binary_crossentropy',\n",
    "                     optimizer=keras.optimizers.SGD(learning_rate=1e-4),\n",
    "                     metrics=['accuracy'])\n",
    "\n",
    "history = model_B_on_A.fit(X_train_B, y_train_B, epochs=4, validation_split=0.2)"
   ]
  },
  {
   "cell_type": "code",
   "execution_count": 17,
   "metadata": {
    "scrolled": true
   },
   "outputs": [
    {
     "name": "stdout",
     "output_type": "stream",
     "text": [
      "    test loss: 0.039\n",
      "test accuracy: 99.25%\n"
     ]
    }
   ],
   "source": [
    "test_idx = [(y==0 or y==5) for y in y_test]\n",
    "X_test_B = X_test[test_idx, :, :]\n",
    "y_test_B = (np.array(y_test[test_idx]) == 5)\n",
    "\n",
    "test_loss, test_accuracy = model_B_on_A.evaluate(X_test_B, y_test_B, verbose=0)\n",
    "\n",
    "print(f'    test loss: {np.round(test_loss, 3)}')\n",
    "print(f'test accuracy: {np.round(test_accuracy * 100, 3)}%')"
   ]
  },
  {
   "cell_type": "markdown",
   "metadata": {},
   "source": [
    "**In general, transfer learning is only useful for *very* deep networks, specifically convolutional neural networks (CNN, Chapter 14).**\n",
    "This is likely because shallow networks do not learn generalizable patterns in the lower layers while CNNs do.\n",
    "\n",
    "### Unsupervised pretraining\n",
    "\n",
    "If there is little labeled data and no previously trained model you can use with transfer learning, unlabeled data can be used for *unsupervised pretraining*.\n",
    "This is where an unsupervised model, often an autoencoder or generative adversarial network (GAN; Chapter 17) are trained on the unlabeled data and then the layers of the model are used as the lower layers for a DNN.\n",
    "\n",
    "### Pretraining on auxiliary data\n",
    "\n",
    "Another alternative for when there is little labeled data is to train a DNN on a related task where there is plenty of data, and then use the trained lower layers for another DNN for your desired task.\n",
    "\n",
    "## Fast optimizers\n",
    "\n",
    "Another way to reduce the amount of time required for training is to use a better optimizer than SGD.\n",
    "Below are some of the most common options.\n",
    "\n",
    "### Momentum optimization\n",
    "\n",
    "If a ball is rolling down a hill with a constant slope, it will speed up over time even though the gradient has not changed.\n",
    "This is the intuition behind *momentum optimization*.\n",
    "At each iteration, the local gradient is subtracted from the *momentum vector* $\\textbf{m}$ and updates the weights by adding the momentum vector.\n",
    "This way, the gradient acts  more as acceleration than as the speed.\n",
    "Below are the equations for calculating the momentum vector and then the parameter weights where $\\beta$ is the momentum, a parameter to limit the momentum vector, and $\\eta$ is  the learning rate, and $J(\\theta)$ is the cost function for the current value of the networks parameters $\\theta$.\n",
    "\n",
    "$\n",
    "\\textbf{m} \\leftarrow \\beta \\textbf{m} -  \\eta \\nabla_{\\theta} J(\\theta) \\\\\n",
    "\\theta \\leftarrow \\theta + \\textbf{m}\n",
    "$\n",
    "\n",
    "To use the momentum optimization in keras, set the `momentum` parameter in the the `SGD` optimizer."
   ]
  },
  {
   "cell_type": "code",
   "execution_count": 18,
   "metadata": {},
   "outputs": [
    {
     "data": {
      "text/plain": [
       "<tensorflow.python.keras.optimizer_v2.gradient_descent.SGD at 0x1a56f3ef90>"
      ]
     },
     "execution_count": 18,
     "metadata": {},
     "output_type": "execute_result"
    }
   ],
   "source": [
    "keras.optimizers.SGD(learning_rate=1e-3, momentum=0.9)"
   ]
  },
  {
   "cell_type": "markdown",
   "metadata": {},
   "source": [
    "### Nesterov accelerated gradient\n",
    "\n",
    "The *Nesterov accelerated gradient* (NAG) is a slight enhancement of momentum optimization.\n",
    "It measures the gradient not at the current location in the parameter space, but slightly ahead at $\\theta + \\beta \\textbf{m}$:\n",
    "\n",
    "$\n",
    "\\textbf{m} \\leftarrow \\beta \\textbf{m} -  \\eta \\nabla_{\\theta} J(\\theta + \\beta \\textbf{m}) \\\\\n",
    "\\theta \\leftarrow \\theta + \\textbf{m}\n",
    "$\n",
    "\n",
    "It generally helps by slightly adjusting the current direction of the momentum vector towards the minima.\n",
    "It is trivial to implement in keras, and because it is usually faster than momentum optimization, it is recommended to apply:"
   ]
  },
  {
   "cell_type": "code",
   "execution_count": 19,
   "metadata": {},
   "outputs": [
    {
     "data": {
      "text/plain": [
       "<tensorflow.python.keras.optimizer_v2.gradient_descent.SGD at 0x1a57b8b310>"
      ]
     },
     "execution_count": 19,
     "metadata": {},
     "output_type": "execute_result"
    }
   ],
   "source": [
    "keras.optimizers.SGD(learning_rate=1e-3, momentum=0.9, nesterov=True)"
   ]
  },
  {
   "cell_type": "markdown",
   "metadata": {},
   "source": [
    "### AdaGrad\n",
    "\n",
    "AdaGrad uses an *adaptive learning rate* strategy to scale (decay) the learning rate faster for steeper dimensions.\n",
    "It is very simillar to SGD, but divides the loss for each parameter by the square of the gradient (with an additional smoothing value $\\epsilon$):\n",
    "\n",
    "$\n",
    "\\textbf{s} \\leftarrow \\textbf{s} + \\nabla_\\theta J(\\theta) \\otimes \\nabla_\\theta J(\\theta)  \\\\\n",
    "\\theta \\leftarrow \\theta - \\eta \\nabla_\\theta J(\\theta) \\oslash \\sqrt{\\textbf{s} + \\epsilon}\n",
    "$\n",
    "\n",
    "**AdaGrad scales the learning rate too quickly for training DNNs - do NOT use it.**"
   ]
  },
  {
   "cell_type": "code",
   "execution_count": 20,
   "metadata": {},
   "outputs": [
    {
     "data": {
      "text/plain": [
       "<tensorflow.python.keras.optimizer_v2.adagrad.Adagrad at 0x1a57d4bb90>"
      ]
     },
     "execution_count": 20,
     "metadata": {},
     "output_type": "execute_result"
    }
   ],
   "source": [
    "keras.optimizers.Adagrad(learning_rate=1e-3, epsilon=1e-7)"
   ]
  },
  {
   "cell_type": "markdown",
   "metadata": {},
   "source": [
    "(The default behaviour of many optimizers is to use `keras.backend.epsilon()` of `epsilon`.\n",
    "It is effectively a global variable that can be set using `keras.backend.set_epsilon()`.\n",
    "If the default value for `epsilon` is `None`, then it is likely using this value.)"
   ]
  },
  {
   "cell_type": "markdown",
   "metadata": {},
   "source": [
    "### RMSProp\n",
    "\n",
    "This is simillar to AdaGrad, but fixes the issue of decaying the gradient too quickly by accumulating only the more recent gradients, where $\\beta$ is  the decay rate (the memory):\n",
    "\n",
    "$\n",
    "\\textbf{s} \\leftarrow \\beta \\textbf{s} + (1 - \\beta) \\nabla_\\theta J(\\theta) \\otimes \\nabla_\\theta J(\\theta)  \\\\\n",
    "\\theta \\leftarrow \\theta - \\eta \\nabla_\\theta J(\\theta) \\oslash \\sqrt{\\textbf{s} + \\epsilon}\n",
    "$\n",
    "\n",
    "$\\beta$ is another hyperparameter to tune, though the default value of 0.9 is usually sufficient."
   ]
  },
  {
   "cell_type": "code",
   "execution_count": 21,
   "metadata": {},
   "outputs": [
    {
     "data": {
      "text/plain": [
       "<tensorflow.python.keras.optimizer_v2.rmsprop.RMSprop at 0x1a57ebf5d0>"
      ]
     },
     "execution_count": 21,
     "metadata": {},
     "output_type": "execute_result"
    }
   ],
   "source": [
    "keras.optimizers.RMSprop(learning_rate=1e-3, rho=0.9)"
   ]
  },
  {
   "cell_type": "markdown",
   "metadata": {},
   "source": [
    "### Adam and  Nadam  Optimization\n",
    "\n",
    "The *adaptive moment estimation* (Adam) optimizer uses a combination of momentum optimization and RMSProp (the simillarities are quite obvious in the algorithm on pp. 356 of *HOML*.\n",
    "There are three hyperparameters to set, though the defaults (used below) are usually sufficient."
   ]
  },
  {
   "cell_type": "code",
   "execution_count": 22,
   "metadata": {},
   "outputs": [
    {
     "data": {
      "text/plain": [
       "<tensorflow.python.keras.optimizer_v2.adam.Adam at 0x1a57ebfd10>"
      ]
     },
     "execution_count": 22,
     "metadata": {},
     "output_type": "execute_result"
    }
   ],
   "source": [
    "keras.optimizers.Adam(learning_rate=1e-3, \n",
    "                      beta_1=0.9, \n",
    "                      beta_2=0.999, \n",
    "                      epsilon=1e-7)"
   ]
  },
  {
   "cell_type": "markdown",
   "metadata": {},
   "source": [
    "There are two optimizers derived from Adam that the author touched upon.\n",
    "*AdaMax* is a reworking of the Adam algorithm to make it a bit more stable.\n",
    "Still, Adam tends to perform better.\n",
    "*Nadam* is Adam with the Nesterov trick.\n",
    "It usually converges faster and is generally recommended to try it out."
   ]
  },
  {
   "cell_type": "code",
   "execution_count": 23,
   "metadata": {},
   "outputs": [
    {
     "data": {
      "text/plain": [
       "<tensorflow.python.keras.optimizer_v2.nadam.Nadam at 0x1a57d36250>"
      ]
     },
     "execution_count": 23,
     "metadata": {},
     "output_type": "execute_result"
    }
   ],
   "source": [
    "# AdaMax optimizer (default arguments)\n",
    "keras.optimizers.Adamax(learning_rate=0.001,\n",
    "                        beta_1=0.9,\n",
    "                        beta_2=0.999,\n",
    "                        epsilon=1e-07)\n",
    "\n",
    "# Nadam optimizer (default arguments)\n",
    "keras.optimizers.Nadam(learning_rate=0.001,\n",
    "                       beta_1=0.9,\n",
    "                       beta_2=0.999,\n",
    "                       epsilon=1e-07)"
   ]
  },
  {
   "cell_type": "markdown",
   "metadata": {},
   "source": [
    "### Learning Rate Scheduling\n",
    "\n",
    "A dynamic learning rate, one that changes during the training, is usually better than a static learning rate.\n",
    "Here are some of the more popular *learning schedules*.\n",
    "\n",
    "* **Power scheduling**: The learning rate is a function of the iteration number $t$: $\\eta(t) = \\eta_0 / (1 + t/s)^c$ where $s$, $c$, and $\\eta_0$ are all hyperparameters to tune. This equation drops the learning rate quickly at first, but then the changes are smaller.\n",
    "* **Exponential scheduling**: Set the learning rate to $\\eta(t) = \\eta_0 0.1^{t/s}$. This equation reduces the learning rate by a factor of 10 every $s$ steps.\n",
    "* **Piecewise constant scheduling**: Assign specific learning rates to each range of training iterations.\n",
    "* **Performance scheduling**: Measure the validation error every $N$ steps and reduce the learning rate by a factor of  $\\gamma$ when the error stops dropping.\n",
    "* **Icycle scheduling**: This is a more complicated schedule that raises the learning rate linearly during the first half of training, and then reduces it linearly in the second half. It does the opposite for the momentum.\n",
    "\n",
    "Implementing these in keras is pretty easy.\n",
    "First, power  scheduling can be accomplished using the `decay` argument in the `SGD` optimizer class. (The $c$ hyperparameter is automatically set to 1.)"
   ]
  },
  {
   "cell_type": "code",
   "execution_count": 24,
   "metadata": {},
   "outputs": [
    {
     "data": {
      "text/plain": [
       "<tensorflow.python.keras.optimizer_v2.gradient_descent.SGD at 0x644b63d90>"
      ]
     },
     "execution_count": 24,
     "metadata": {},
     "output_type": "execute_result"
    }
   ],
   "source": [
    "keras.optimizers.SGD(learning_rate=1e-2, momentum=0.9, decay=1e-4)"
   ]
  },
  {
   "cell_type": "markdown",
   "metadata": {},
   "source": [
    "Implementing exponential scheduling is fairly straightforward, too.\n",
    "First, a function that takes the iteration number and returns the learning rate must be defined.\n",
    "Then, a `LearningRateScheduler` callback is made an provided the function.\n",
    "The callback is then passed to the `fit()` method.\n",
    "\n",
    "Here, the function `exponential_decay()` takes the initial learning rate and $s$ hyperparameter value and returns another function that implements the exponential decay scheduler for a given epoch."
   ]
  },
  {
   "cell_type": "code",
   "execution_count": 25,
   "metadata": {},
   "outputs": [],
   "source": [
    "def exponential_decay(lr0, s):\n",
    "    \"\"\"Return a LR scheduling function with the desired hyperparameters.\"\"\"\n",
    "    return lambda epoch: lr0 * 0.1**(epoch / s)\n",
    "\n",
    "# Learning rate scheduling function with initial learning rate and s.\n",
    "exponential_decay_fn = exponential_decay(lr0=0.01, s=20)\n",
    "\n",
    "# A learning rate scheduler callback to implement the exponential scheduler.\n",
    "lr_scheduler = keras.callbacks.LearningRateScheduler(exponential_decay_fn)\n",
    "\n",
    "# Pass `lr_scheduler` to the `fit()` method for training."
   ]
  },
  {
   "cell_type": "markdown",
   "metadata": {},
   "source": [
    "If needed, the schedule function can take the current learning rate as a second argument.\n",
    "\n",
    "The *performance scheduler* can be implemented using the `ReduceLROnPlateau` callback.\n",
    "It multiplies the current learning rate by a desired factor after a certain number of epochs without improvement."
   ]
  },
  {
   "cell_type": "code",
   "execution_count": 26,
   "metadata": {},
   "outputs": [
    {
     "data": {
      "text/plain": [
       "<tensorflow.python.keras.callbacks.ReduceLROnPlateau at 0x1a57d57e10>"
      ]
     },
     "execution_count": 26,
     "metadata": {},
     "output_type": "execute_result"
    }
   ],
   "source": [
    "keras.callbacks.ReduceLROnPlateau(factor=0.5, patience=5)"
   ]
  },
  {
   "cell_type": "markdown",
   "metadata": {},
   "source": [
    "TensorFlow's implementation of Keras offers the ability to define a learning rate schedule using an object in `keras.optimizers.schedules` and then pass it to an optimizer.\n",
    "**This approach updates the learing rate at each step rather than at each epoch.**\n",
    "Below is an example of exponential decay where the number of steps is the total number of training steps in 20 epochs and a batch size of 32."
   ]
  },
  {
   "cell_type": "code",
   "execution_count": 27,
   "metadata": {},
   "outputs": [],
   "source": [
    "# Training hyperparameters.\n",
    "n_epochs = 20\n",
    "batch_size = 32\n",
    "\n",
    "# Learning rate scheduler.\n",
    "s = n_epochs * len(X_train) // batch_size\n",
    "learning_rate = keras.optimizers.schedules.ExponentialDecay(0.01, s, 0.1)\n",
    "\n",
    "# SGD using the exponential LR scheduler.\n",
    "optimizer =  keras.optimizers.SGD(learning_rate)"
   ]
  },
  {
   "cell_type": "markdown",
   "metadata": {},
   "source": [
    "## Avoiding overfitting through regularization\n",
    "\n",
    "We have already covered two powerful techniques that act like regularization: early stopping and Batch Normalization.\n",
    "\n",
    "### $\\ell_1$ and $\\ell_2$ regularization\n",
    "\n",
    "Both $\\ell_1$ and $\\ell_2$ can easily be used to constrain a layer's weights. \n",
    "$\\ell_1$ forces more weights to 0 and thus creates more sparse networks.\n",
    "Here is an example of a dense layer that applies $\\ell_2$ regularization to its connection weights with a regularization factor of 0.01 (how strong of a penalty to use):"
   ]
  },
  {
   "cell_type": "code",
   "execution_count": 28,
   "metadata": {},
   "outputs": [
    {
     "data": {
      "text/plain": [
       "<tensorflow.python.keras.layers.core.Dense at 0x1a5793de10>"
      ]
     },
     "execution_count": 28,
     "metadata": {},
     "output_type": "execute_result"
    }
   ],
   "source": [
    "keras.layers.Dense(100,\n",
    "                   activation='elu',\n",
    "                   kernel_initializer='he_normal',\n",
    "                   kernel_regularizer=keras.regularizers.l2(0.01))"
   ]
  },
  {
   "cell_type": "markdown",
   "metadata": {},
   "source": [
    "However, defining this for each layer of a network would become repetitive.\n",
    "One way around this would be to implement a for-loop.\n",
    "Alternatively, Python's `functools.partial()`, a function that can create a thin wrapper for any callable, can be used to create a proto-layer with desireable defaults."
   ]
  },
  {
   "cell_type": "code",
   "execution_count": 29,
   "metadata": {},
   "outputs": [],
   "source": [
    "from functools import partial\n",
    "\n",
    "# A wrapper around a Dense layer with L2-regularization.\n",
    "RegularizedDense = partial(\n",
    "    keras.layers.Dense,\n",
    "    activation='elu',\n",
    "    kernel_initializer='he_normal',\n",
    "    kernel_regularizer=keras.regularizers.l2(0.01)\n",
    ")\n",
    "\n",
    "# A sequential model.\n",
    "model = keras.models.Sequential([\n",
    "    keras.layers.Flatten(input_shape=[28, 28]),\n",
    "    RegularizedDense(300),\n",
    "    RegularizedDense(100),\n",
    "    RegularizedDense(10, \n",
    "                     activation='softmax', \n",
    "                     kernel_initializer='glorot_uniform'),\n",
    "])"
   ]
  },
  {
   "cell_type": "markdown",
   "metadata": {},
   "source": [
    "### Dropout\n",
    "\n",
    "*Dropout* is the process of removing some neurons randomly during training and it has  proven to  be a very powerful regularization technique.\n",
    "At each training step, each neuron - except for output neurons - has a probability $p$ of being ignored - all of its inputs and outputs are set to 0.\n",
    "Thus, because each neuron can be either present or absent, there are effectively $2^N$ neural networks being trained and averaged together.\n",
    "The intuition as to why this works is that the neurons cannot rely on just one or two of its neighbors, but must diversify, thus regularizing its input weights.\n",
    "Note that dropout is only present during training and not testing or production use of the ANN.\n",
    "Thus there is a step to compensate each input (or output) weight for the increased number of neurons.\n",
    "\n",
    "In Keras, adding dropout to an ANN is done with a `keras.layers.Dropout()` layer.\n",
    "Note that the input nodes can dropout, but not the output nodes."
   ]
  },
  {
   "cell_type": "code",
   "execution_count": 30,
   "metadata": {},
   "outputs": [
    {
     "name": "stdout",
     "output_type": "stream",
     "text": [
      "Model: \"sequential_6\"\n",
      "_________________________________________________________________\n",
      "Layer (type)                 Output Shape              Param #   \n",
      "=================================================================\n",
      "flatten_4 (Flatten)          (None, 784)               0         \n",
      "_________________________________________________________________\n",
      "dropout (Dropout)            (None, 784)               0         \n",
      "_________________________________________________________________\n",
      "dense_23 (Dense)             (None, 300)               235500    \n",
      "_________________________________________________________________\n",
      "dropout_1 (Dropout)          (None, 300)               0         \n",
      "_________________________________________________________________\n",
      "dense_24 (Dense)             (None, 100)               30100     \n",
      "_________________________________________________________________\n",
      "dropout_2 (Dropout)          (None, 100)               0         \n",
      "_________________________________________________________________\n",
      "dense_25 (Dense)             (None, 10)                1010      \n",
      "=================================================================\n",
      "Total params: 266,610\n",
      "Trainable params: 266,610\n",
      "Non-trainable params: 0\n",
      "_________________________________________________________________\n"
     ]
    }
   ],
   "source": [
    "dropout_rate = 0.2\n",
    "\n",
    "model = keras.models.Sequential([\n",
    "    keras.layers.Flatten(input_shape=[28, 28]),\n",
    "    keras.layers.Dropout(rate=dropout_rate),\n",
    "    keras.layers.Dense(300, activation='elu', kernel_initializer='he_normal'),\n",
    "    keras.layers.Dropout(rate=dropout_rate),\n",
    "    keras.layers.Dense(100, activation='elu', kernel_initializer='he_normal'),\n",
    "    keras.layers.Dropout(rate=dropout_rate),\n",
    "    keras.layers.Dense(10, activation='softmax')\n",
    "])\n",
    "model.summary()"
   ]
  },
  {
   "cell_type": "markdown",
   "metadata": {},
   "source": [
    "If the model is overfitting, then try increasing the dropout rate.\n",
    "The opposite is recommended for underfitting the training data.\n",
    "It can also help to increase the dropout rate for larger layers.\n",
    "Finally, many state-of-the-art networks only use dropout on the final hidden layer - this may be worth trying if the model is underfitting the training data severely.\n",
    "\n",
    "### Monte Carlo (MC) Dropout\n",
    "\n",
    "The dropout implemented during training can be used to increase the accuracy and confidence predictions for a neural network during testing and production.\n",
    "It effectively uses the dropout as Monte Carlo simulation, and gets multiple predictions on each instance, combining them all into a more robust and insightful prediction.\n",
    "\n",
    "Below is an example of using this process on the Fashion MNIST data.\n",
    "First, the model created above is trained."
   ]
  },
  {
   "cell_type": "code",
   "execution_count": 31,
   "metadata": {},
   "outputs": [
    {
     "name": "stdout",
     "output_type": "stream",
     "text": [
      "Train on 38400 samples, validate on 9600 samples\n",
      "Epoch 1/20\n",
      "38400/38400 [==============================] - 15s 391us/sample - loss: 4.5875 - accuracy: 0.3413 - val_loss: 1.3344 - val_accuracy: 0.4289\n",
      "Epoch 2/20\n",
      "38400/38400 [==============================] - 14s 370us/sample - loss: 1.5698 - accuracy: 0.4093 - val_loss: 1.1722 - val_accuracy: 0.5146\n",
      "Epoch 3/20\n",
      "38400/38400 [==============================] - 14s 374us/sample - loss: 1.3145 - accuracy: 0.4990 - val_loss: 0.9734 - val_accuracy: 0.6032\n",
      "Epoch 4/20\n",
      "38400/38400 [==============================] - 14s 371us/sample - loss: 1.1557 - accuracy: 0.5529 - val_loss: 0.8541 - val_accuracy: 0.6404\n",
      "Epoch 5/20\n",
      "38400/38400 [==============================] - 15s 380us/sample - loss: 1.0513 - accuracy: 0.5899 - val_loss: 0.8229 - val_accuracy: 0.6477\n",
      "Epoch 6/20\n",
      "38400/38400 [==============================] - 14s 369us/sample - loss: 1.0017 - accuracy: 0.6051 - val_loss: 0.8110 - val_accuracy: 0.6833\n",
      "Epoch 7/20\n",
      "38400/38400 [==============================] - 17s 439us/sample - loss: 0.9648 - accuracy: 0.6220 - val_loss: 0.8120 - val_accuracy: 0.6797\n",
      "Epoch 8/20\n",
      "38400/38400 [==============================] - 15s 383us/sample - loss: 0.9030 - accuracy: 0.6413 - val_loss: 0.6999 - val_accuracy: 0.7224\n",
      "Epoch 9/20\n",
      "38400/38400 [==============================] - 15s 386us/sample - loss: 0.8349 - accuracy: 0.6727 - val_loss: 0.6851 - val_accuracy: 0.7357\n",
      "Epoch 10/20\n",
      "38400/38400 [==============================] - 15s 387us/sample - loss: 0.7958 - accuracy: 0.6904 - val_loss: 0.6459 - val_accuracy: 0.7374\n",
      "Epoch 11/20\n",
      "38400/38400 [==============================] - 15s 398us/sample - loss: 0.7403 - accuracy: 0.7073 - val_loss: 0.6300 - val_accuracy: 0.7569\n",
      "Epoch 12/20\n",
      "38400/38400 [==============================] - 15s 390us/sample - loss: 0.7084 - accuracy: 0.7202 - val_loss: 0.6036 - val_accuracy: 0.7660\n",
      "Epoch 13/20\n",
      "38400/38400 [==============================] - 15s 393us/sample - loss: 0.6961 - accuracy: 0.7242 - val_loss: 0.6304 - val_accuracy: 0.7565\n",
      "Epoch 14/20\n",
      "38400/38400 [==============================] - 15s 392us/sample - loss: 0.6828 - accuracy: 0.7327 - val_loss: 0.5619 - val_accuracy: 0.7957\n",
      "Epoch 15/20\n",
      "38400/38400 [==============================] - 15s 402us/sample - loss: 0.6606 - accuracy: 0.7546 - val_loss: 0.5504 - val_accuracy: 0.8086\n",
      "Epoch 16/20\n",
      "38400/38400 [==============================] - 15s 399us/sample - loss: 0.6397 - accuracy: 0.7624 - val_loss: 0.5407 - val_accuracy: 0.8051\n",
      "Epoch 17/20\n",
      "38400/38400 [==============================] - 15s 397us/sample - loss: 0.6285 - accuracy: 0.7684 - val_loss: 0.5215 - val_accuracy: 0.8094\n",
      "Epoch 18/20\n",
      "38400/38400 [==============================] - 15s 392us/sample - loss: 0.6307 - accuracy: 0.7685 - val_loss: 0.5347 - val_accuracy: 0.8135\n",
      "Epoch 19/20\n",
      "38400/38400 [==============================] - 15s 396us/sample - loss: 0.6310 - accuracy: 0.7696 - val_loss: 0.5482 - val_accuracy: 0.8087\n",
      "Epoch 20/20\n",
      "38400/38400 [==============================] - 15s 393us/sample - loss: 0.6429 - accuracy: 0.7720 - val_loss: 0.5024 - val_accuracy: 0.8357\n"
     ]
    }
   ],
   "source": [
    "# Compile using SGD with faster options.\n",
    "# optimizer = keras.optimizers.SGD(learning_rate=1e-2, nesterov=True)\n",
    "optimizer = keras.optimizers.Adam(learning_rate=1e-3)\n",
    "model.compile(\n",
    "    loss='sparse_categorical_crossentropy',\n",
    "    optimizer=optimizer,\n",
    "    metrics=['accuracy']\n",
    ")\n",
    "\n",
    "# Fit on Fashion MNIST training data.\n",
    "history = model.fit(X_train,\n",
    "                    y_train,\n",
    "                    validation_split=0.2,\n",
    "                    callbacks=[keras.callbacks.EarlyStopping(patience=5)],\n",
    "                    epochs=20)"
   ]
  },
  {
   "cell_type": "code",
   "execution_count": 32,
   "metadata": {},
   "outputs": [
    {
     "data": {
      "image/png": "[encoded data removed]",
      "text/plain": [
       "<Figure size 576x360 with 1 Axes>"
      ]
     },
     "metadata": {
      "needs_background": "light"
     },
     "output_type": "display_data"
    }
   ],
   "source": [
    "pd.DataFrame(history.history).plot(figsize=(8, 5))\n",
    "plt.axis([0, 19, 0.3, 1])\n",
    "plt.show()"
   ]
  },
  {
   "cell_type": "markdown",
   "metadata": {},
   "source": [
    "MC Dropout calls for making many predictions on the same test data and then averaging across each prediction.\n",
    "Below, we make 100 predictions and then average along the first axis (`axis=0`)."
   ]
  },
  {
   "cell_type": "code",
   "execution_count": 33,
   "metadata": {},
   "outputs": [
    {
     "data": {
      "text/plain": [
       "(100, 12000, 10)"
      ]
     },
     "execution_count": 33,
     "metadata": {},
     "output_type": "execute_result"
    }
   ],
   "source": [
    "y_probas = np.stack([model(X_valid.astype(np.float32), training=True) for sample in range(100)])\n",
    "y_probas.shape"
   ]
  },
  {
   "cell_type": "code",
   "execution_count": 34,
   "metadata": {},
   "outputs": [
    {
     "data": {
      "text/plain": [
       "(12000, 10)"
      ]
     },
     "execution_count": 34,
     "metadata": {},
     "output_type": "execute_result"
    }
   ],
   "source": [
    "y_proba = y_probas.mean(axis=0)\n",
    "y_proba.shape"
   ]
  },
  {
   "cell_type": "markdown",
   "metadata": {},
   "source": [
    "Below, we show the image of the first training data followed by the prediction probabilities made by the trained model and the prediction probabilities estimated using MC Dropout."
   ]
  },
  {
   "cell_type": "code",
   "execution_count": 35,
   "metadata": {},
   "outputs": [
    {
     "data": {
      "image/png": "[encoded data removed]",
      "text/plain": [
       "<Figure size 432x288 with 1 Axes>"
      ]
     },
     "metadata": {
      "needs_background": "light"
     },
     "output_type": "display_data"
    }
   ],
   "source": [
    "i = 0\n",
    "plt.imshow(X_valid[i, :, :])\n",
    "plt.grid(False)\n",
    "plt.title(f'real label: {y_valid[i]} ({class_names[y_valid[i]]})')\n",
    "plt.show()"
   ]
  },
  {
   "cell_type": "code",
   "execution_count": 36,
   "metadata": {},
   "outputs": [
    {
     "data": {
      "text/plain": [
       "array([[1., 0., 0., 0., 0., 0., 0., 0., 0., 0.]], dtype=float32)"
      ]
     },
     "execution_count": 36,
     "metadata": {},
     "output_type": "execute_result"
    }
   ],
   "source": [
    "# Prediction prbobabilities from the model.\n",
    "np.round(model.predict_proba(X_valid[i:i+1, :, :]), 2)"
   ]
  },
  {
   "cell_type": "code",
   "execution_count": 37,
   "metadata": {},
   "outputs": [
    {
     "data": {
      "text/plain": [
       "array([0.98, 0.  , 0.  , 0.01, 0.  , 0.  , 0.01, 0.  , 0.  , 0.  ],\n",
       "      dtype=float32)"
      ]
     },
     "execution_count": 37,
     "metadata": {},
     "output_type": "execute_result"
    }
   ],
   "source": [
    "# Prediction probabilities using MC Dropout.\n",
    "np.round(y_proba[i], 2)"
   ]
  },
  {
   "cell_type": "markdown",
   "metadata": {},
   "source": [
    "As shown above, the model indicates certainty of its choice, while the MC Dropout shows that it isn't 100% confident.\n",
    "While the difference in this example isn't great, testing instances 2 and 3 show that there can be a significant reduction in the confidence of the model."
   ]
  },
  {
   "cell_type": "code",
   "execution_count": 38,
   "metadata": {},
   "outputs": [
    {
     "name": "stdout",
     "output_type": "stream",
     "text": [
      "[0.04, 0.0, 0.61, 0.03, 0.16, 0.01, 0.14, 0.01, 0.01, 0.0]\n",
      "[0.05, 0.0, 0.56, 0.03, 0.15, 0.01, 0.18, 0.01, 0.02, 0.0]\n"
     ]
    }
   ],
   "source": [
    "print(list(np.round(model.predict_proba(X_valid[1:2, :, :]), 2).ravel()))\n",
    "print(list(np.round(y_proba[1], 2)))"
   ]
  },
  {
   "cell_type": "code",
   "execution_count": 39,
   "metadata": {},
   "outputs": [
    {
     "name": "stdout",
     "output_type": "stream",
     "text": [
      "[0.67, 0.0, 0.01, 0.0, 0.0, 0.0, 0.31, 0.0, 0.0, 0.0]\n",
      "[0.64, 0.0, 0.03, 0.02, 0.01, 0.0, 0.29, 0.0, 0.01, 0.0]\n",
      "real label: 6\n"
     ]
    }
   ],
   "source": [
    "print(list(np.round(model.predict_proba(X_valid[2:3, :, :]), 2).ravel()))\n",
    "print(list(np.round(y_proba[2], 2)))\n",
    "print(f'real label: {y_valid[2]}')"
   ]
  },
  {
   "cell_type": "markdown",
   "metadata": {},
   "source": [
    "A useful trick to to take the standard deviation across all of the prediction probabilities.\n",
    "This can provide a better model for the prediction certainty."
   ]
  },
  {
   "cell_type": "code",
   "execution_count": 40,
   "metadata": {},
   "outputs": [
    {
     "name": "stdout",
     "output_type": "stream",
     "text": [
      "predictions: [0.05, 0.0, 0.56, 0.03, 0.15, 0.01, 0.18, 0.01, 0.02, 0.0]\n",
      "  std. dev.: [0.03, 0.0, 0.11, 0.01, 0.03, 0.0, 0.07, 0.0, 0.02, 0.0]\n"
     ]
    }
   ],
   "source": [
    "# Calculate the standard deviation of prediction values for each instance.\n",
    "y_std = y_probas.std(axis=0)\n",
    "\n",
    "# Show the prediction probs and the stadnard deviations for a test instance.\n",
    "print('predictions:', list(np.round(y_proba[1], 2)))\n",
    "print('  std. dev.:', list(np.round(y_std[1], 2)))"
   ]
  },
  {
   "cell_type": "markdown",
   "metadata": {},
   "source": [
    "In practice, it is not generally advisable to get the model predictions by passing `training=True` because other layers may react to the parameter (e.g. Batch Normalization).\n",
    "Thus it is preferable to subclass `Dropout` and override the `call()` method."
   ]
  },
  {
   "cell_type": "code",
   "execution_count": 41,
   "metadata": {},
   "outputs": [],
   "source": [
    "class MCDropout(keras.layers.Dropout):\n",
    "    \"\"\"A Monte Carlo Dropout layer.\"\"\"\n",
    "    def call(self, inputs):\n",
    "        return super().call(inputs, training=True)"
   ]
  },
  {
   "cell_type": "markdown",
   "metadata": {},
   "source": [
    "### Max-Norm Regularization"
   ]
  },
  {
   "cell_type": "code",
   "execution_count": null,
   "metadata": {},
   "outputs": [],
   "source": []
  }
 ],
 "metadata": {
  "kernelspec": {
   "display_name": "Python 3",
   "language": "python",
   "name": "python3"
  },
  "language_info": {
   "codemirror_mode": {
    "name": "ipython",
    "version": 3
   },
   "file_extension": ".py",
   "mimetype": "text/x-python",
   "name": "python",
   "nbconvert_exporter": "python",
   "pygments_lexer": "ipython3",
   "version": "3.7.4"
  },
  "toc": {
   "base_numbering": 1,
   "nav_menu": {},
   "number_sections": true,
   "sideBar": true,
   "skip_h1_title": false,
   "title_cell": "Table of Contents",
   "title_sidebar": "Contents",
   "toc_cell": false,
   "toc_position": {},
   "toc_section_display": true,
   "toc_window_display": false
  }
 },
 "nbformat": 4,
 "nbformat_minor": 2
}
