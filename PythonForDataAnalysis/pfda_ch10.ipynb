{
 "nbformat": 4,
 "nbformat_minor": 2,
 "metadata": {
  "language_info": {
   "name": "python",
   "codemirror_mode": {
    "name": "ipython",
    "version": 3
   }
  },
  "orig_nbformat": 2,
  "file_extension": ".py",
  "mimetype": "text/x-python",
  "name": "python",
  "npconvert_exporter": "python",
  "pygments_lexer": "ipython3",
  "version": 3
 },
 "cells": [
  {
   "cell_type": "markdown",
   "execution_count": null,
   "metadata": {},
   "outputs": [],
   "source": [
    "# Chapter 10. Data aggregation and group operations\n",
    "\n",
    "## 10.1 Groupby mechanics\n",
    "\n",
    "The grouping key can be provided in different forms:\n",
    "\n",
    "1. a list of values the same length oas the axis being grouped\n",
    "2. a column name\n",
    "3. a dictionary or Series that corresponds the values on the axis being grouped and the group names\n",
    "4. a function to be invoked on the axis index or individual index labels\n",
    "\n",
    "The following are some examples using these methods."
   ]
  },
  {
   "cell_type": "code",
   "execution_count": 53,
   "metadata": {},
   "outputs": [],
   "source": [
    "import numpy as np\n",
    "import pandas as pd\n",
    "import matplotlib.pyplot as plt\n",
    "\n",
    "np.random.seed(0)"
   ]
  },
  {
   "cell_type": "code",
   "execution_count": 54,
   "metadata": {},
   "outputs": [
    {
     "data": {
      "text/html": "<div>\n<style scoped>\n    .dataframe tbody tr th:only-of-type {\n        vertical-align: middle;\n    }\n\n    .dataframe tbody tr th {\n        vertical-align: top;\n    }\n\n    .dataframe thead th {\n        text-align: right;\n    }\n</style>\n<table border=\"1\" class=\"dataframe\">\n  <thead>\n    <tr style=\"text-align: right;\">\n      <th></th>\n      <th>key1</th>\n      <th>key2</th>\n      <th>data1</th>\n      <th>data2</th>\n    </tr>\n  </thead>\n  <tbody>\n    <tr>\n      <th>0</th>\n      <td>a</td>\n      <td>one</td>\n      <td>1.764052</td>\n      <td>-0.977278</td>\n    </tr>\n    <tr>\n      <th>1</th>\n      <td>a</td>\n      <td>two</td>\n      <td>0.400157</td>\n      <td>0.950088</td>\n    </tr>\n    <tr>\n      <th>2</th>\n      <td>b</td>\n      <td>one</td>\n      <td>0.978738</td>\n      <td>-0.151357</td>\n    </tr>\n    <tr>\n      <th>3</th>\n      <td>b</td>\n      <td>two</td>\n      <td>2.240893</td>\n      <td>-0.103219</td>\n    </tr>\n    <tr>\n      <th>4</th>\n      <td>a</td>\n      <td>one</td>\n      <td>1.867558</td>\n      <td>0.410599</td>\n    </tr>\n  </tbody>\n</table>\n</div>",
      "text/plain": "  key1 key2     data1     data2\n0    a  one  1.764052 -0.977278\n1    a  two  0.400157  0.950088\n2    b  one  0.978738 -0.151357\n3    b  two  2.240893 -0.103219\n4    a  one  1.867558  0.410599"
     },
     "execution_count": 54,
     "metadata": {},
     "output_type": "execute_result"
    }
   ],
   "source": [
    "df = pd.DataFrame({\n",
    "    'key1' : ['a', 'a', 'b', 'b', 'a'],\n",
    "    'key2' : ['one', 'two', 'one', 'two', 'one'],\n",
    "    'data1' : np.random.randn(5), \n",
    "    'data2' : np.random.randn(5)\n",
    "})\n",
    "df"
   ]
  },
  {
   "cell_type": "code",
   "execution_count": 55,
   "metadata": {},
   "outputs": [
    {
     "data": {
      "text/html": "<div>\n<style scoped>\n    .dataframe tbody tr th:only-of-type {\n        vertical-align: middle;\n    }\n\n    .dataframe tbody tr th {\n        vertical-align: top;\n    }\n\n    .dataframe thead th {\n        text-align: right;\n    }\n</style>\n<table border=\"1\" class=\"dataframe\">\n  <thead>\n    <tr style=\"text-align: right;\">\n      <th></th>\n      <th>key1</th>\n      <th>key2</th>\n      <th>data1</th>\n      <th>data2</th>\n    </tr>\n  </thead>\n  <tbody>\n    <tr>\n      <th>0</th>\n      <td>a</td>\n      <td>one</td>\n      <td>0.144044</td>\n      <td>0.333674</td>\n    </tr>\n    <tr>\n      <th>1</th>\n      <td>a</td>\n      <td>two</td>\n      <td>1.454274</td>\n      <td>1.494079</td>\n    </tr>\n    <tr>\n      <th>2</th>\n      <td>b</td>\n      <td>one</td>\n      <td>0.761038</td>\n      <td>-0.205158</td>\n    </tr>\n    <tr>\n      <th>3</th>\n      <td>b</td>\n      <td>two</td>\n      <td>0.121675</td>\n      <td>0.313068</td>\n    </tr>\n    <tr>\n      <th>4</th>\n      <td>a</td>\n      <td>one</td>\n      <td>0.443863</td>\n      <td>-0.854096</td>\n    </tr>\n  </tbody>\n</table>\n</div>",
      "text/plain": "  key1 key2     data1     data2\n0    a  one  0.144044  0.333674\n1    a  two  1.454274  1.494079\n2    b  one  0.761038 -0.205158\n3    b  two  0.121675  0.313068\n4    a  one  0.443863 -0.854096"
     },
     "execution_count": 55,
     "metadata": {},
     "output_type": "execute_result"
    }
   ],
   "source": [
    "df = pd.DataFrame({\n",
    "    'key1' : ['a', 'a', 'b', 'b', 'a'],\n",
    "    'key2' : ['one', 'two', 'one', 'two', 'one'],\n",
    "    'data1' : np.random.randn(5), \n",
    "    'data2' : np.random.randn(5)\n",
    "})\n",
    "df"
   ]
  },
  {
   "cell_type": "code",
   "execution_count": 56,
   "metadata": {},
   "outputs": [
    {
     "data": {
      "text/plain": "<pandas.core.groupby.generic.SeriesGroupBy object at 0x1136f1e90>"
     },
     "execution_count": 56,
     "metadata": {},
     "output_type": "execute_result"
    }
   ],
   "source": [
    "# `groupby()` creates a new `GroupBy` object.\n",
    "grouped = df['data1'].groupby(df['key1'])\n",
    "grouped"
   ]
  },
  {
   "cell_type": "code",
   "execution_count": 57,
   "metadata": {},
   "outputs": [
    {
     "data": {
      "text/plain": "key1\na    0.680727\nb    0.441356\nName: data1, dtype: float64"
     },
     "execution_count": 57,
     "metadata": {},
     "output_type": "execute_result"
    }
   ],
   "source": [
    "# Mean of the data in the 'data1' column, grouped by 'key1'.\n",
    "grouped.mean()"
   ]
  },
  {
   "cell_type": "code",
   "execution_count": 58,
   "metadata": {},
   "outputs": [
    {
     "data": {
      "text/plain": "key1  key2\na     one     0.293953\n      two     1.454274\nb     one     0.761038\n      two     0.121675\nName: data1, dtype: float64"
     },
     "execution_count": 58,
     "metadata": {},
     "output_type": "execute_result"
    }
   ],
   "source": [
    "# Group by two columns.\n",
    "means = df['data1'].groupby([df['key1'], df['key2']]).mean()\n",
    "means"
   ]
  },
  {
   "cell_type": "code",
   "execution_count": 59,
   "metadata": {},
   "outputs": [
    {
     "data": {
      "text/html": "<div>\n<style scoped>\n    .dataframe tbody tr th:only-of-type {\n        vertical-align: middle;\n    }\n\n    .dataframe tbody tr th {\n        vertical-align: top;\n    }\n\n    .dataframe thead th {\n        text-align: right;\n    }\n</style>\n<table border=\"1\" class=\"dataframe\">\n  <thead>\n    <tr style=\"text-align: right;\">\n      <th>key2</th>\n      <th>one</th>\n      <th>two</th>\n    </tr>\n    <tr>\n      <th>key1</th>\n      <th></th>\n      <th></th>\n    </tr>\n  </thead>\n  <tbody>\n    <tr>\n      <th>a</th>\n      <td>0.293953</td>\n      <td>1.454274</td>\n    </tr>\n    <tr>\n      <th>b</th>\n      <td>0.761038</td>\n      <td>0.121675</td>\n    </tr>\n  </tbody>\n</table>\n</div>",
      "text/plain": "key2       one       two\nkey1                    \na     0.293953  1.454274\nb     0.761038  0.121675"
     },
     "execution_count": 59,
     "metadata": {},
     "output_type": "execute_result"
    }
   ],
   "source": [
    "means.unstack()"
   ]
  },
  {
   "cell_type": "markdown",
   "execution_count": null,
   "metadata": {},
   "outputs": [],
   "source": [
    "If the grouping information is a column of the same DataFrame, then only the grouping column name is required."
   ]
  },
  {
   "cell_type": "code",
   "execution_count": 60,
   "metadata": {},
   "outputs": [
    {
     "data": {
      "text/html": "<div>\n<style scoped>\n    .dataframe tbody tr th:only-of-type {\n        vertical-align: middle;\n    }\n\n    .dataframe tbody tr th {\n        vertical-align: top;\n    }\n\n    .dataframe thead th {\n        text-align: right;\n    }\n</style>\n<table border=\"1\" class=\"dataframe\">\n  <thead>\n    <tr style=\"text-align: right;\">\n      <th></th>\n      <th>data1</th>\n      <th>data2</th>\n    </tr>\n    <tr>\n      <th>key1</th>\n      <th></th>\n      <th></th>\n    </tr>\n  </thead>\n  <tbody>\n    <tr>\n      <th>a</th>\n      <td>0.680727</td>\n      <td>0.324553</td>\n    </tr>\n    <tr>\n      <th>b</th>\n      <td>0.441356</td>\n      <td>0.053955</td>\n    </tr>\n  </tbody>\n</table>\n</div>",
      "text/plain": "         data1     data2\nkey1                    \na     0.680727  0.324553\nb     0.441356  0.053955"
     },
     "execution_count": 60,
     "metadata": {},
     "output_type": "execute_result"
    }
   ],
   "source": [
    "df.groupby('key1').mean()"
   ]
  },
  {
   "cell_type": "code",
   "execution_count": 61,
   "metadata": {},
   "outputs": [
    {
     "data": {
      "text/html": "<div>\n<style scoped>\n    .dataframe tbody tr th:only-of-type {\n        vertical-align: middle;\n    }\n\n    .dataframe tbody tr th {\n        vertical-align: top;\n    }\n\n    .dataframe thead th {\n        text-align: right;\n    }\n</style>\n<table border=\"1\" class=\"dataframe\">\n  <thead>\n    <tr style=\"text-align: right;\">\n      <th></th>\n      <th></th>\n      <th>data1</th>\n      <th>data2</th>\n    </tr>\n    <tr>\n      <th>key1</th>\n      <th>key2</th>\n      <th></th>\n      <th></th>\n    </tr>\n  </thead>\n  <tbody>\n    <tr>\n      <th rowspan=\"2\" valign=\"top\">a</th>\n      <th>one</th>\n      <td>0.293953</td>\n      <td>-0.260211</td>\n    </tr>\n    <tr>\n      <th>two</th>\n      <td>1.454274</td>\n      <td>1.494079</td>\n    </tr>\n    <tr>\n      <th rowspan=\"2\" valign=\"top\">b</th>\n      <th>one</th>\n      <td>0.761038</td>\n      <td>-0.205158</td>\n    </tr>\n    <tr>\n      <th>two</th>\n      <td>0.121675</td>\n      <td>0.313068</td>\n    </tr>\n  </tbody>\n</table>\n</div>",
      "text/plain": "              data1     data2\nkey1 key2                    \na    one   0.293953 -0.260211\n     two   1.454274  1.494079\nb    one   0.761038 -0.205158\n     two   0.121675  0.313068"
     },
     "execution_count": 61,
     "metadata": {},
     "output_type": "execute_result"
    }
   ],
   "source": [
    "df.groupby(['key1', 'key2']).mean()"
   ]
  },
  {
   "cell_type": "markdown",
   "execution_count": null,
   "metadata": {},
   "outputs": [],
   "source": [
    "A frequently useful method on a grouped DataFrame is `size()`."
   ]
  },
  {
   "cell_type": "code",
   "execution_count": 62,
   "metadata": {},
   "outputs": [
    {
     "data": {
      "text/plain": "key1  key2\na     one     2\n      two     1\nb     one     1\n      two     1\ndtype: int64"
     },
     "execution_count": 62,
     "metadata": {},
     "output_type": "execute_result"
    }
   ],
   "source": [
    "df.groupby(['key1', 'key2']).size()"
   ]
  },
  {
   "cell_type": "markdown",
   "execution_count": null,
   "metadata": {},
   "outputs": [],
   "source": [
    "### Iterating over groups\n",
    "\n",
    "The GroupBy object created by `groupby()` supports iteration over a sequence of 2-tuples containing the group name and the data."
   ]
  },
  {
   "cell_type": "code",
   "execution_count": 63,
   "metadata": {},
   "outputs": [
    {
     "name": "stdout",
     "output_type": "stream",
     "text": "group name: a\n  key1 key2     data1     data2\n0    a  one  0.144044  0.333674\n1    a  two  1.454274  1.494079\n4    a  one  0.443863 -0.854096\n\ngroup name: b\n  key1 key2     data1     data2\n2    b  one  0.761038 -0.205158\n3    b  two  0.121675  0.313068\n\n"
    }
   ],
   "source": [
    "for name, group in df.groupby('key1'):\n",
    "    print(f'group name: {name}')\n",
    "    print(group)\n",
    "    print('')\n"
   ]
  },
  {
   "cell_type": "code",
   "execution_count": 64,
   "metadata": {},
   "outputs": [
    {
     "name": "stdout",
     "output_type": "stream",
     "text": "group name: a-one\n  key1 key2     data1     data2\n0    a  one  0.144044  0.333674\n4    a  one  0.443863 -0.854096\n\ngroup name: a-two\n  key1 key2     data1     data2\n1    a  two  1.454274  1.494079\n\ngroup name: b-one\n  key1 key2     data1     data2\n2    b  one  0.761038 -0.205158\n\ngroup name: b-two\n  key1 key2     data1     data2\n3    b  two  0.121675  0.313068\n\n"
    }
   ],
   "source": [
    "for name, group in df.groupby(['key1', 'key2']):\n",
    "    print(f'group name: {name[0]}-{name[1]}')\n",
    "    print(group)\n",
    "    print('')\n"
   ]
  },
  {
   "cell_type": "markdown",
   "execution_count": null,
   "metadata": {},
   "outputs": [],
   "source": [
    "By default, `groupby()` groups on `axis=0`, though the columns could also be grouped."
   ]
  },
  {
   "cell_type": "code",
   "execution_count": 65,
   "metadata": {},
   "outputs": [
    {
     "data": {
      "text/plain": "key1      object\nkey2      object\ndata1    float64\ndata2    float64\ndtype: object"
     },
     "execution_count": 65,
     "metadata": {},
     "output_type": "execute_result"
    }
   ],
   "source": [
    "df.dtypes"
   ]
  },
  {
   "cell_type": "code",
   "execution_count": 66,
   "metadata": {},
   "outputs": [
    {
     "name": "stdout",
     "output_type": "stream",
     "text": "data type: float64\n      data1     data2\n0  0.144044  0.333674\n1  1.454274  1.494079\n2  0.761038 -0.205158\n3  0.121675  0.313068\n4  0.443863 -0.854096\n\ndata type: object\n  key1 key2\n0    a  one\n1    a  two\n2    b  one\n3    b  two\n4    a  one\n\n"
    }
   ],
   "source": [
    "grouped = df.groupby(df.dtypes, axis=1)\n",
    "for dtype, group in grouped:\n",
    "    print(f'data type: {dtype}')\n",
    "    print(group)\n",
    "    print('')\n"
   ]
  },
  {
   "cell_type": "markdown",
   "execution_count": null,
   "metadata": {},
   "outputs": [],
   "source": [
    "### Selecting a column or subset of columns\n",
    "\n",
    "A GroupBy object can still be indexed by column name.\n",
    "The next two statements are equivalent."
   ]
  },
  {
   "cell_type": "code",
   "execution_count": 67,
   "metadata": {},
   "outputs": [
    {
     "data": {
      "text/plain": "<pandas.core.groupby.generic.SeriesGroupBy object at 0x113875750>"
     },
     "execution_count": 67,
     "metadata": {},
     "output_type": "execute_result"
    }
   ],
   "source": [
    "df.groupby('key1')['data1']"
   ]
  },
  {
   "cell_type": "code",
   "execution_count": 68,
   "metadata": {},
   "outputs": [
    {
     "data": {
      "text/plain": "<pandas.core.groupby.generic.SeriesGroupBy object at 0x11387b5d0>"
     },
     "execution_count": 68,
     "metadata": {},
     "output_type": "execute_result"
    }
   ],
   "source": [
    "df['data1'].groupby(df['key1'])"
   ]
  },
  {
   "cell_type": "markdown",
   "execution_count": null,
   "metadata": {},
   "outputs": [],
   "source": [
    "### Grouping with dictionaries and Series\n",
    "\n"
   ]
  },
  {
   "cell_type": "code",
   "execution_count": 69,
   "metadata": {},
   "outputs": [
    {
     "data": {
      "text/html": "<div>\n<style scoped>\n    .dataframe tbody tr th:only-of-type {\n        vertical-align: middle;\n    }\n\n    .dataframe tbody tr th {\n        vertical-align: top;\n    }\n\n    .dataframe thead th {\n        text-align: right;\n    }\n</style>\n<table border=\"1\" class=\"dataframe\">\n  <thead>\n    <tr style=\"text-align: right;\">\n      <th></th>\n      <th>a</th>\n      <th>b</th>\n      <th>c</th>\n      <th>d</th>\n      <th>e</th>\n    </tr>\n  </thead>\n  <tbody>\n    <tr>\n      <th>Joe</th>\n      <td>-2.552990</td>\n      <td>0.653619</td>\n      <td>0.864436</td>\n      <td>-0.742165</td>\n      <td>2.269755</td>\n    </tr>\n    <tr>\n      <th>Steve</th>\n      <td>-1.454366</td>\n      <td>0.045759</td>\n      <td>-0.187184</td>\n      <td>1.532779</td>\n      <td>1.469359</td>\n    </tr>\n    <tr>\n      <th>Wex</th>\n      <td>0.154947</td>\n      <td>0.378163</td>\n      <td>-0.887786</td>\n      <td>-1.980796</td>\n      <td>-0.347912</td>\n    </tr>\n    <tr>\n      <th>Jim</th>\n      <td>0.156349</td>\n      <td>1.230291</td>\n      <td>1.202380</td>\n      <td>-0.387327</td>\n      <td>-0.302303</td>\n    </tr>\n    <tr>\n      <th>Travis</th>\n      <td>-1.048553</td>\n      <td>-1.420018</td>\n      <td>-1.706270</td>\n      <td>1.950775</td>\n      <td>-0.509652</td>\n    </tr>\n  </tbody>\n</table>\n</div>",
      "text/plain": "               a         b         c         d         e\nJoe    -2.552990  0.653619  0.864436 -0.742165  2.269755\nSteve  -1.454366  0.045759 -0.187184  1.532779  1.469359\nWex     0.154947  0.378163 -0.887786 -1.980796 -0.347912\nJim     0.156349  1.230291  1.202380 -0.387327 -0.302303\nTravis -1.048553 -1.420018 -1.706270  1.950775 -0.509652"
     },
     "execution_count": 69,
     "metadata": {},
     "output_type": "execute_result"
    }
   ],
   "source": [
    "people = pd.DataFrame(np.random.randn(5, 5),\n",
    "                      columns=list('abcde'),\n",
    "                      index=['Joe', 'Steve', 'Wex', 'Jim', 'Travis'])\n",
    "people"
   ]
  },
  {
   "cell_type": "code",
   "execution_count": 70,
   "metadata": {},
   "outputs": [
    {
     "data": {
      "text/html": "<div>\n<style scoped>\n    .dataframe tbody tr th:only-of-type {\n        vertical-align: middle;\n    }\n\n    .dataframe tbody tr th {\n        vertical-align: top;\n    }\n\n    .dataframe thead th {\n        text-align: right;\n    }\n</style>\n<table border=\"1\" class=\"dataframe\">\n  <thead>\n    <tr style=\"text-align: right;\">\n      <th></th>\n      <th>a</th>\n      <th>b</th>\n      <th>c</th>\n      <th>d</th>\n      <th>e</th>\n    </tr>\n  </thead>\n  <tbody>\n    <tr>\n      <th>Joe</th>\n      <td>-2.552990</td>\n      <td>0.653619</td>\n      <td>0.864436</td>\n      <td>-0.742165</td>\n      <td>2.269755</td>\n    </tr>\n    <tr>\n      <th>Steve</th>\n      <td>-1.454366</td>\n      <td>0.045759</td>\n      <td>-0.187184</td>\n      <td>1.532779</td>\n      <td>1.469359</td>\n    </tr>\n    <tr>\n      <th>Wex</th>\n      <td>0.154947</td>\n      <td>NaN</td>\n      <td>NaN</td>\n      <td>-1.980796</td>\n      <td>-0.347912</td>\n    </tr>\n    <tr>\n      <th>Jim</th>\n      <td>0.156349</td>\n      <td>1.230291</td>\n      <td>1.202380</td>\n      <td>-0.387327</td>\n      <td>-0.302303</td>\n    </tr>\n    <tr>\n      <th>Travis</th>\n      <td>-1.048553</td>\n      <td>-1.420018</td>\n      <td>-1.706270</td>\n      <td>1.950775</td>\n      <td>-0.509652</td>\n    </tr>\n  </tbody>\n</table>\n</div>",
      "text/plain": "               a         b         c         d         e\nJoe    -2.552990  0.653619  0.864436 -0.742165  2.269755\nSteve  -1.454366  0.045759 -0.187184  1.532779  1.469359\nWex     0.154947       NaN       NaN -1.980796 -0.347912\nJim     0.156349  1.230291  1.202380 -0.387327 -0.302303\nTravis -1.048553 -1.420018 -1.706270  1.950775 -0.509652"
     },
     "execution_count": 70,
     "metadata": {},
     "output_type": "execute_result"
    }
   ],
   "source": [
    "people.iloc[2, [1, 2]] = np.nan\n",
    "people"
   ]
  },
  {
   "cell_type": "markdown",
   "execution_count": null,
   "metadata": {},
   "outputs": [],
   "source": [
    "If I have a group correspondence for the columns and want to sum together the columns by these groups, I can just pass the dictionary for grouping."
   ]
  },
  {
   "cell_type": "code",
   "execution_count": 71,
   "metadata": {},
   "outputs": [],
   "source": [
    "mapping = {\n",
    "    'a': 'red', 'b': 'red', 'c': 'blue',\n",
    "    'd': 'blue', 'e': 'red', 'f' : 'orange'\n",
    "}"
   ]
  },
  {
   "cell_type": "code",
   "execution_count": 72,
   "metadata": {},
   "outputs": [
    {
     "data": {
      "text/html": "<div>\n<style scoped>\n    .dataframe tbody tr th:only-of-type {\n        vertical-align: middle;\n    }\n\n    .dataframe tbody tr th {\n        vertical-align: top;\n    }\n\n    .dataframe thead th {\n        text-align: right;\n    }\n</style>\n<table border=\"1\" class=\"dataframe\">\n  <thead>\n    <tr style=\"text-align: right;\">\n      <th></th>\n      <th>blue</th>\n      <th>red</th>\n    </tr>\n  </thead>\n  <tbody>\n    <tr>\n      <th>Joe</th>\n      <td>0.122271</td>\n      <td>0.370383</td>\n    </tr>\n    <tr>\n      <th>Steve</th>\n      <td>1.345595</td>\n      <td>0.060752</td>\n    </tr>\n    <tr>\n      <th>Wex</th>\n      <td>-1.980796</td>\n      <td>-0.192965</td>\n    </tr>\n    <tr>\n      <th>Jim</th>\n      <td>0.815053</td>\n      <td>1.084337</td>\n    </tr>\n    <tr>\n      <th>Travis</th>\n      <td>0.244505</td>\n      <td>-2.978223</td>\n    </tr>\n  </tbody>\n</table>\n</div>",
      "text/plain": "            blue       red\nJoe     0.122271  0.370383\nSteve   1.345595  0.060752\nWex    -1.980796 -0.192965\nJim     0.815053  1.084337\nTravis  0.244505 -2.978223"
     },
     "execution_count": 72,
     "metadata": {},
     "output_type": "execute_result"
    }
   ],
   "source": [
    "by_column = people.groupby(mapping, axis=1)\n",
    "by_column.sum()"
   ]
  },
  {
   "cell_type": "markdown",
   "execution_count": null,
   "metadata": {},
   "outputs": [],
   "source": [
    "### Grouping with functions\n",
    "\n",
    "A function can be used to create the mappings.\n",
    "Each group key will be passed once, and the return value defines the groups.\n",
    "\n",
    "Here is an example of grouping by the length of the first names."
   ]
  },
  {
   "cell_type": "code",
   "execution_count": 73,
   "metadata": {},
   "outputs": [
    {
     "data": {
      "text/html": "<div>\n<style scoped>\n    .dataframe tbody tr th:only-of-type {\n        vertical-align: middle;\n    }\n\n    .dataframe tbody tr th {\n        vertical-align: top;\n    }\n\n    .dataframe thead th {\n        text-align: right;\n    }\n</style>\n<table border=\"1\" class=\"dataframe\">\n  <thead>\n    <tr style=\"text-align: right;\">\n      <th></th>\n      <th>a</th>\n      <th>b</th>\n      <th>c</th>\n      <th>d</th>\n      <th>e</th>\n    </tr>\n  </thead>\n  <tbody>\n    <tr>\n      <th>3</th>\n      <td>-2.241693</td>\n      <td>1.883909</td>\n      <td>2.066816</td>\n      <td>-3.110288</td>\n      <td>1.619540</td>\n    </tr>\n    <tr>\n      <th>5</th>\n      <td>-1.454366</td>\n      <td>0.045759</td>\n      <td>-0.187184</td>\n      <td>1.532779</td>\n      <td>1.469359</td>\n    </tr>\n    <tr>\n      <th>6</th>\n      <td>-1.048553</td>\n      <td>-1.420018</td>\n      <td>-1.706270</td>\n      <td>1.950775</td>\n      <td>-0.509652</td>\n    </tr>\n  </tbody>\n</table>\n</div>",
      "text/plain": "          a         b         c         d         e\n3 -2.241693  1.883909  2.066816 -3.110288  1.619540\n5 -1.454366  0.045759 -0.187184  1.532779  1.469359\n6 -1.048553 -1.420018 -1.706270  1.950775 -0.509652"
     },
     "execution_count": 73,
     "metadata": {},
     "output_type": "execute_result"
    }
   ],
   "source": [
    "people.groupby(len).sum()"
   ]
  },
  {
   "cell_type": "markdown",
   "execution_count": null,
   "metadata": {},
   "outputs": [],
   "source": [
    "It is possible to use both a function and an array or dictionary for grouping at the same time."
   ]
  },
  {
   "cell_type": "code",
   "execution_count": 74,
   "metadata": {},
   "outputs": [
    {
     "data": {
      "text/html": "<div>\n<style scoped>\n    .dataframe tbody tr th:only-of-type {\n        vertical-align: middle;\n    }\n\n    .dataframe tbody tr th {\n        vertical-align: top;\n    }\n\n    .dataframe thead th {\n        text-align: right;\n    }\n</style>\n<table border=\"1\" class=\"dataframe\">\n  <thead>\n    <tr style=\"text-align: right;\">\n      <th></th>\n      <th></th>\n      <th>a</th>\n      <th>b</th>\n      <th>c</th>\n      <th>d</th>\n      <th>e</th>\n    </tr>\n  </thead>\n  <tbody>\n    <tr>\n      <th rowspan=\"2\" valign=\"top\">3</th>\n      <th>one</th>\n      <td>-2.552990</td>\n      <td>0.653619</td>\n      <td>0.864436</td>\n      <td>-1.980796</td>\n      <td>-0.347912</td>\n    </tr>\n    <tr>\n      <th>two</th>\n      <td>0.156349</td>\n      <td>1.230291</td>\n      <td>1.202380</td>\n      <td>-0.387327</td>\n      <td>-0.302303</td>\n    </tr>\n    <tr>\n      <th>5</th>\n      <th>one</th>\n      <td>-1.454366</td>\n      <td>0.045759</td>\n      <td>-0.187184</td>\n      <td>1.532779</td>\n      <td>1.469359</td>\n    </tr>\n    <tr>\n      <th>6</th>\n      <th>two</th>\n      <td>-1.048553</td>\n      <td>-1.420018</td>\n      <td>-1.706270</td>\n      <td>1.950775</td>\n      <td>-0.509652</td>\n    </tr>\n  </tbody>\n</table>\n</div>",
      "text/plain": "              a         b         c         d         e\n3 one -2.552990  0.653619  0.864436 -1.980796 -0.347912\n  two  0.156349  1.230291  1.202380 -0.387327 -0.302303\n5 one -1.454366  0.045759 -0.187184  1.532779  1.469359\n6 two -1.048553 -1.420018 -1.706270  1.950775 -0.509652"
     },
     "execution_count": 74,
     "metadata": {},
     "output_type": "execute_result"
    }
   ],
   "source": [
    "key_list = ['one', 'one', 'one', 'two', 'two']\n",
    "people.groupby([len, key_list]).min()"
   ]
  },
  {
   "cell_type": "markdown",
   "execution_count": null,
   "metadata": {},
   "outputs": [],
   "source": [
    "### Grouping by index levels\n",
    "\n",
    "For hierarchically indexed data structures, the levels of the axis can be used for grouping."
   ]
  },
  {
   "cell_type": "code",
   "execution_count": 75,
   "metadata": {},
   "outputs": [
    {
     "data": {
      "text/html": "<div>\n<style scoped>\n    .dataframe tbody tr th:only-of-type {\n        vertical-align: middle;\n    }\n\n    .dataframe tbody tr th {\n        vertical-align: top;\n    }\n\n    .dataframe thead tr th {\n        text-align: left;\n    }\n</style>\n<table border=\"1\" class=\"dataframe\">\n  <thead>\n    <tr>\n      <th>cty</th>\n      <th colspan=\"3\" halign=\"left\">US</th>\n      <th colspan=\"2\" halign=\"left\">JP</th>\n    </tr>\n    <tr>\n      <th>tenor</th>\n      <th>1</th>\n      <th>3</th>\n      <th>5</th>\n      <th>1</th>\n      <th>3</th>\n    </tr>\n  </thead>\n  <tbody>\n    <tr>\n      <th>0</th>\n      <td>-0.438074</td>\n      <td>-1.252795</td>\n      <td>0.777490</td>\n      <td>-1.613898</td>\n      <td>-0.212740</td>\n    </tr>\n    <tr>\n      <th>1</th>\n      <td>-0.895467</td>\n      <td>0.386902</td>\n      <td>-0.510805</td>\n      <td>-1.180632</td>\n      <td>-0.028182</td>\n    </tr>\n    <tr>\n      <th>2</th>\n      <td>0.428332</td>\n      <td>0.066517</td>\n      <td>0.302472</td>\n      <td>-0.634322</td>\n      <td>-0.362741</td>\n    </tr>\n    <tr>\n      <th>3</th>\n      <td>-0.672460</td>\n      <td>-0.359553</td>\n      <td>-0.813146</td>\n      <td>-1.726283</td>\n      <td>0.177426</td>\n    </tr>\n  </tbody>\n</table>\n</div>",
      "text/plain": "cty          US                            JP          \ntenor         1         3         5         1         3\n0     -0.438074 -1.252795  0.777490 -1.613898 -0.212740\n1     -0.895467  0.386902 -0.510805 -1.180632 -0.028182\n2      0.428332  0.066517  0.302472 -0.634322 -0.362741\n3     -0.672460 -0.359553 -0.813146 -1.726283  0.177426"
     },
     "execution_count": 75,
     "metadata": {},
     "output_type": "execute_result"
    }
   ],
   "source": [
    "columns = pd.MultiIndex.from_arrays([['US', 'US', 'US', 'JP', 'JP'],\n",
    "                                     [1, 3, 5, 1, 3]],\n",
    "                                    names=['cty', 'tenor'])\n",
    "hier_df = pd.DataFrame(np.random.randn(4, 5), columns=columns)\n",
    "hier_df"
   ]
  },
  {
   "cell_type": "code",
   "execution_count": 76,
   "metadata": {},
   "outputs": [
    {
     "data": {
      "text/html": "<div>\n<style scoped>\n    .dataframe tbody tr th:only-of-type {\n        vertical-align: middle;\n    }\n\n    .dataframe tbody tr th {\n        vertical-align: top;\n    }\n\n    .dataframe thead th {\n        text-align: right;\n    }\n</style>\n<table border=\"1\" class=\"dataframe\">\n  <thead>\n    <tr style=\"text-align: right;\">\n      <th>cty</th>\n      <th>JP</th>\n      <th>US</th>\n    </tr>\n  </thead>\n  <tbody>\n    <tr>\n      <th>0</th>\n      <td>2</td>\n      <td>3</td>\n    </tr>\n    <tr>\n      <th>1</th>\n      <td>2</td>\n      <td>3</td>\n    </tr>\n    <tr>\n      <th>2</th>\n      <td>2</td>\n      <td>3</td>\n    </tr>\n    <tr>\n      <th>3</th>\n      <td>2</td>\n      <td>3</td>\n    </tr>\n  </tbody>\n</table>\n</div>",
      "text/plain": "cty  JP  US\n0     2   3\n1     2   3\n2     2   3\n3     2   3"
     },
     "execution_count": 76,
     "metadata": {},
     "output_type": "execute_result"
    }
   ],
   "source": [
    "hier_df.groupby(level='cty', axis=1).count()"
   ]
  },
  {
   "cell_type": "markdown",
   "execution_count": null,
   "metadata": {},
   "outputs": [],
   "source": [
    "## 10.2 Data Aggregation"
   ]
  },
  {
   "cell_type": "code",
   "execution_count": null,
   "metadata": {},
   "outputs": [],
   "source": []
  }
 ]
}