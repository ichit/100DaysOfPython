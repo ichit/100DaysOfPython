{
 "nbformat": 4,
 "nbformat_minor": 2,
 "metadata": {
  "language_info": {
   "name": "python",
   "codemirror_mode": {
    "name": "ipython",
    "version": 3
   }
  },
  "orig_nbformat": 2,
  "file_extension": ".py",
  "mimetype": "text/x-python",
  "name": "python",
  "npconvert_exporter": "python",
  "pygments_lexer": "ipython3",
  "version": 3
 },
 "cells": [
  {
   "cell_type": "markdown",
   "execution_count": 1,
   "metadata": {},
   "outputs": [],
   "source": [
    "# Lecture 2. TensorFlow Ops\n",
    "\n"
   ]
  },
  {
   "cell_type": "code",
   "execution_count": 153,
   "metadata": {},
   "outputs": [],
   "source": [
    "import numpy as np\n",
    "import pandas as pd\n",
    "import tensorflow as tf\n",
    "\n",
    "np.random.seed(0)"
   ]
  },
  {
   "cell_type": "markdown",
   "execution_count": null,
   "metadata": {},
   "outputs": [],
   "source": [
    "## Constants, sequences, variables, ops\n",
    "\n",
    "It is very easy to make a constant in TF."
   ]
  },
  {
   "cell_type": "code",
   "execution_count": 154,
   "metadata": {},
   "outputs": [
    {
     "data": {
      "text/plain": "<tf.Tensor: id=598, shape=(2,), dtype=int32, numpy=array([2, 2], dtype=int32)>"
     },
     "execution_count": 154,
     "metadata": {},
     "output_type": "execute_result"
    }
   ],
   "source": [
    "# A 1D vector constant.\n",
    "a = tf.constant([2, 2], name='vector')\n",
    "a"
   ]
  },
  {
   "cell_type": "code",
   "execution_count": 155,
   "metadata": {},
   "outputs": [
    {
     "data": {
      "text/plain": "<tf.Tensor: id=599, shape=(2, 2), dtype=int32, numpy=\narray([[0, 1],\n       [2, 3]], dtype=int32)>"
     },
     "execution_count": 155,
     "metadata": {},
     "output_type": "execute_result"
    }
   ],
   "source": [
    "# A 2D matrix constant.\n",
    "b = tf.constant([[0, 1], [2, 3]], name='matrix')\n",
    "b"
   ]
  },
  {
   "cell_type": "markdown",
   "execution_count": null,
   "metadata": {},
   "outputs": [],
   "source": [
    "There are a lot of convience functions for creating data structures of different dimensions."
   ]
  },
  {
   "cell_type": "code",
   "execution_count": 156,
   "metadata": {},
   "outputs": [
    {
     "data": {
      "text/plain": "<tf.Tensor: id=602, shape=(2, 3), dtype=int32, numpy=\narray([[0, 0, 0],\n       [0, 0, 0]], dtype=int32)>"
     },
     "execution_count": 156,
     "metadata": {},
     "output_type": "execute_result"
    }
   ],
   "source": [
    "# A 2x3 matrix of zeros.\n",
    "tf.zeros([2, 3], tf.int32)"
   ]
  },
  {
   "cell_type": "code",
   "execution_count": 157,
   "metadata": {},
   "outputs": [
    {
     "data": {
      "text/plain": "<tf.Tensor: id=603, shape=(2, 2), dtype=int32, numpy=\narray([[0, 0],\n       [0, 0]], dtype=int32)>"
     },
     "execution_count": 157,
     "metadata": {},
     "output_type": "execute_result"
    }
   ],
   "source": [
    "# Make a zeros constant of the same shape as another object.\n",
    "tf.zeros_like(b)"
   ]
  },
  {
   "cell_type": "code",
   "execution_count": 158,
   "metadata": {},
   "outputs": [
    {
     "data": {
      "text/plain": "<tf.Tensor: id=606, shape=(2, 3), dtype=int32, numpy=\narray([[1, 1, 1],\n       [1, 1, 1]], dtype=int32)>"
     },
     "execution_count": 158,
     "metadata": {},
     "output_type": "execute_result"
    }
   ],
   "source": [
    "# There is a simillar function for ones.\n",
    "tf.ones([2, 3], tf.int32)"
   ]
  },
  {
   "cell_type": "code",
   "execution_count": 159,
   "metadata": {},
   "outputs": [
    {
     "data": {
      "text/plain": "<tf.Tensor: id=609, shape=(2, 2), dtype=int32, numpy=\narray([[1, 1],\n       [1, 1]], dtype=int32)>"
     },
     "execution_count": 159,
     "metadata": {},
     "output_type": "execute_result"
    }
   ],
   "source": [
    "tf.ones_like(b)"
   ]
  },
  {
   "cell_type": "code",
   "execution_count": 160,
   "metadata": {},
   "outputs": [
    {
     "data": {
      "text/plain": "<tf.Tensor: id=612, shape=(2, 3), dtype=int32, numpy=\narray([[8, 8, 8],\n       [8, 8, 8]], dtype=int32)>"
     },
     "execution_count": 160,
     "metadata": {},
     "output_type": "execute_result"
    }
   ],
   "source": [
    "# Make an n-array of any shape with a custom fill value.\n",
    "tf.fill([2, 3], 8)"
   ]
  },
  {
   "cell_type": "code",
   "execution_count": 161,
   "metadata": {},
   "outputs": [
    {
     "data": {
      "text/plain": "<tf.Tensor: id=616, shape=(4,), dtype=float32, numpy=array([10., 11., 12., 13.], dtype=float32)>"
     },
     "execution_count": 161,
     "metadata": {},
     "output_type": "execute_result"
    }
   ],
   "source": [
    "# Make an array from a sequence.\n",
    "tf.linspace(10.0, 13.0, 4, name='lin-space')"
   ]
  },
  {
   "cell_type": "code",
   "execution_count": 162,
   "metadata": {},
   "outputs": [
    {
     "data": {
      "text/plain": "<tf.Tensor: id=620, shape=(5,), dtype=int32, numpy=array([ 3,  6,  9, 12, 15], dtype=int32)>"
     },
     "execution_count": 162,
     "metadata": {},
     "output_type": "execute_result"
    }
   ],
   "source": [
    "tf.range(start=3, limit=18, delta=3)"
   ]
  },
  {
   "cell_type": "code",
   "execution_count": 163,
   "metadata": {},
   "outputs": [
    {
     "data": {
      "text/plain": "<tf.Tensor: id=626, shape=(4,), dtype=float32, numpy=array([3. , 2.5, 2. , 1.5], dtype=float32)>"
     },
     "execution_count": 163,
     "metadata": {},
     "output_type": "execute_result"
    }
   ],
   "source": [
    "tf.range(start=3, limit=1, delta=-0.5)"
   ]
  },
  {
   "cell_type": "code",
   "execution_count": 164,
   "metadata": {},
   "outputs": [
    {
     "data": {
      "text/plain": "<tf.Tensor: id=630, shape=(5,), dtype=int32, numpy=array([0, 1, 2, 3, 4], dtype=int32)>"
     },
     "execution_count": 164,
     "metadata": {},
     "output_type": "execute_result"
    }
   ],
   "source": [
    "tf.range(5)"
   ]
  },
  {
   "cell_type": "markdown",
   "execution_count": null,
   "metadata": {},
   "outputs": [],
   "source": [
    "There are various functions for creating random data: `random_normal()`, `truncated_normal()`, `​random_uniform()`, `​random_shuffle()`, `​random_crop()`, `​multinomial()`, `​random_gamma()`, and `​set_random_seed()`."
   ]
  },
  {
   "cell_type": "code",
   "execution_count": 165,
   "metadata": {},
   "outputs": [
    {
     "data": {
      "text/plain": "<tf.Tensor: id=636, shape=(10,), dtype=float32, numpy=\narray([ 9.439541 , 11.0533085,  8.805745 , 10.948302 ,  7.985449 ,\n       10.12768  ,  9.485002 ,  9.848843 , 10.739277 , 10.438746 ],\n      dtype=float32)>"
     },
     "execution_count": 165,
     "metadata": {},
     "output_type": "execute_result"
    }
   ],
   "source": [
    "tf.random.normal(shape=[10], mean=10, stddev=1.0, seed=0, name='normal')"
   ]
  },
  {
   "cell_type": "markdown",
   "execution_count": null,
   "metadata": {},
   "outputs": [],
   "source": [
    "## Math Operations\n",
    "\n",
    "There are a bunch of various division functions."
   ]
  },
  {
   "cell_type": "code",
   "execution_count": 166,
   "metadata": {},
   "outputs": [
    {
     "data": {
      "text/plain": "<tf.Tensor: id=641, shape=(2, 2), dtype=float64, numpy=\narray([[       inf, 2.        ],\n       [1.        , 0.66666667]])>"
     },
     "execution_count": 166,
     "metadata": {},
     "output_type": "execute_result"
    }
   ],
   "source": [
    "a = tf.constant([2, 2], name='a')\n",
    "b = tf.constant([[0, 1], [2, 3]], name='b')\n",
    "\n",
    "tf.math.divide(a, b)"
   ]
  },
  {
   "cell_type": "markdown",
   "execution_count": null,
   "metadata": {},
   "outputs": [],
   "source": [
    "## Variables\n",
    "\n",
    "Differences between constants are variables:\n",
    "\n",
    "1. A constant does not change.\n",
    "2. A constant's value is stored *with* the model graph whereas a variable is stored separately.\n",
    "\n",
    "### Creating variables\n",
    "\n",
    "Note that the function for creating a variable is `tf.Variable()` with an uppercase \"V\" because it is a class.\n",
    "The `tf.constant()` function uses a lowercase \"c\" because it is an ops, not a class.\n",
    "\n",
    "At the time of writting this course, TF encouraged developers to use the wrapper `get_variable()` to create a variable.\n",
    "Here is the general structure:\n",
    "\n",
    "```python\n",
    "tf.get_variable(\n",
    "    name,\n",
    "    shape=None,\n",
    "    dtype=None,\n",
    "    initializer=None,\n",
    "    regularizer=None,\n",
    "    trainable=None,\n",
    "    collections=None,\n",
    "    caching_device=None,\n",
    "    partitioner=None,\n",
    "    validate_shape=True,\n",
    "    use_resource=None,\n",
    "    custom_getter=None,\n",
    "    constraint=None\n",
    ")\n",
    "```\n",
    "\n",
    "However, as of TF 2.0, they now suggest using `tf.Variable()`, directly.\n",
    "Creating a variable is shown below."
   ]
  },
  {
   "cell_type": "code",
   "execution_count": 167,
   "metadata": {},
   "outputs": [
    {
     "data": {
      "text/plain": "<tf.Variable 'Variable:0' shape=() dtype=int32, numpy=2>"
     },
     "execution_count": 167,
     "metadata": {},
     "output_type": "execute_result"
    }
   ],
   "source": [
    "s = tf.Variable(tf.constant(2), 'scalar')\n",
    "s"
   ]
  },
  {
   "cell_type": "code",
   "execution_count": 168,
   "metadata": {},
   "outputs": [
    {
     "data": {
      "text/plain": "<tf.Variable 'Variable:0' shape=(2, 2) dtype=int32, numpy=\narray([[0, 1],\n       [2, 3]], dtype=int32)>"
     },
     "execution_count": 168,
     "metadata": {},
     "output_type": "execute_result"
    }
   ],
   "source": [
    "m = tf.Variable([[0, 1], [2, 3]], 'matrix')\n",
    "m"
   ]
  },
  {
   "cell_type": "code",
   "execution_count": 169,
   "metadata": {},
   "outputs": [
    {
     "data": {
      "text/plain": "<tf.Variable 'Variable:0' shape=(10, 10) dtype=float32, numpy=\narray([[0., 0., 0., 0., 0., 0., 0., 0., 0., 0.],\n       [0., 0., 0., 0., 0., 0., 0., 0., 0., 0.],\n       [0., 0., 0., 0., 0., 0., 0., 0., 0., 0.],\n       [0., 0., 0., 0., 0., 0., 0., 0., 0., 0.],\n       [0., 0., 0., 0., 0., 0., 0., 0., 0., 0.],\n       [0., 0., 0., 0., 0., 0., 0., 0., 0., 0.],\n       [0., 0., 0., 0., 0., 0., 0., 0., 0., 0.],\n       [0., 0., 0., 0., 0., 0., 0., 0., 0., 0.],\n       [0., 0., 0., 0., 0., 0., 0., 0., 0., 0.],\n       [0., 0., 0., 0., 0., 0., 0., 0., 0., 0.]], dtype=float32)>"
     },
     "execution_count": 169,
     "metadata": {},
     "output_type": "execute_result"
    }
   ],
   "source": [
    "W = tf.Variable(tf.zeros([10, 10]), 'big_matrix')\n",
    "W"
   ]
  },
  {
   "cell_type": "code",
   "execution_count": 170,
   "metadata": {},
   "outputs": [
    {
     "data": {
      "text/plain": "<bound method BaseResourceVariable.eval of <tf.Variable 'Variable:0' shape=(10, 10) dtype=float32, numpy=\narray([[0., 0., 0., 0., 0., 0., 0., 0., 0., 0.],\n       [0., 0., 0., 0., 0., 0., 0., 0., 0., 0.],\n       [0., 0., 0., 0., 0., 0., 0., 0., 0., 0.],\n       [0., 0., 0., 0., 0., 0., 0., 0., 0., 0.],\n       [0., 0., 0., 0., 0., 0., 0., 0., 0., 0.],\n       [0., 0., 0., 0., 0., 0., 0., 0., 0., 0.],\n       [0., 0., 0., 0., 0., 0., 0., 0., 0., 0.],\n       [0., 0., 0., 0., 0., 0., 0., 0., 0., 0.],\n       [0., 0., 0., 0., 0., 0., 0., 0., 0., 0.],\n       [0., 0., 0., 0., 0., 0., 0., 0., 0., 0.]], dtype=float32)>>"
     },
     "execution_count": 170,
     "metadata": {},
     "output_type": "execute_result"
    }
   ],
   "source": [
    "W.eval"
   ]
  },
  {
   "cell_type": "markdown",
   "execution_count": null,
   "metadata": {},
   "outputs": [],
   "source": [
    "A variable can be assigned a value using the `assign()` method."
   ]
  },
  {
   "cell_type": "code",
   "execution_count": 171,
   "metadata": {},
   "outputs": [
    {
     "data": {
      "text/plain": "<tf.Variable 'Variable:0' shape=(10, 10) dtype=float32, numpy=\narray([[ 0.02936255, -0.86747646, -0.8452195 , -0.26652253,  0.11087855,\n         0.41120422,  0.92334676, -0.33460006, -0.85756123,  0.8442435 ],\n       [ 0.26037455, -0.17688881,  0.1632508 ,  0.44674233,  1.3234712 ,\n         1.3052758 , -0.8651197 ,  1.2339976 , -1.3227814 ,  0.9247735 ],\n       [-0.41094947,  0.7952504 , -1.7627925 , -1.2065858 ,  1.0230845 ,\n        -0.22552626, -1.1214129 ,  0.74185956,  1.1253291 ,  1.1326234 ],\n       [ 1.3066211 , -0.33423454,  0.9824326 ,  1.1420981 , -0.39754665,\n         0.99293154,  0.24455707, -0.7633621 , -0.12773935,  0.32760194],\n       [ 1.4027779 ,  0.36471343, -1.790517  ,  0.34080747, -1.1352329 ,\n         0.40419906, -1.4473691 ,  0.8261736 , -2.2291663 ,  0.85217124],\n       [ 1.774641  , -0.20230924, -0.44129497,  0.6964944 , -0.926713  ,\n         0.3398413 ,  0.8431046 ,  0.5213242 ,  0.3134696 , -0.16407096],\n       [ 2.230049  , -1.863732  , -0.3128602 , -0.31636953,  1.0183464 ,\n        -0.12306501, -0.05538774,  0.6176986 ,  1.6328528 ,  1.7787921 ],\n       [-0.76783967,  0.57597667,  1.2463351 , -0.03905262,  1.3955286 ,\n        -0.49600318,  0.17775223,  0.8906394 ,  0.53174686,  1.412703  ],\n       [-0.6675612 , -0.62404037,  1.333639  , -0.54178673, -0.13521735,\n        -1.2285764 ,  0.90140593, -0.25594923,  0.43793267, -1.7960231 ],\n       [ 1.3177958 , -1.0183132 , -1.1624463 , -0.01659734, -2.2292974 ,\n        -0.0754303 , -0.7370742 , -2.0015604 , -0.13629597, -0.85789424]],\n      dtype=float32)>"
     },
     "execution_count": 171,
     "metadata": {},
     "output_type": "execute_result"
    }
   ],
   "source": [
    "W.assign(tf.random.normal([10, 10]))\n",
    "W"
   ]
  },
  {
   "cell_type": "code",
   "execution_count": 172,
   "metadata": {},
   "outputs": [
    {
     "data": {
      "text/plain": "<tf.Variable 'Variable:0' shape=() dtype=int32, numpy=2>"
     },
     "execution_count": 172,
     "metadata": {},
     "output_type": "execute_result"
    }
   ],
   "source": [
    "a = tf.Variable(2, 'scalar')\n",
    "a"
   ]
  },
  {
   "cell_type": "code",
   "execution_count": 173,
   "metadata": {},
   "outputs": [
    {
     "data": {
      "text/plain": "<tf.Variable 'UnreadVariable' shape=() dtype=int32, numpy=4>"
     },
     "execution_count": 173,
     "metadata": {},
     "output_type": "execute_result"
    }
   ],
   "source": [
    "a.assign(a * 2)"
   ]
  },
  {
   "cell_type": "code",
   "execution_count": 174,
   "metadata": {},
   "outputs": [
    {
     "data": {
      "text/plain": "<tf.Variable 'UnreadVariable' shape=() dtype=int32, numpy=8>"
     },
     "execution_count": 174,
     "metadata": {},
     "output_type": "execute_result"
    }
   ],
   "source": [
    "a.assign(a * 2)"
   ]
  },
  {
   "cell_type": "code",
   "execution_count": 175,
   "metadata": {},
   "outputs": [
    {
     "data": {
      "text/plain": "<tf.Variable 'UnreadVariable' shape=() dtype=int32, numpy=10>"
     },
     "execution_count": 175,
     "metadata": {},
     "output_type": "execute_result"
    }
   ],
   "source": [
    "a.assign_add(2)"
   ]
  },
  {
   "cell_type": "code",
   "execution_count": 176,
   "metadata": {},
   "outputs": [
    {
     "data": {
      "text/plain": "<tf.Variable 'UnreadVariable' shape=() dtype=int32, numpy=7>"
     },
     "execution_count": 176,
     "metadata": {},
     "output_type": "execute_result"
    }
   ],
   "source": [
    "a.assign_sub(3)"
   ]
  }
 ]
}