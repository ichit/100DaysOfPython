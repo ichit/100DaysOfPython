{
 "nbformat": 4,
 "nbformat_minor": 2,
 "metadata": {
  "language_info": {
   "name": "python",
   "codemirror_mode": {
    "name": "ipython",
    "version": 3
   }
  },
  "orig_nbformat": 2,
  "file_extension": ".py",
  "mimetype": "text/x-python",
  "name": "python",
  "npconvert_exporter": "python",
  "pygments_lexer": "ipython3",
  "version": 3
 },
 "cells": [
  {
   "cell_type": "markdown",
   "execution_count": null,
   "metadata": {},
   "outputs": [],
   "source": [
    "# Lecture 1. Introduction to TensorFlow"
   ]
  },
  {
   "cell_type": "code",
   "execution_count": 50,
   "metadata": {},
   "outputs": [],
   "source": [
    "import tensorflow as tf\n",
    "import numpy as np"
   ]
  },
  {
   "cell_type": "markdown",
   "execution_count": null,
   "metadata": {},
   "outputs": [],
   "source": [
    "## Background\n",
    "\n",
    "Tesnorflow separates the definition of computations from their execution (I think this is changing in 2.0 with the introduction of eager execution).\n",
    "For now though, the graph is assembled and then a session executes the operations.\n",
    "\n",
    "### What is a \"tensor?\"\n",
    "\n",
    "A tensor is an n-dimensionsal array:\n",
    "\n",
    "- 0-D tensor: scalar\n",
    "- 1-D tensor: vector\n",
    "- 2-D tensor: matrix\n",
    "\n",
    "### A simple example\n",
    "\n",
    "The following is a small example model of adding two tensors (scalar values 3 and 5)."
   ]
  },
  {
   "cell_type": "code",
   "execution_count": 51,
   "metadata": {},
   "outputs": [
    {
     "name": "stdout",
     "output_type": "stream",
     "text": "tf.Tensor(8, shape=(), dtype=int32)\n"
    }
   ],
   "source": [
    "a = tf.add(3, 5)\n",
    "print(a)"
   ]
  },
  {
   "cell_type": "markdown",
   "execution_count": null,
   "metadata": {},
   "outputs": [],
   "source": [
    "We get the value of `a` using the `numpy()` method."
   ]
  },
  {
   "cell_type": "code",
   "execution_count": 52,
   "metadata": {},
   "outputs": [
    {
     "data": {
      "text/plain": "8"
     },
     "execution_count": 52,
     "metadata": {},
     "output_type": "execute_result"
    }
   ],
   "source": [
    "a.numpy()"
   ]
  },
  {
   "cell_type": "markdown",
   "execution_count": null,
   "metadata": {},
   "outputs": [],
   "source": [
    "### A more complicated example"
   ]
  },
  {
   "cell_type": "code",
   "execution_count": 53,
   "metadata": {},
   "outputs": [
    {
     "data": {
      "text/plain": "7776"
     },
     "execution_count": 53,
     "metadata": {},
     "output_type": "execute_result"
    }
   ],
   "source": [
    "# Input data.\n",
    "x = 2\n",
    "y = 3\n",
    "\n",
    "# The TF graph.\n",
    "op1 = tf.add(x, y)\n",
    "op2 = tf.multiply(x, y)\n",
    "op3 = tf.pow(op2, op1)\n",
    "\n",
    "# Extract the value.\n",
    "op3.numpy()"
   ]
  },
  {
   "cell_type": "markdown",
   "execution_count": null,
   "metadata": {},
   "outputs": [],
   "source": [
    "## Why does TF use graphs?\n",
    "\n",
    "1. So TF only runs the necessary computations.\n",
    "2. The computations can be broken up and run in parallel on distributed systems.\n",
    "3. The graph can be broken into smaller, differentiable pieces.\n",
    "4. Many ML models are naturally graphs, already."
   ]
  },
  {
   "cell_type": "code",
   "execution_count": null,
   "metadata": {},
   "outputs": [],
   "source": []
  }
 ]
}